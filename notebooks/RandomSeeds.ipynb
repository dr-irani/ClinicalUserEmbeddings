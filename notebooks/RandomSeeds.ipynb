{
 "cells": [
  {
   "cell_type": "code",
   "execution_count": 2,
   "metadata": {},
   "outputs": [],
   "source": [
    "import pandas as pd\n",
    "import os\n",
    "import re\n",
    "from pathlib import Path\n",
    "from tqdm.auto import tqdm\n",
    "import numpy as np\n",
    "from scipy.stats import ttest_ind\n",
    "from statsmodels.stats.multitest import multipletests\n",
    "import re\n",
    "from collections import defaultdict\n",
    "\n",
    "pd.set_option('display.max_columns', None)"
   ]
  },
  {
   "cell_type": "code",
   "execution_count": 3,
   "metadata": {},
   "outputs": [],
   "source": [
    "folder = '/media/data_1/darius/models/finetuned'\n",
    "numFolds= 1000\n",
    "\n",
    "sheets = ['overall', 'gender' ,'language', 'insurance', 'ethnicity'] \n",
    "\n",
    "allowed_models = {'overall': ['baseline'],\n",
    "                 'gender': ['baseline'],\n",
    "                 'language': ['baseline'],\n",
    "                 'insurance': ['baseline'],\n",
    "                 'ethnicity': ['baseline']}\n",
    "model = 'baseline'"
   ]
  },
  {
   "cell_type": "code",
   "execution_count": 4,
   "metadata": {},
   "outputs": [],
   "source": [
    "def gap_significant(lower, upper):\n",
    "    return (((lower <0) & (upper < 0)) | ((lower >0) & (upper > 0)))\n",
    "\n",
    "def add_to_dict(gap_dict, model, sheet, name, num_sig, num_favor):\n",
    "    if model not in gap_dict:\n",
    "        gap_dict[model] = {}\n",
    "    if sheet not in gap_dict[model]:\n",
    "        gap_dict[model][sheet] = {}\n",
    "    gap_dict[model][sheet][name] = [num_sig, num_favor]\n",
    "\n",
    "def add_gap(model, gap, sheet, res):\n",
    "    res[model+'_' + gap+'_sig'] = multipletests(res[model+'_'+gap + '_p'], alpha = 0.05, method = \"fdr_bh\")[0]\n",
    "    add_to_dict(gap_infos_naive, model, sheet, gap, res[model+'_' + gap + 'naive_sig'].astype(int).sum(), (res.loc[res[model+'_' + gap + 'naive_sig'], model+'_'+gap] > 0).astype(int).sum() )"
   ]
  },
  {
   "cell_type": "code",
   "execution_count": 20,
   "metadata": {},
   "outputs": [],
   "source": [
    "def get_seeds(finetuned_dir):\n",
    "    p = Path(folder)\n",
    "    seeds = [f.name.split('_seed')[1] for f in p.glob('*_seed[0-9]*')]\n",
    "\n",
    "    return seeds\n",
    "\n",
    "def get_target_name(mname):\n",
    "    target = None\n",
    "    if 'inhosp_mort' in mname:\n",
    "        target = 'inhosp_mort'\n",
    "    elif 'phenotype' in mname:\n",
    "        mname = mname.split('seed')[0]\n",
    "        name = re.findall(r'.*512_(?:lambda1_)*(.*)', mname)[0]\n",
    "        if name.endswith('_gs'):\n",
    "            name = name[:-3]\n",
    "        name = name.replace('_', ' ')\n",
    "        if 'phenotype_all' in mname:\n",
    "            target = 'phenotype_all_%s' % name\n",
    "        else:\n",
    "            target = 'phenotype_first_%s' % name\n",
    "\n",
    "    assert(target)\n",
    "    return target\n",
    "\n",
    "def populate_df(*, df, res, idx, model, columns, multi=False):\n",
    "    for i in columns:\n",
    "        col = model + '_' + columns[i]\n",
    "        res.loc[idx, col] = df.loc[i, 'avg']\n",
    "        res.loc[idx, col + '_p'] = df.loc[i, 'p']\n",
    "        res.loc[idx, col + '_favor'] = df.loc[i, 'favor']\n",
    "        \n",
    "        res.loc[idx, col + 'lowerCI'] = df.loc[i, '2.5%']\n",
    "        res.loc[idx, col + 'upperCI'] = df.loc[i, '97.5%']\n",
    "        if multi and ('dgap_' in col or 'egap_' in col):\n",
    "            res.loc[idx, col + 'naive_sig'] = gap_significant(df.loc[i, '2.5%'], df.loc[i, '97.5%'])\n",
    "        else:\n",
    "            res.loc[idx, col + 'naive_sig'] = gap_significant(df.loc[i, '2.5%'], df.loc[i, '97.5%'])"
   ]
  },
  {
   "cell_type": "code",
   "execution_count": 21,
   "metadata": {
    "scrolled": false,
    "tags": []
   },
   "outputs": [
    {
     "output_type": "display_data",
     "data": {
      "text/plain": "|          | 0/? [00:00<?, ?it/s]",
      "application/vnd.jupyter.widget-view+json": {
       "version_major": 2,
       "version_minor": 0,
       "model_id": "643a397c4b07487082b1d18eb9f3223f"
      }
     },
     "metadata": {}
    },
    {
     "output_type": "stream",
     "name": "stdout",
     "text": [
      "/media/data_1/darius/models/finetuned/inhosp_mort_baseline_clinical_BERT_1_epoch_512_inhosp_mort_seed1150/results.xlsx\n/media/data_1/darius/models/finetuned/phenotype_all_baseline_clinical_BERT_1_epoch_512_Acute cerebrovascular disease_seed1150/results.xlsx\n"
     ]
    },
    {
     "output_type": "display_data",
     "data": {
      "text/plain": "|          | 0/? [00:00<?, ?it/s]",
      "application/vnd.jupyter.widget-view+json": {
       "version_major": 2,
       "version_minor": 0,
       "model_id": "0b113a60141c487a9de057ef6943e136"
      }
     },
     "metadata": {}
    },
    {
     "output_type": "display_data",
     "data": {
      "text/plain": "|          | 0/? [00:00<?, ?it/s]",
      "application/vnd.jupyter.widget-view+json": {
       "version_major": 2,
       "version_minor": 0,
       "model_id": "e436acfeb5514a00b6374ab80b36f12e"
      }
     },
     "metadata": {}
    },
    {
     "output_type": "display_data",
     "data": {
      "text/plain": "|          | 0/? [00:00<?, ?it/s]",
      "application/vnd.jupyter.widget-view+json": {
       "version_major": 2,
       "version_minor": 0,
       "model_id": "15bc5c5eb308456a9e1d7b9ebebc1d8a"
      }
     },
     "metadata": {}
    },
    {
     "output_type": "display_data",
     "data": {
      "text/plain": "|          | 0/? [00:00<?, ?it/s]",
      "application/vnd.jupyter.widget-view+json": {
       "version_major": 2,
       "version_minor": 0,
       "model_id": "e41184ea6c82451b8bec6083c7ad2543"
      }
     },
     "metadata": {}
    },
    {
     "output_type": "display_data",
     "data": {
      "text/plain": "|          | 0/? [00:00<?, ?it/s]",
      "application/vnd.jupyter.widget-view+json": {
       "version_major": 2,
       "version_minor": 0,
       "model_id": "3b9f5a1453634e2d92f44c49a58c4eb9"
      }
     },
     "metadata": {}
    },
    {
     "output_type": "stream",
     "name": "stdout",
     "text": [
      "/media/data_1/darius/models/finetuned/phenotype_all_baseline_clinical_BERT_1_epoch_512_Acute cerebrovascular disease_seed2895/results.xlsx\n/media/data_1/darius/models/finetuned/inhosp_mort_baseline_clinical_BERT_1_epoch_512_inhosp_mort_seed2895/results.xlsx\n"
     ]
    },
    {
     "output_type": "display_data",
     "data": {
      "text/plain": "|          | 0/? [00:00<?, ?it/s]",
      "application/vnd.jupyter.widget-view+json": {
       "version_major": 2,
       "version_minor": 0,
       "model_id": "1de63252678049748e45ef59c910b4a3"
      }
     },
     "metadata": {}
    },
    {
     "output_type": "display_data",
     "data": {
      "text/plain": "|          | 0/? [00:00<?, ?it/s]",
      "application/vnd.jupyter.widget-view+json": {
       "version_major": 2,
       "version_minor": 0,
       "model_id": "a65efa4f247646118a2942ec4d01abb3"
      }
     },
     "metadata": {}
    },
    {
     "output_type": "display_data",
     "data": {
      "text/plain": "|          | 0/? [00:00<?, ?it/s]",
      "application/vnd.jupyter.widget-view+json": {
       "version_major": 2,
       "version_minor": 0,
       "model_id": "062f368bd7274112bb9238d381ba808b"
      }
     },
     "metadata": {}
    },
    {
     "output_type": "display_data",
     "data": {
      "text/plain": "|          | 0/? [00:00<?, ?it/s]",
      "application/vnd.jupyter.widget-view+json": {
       "version_major": 2,
       "version_minor": 0,
       "model_id": "6c00a59378ee4128bcfd352c79386ba7"
      }
     },
     "metadata": {}
    },
    {
     "output_type": "display_data",
     "data": {
      "text/plain": "|          | 0/? [00:00<?, ?it/s]",
      "application/vnd.jupyter.widget-view+json": {
       "version_major": 2,
       "version_minor": 0,
       "model_id": "17de4e45ce364d46b9e03e25145be55f"
      }
     },
     "metadata": {}
    },
    {
     "output_type": "stream",
     "name": "stdout",
     "text": [
      "/media/data_1/darius/models/finetuned/phenotype_all_baseline_clinical_BERT_1_epoch_512_Chronic kidney disease_seed5984/results.xlsx\n"
     ]
    },
    {
     "output_type": "display_data",
     "data": {
      "text/plain": "|          | 0/? [00:00<?, ?it/s]",
      "application/vnd.jupyter.widget-view+json": {
       "version_major": 2,
       "version_minor": 0,
       "model_id": "a7fd08e7b8344abcbb972ac2a63756dd"
      }
     },
     "metadata": {}
    },
    {
     "output_type": "display_data",
     "data": {
      "text/plain": "|          | 0/? [00:00<?, ?it/s]",
      "application/vnd.jupyter.widget-view+json": {
       "version_major": 2,
       "version_minor": 0,
       "model_id": "0463a219616e431b860c2bbc1a44ef8f"
      }
     },
     "metadata": {}
    },
    {
     "output_type": "display_data",
     "data": {
      "text/plain": "|          | 0/? [00:00<?, ?it/s]",
      "application/vnd.jupyter.widget-view+json": {
       "version_major": 2,
       "version_minor": 0,
       "model_id": "0b55577c821b4c53b21dde9b4342f678"
      }
     },
     "metadata": {}
    },
    {
     "output_type": "display_data",
     "data": {
      "text/plain": "|          | 0/? [00:00<?, ?it/s]",
      "application/vnd.jupyter.widget-view+json": {
       "version_major": 2,
       "version_minor": 0,
       "model_id": "cb53bef5914b4824b84c6c8564274ddf"
      }
     },
     "metadata": {}
    },
    {
     "output_type": "display_data",
     "data": {
      "text/plain": "|          | 0/? [00:00<?, ?it/s]",
      "application/vnd.jupyter.widget-view+json": {
       "version_major": 2,
       "version_minor": 0,
       "model_id": "471c1c7fe7bb45d5980bda5e92fbc577"
      }
     },
     "metadata": {}
    },
    {
     "output_type": "stream",
     "name": "stdout",
     "text": [
      "/media/data_1/darius/models/finetuned/phenotype_all_baseline_clinical_BERT_1_epoch_512_Congestive heart failure; nonhypertensive_seed6976/results.xlsx\n"
     ]
    },
    {
     "output_type": "display_data",
     "data": {
      "text/plain": "|          | 0/? [00:00<?, ?it/s]",
      "application/vnd.jupyter.widget-view+json": {
       "version_major": 2,
       "version_minor": 0,
       "model_id": "071265626ec04b4a8bbc73258fd060a2"
      }
     },
     "metadata": {}
    },
    {
     "output_type": "display_data",
     "data": {
      "text/plain": "|          | 0/? [00:00<?, ?it/s]",
      "application/vnd.jupyter.widget-view+json": {
       "version_major": 2,
       "version_minor": 0,
       "model_id": "63a0be75dfa046b09641bebc008428e6"
      }
     },
     "metadata": {}
    },
    {
     "output_type": "display_data",
     "data": {
      "text/plain": "|          | 0/? [00:00<?, ?it/s]",
      "application/vnd.jupyter.widget-view+json": {
       "version_major": 2,
       "version_minor": 0,
       "model_id": "275bd09af83c498c90387ee628b2135b"
      }
     },
     "metadata": {}
    },
    {
     "output_type": "display_data",
     "data": {
      "text/plain": "|          | 0/? [00:00<?, ?it/s]",
      "application/vnd.jupyter.widget-view+json": {
       "version_major": 2,
       "version_minor": 0,
       "model_id": "ba51fc84df6c48c48fe28d46eefe689f"
      }
     },
     "metadata": {}
    },
    {
     "output_type": "display_data",
     "data": {
      "text/plain": "|          | 0/? [00:00<?, ?it/s]",
      "application/vnd.jupyter.widget-view+json": {
       "version_major": 2,
       "version_minor": 0,
       "model_id": "4f667a8243cd4301a781ace690e1cda9"
      }
     },
     "metadata": {}
    },
    {
     "output_type": "stream",
     "name": "stdout",
     "text": [
      "/media/data_1/darius/models/finetuned/phenotype_all_baseline_clinical_BERT_1_epoch_512_Pneumonia (except that caused by tuberculosis or sexually transmitted disease)_seed6645/results.xlsx\n/media/data_1/darius/models/finetuned/phenotype_all_baseline_clinical_BERT_1_epoch_512_Shock_seed6645/results.xlsx\n"
     ]
    },
    {
     "output_type": "display_data",
     "data": {
      "text/plain": "|          | 0/? [00:00<?, ?it/s]",
      "application/vnd.jupyter.widget-view+json": {
       "version_major": 2,
       "version_minor": 0,
       "model_id": "2ce97c5a4e0d4c8a97a1353cd4e8c13f"
      }
     },
     "metadata": {}
    },
    {
     "output_type": "display_data",
     "data": {
      "text/plain": "|          | 0/? [00:00<?, ?it/s]",
      "application/vnd.jupyter.widget-view+json": {
       "version_major": 2,
       "version_minor": 0,
       "model_id": "458b6f3a8202409db4c17b211effe58b"
      }
     },
     "metadata": {}
    },
    {
     "output_type": "display_data",
     "data": {
      "text/plain": "|          | 0/? [00:00<?, ?it/s]",
      "application/vnd.jupyter.widget-view+json": {
       "version_major": 2,
       "version_minor": 0,
       "model_id": "066a3201f7104d5396ebd6f36fb8de1e"
      }
     },
     "metadata": {}
    },
    {
     "output_type": "display_data",
     "data": {
      "text/plain": "|          | 0/? [00:00<?, ?it/s]",
      "application/vnd.jupyter.widget-view+json": {
       "version_major": 2,
       "version_minor": 0,
       "model_id": "8c52e366586948b49fa329fb11bb5e2d"
      }
     },
     "metadata": {}
    },
    {
     "output_type": "display_data",
     "data": {
      "text/plain": "|          | 0/? [00:00<?, ?it/s]",
      "application/vnd.jupyter.widget-view+json": {
       "version_major": 2,
       "version_minor": 0,
       "model_id": "c83c1565e1ee43eb97afaa5134794997"
      }
     },
     "metadata": {}
    },
    {
     "output_type": "stream",
     "name": "stdout",
     "text": [
      "/media/data_1/darius/models/finetuned/phenotype_all_baseline_clinical_BERT_1_epoch_512_Chronic kidney disease_seed668/results.xlsx\n/media/data_1/darius/models/finetuned/phenotype_all_baseline_clinical_BERT_1_epoch_512_Pneumonia (except that caused by tuberculosis or sexually transmitted disease)_seed6684/results.xlsx\n"
     ]
    },
    {
     "output_type": "display_data",
     "data": {
      "text/plain": "|          | 0/? [00:00<?, ?it/s]",
      "application/vnd.jupyter.widget-view+json": {
       "version_major": 2,
       "version_minor": 0,
       "model_id": "304f2bd9c68a46f3ba2ef7ad97e2a2b5"
      }
     },
     "metadata": {}
    },
    {
     "output_type": "display_data",
     "data": {
      "text/plain": "|          | 0/? [00:00<?, ?it/s]",
      "application/vnd.jupyter.widget-view+json": {
       "version_major": 2,
       "version_minor": 0,
       "model_id": "6994ca2ad96d48d7ba92d67b0f88dd2f"
      }
     },
     "metadata": {}
    },
    {
     "output_type": "display_data",
     "data": {
      "text/plain": "|          | 0/? [00:00<?, ?it/s]",
      "application/vnd.jupyter.widget-view+json": {
       "version_major": 2,
       "version_minor": 0,
       "model_id": "9ac1ec3151404ca9ab3da8a872196a2e"
      }
     },
     "metadata": {}
    },
    {
     "output_type": "display_data",
     "data": {
      "text/plain": "|          | 0/? [00:00<?, ?it/s]",
      "application/vnd.jupyter.widget-view+json": {
       "version_major": 2,
       "version_minor": 0,
       "model_id": "42cce1be468445e5855cb44d471d4f70"
      }
     },
     "metadata": {}
    },
    {
     "output_type": "display_data",
     "data": {
      "text/plain": "|          | 0/? [00:00<?, ?it/s]",
      "application/vnd.jupyter.widget-view+json": {
       "version_major": 2,
       "version_minor": 0,
       "model_id": "a35c2c202c0441e19ac298a4a8c51714"
      }
     },
     "metadata": {}
    },
    {
     "output_type": "stream",
     "name": "stdout",
     "text": [
      "/media/data_1/darius/models/finetuned/phenotype_all_baseline_clinical_BERT_1_epoch_512_Pneumonia (except that caused by tuberculosis or sexually transmitted disease)_seed944/results.xlsx\n/media/data_1/darius/models/finetuned/phenotype_all_baseline_clinical_BERT_1_epoch_512_Shock_seed9443/results.xlsx\n"
     ]
    },
    {
     "output_type": "display_data",
     "data": {
      "text/plain": "|          | 0/? [00:00<?, ?it/s]",
      "application/vnd.jupyter.widget-view+json": {
       "version_major": 2,
       "version_minor": 0,
       "model_id": "7ebc15f983bd4d52be80edc3b1add9ab"
      }
     },
     "metadata": {}
    },
    {
     "output_type": "display_data",
     "data": {
      "text/plain": "|          | 0/? [00:00<?, ?it/s]",
      "application/vnd.jupyter.widget-view+json": {
       "version_major": 2,
       "version_minor": 0,
       "model_id": "efb6f9b570064d279527032182da5fdd"
      }
     },
     "metadata": {}
    },
    {
     "output_type": "display_data",
     "data": {
      "text/plain": "|          | 0/? [00:00<?, ?it/s]",
      "application/vnd.jupyter.widget-view+json": {
       "version_major": 2,
       "version_minor": 0,
       "model_id": "0d7a4cfb2e154566bf932cbde5c5abd9"
      }
     },
     "metadata": {}
    },
    {
     "output_type": "display_data",
     "data": {
      "text/plain": "|          | 0/? [00:00<?, ?it/s]",
      "application/vnd.jupyter.widget-view+json": {
       "version_major": 2,
       "version_minor": 0,
       "model_id": "fe9eda3d838e4734865f26554f463b3d"
      }
     },
     "metadata": {}
    },
    {
     "output_type": "display_data",
     "data": {
      "text/plain": "|          | 0/? [00:00<?, ?it/s]",
      "application/vnd.jupyter.widget-view+json": {
       "version_major": 2,
       "version_minor": 0,
       "model_id": "5a64ae2c273c4ee8976dbdecaf0b8d53"
      }
     },
     "metadata": {}
    },
    {
     "output_type": "stream",
     "name": "stdout",
     "text": [
      "/media/data_1/darius/models/finetuned/phenotype_all_baseline_clinical_BERT_1_epoch_512_Chronic kidney disease_seed9329/results.xlsx\n"
     ]
    },
    {
     "output_type": "display_data",
     "data": {
      "text/plain": "|          | 0/? [00:00<?, ?it/s]",
      "application/vnd.jupyter.widget-view+json": {
       "version_major": 2,
       "version_minor": 0,
       "model_id": "e0bd88d50eeb41d6b7688c4c73d91eba"
      }
     },
     "metadata": {}
    },
    {
     "output_type": "display_data",
     "data": {
      "text/plain": "|          | 0/? [00:00<?, ?it/s]",
      "application/vnd.jupyter.widget-view+json": {
       "version_major": 2,
       "version_minor": 0,
       "model_id": "429e58e582d2423cbb9f647e1674ee3b"
      }
     },
     "metadata": {}
    },
    {
     "output_type": "display_data",
     "data": {
      "text/plain": "|          | 0/? [00:00<?, ?it/s]",
      "application/vnd.jupyter.widget-view+json": {
       "version_major": 2,
       "version_minor": 0,
       "model_id": "3ffb717ad28d448cb1e93febcf20d203"
      }
     },
     "metadata": {}
    },
    {
     "output_type": "display_data",
     "data": {
      "text/plain": "|          | 0/? [00:00<?, ?it/s]",
      "application/vnd.jupyter.widget-view+json": {
       "version_major": 2,
       "version_minor": 0,
       "model_id": "f030c70cfc9a4516b333e61c08c14329"
      }
     },
     "metadata": {}
    },
    {
     "output_type": "display_data",
     "data": {
      "text/plain": "|          | 0/? [00:00<?, ?it/s]",
      "application/vnd.jupyter.widget-view+json": {
       "version_major": 2,
       "version_minor": 0,
       "model_id": "898e2efa150a4ee18fb7f0203dc1f0c3"
      }
     },
     "metadata": {}
    },
    {
     "output_type": "stream",
     "name": "stdout",
     "text": [
      "/media/data_1/darius/models/finetuned/phenotype_all_baseline_clinical_BERT_1_epoch_512_Acute cerebrovascular disease_seed1337/results.xlsx\n/media/data_1/darius/models/finetuned/inhosp_mort_baseline_clinical_BERT_1_epoch_512_inhosp_mort_seed1337/results.xlsx\n"
     ]
    },
    {
     "output_type": "display_data",
     "data": {
      "text/plain": "|          | 0/? [00:00<?, ?it/s]",
      "application/vnd.jupyter.widget-view+json": {
       "version_major": 2,
       "version_minor": 0,
       "model_id": "7c0f180737ae46249b9fbf7743e2a6d4"
      }
     },
     "metadata": {}
    },
    {
     "output_type": "display_data",
     "data": {
      "text/plain": "|          | 0/? [00:00<?, ?it/s]",
      "application/vnd.jupyter.widget-view+json": {
       "version_major": 2,
       "version_minor": 0,
       "model_id": "fd5f565934684203ba473a896e52a4eb"
      }
     },
     "metadata": {}
    },
    {
     "output_type": "display_data",
     "data": {
      "text/plain": "|          | 0/? [00:00<?, ?it/s]",
      "application/vnd.jupyter.widget-view+json": {
       "version_major": 2,
       "version_minor": 0,
       "model_id": "cb70f96c9e0348569c6b4c9bed7f2ed3"
      }
     },
     "metadata": {}
    },
    {
     "output_type": "display_data",
     "data": {
      "text/plain": "|          | 0/? [00:00<?, ?it/s]",
      "application/vnd.jupyter.widget-view+json": {
       "version_major": 2,
       "version_minor": 0,
       "model_id": "a8be0224d22d40f3933ae071990f9a57"
      }
     },
     "metadata": {}
    },
    {
     "output_type": "display_data",
     "data": {
      "text/plain": "|          | 0/? [00:00<?, ?it/s]",
      "application/vnd.jupyter.widget-view+json": {
       "version_major": 2,
       "version_minor": 0,
       "model_id": "bdb30cd9e1fb489bb8898cc5eae7be9f"
      }
     },
     "metadata": {}
    },
    {
     "output_type": "stream",
     "name": "stdout",
     "text": [
      "/media/data_1/darius/models/finetuned/phenotype_all_baseline_clinical_BERT_1_epoch_512_Congestive heart failure; nonhypertensive_seed5251/results.xlsx\n"
     ]
    },
    {
     "output_type": "display_data",
     "data": {
      "text/plain": "|          | 0/? [00:00<?, ?it/s]",
      "application/vnd.jupyter.widget-view+json": {
       "version_major": 2,
       "version_minor": 0,
       "model_id": "a4fd5d2a72d741208ddfc6aa7e692ebb"
      }
     },
     "metadata": {}
    },
    {
     "output_type": "display_data",
     "data": {
      "text/plain": "|          | 0/? [00:00<?, ?it/s]",
      "application/vnd.jupyter.widget-view+json": {
       "version_major": 2,
       "version_minor": 0,
       "model_id": "33d6424faf624c8d8065344477ef4471"
      }
     },
     "metadata": {}
    },
    {
     "output_type": "display_data",
     "data": {
      "text/plain": "|          | 0/? [00:00<?, ?it/s]",
      "application/vnd.jupyter.widget-view+json": {
       "version_major": 2,
       "version_minor": 0,
       "model_id": "06bb8265abbd4b16bddf9108e76a562f"
      }
     },
     "metadata": {}
    },
    {
     "output_type": "display_data",
     "data": {
      "text/plain": "|          | 0/? [00:00<?, ?it/s]",
      "application/vnd.jupyter.widget-view+json": {
       "version_major": 2,
       "version_minor": 0,
       "model_id": "5f9c3a98f8e3425199365040b5197145"
      }
     },
     "metadata": {}
    },
    {
     "output_type": "display_data",
     "data": {
      "text/plain": "|          | 0/? [00:00<?, ?it/s]",
      "application/vnd.jupyter.widget-view+json": {
       "version_major": 2,
       "version_minor": 0,
       "model_id": "1d5eb5240f76416ab1e3519f72f65315"
      }
     },
     "metadata": {}
    },
    {
     "output_type": "stream",
     "name": "stdout",
     "text": [
      "/media/data_1/darius/models/finetuned/phenotype_all_baseline_clinical_BERT_1_epoch_512_Acute cerebrovascular disease_seed4791/results.xlsx\n"
     ]
    },
    {
     "output_type": "error",
     "ename": "FileNotFoundError",
     "evalue": "[Errno 2] No such file or directory: '/media/data_1/darius/models/finetuned/phenotype_all_baseline_clinical_BERT_1_epoch_512_Acute cerebrovascular disease_seed4791/results.xlsx'",
     "traceback": [
      "\u001b[0;31m---------------------------------------------------------------------------\u001b[0m",
      "\u001b[0;31mFileNotFoundError\u001b[0m                         Traceback (most recent call last)",
      "\u001b[0;32m<ipython-input-21-483c33bcbb62>\u001b[0m in \u001b[0;36m<module>\u001b[0;34m\u001b[0m\n\u001b[1;32m     20\u001b[0m                 \u001b[0;32mif\u001b[0m \u001b[0msheet\u001b[0m \u001b[0;34m==\u001b[0m \u001b[0;34m'overall'\u001b[0m\u001b[0;34m:\u001b[0m\u001b[0;34m\u001b[0m\u001b[0;34m\u001b[0m\u001b[0m\n\u001b[1;32m     21\u001b[0m                     \u001b[0mprint\u001b[0m\u001b[0;34m(\u001b[0m\u001b[0mos\u001b[0m\u001b[0;34m.\u001b[0m\u001b[0mpath\u001b[0m\u001b[0;34m.\u001b[0m\u001b[0mjoin\u001b[0m\u001b[0;34m(\u001b[0m\u001b[0mroot\u001b[0m\u001b[0;34m,\u001b[0m \u001b[0mfile\u001b[0m\u001b[0;34m)\u001b[0m\u001b[0;34m)\u001b[0m\u001b[0;34m\u001b[0m\u001b[0;34m\u001b[0m\u001b[0m\n\u001b[0;32m---> 22\u001b[0;31m                     \u001b[0mdf\u001b[0m \u001b[0;34m=\u001b[0m \u001b[0mpd\u001b[0m\u001b[0;34m.\u001b[0m\u001b[0mread_excel\u001b[0m\u001b[0;34m(\u001b[0m\u001b[0mos\u001b[0m\u001b[0;34m.\u001b[0m\u001b[0mpath\u001b[0m\u001b[0;34m.\u001b[0m\u001b[0mjoin\u001b[0m\u001b[0;34m(\u001b[0m\u001b[0mroot\u001b[0m\u001b[0;34m,\u001b[0m \u001b[0mfile\u001b[0m\u001b[0;34m)\u001b[0m\u001b[0;34m,\u001b[0m \u001b[0mindex_col\u001b[0m\u001b[0;34m=\u001b[0m\u001b[0;36m0\u001b[0m\u001b[0;34m,\u001b[0m \u001b[0msheet_name\u001b[0m \u001b[0;34m=\u001b[0m \u001b[0;34m'all'\u001b[0m\u001b[0;34m)\u001b[0m\u001b[0;34m\u001b[0m\u001b[0;34m\u001b[0m\u001b[0m\n\u001b[0m\u001b[1;32m     23\u001b[0m                     \u001b[0mcolumns\u001b[0m \u001b[0;34m=\u001b[0m \u001b[0;34m[\u001b[0m\u001b[0;34m'all_auroc'\u001b[0m\u001b[0;34m,\u001b[0m \u001b[0;34m'all_auprc'\u001b[0m\u001b[0;34m,\u001b[0m \u001b[0;34m'all_recall'\u001b[0m\u001b[0;34m,\u001b[0m \u001b[0;34m'all_class_true_count'\u001b[0m\u001b[0;34m]\u001b[0m\u001b[0;34m\u001b[0m\u001b[0;34m\u001b[0m\u001b[0m\n\u001b[1;32m     24\u001b[0m                     \u001b[0;32mfor\u001b[0m \u001b[0mi\u001b[0m \u001b[0;32min\u001b[0m \u001b[0mcolumns\u001b[0m\u001b[0;34m:\u001b[0m\u001b[0;34m\u001b[0m\u001b[0;34m\u001b[0m\u001b[0m\n",
      "\u001b[0;32m/media/data_1/darius/miniconda/envs/hurtfulwords/lib/python3.7/site-packages/pandas/util/_decorators.py\u001b[0m in \u001b[0;36mwrapper\u001b[0;34m(*args, **kwargs)\u001b[0m\n\u001b[1;32m    294\u001b[0m                 )\n\u001b[1;32m    295\u001b[0m                 \u001b[0mwarnings\u001b[0m\u001b[0;34m.\u001b[0m\u001b[0mwarn\u001b[0m\u001b[0;34m(\u001b[0m\u001b[0mmsg\u001b[0m\u001b[0;34m,\u001b[0m \u001b[0mFutureWarning\u001b[0m\u001b[0;34m,\u001b[0m \u001b[0mstacklevel\u001b[0m\u001b[0;34m=\u001b[0m\u001b[0mstacklevel\u001b[0m\u001b[0;34m)\u001b[0m\u001b[0;34m\u001b[0m\u001b[0;34m\u001b[0m\u001b[0m\n\u001b[0;32m--> 296\u001b[0;31m             \u001b[0;32mreturn\u001b[0m \u001b[0mfunc\u001b[0m\u001b[0;34m(\u001b[0m\u001b[0;34m*\u001b[0m\u001b[0margs\u001b[0m\u001b[0;34m,\u001b[0m \u001b[0;34m**\u001b[0m\u001b[0mkwargs\u001b[0m\u001b[0;34m)\u001b[0m\u001b[0;34m\u001b[0m\u001b[0;34m\u001b[0m\u001b[0m\n\u001b[0m\u001b[1;32m    297\u001b[0m \u001b[0;34m\u001b[0m\u001b[0m\n\u001b[1;32m    298\u001b[0m         \u001b[0;32mreturn\u001b[0m \u001b[0mwrapper\u001b[0m\u001b[0;34m\u001b[0m\u001b[0;34m\u001b[0m\u001b[0m\n",
      "\u001b[0;32m/media/data_1/darius/miniconda/envs/hurtfulwords/lib/python3.7/site-packages/pandas/io/excel/_base.py\u001b[0m in \u001b[0;36mread_excel\u001b[0;34m(io, sheet_name, header, names, index_col, usecols, squeeze, dtype, engine, converters, true_values, false_values, skiprows, nrows, na_values, keep_default_na, na_filter, verbose, parse_dates, date_parser, thousands, comment, skipfooter, convert_float, mangle_dupe_cols)\u001b[0m\n\u001b[1;32m    302\u001b[0m \u001b[0;34m\u001b[0m\u001b[0m\n\u001b[1;32m    303\u001b[0m     \u001b[0;32mif\u001b[0m \u001b[0;32mnot\u001b[0m \u001b[0misinstance\u001b[0m\u001b[0;34m(\u001b[0m\u001b[0mio\u001b[0m\u001b[0;34m,\u001b[0m \u001b[0mExcelFile\u001b[0m\u001b[0;34m)\u001b[0m\u001b[0;34m:\u001b[0m\u001b[0;34m\u001b[0m\u001b[0;34m\u001b[0m\u001b[0m\n\u001b[0;32m--> 304\u001b[0;31m         \u001b[0mio\u001b[0m \u001b[0;34m=\u001b[0m \u001b[0mExcelFile\u001b[0m\u001b[0;34m(\u001b[0m\u001b[0mio\u001b[0m\u001b[0;34m,\u001b[0m \u001b[0mengine\u001b[0m\u001b[0;34m=\u001b[0m\u001b[0mengine\u001b[0m\u001b[0;34m)\u001b[0m\u001b[0;34m\u001b[0m\u001b[0;34m\u001b[0m\u001b[0m\n\u001b[0m\u001b[1;32m    305\u001b[0m     \u001b[0;32melif\u001b[0m \u001b[0mengine\u001b[0m \u001b[0;32mand\u001b[0m \u001b[0mengine\u001b[0m \u001b[0;34m!=\u001b[0m \u001b[0mio\u001b[0m\u001b[0;34m.\u001b[0m\u001b[0mengine\u001b[0m\u001b[0;34m:\u001b[0m\u001b[0;34m\u001b[0m\u001b[0;34m\u001b[0m\u001b[0m\n\u001b[1;32m    306\u001b[0m         raise ValueError(\n",
      "\u001b[0;32m/media/data_1/darius/miniconda/envs/hurtfulwords/lib/python3.7/site-packages/pandas/io/excel/_base.py\u001b[0m in \u001b[0;36m__init__\u001b[0;34m(self, path_or_buffer, engine)\u001b[0m\n\u001b[1;32m    865\u001b[0m         \u001b[0mself\u001b[0m\u001b[0;34m.\u001b[0m\u001b[0m_io\u001b[0m \u001b[0;34m=\u001b[0m \u001b[0mstringify_path\u001b[0m\u001b[0;34m(\u001b[0m\u001b[0mpath_or_buffer\u001b[0m\u001b[0;34m)\u001b[0m\u001b[0;34m\u001b[0m\u001b[0;34m\u001b[0m\u001b[0m\n\u001b[1;32m    866\u001b[0m \u001b[0;34m\u001b[0m\u001b[0m\n\u001b[0;32m--> 867\u001b[0;31m         \u001b[0mself\u001b[0m\u001b[0;34m.\u001b[0m\u001b[0m_reader\u001b[0m \u001b[0;34m=\u001b[0m \u001b[0mself\u001b[0m\u001b[0;34m.\u001b[0m\u001b[0m_engines\u001b[0m\u001b[0;34m[\u001b[0m\u001b[0mengine\u001b[0m\u001b[0;34m]\u001b[0m\u001b[0;34m(\u001b[0m\u001b[0mself\u001b[0m\u001b[0;34m.\u001b[0m\u001b[0m_io\u001b[0m\u001b[0;34m)\u001b[0m\u001b[0;34m\u001b[0m\u001b[0;34m\u001b[0m\u001b[0m\n\u001b[0m\u001b[1;32m    868\u001b[0m \u001b[0;34m\u001b[0m\u001b[0m\n\u001b[1;32m    869\u001b[0m     \u001b[0;32mdef\u001b[0m \u001b[0m__fspath__\u001b[0m\u001b[0;34m(\u001b[0m\u001b[0mself\u001b[0m\u001b[0;34m)\u001b[0m\u001b[0;34m:\u001b[0m\u001b[0;34m\u001b[0m\u001b[0;34m\u001b[0m\u001b[0m\n",
      "\u001b[0;32m/media/data_1/darius/miniconda/envs/hurtfulwords/lib/python3.7/site-packages/pandas/io/excel/_xlrd.py\u001b[0m in \u001b[0;36m__init__\u001b[0;34m(self, filepath_or_buffer)\u001b[0m\n\u001b[1;32m     20\u001b[0m         \u001b[0merr_msg\u001b[0m \u001b[0;34m=\u001b[0m \u001b[0;34m\"Install xlrd >= 1.0.0 for Excel support\"\u001b[0m\u001b[0;34m\u001b[0m\u001b[0;34m\u001b[0m\u001b[0m\n\u001b[1;32m     21\u001b[0m         \u001b[0mimport_optional_dependency\u001b[0m\u001b[0;34m(\u001b[0m\u001b[0;34m\"xlrd\"\u001b[0m\u001b[0;34m,\u001b[0m \u001b[0mextra\u001b[0m\u001b[0;34m=\u001b[0m\u001b[0merr_msg\u001b[0m\u001b[0;34m)\u001b[0m\u001b[0;34m\u001b[0m\u001b[0;34m\u001b[0m\u001b[0m\n\u001b[0;32m---> 22\u001b[0;31m         \u001b[0msuper\u001b[0m\u001b[0;34m(\u001b[0m\u001b[0;34m)\u001b[0m\u001b[0;34m.\u001b[0m\u001b[0m__init__\u001b[0m\u001b[0;34m(\u001b[0m\u001b[0mfilepath_or_buffer\u001b[0m\u001b[0;34m)\u001b[0m\u001b[0;34m\u001b[0m\u001b[0;34m\u001b[0m\u001b[0m\n\u001b[0m\u001b[1;32m     23\u001b[0m \u001b[0;34m\u001b[0m\u001b[0m\n\u001b[1;32m     24\u001b[0m     \u001b[0;34m@\u001b[0m\u001b[0mproperty\u001b[0m\u001b[0;34m\u001b[0m\u001b[0;34m\u001b[0m\u001b[0m\n",
      "\u001b[0;32m/media/data_1/darius/miniconda/envs/hurtfulwords/lib/python3.7/site-packages/pandas/io/excel/_base.py\u001b[0m in \u001b[0;36m__init__\u001b[0;34m(self, filepath_or_buffer)\u001b[0m\n\u001b[1;32m    351\u001b[0m             \u001b[0mself\u001b[0m\u001b[0;34m.\u001b[0m\u001b[0mbook\u001b[0m \u001b[0;34m=\u001b[0m \u001b[0mself\u001b[0m\u001b[0;34m.\u001b[0m\u001b[0mload_workbook\u001b[0m\u001b[0;34m(\u001b[0m\u001b[0mfilepath_or_buffer\u001b[0m\u001b[0;34m)\u001b[0m\u001b[0;34m\u001b[0m\u001b[0;34m\u001b[0m\u001b[0m\n\u001b[1;32m    352\u001b[0m         \u001b[0;32melif\u001b[0m \u001b[0misinstance\u001b[0m\u001b[0;34m(\u001b[0m\u001b[0mfilepath_or_buffer\u001b[0m\u001b[0;34m,\u001b[0m \u001b[0mstr\u001b[0m\u001b[0;34m)\u001b[0m\u001b[0;34m:\u001b[0m\u001b[0;34m\u001b[0m\u001b[0;34m\u001b[0m\u001b[0m\n\u001b[0;32m--> 353\u001b[0;31m             \u001b[0mself\u001b[0m\u001b[0;34m.\u001b[0m\u001b[0mbook\u001b[0m \u001b[0;34m=\u001b[0m \u001b[0mself\u001b[0m\u001b[0;34m.\u001b[0m\u001b[0mload_workbook\u001b[0m\u001b[0;34m(\u001b[0m\u001b[0mfilepath_or_buffer\u001b[0m\u001b[0;34m)\u001b[0m\u001b[0;34m\u001b[0m\u001b[0;34m\u001b[0m\u001b[0m\n\u001b[0m\u001b[1;32m    354\u001b[0m         \u001b[0;32melif\u001b[0m \u001b[0misinstance\u001b[0m\u001b[0;34m(\u001b[0m\u001b[0mfilepath_or_buffer\u001b[0m\u001b[0;34m,\u001b[0m \u001b[0mbytes\u001b[0m\u001b[0;34m)\u001b[0m\u001b[0;34m:\u001b[0m\u001b[0;34m\u001b[0m\u001b[0;34m\u001b[0m\u001b[0m\n\u001b[1;32m    355\u001b[0m             \u001b[0mself\u001b[0m\u001b[0;34m.\u001b[0m\u001b[0mbook\u001b[0m \u001b[0;34m=\u001b[0m \u001b[0mself\u001b[0m\u001b[0;34m.\u001b[0m\u001b[0mload_workbook\u001b[0m\u001b[0;34m(\u001b[0m\u001b[0mBytesIO\u001b[0m\u001b[0;34m(\u001b[0m\u001b[0mfilepath_or_buffer\u001b[0m\u001b[0;34m)\u001b[0m\u001b[0;34m)\u001b[0m\u001b[0;34m\u001b[0m\u001b[0;34m\u001b[0m\u001b[0m\n",
      "\u001b[0;32m/media/data_1/darius/miniconda/envs/hurtfulwords/lib/python3.7/site-packages/pandas/io/excel/_xlrd.py\u001b[0m in \u001b[0;36mload_workbook\u001b[0;34m(self, filepath_or_buffer)\u001b[0m\n\u001b[1;32m     35\u001b[0m             \u001b[0;32mreturn\u001b[0m \u001b[0mopen_workbook\u001b[0m\u001b[0;34m(\u001b[0m\u001b[0mfile_contents\u001b[0m\u001b[0;34m=\u001b[0m\u001b[0mdata\u001b[0m\u001b[0;34m)\u001b[0m\u001b[0;34m\u001b[0m\u001b[0;34m\u001b[0m\u001b[0m\n\u001b[1;32m     36\u001b[0m         \u001b[0;32melse\u001b[0m\u001b[0;34m:\u001b[0m\u001b[0;34m\u001b[0m\u001b[0;34m\u001b[0m\u001b[0m\n\u001b[0;32m---> 37\u001b[0;31m             \u001b[0;32mreturn\u001b[0m \u001b[0mopen_workbook\u001b[0m\u001b[0;34m(\u001b[0m\u001b[0mfilepath_or_buffer\u001b[0m\u001b[0;34m)\u001b[0m\u001b[0;34m\u001b[0m\u001b[0;34m\u001b[0m\u001b[0m\n\u001b[0m\u001b[1;32m     38\u001b[0m \u001b[0;34m\u001b[0m\u001b[0m\n\u001b[1;32m     39\u001b[0m     \u001b[0;34m@\u001b[0m\u001b[0mproperty\u001b[0m\u001b[0;34m\u001b[0m\u001b[0;34m\u001b[0m\u001b[0m\n",
      "\u001b[0;32m/media/data_1/darius/miniconda/envs/hurtfulwords/lib/python3.7/site-packages/xlrd/__init__.py\u001b[0m in \u001b[0;36mopen_workbook\u001b[0;34m(filename, logfile, verbosity, use_mmap, file_contents, encoding_override, formatting_info, on_demand, ragged_rows)\u001b[0m\n\u001b[1;32m    109\u001b[0m     \u001b[0;32melse\u001b[0m\u001b[0;34m:\u001b[0m\u001b[0;34m\u001b[0m\u001b[0;34m\u001b[0m\u001b[0m\n\u001b[1;32m    110\u001b[0m         \u001b[0mfilename\u001b[0m \u001b[0;34m=\u001b[0m \u001b[0mos\u001b[0m\u001b[0;34m.\u001b[0m\u001b[0mpath\u001b[0m\u001b[0;34m.\u001b[0m\u001b[0mexpanduser\u001b[0m\u001b[0;34m(\u001b[0m\u001b[0mfilename\u001b[0m\u001b[0;34m)\u001b[0m\u001b[0;34m\u001b[0m\u001b[0;34m\u001b[0m\u001b[0m\n\u001b[0;32m--> 111\u001b[0;31m         \u001b[0;32mwith\u001b[0m \u001b[0mopen\u001b[0m\u001b[0;34m(\u001b[0m\u001b[0mfilename\u001b[0m\u001b[0;34m,\u001b[0m \u001b[0;34m\"rb\"\u001b[0m\u001b[0;34m)\u001b[0m \u001b[0;32mas\u001b[0m \u001b[0mf\u001b[0m\u001b[0;34m:\u001b[0m\u001b[0;34m\u001b[0m\u001b[0;34m\u001b[0m\u001b[0m\n\u001b[0m\u001b[1;32m    112\u001b[0m             \u001b[0mpeek\u001b[0m \u001b[0;34m=\u001b[0m \u001b[0mf\u001b[0m\u001b[0;34m.\u001b[0m\u001b[0mread\u001b[0m\u001b[0;34m(\u001b[0m\u001b[0mpeeksz\u001b[0m\u001b[0;34m)\u001b[0m\u001b[0;34m\u001b[0m\u001b[0;34m\u001b[0m\u001b[0m\n\u001b[1;32m    113\u001b[0m     \u001b[0;32mif\u001b[0m \u001b[0mpeek\u001b[0m \u001b[0;34m==\u001b[0m \u001b[0;34mb\"PK\\x03\\x04\"\u001b[0m\u001b[0;34m:\u001b[0m \u001b[0;31m# a ZIP file\u001b[0m\u001b[0;34m\u001b[0m\u001b[0;34m\u001b[0m\u001b[0m\n",
      "\u001b[0;31mFileNotFoundError\u001b[0m: [Errno 2] No such file or directory: '/media/data_1/darius/models/finetuned/phenotype_all_baseline_clinical_BERT_1_epoch_512_Acute cerebrovascular disease_seed4791/results.xlsx'"
     ]
    }
   ],
   "source": [
    "seeds = get_seeds(folder)\n",
    "\n",
    "dfs_list = []\n",
    "gap_infos_naive_list = []\n",
    "for seed in seeds:\n",
    "    dfs = {}\n",
    "    gap_infos_naive = {}\n",
    "    for sheet in sheets:\n",
    "        res = pd.DataFrame()\n",
    "        for root, dirs, files in tqdm(os.walk(folder)):\n",
    "            for d in dirs:\n",
    "                mname = d\n",
    "                if f'_seed{seed}' not in mname:\n",
    "                    continue\n",
    "                file = Path(root) / d / 'results.xlsx'\n",
    "                # files = sorted([f for f in p.glob('*.*') if f.stem == 'results'])\n",
    "\n",
    "                target = get_target_name(mname)\n",
    "\n",
    "                if sheet == 'overall':\n",
    "                    print(os.path.join(root, file))\n",
    "                    df = pd.read_excel(os.path.join(root, file), index_col=0, sheet_name = 'all')\n",
    "                    columns = ['all_auroc', 'all_auprc', 'all_recall', 'all_class_true_count']\n",
    "                    for i in columns:\n",
    "                        res.loc[f'{target}-{seed}', model + '_' +i] = df.loc[i, 'avg']\n",
    "                        res.loc[f'{target}-{seed}', model + '_' +i+'lowerCI'] = df.loc[i, '2.5%']\n",
    "                        res.loc[f'{target}-{seed}', model + '_' +i+'upperCI'] = df.loc[i, '97.5%']\n",
    "\n",
    "                elif sheet == 'gender':\n",
    "                    df = pd.read_excel(os.path.join(root, file), index_col=0, sheet_name = 'gender')\n",
    "                    columns = {\n",
    "                            'gender==\"M\"_dgap_max':'Parity Gap (M-F)',\n",
    "                            'gender==\"M\"_egap_positive_max':'Recall Gap',\n",
    "                            'gender==\"M\"_egap_negative_max':'Specificity Gap'\n",
    "                            }\n",
    "\n",
    "                    populate_df(df=df, res=res, idx=target, model=model, columns=columns)\n",
    "                \n",
    "                elif sheet == 'language':\n",
    "                    df = pd.read_excel(os.path.join(root, file), index_col=0, sheet_name = 'language_to_use')\n",
    "                    columns = {'language_to_use==\"English\"_dgap_max' : 'Parity Gap (E-O)', \n",
    "                            'language_to_use==\"English\"_egap_positive_max' : 'Recall Gap', \n",
    "                            'language_to_use==\"English\"_egap_negative_max' : 'Specificity Gap' }\n",
    "                            \n",
    "                    populate_df(df=df, res=res, idx=target, model=model, columns=columns)\n",
    "                                            \n",
    "                elif sheet == 'insurance':                            \n",
    "                    df = pd.read_excel(os.path.join(root, file), index_col=0, sheet_name = 'insurance')\n",
    "                    columns = []\n",
    "                    for i in ['Medicare', 'Private', 'Medicaid']:\n",
    "                        for j in ['dgap_max', 'egap_positive_max', 'egap_negative_max']:\n",
    "                            columns.append(\n",
    "                                'insurance==\"%s\"_%s'%(i,j)\n",
    "                            )\n",
    "\n",
    "                    columns = {k:k.replace('insurance==', '') for k in columns}\n",
    "                    populate_df(df=df, res=res, idx=target, model=model, columns=columns, multi=True)\n",
    "\n",
    "                elif sheet == 'ethnicity':\n",
    "                    df = pd.read_excel(os.path.join(root, file), index_col=0, sheet_name = 'ethnicity_to_use')\n",
    "                    columns = []\n",
    "                    for i in ['WHITE', 'BLACK', 'ASIAN', 'HISPANIC/LATINO', 'OTHER']:\n",
    "                        for j in ['dgap_max', 'egap_positive_max', 'egap_negative_max']:\n",
    "                            columns.append(\n",
    "                                'ethnicity_to_use==\"%s\"_%s'%(i,j)\n",
    "                            )\n",
    "                    columns = {k:k.replace('ethnicity_to_use==', '') for k in columns}\n",
    "                    populate_df(df=df, res=res, idx=target, model=model, columns=columns, multi=True)\n",
    "        \n",
    "        if sheet == 'gender':\n",
    "            for m in allowed_models[sheet]:\n",
    "                for i in ('Parity Gap (M-F)','Recall Gap','Specificity Gap'):\n",
    "                    add_gap(m, i, sheet, res)\n",
    "                    \n",
    "        if sheet == 'language':\n",
    "            for m in allowed_models[sheet]:\n",
    "                for i in ('Parity Gap (E-O)','Recall Gap','Specificity Gap'):\n",
    "                    add_gap(m, i, sheet, res)\n",
    "        \n",
    "        if sheet == 'insurance':\n",
    "            for m in allowed_models[sheet]:\n",
    "                for g in ['Medicare', 'Private', 'Medicaid']:\n",
    "                    for i in ('\"%s\"_'%g + t for t in ['dgap_max','egap_positive_max','egap_negative_max']):\n",
    "                        add_gap(m, i, sheet, res)\n",
    "                        \n",
    "        if sheet == 'ethnicity':\n",
    "            for m in allowed_models[sheet]:\n",
    "                for g in ['WHITE', 'BLACK', 'ASIAN', 'HISPANIC/LATINO', 'OTHER']:\n",
    "                    for i in ('\"%s\"_'%g + t for t in ['dgap_max','egap_positive_max','egap_negative_max']):\n",
    "                        add_gap(m, i, sheet, res)\n",
    "        res = res.reset_index()\n",
    "        dfs[sheet] = res.sort_index()\n",
    "    dfs_list.append(dfs)\n",
    "    gap_infos_naive_list.append(gap_infos_naive)"
   ]
  },
  {
   "cell_type": "code",
   "execution_count": null,
   "metadata": {},
   "outputs": [],
   "source": [
    "dict_of_df = {k: pd.DataFrame(v) for k,v in gap_infos_naive.items()}\n",
    "naive_df = pd.concat(dict_of_df, axis=1, sort = False)"
   ]
  },
  {
   "cell_type": "code",
   "execution_count": 26,
   "metadata": {},
   "outputs": [
    {
     "output_type": "execute_result",
     "data": {
      "text/plain": [
       "{'baseline':                                        gender  language insurance ethnicity\n",
       " Parity Gap (M-F)                      [85, 0]       NaN       NaN       NaN\n",
       " Recall Gap                             [0, 0]    [0, 0]       NaN       NaN\n",
       " Specificity Gap                      [94, 94]  [83, 83]       NaN       NaN\n",
       " Parity Gap (E-O)                          NaN   [97, 0]       NaN       NaN\n",
       " \"Medicare\"_dgap_max                       NaN       NaN  [99, 99]       NaN\n",
       " \"Medicare\"_egap_positive_max              NaN       NaN    [1, 1]       NaN\n",
       " \"Medicare\"_egap_negative_max              NaN       NaN   [91, 0]       NaN\n",
       " \"Private\"_dgap_max                        NaN       NaN   [99, 0]       NaN\n",
       " \"Private\"_egap_positive_max               NaN       NaN    [1, 1]       NaN\n",
       " \"Private\"_egap_negative_max               NaN       NaN  [99, 99]       NaN\n",
       " \"Medicaid\"_dgap_max                       NaN       NaN    [2, 0]       NaN\n",
       " \"Medicaid\"_egap_positive_max              NaN       NaN    [7, 0]       NaN\n",
       " \"Medicaid\"_egap_negative_max              NaN       NaN    [0, 0]       NaN\n",
       " \"WHITE\"_dgap_max                          NaN       NaN       NaN    [3, 0]\n",
       " \"WHITE\"_egap_positive_max                 NaN       NaN       NaN    [0, 0]\n",
       " \"WHITE\"_egap_negative_max                 NaN       NaN       NaN    [1, 1]\n",
       " \"BLACK\"_dgap_max                          NaN       NaN       NaN    [5, 0]\n",
       " \"BLACK\"_egap_positive_max                 NaN       NaN       NaN    [0, 0]\n",
       " \"BLACK\"_egap_negative_max                 NaN       NaN       NaN    [1, 1]\n",
       " \"ASIAN\"_dgap_max                          NaN       NaN       NaN  [29, 29]\n",
       " \"ASIAN\"_egap_positive_max                 NaN       NaN       NaN    [0, 0]\n",
       " \"ASIAN\"_egap_negative_max                 NaN       NaN       NaN   [35, 0]\n",
       " \"HISPANIC/LATINO\"_dgap_max                NaN       NaN       NaN    [9, 1]\n",
       " \"HISPANIC/LATINO\"_egap_positive_max       NaN       NaN       NaN    [3, 0]\n",
       " \"HISPANIC/LATINO\"_egap_negative_max       NaN       NaN       NaN    [1, 1]\n",
       " \"OTHER\"_dgap_max                          NaN       NaN       NaN    [1, 0]\n",
       " \"OTHER\"_egap_positive_max                 NaN       NaN       NaN    [0, 0]\n",
       " \"OTHER\"_egap_negative_max                 NaN       NaN       NaN  [58, 58]}"
      ]
     },
     "metadata": {},
     "execution_count": 26
    }
   ],
   "source": [
    "dict_of_df"
   ]
  },
  {
   "cell_type": "markdown",
   "metadata": {},
   "source": [
    "### Naive"
   ]
  },
  {
   "cell_type": "code",
   "execution_count": 23,
   "metadata": {},
   "outputs": [],
   "source": [
    "def display_tables(df):\n",
    "    for i in ['gender', 'language', 'ethnicity', 'insurance']:\n",
    "        temp = df.T.xs(i, level = 1).dropna(axis = 1)\n",
    "        temp = temp.apply(lambda x: x.apply(lambda y: str(y[0]) + ' (' + \"{:.0%}\".format(y[1]/y[0]) + ')'), axis = 0)\n",
    "        if i in ['ethnicity', 'insurance']:\n",
    "            temp = temp.T    \n",
    "            temp['Gap' ] = list(map(lambda x: list(reversed(re.split(r'\"_', x)))[0][:-4], temp.index))\n",
    "            temp['Group' ] = list(map(lambda x: list(reversed(re.split(r'\"_', x)))[1][1:].lower(), temp.index))\n",
    "            temp = temp.set_index(['Gap','Group']).sort_index()\n",
    "        elif i == 'gender':\n",
    "            columns = ['Recall Gap', 'Parity Gap (M-F)', 'Specificity Gap']\n",
    "            temp = temp[columns]\n",
    "        elif i == 'language':\n",
    "            columns = ['Recall Gap', 'Parity Gap (E-O)', 'Specificity Gap']   \n",
    "            temp = temp[columns]\n",
    "        display(temp)\n",
    "        if i in ['ethnicity', 'insurance']:\n",
    "            temp = temp[['baseline']].reset_index()\n",
    "            temp = temp.pivot_table(values = 'baseline', index = 'Group', columns = 'Gap', aggfunc = lambda x: x)\n",
    "            temp = temp[['egap_positive', 'dgap', 'egap_negative']]\n",
    "            if i =='ethnicity':\n",
    "                temp = temp.loc[['white','black','hispanic/latino','asian', 'other']]\n",
    "            elif i =='insurance':\n",
    "                temp = temp.loc[['medicare', 'private', 'medicaid']]\n",
    "            display(temp)"
   ]
  },
  {
   "cell_type": "code",
   "execution_count": 24,
   "metadata": {},
   "outputs": [
    {
     "output_type": "display_data",
     "data": {
      "text/plain": "         Recall Gap Parity Gap (M-F) Specificity Gap\nbaseline   0 (nan%)          85 (0%)       94 (100%)",
      "text/html": "<div>\n<style scoped>\n    .dataframe tbody tr th:only-of-type {\n        vertical-align: middle;\n    }\n\n    .dataframe tbody tr th {\n        vertical-align: top;\n    }\n\n    .dataframe thead th {\n        text-align: right;\n    }\n</style>\n<table border=\"1\" class=\"dataframe\">\n  <thead>\n    <tr style=\"text-align: right;\">\n      <th></th>\n      <th>Recall Gap</th>\n      <th>Parity Gap (M-F)</th>\n      <th>Specificity Gap</th>\n    </tr>\n  </thead>\n  <tbody>\n    <tr>\n      <th>baseline</th>\n      <td>0 (nan%)</td>\n      <td>85 (0%)</td>\n      <td>94 (100%)</td>\n    </tr>\n  </tbody>\n</table>\n</div>"
     },
     "metadata": {}
    },
    {
     "output_type": "display_data",
     "data": {
      "text/plain": "         Recall Gap Parity Gap (E-O) Specificity Gap\nbaseline   0 (nan%)          97 (0%)       83 (100%)",
      "text/html": "<div>\n<style scoped>\n    .dataframe tbody tr th:only-of-type {\n        vertical-align: middle;\n    }\n\n    .dataframe tbody tr th {\n        vertical-align: top;\n    }\n\n    .dataframe thead th {\n        text-align: right;\n    }\n</style>\n<table border=\"1\" class=\"dataframe\">\n  <thead>\n    <tr style=\"text-align: right;\">\n      <th></th>\n      <th>Recall Gap</th>\n      <th>Parity Gap (E-O)</th>\n      <th>Specificity Gap</th>\n    </tr>\n  </thead>\n  <tbody>\n    <tr>\n      <th>baseline</th>\n      <td>0 (nan%)</td>\n      <td>97 (0%)</td>\n      <td>83 (100%)</td>\n    </tr>\n  </tbody>\n</table>\n</div>"
     },
     "metadata": {}
    },
    {
     "output_type": "display_data",
     "data": {
      "text/plain": "                                baseline\nGap           Group                     \ndgap          asian            29 (100%)\n              black               5 (0%)\n              hispanic/latino    9 (11%)\n              other               1 (0%)\n              white               3 (0%)\negap_negative asian              35 (0%)\n              black             1 (100%)\n              hispanic/latino   1 (100%)\n              other            58 (100%)\n              white             1 (100%)\negap_positive asian             0 (nan%)\n              black             0 (nan%)\n              hispanic/latino     3 (0%)\n              other             0 (nan%)\n              white             0 (nan%)",
      "text/html": "<div>\n<style scoped>\n    .dataframe tbody tr th:only-of-type {\n        vertical-align: middle;\n    }\n\n    .dataframe tbody tr th {\n        vertical-align: top;\n    }\n\n    .dataframe thead th {\n        text-align: right;\n    }\n</style>\n<table border=\"1\" class=\"dataframe\">\n  <thead>\n    <tr style=\"text-align: right;\">\n      <th></th>\n      <th></th>\n      <th>baseline</th>\n    </tr>\n    <tr>\n      <th>Gap</th>\n      <th>Group</th>\n      <th></th>\n    </tr>\n  </thead>\n  <tbody>\n    <tr>\n      <th rowspan=\"5\" valign=\"top\">dgap</th>\n      <th>asian</th>\n      <td>29 (100%)</td>\n    </tr>\n    <tr>\n      <th>black</th>\n      <td>5 (0%)</td>\n    </tr>\n    <tr>\n      <th>hispanic/latino</th>\n      <td>9 (11%)</td>\n    </tr>\n    <tr>\n      <th>other</th>\n      <td>1 (0%)</td>\n    </tr>\n    <tr>\n      <th>white</th>\n      <td>3 (0%)</td>\n    </tr>\n    <tr>\n      <th rowspan=\"5\" valign=\"top\">egap_negative</th>\n      <th>asian</th>\n      <td>35 (0%)</td>\n    </tr>\n    <tr>\n      <th>black</th>\n      <td>1 (100%)</td>\n    </tr>\n    <tr>\n      <th>hispanic/latino</th>\n      <td>1 (100%)</td>\n    </tr>\n    <tr>\n      <th>other</th>\n      <td>58 (100%)</td>\n    </tr>\n    <tr>\n      <th>white</th>\n      <td>1 (100%)</td>\n    </tr>\n    <tr>\n      <th rowspan=\"5\" valign=\"top\">egap_positive</th>\n      <th>asian</th>\n      <td>0 (nan%)</td>\n    </tr>\n    <tr>\n      <th>black</th>\n      <td>0 (nan%)</td>\n    </tr>\n    <tr>\n      <th>hispanic/latino</th>\n      <td>3 (0%)</td>\n    </tr>\n    <tr>\n      <th>other</th>\n      <td>0 (nan%)</td>\n    </tr>\n    <tr>\n      <th>white</th>\n      <td>0 (nan%)</td>\n    </tr>\n  </tbody>\n</table>\n</div>"
     },
     "metadata": {}
    },
    {
     "output_type": "display_data",
     "data": {
      "text/plain": "Gap             egap_positive       dgap egap_negative\nGroup                                                 \nwhite                0 (nan%)     3 (0%)      1 (100%)\nblack                0 (nan%)     5 (0%)      1 (100%)\nhispanic/latino        3 (0%)    9 (11%)      1 (100%)\nasian                0 (nan%)  29 (100%)       35 (0%)\nother                0 (nan%)     1 (0%)     58 (100%)",
      "text/html": "<div>\n<style scoped>\n    .dataframe tbody tr th:only-of-type {\n        vertical-align: middle;\n    }\n\n    .dataframe tbody tr th {\n        vertical-align: top;\n    }\n\n    .dataframe thead th {\n        text-align: right;\n    }\n</style>\n<table border=\"1\" class=\"dataframe\">\n  <thead>\n    <tr style=\"text-align: right;\">\n      <th>Gap</th>\n      <th>egap_positive</th>\n      <th>dgap</th>\n      <th>egap_negative</th>\n    </tr>\n    <tr>\n      <th>Group</th>\n      <th></th>\n      <th></th>\n      <th></th>\n    </tr>\n  </thead>\n  <tbody>\n    <tr>\n      <th>white</th>\n      <td>0 (nan%)</td>\n      <td>3 (0%)</td>\n      <td>1 (100%)</td>\n    </tr>\n    <tr>\n      <th>black</th>\n      <td>0 (nan%)</td>\n      <td>5 (0%)</td>\n      <td>1 (100%)</td>\n    </tr>\n    <tr>\n      <th>hispanic/latino</th>\n      <td>3 (0%)</td>\n      <td>9 (11%)</td>\n      <td>1 (100%)</td>\n    </tr>\n    <tr>\n      <th>asian</th>\n      <td>0 (nan%)</td>\n      <td>29 (100%)</td>\n      <td>35 (0%)</td>\n    </tr>\n    <tr>\n      <th>other</th>\n      <td>0 (nan%)</td>\n      <td>1 (0%)</td>\n      <td>58 (100%)</td>\n    </tr>\n  </tbody>\n</table>\n</div>"
     },
     "metadata": {}
    },
    {
     "output_type": "display_data",
     "data": {
      "text/plain": "                         baseline\nGap           Group              \ndgap          medicaid     2 (0%)\n              medicare  99 (100%)\n              private     99 (0%)\negap_negative medicaid   0 (nan%)\n              medicare    91 (0%)\n              private   99 (100%)\negap_positive medicaid     7 (0%)\n              medicare   1 (100%)\n              private    1 (100%)",
      "text/html": "<div>\n<style scoped>\n    .dataframe tbody tr th:only-of-type {\n        vertical-align: middle;\n    }\n\n    .dataframe tbody tr th {\n        vertical-align: top;\n    }\n\n    .dataframe thead th {\n        text-align: right;\n    }\n</style>\n<table border=\"1\" class=\"dataframe\">\n  <thead>\n    <tr style=\"text-align: right;\">\n      <th></th>\n      <th></th>\n      <th>baseline</th>\n    </tr>\n    <tr>\n      <th>Gap</th>\n      <th>Group</th>\n      <th></th>\n    </tr>\n  </thead>\n  <tbody>\n    <tr>\n      <th rowspan=\"3\" valign=\"top\">dgap</th>\n      <th>medicaid</th>\n      <td>2 (0%)</td>\n    </tr>\n    <tr>\n      <th>medicare</th>\n      <td>99 (100%)</td>\n    </tr>\n    <tr>\n      <th>private</th>\n      <td>99 (0%)</td>\n    </tr>\n    <tr>\n      <th rowspan=\"3\" valign=\"top\">egap_negative</th>\n      <th>medicaid</th>\n      <td>0 (nan%)</td>\n    </tr>\n    <tr>\n      <th>medicare</th>\n      <td>91 (0%)</td>\n    </tr>\n    <tr>\n      <th>private</th>\n      <td>99 (100%)</td>\n    </tr>\n    <tr>\n      <th rowspan=\"3\" valign=\"top\">egap_positive</th>\n      <th>medicaid</th>\n      <td>7 (0%)</td>\n    </tr>\n    <tr>\n      <th>medicare</th>\n      <td>1 (100%)</td>\n    </tr>\n    <tr>\n      <th>private</th>\n      <td>1 (100%)</td>\n    </tr>\n  </tbody>\n</table>\n</div>"
     },
     "metadata": {}
    },
    {
     "output_type": "display_data",
     "data": {
      "text/plain": "Gap      egap_positive       dgap egap_negative\nGroup                                          \nmedicare      1 (100%)  99 (100%)       91 (0%)\nprivate       1 (100%)    99 (0%)     99 (100%)\nmedicaid        7 (0%)     2 (0%)      0 (nan%)",
      "text/html": "<div>\n<style scoped>\n    .dataframe tbody tr th:only-of-type {\n        vertical-align: middle;\n    }\n\n    .dataframe tbody tr th {\n        vertical-align: top;\n    }\n\n    .dataframe thead th {\n        text-align: right;\n    }\n</style>\n<table border=\"1\" class=\"dataframe\">\n  <thead>\n    <tr style=\"text-align: right;\">\n      <th>Gap</th>\n      <th>egap_positive</th>\n      <th>dgap</th>\n      <th>egap_negative</th>\n    </tr>\n    <tr>\n      <th>Group</th>\n      <th></th>\n      <th></th>\n      <th></th>\n    </tr>\n  </thead>\n  <tbody>\n    <tr>\n      <th>medicare</th>\n      <td>1 (100%)</td>\n      <td>99 (100%)</td>\n      <td>91 (0%)</td>\n    </tr>\n    <tr>\n      <th>private</th>\n      <td>1 (100%)</td>\n      <td>99 (0%)</td>\n      <td>99 (100%)</td>\n    </tr>\n    <tr>\n      <th>medicaid</th>\n      <td>7 (0%)</td>\n      <td>2 (0%)</td>\n      <td>0 (nan%)</td>\n    </tr>\n  </tbody>\n</table>\n</div>"
     },
     "metadata": {}
    }
   ],
   "source": [
    "display_tables(naive_df)"
   ]
  },
  {
   "cell_type": "code",
   "execution_count": 45,
   "metadata": {},
   "outputs": [
    {
     "output_type": "display_data",
     "data": {
      "text/plain": "|          | 0/? [00:00<?, ?it/s]",
      "application/vnd.jupyter.widget-view+json": {
       "version_major": 2,
       "version_minor": 0,
       "model_id": "0f74c9deb38548419c15a6211cb79c8e"
      }
     },
     "metadata": {}
    },
    {
     "output_type": "display_data",
     "data": {
      "text/plain": "|          | 0/? [00:00<?, ?it/s]",
      "application/vnd.jupyter.widget-view+json": {
       "version_major": 2,
       "version_minor": 0,
       "model_id": "17c21ee230914a26bb386ab25e426d9a"
      }
     },
     "metadata": {}
    },
    {
     "output_type": "display_data",
     "data": {
      "text/plain": "|          | 0/? [00:00<?, ?it/s]",
      "application/vnd.jupyter.widget-view+json": {
       "version_major": 2,
       "version_minor": 0,
       "model_id": "c3869654eba64b899d4895a0023adb18"
      }
     },
     "metadata": {}
    },
    {
     "output_type": "display_data",
     "data": {
      "text/plain": "|          | 0/? [00:00<?, ?it/s]",
      "application/vnd.jupyter.widget-view+json": {
       "version_major": 2,
       "version_minor": 0,
       "model_id": "3db5e5fa50ec4812b9f0d0c59b55fcd2"
      }
     },
     "metadata": {}
    },
    {
     "output_type": "display_data",
     "data": {
      "text/plain": "|          | 0/? [00:00<?, ?it/s]",
      "application/vnd.jupyter.widget-view+json": {
       "version_major": 2,
       "version_minor": 0,
       "model_id": "8a6e100a0f504cef91c501aee64e396a"
      }
     },
     "metadata": {}
    }
   ],
   "source": [
    "seeds = defaultdict(float)\n",
    "for sheet in sheets:\n",
    "    for root, dirs, files in tqdm(os.walk(folder)):\n",
    "        for d in dirs:\n",
    "            if 'seed' not in d:\n",
    "                continue\n",
    "            for file in os.scandir(os.path.join(root, d)):\n",
    "                if not(file.name.endswith('final_scores.txt')):\n",
    "                    continue\n",
    "\n",
    "                df = pd.read_csv(file, \": \", header=None, index_col=0)\n",
    "                df = pd.DataFrame(df.values.transpose(), columns=df.index)\n",
    "                seeds[int(df.Seed.item())] = df.Accuracy.item()\n",
    "seeds = [(k,v) for k,v in seeds.items()]\n",
    "\n",
    "\n"
   ]
  },
  {
   "cell_type": "code",
   "execution_count": 25,
   "metadata": {},
   "outputs": [],
   "source": [
    "import matplotlib.pyplot as plt\n",
    "import matplotlib.ticker as plticker\n",
    "%matplotlib inline"
   ]
  },
  {
   "cell_type": "code",
   "execution_count": 47,
   "metadata": {},
   "outputs": [
    {
     "output_type": "execute_result",
     "data": {
      "text/plain": [
       "<matplotlib.collections.PathCollection at 0x7ff11110fbd0>"
      ]
     },
     "metadata": {},
     "execution_count": 47
    },
    {
     "output_type": "display_data",
     "data": {
      "text/plain": "<Figure size 432x288 with 1 Axes>",
      "image/svg+xml": "<?xml version=\"1.0\" encoding=\"utf-8\" standalone=\"no\"?>\n<!DOCTYPE svg PUBLIC \"-//W3C//DTD SVG 1.1//EN\"\n  \"http://www.w3.org/Graphics/SVG/1.1/DTD/svg11.dtd\">\n<!-- Created with matplotlib (http://matplotlib.org/) -->\n<svg height=\"252.018125pt\" version=\"1.1\" viewBox=\"0 0 381.965625 252.018125\" width=\"381.965625pt\" xmlns=\"http://www.w3.org/2000/svg\" xmlns:xlink=\"http://www.w3.org/1999/xlink\">\n <defs>\n  <style type=\"text/css\">\n*{stroke-linecap:butt;stroke-linejoin:round;}\n  </style>\n </defs>\n <g id=\"figure_1\">\n  <g id=\"patch_1\">\n   <path d=\"M 0 252.018125 \nL 381.965625 252.018125 \nL 381.965625 0 \nL 0 0 \nz\n\" style=\"fill:none;\"/>\n  </g>\n  <g id=\"axes_1\">\n   <g id=\"patch_2\">\n    <path d=\"M 36.465625 228.14 \nL 371.265625 228.14 \nL 371.265625 10.7 \nL 36.465625 10.7 \nz\n\" style=\"fill:#ffffff;\"/>\n   </g>\n   <g id=\"PathCollection_1\">\n    <defs>\n     <path d=\"M 0 3 \nC 0.795609 3 1.55874 2.683901 2.12132 2.12132 \nC 2.683901 1.55874 3 0.795609 3 0 \nC 3 -0.795609 2.683901 -1.55874 2.12132 -2.12132 \nC 1.55874 -2.683901 0.795609 -3 0 -3 \nC -0.795609 -3 -1.55874 -2.683901 -2.12132 -2.12132 \nC -2.683901 -1.55874 -3 -0.795609 -3 0 \nC -3 0.795609 -2.683901 1.55874 -2.12132 2.12132 \nC -1.55874 2.683901 -0.795609 3 0 3 \nz\n\" id=\"m61181fea64\" style=\"stroke:#1f77b4;\"/>\n    </defs>\n    <g clip-path=\"url(#p14ed200d33)\">\n     <use style=\"fill:#1f77b4;stroke:#1f77b4;\" x=\"86.312399\" xlink:href=\"#m61181fea64\" y=\"102.677611\"/>\n     <use style=\"fill:#1f77b4;stroke:#1f77b4;\" x=\"342.195842\" xlink:href=\"#m61181fea64\" y=\"78.93386\"/>\n     <use style=\"fill:#1f77b4;stroke:#1f77b4;\" x=\"132.656378\" xlink:href=\"#m61181fea64\" y=\"94.038249\"/>\n     <use style=\"fill:#1f77b4;stroke:#1f77b4;\" x=\"96.319525\" xlink:href=\"#m61181fea64\" y=\"82.151878\"/>\n     <use style=\"fill:#1f77b4;stroke:#1f77b4;\" x=\"246.701008\" xlink:href=\"#m61181fea64\" y=\"95.110921\"/>\n     <use style=\"fill:#1f77b4;stroke:#1f77b4;\" x=\"294.11282\" xlink:href=\"#m61181fea64\" y=\"138.307734\"/>\n     <use style=\"fill:#1f77b4;stroke:#1f77b4;\" x=\"129.361348\" xlink:href=\"#m61181fea64\" y=\"91.892904\"/>\n     <use style=\"fill:#1f77b4;stroke:#1f77b4;\" x=\"83.780108\" xlink:href=\"#m61181fea64\" y=\"104.851948\"/>\n     <use style=\"fill:#1f77b4;stroke:#1f77b4;\" x=\"139.551532\" xlink:href=\"#m61181fea64\" y=\"75.686851\"/>\n     <use style=\"fill:#1f77b4;stroke:#1f77b4;\" x=\"241.026235\" xlink:href=\"#m61181fea64\" y=\"99.430603\"/>\n     <use style=\"fill:#1f77b4;stroke:#1f77b4;\" x=\"144.25\" xlink:href=\"#m61181fea64\" y=\"108.069965\"/>\n     <use style=\"fill:#1f77b4;stroke:#1f77b4;\" x=\"204.506325\" xlink:href=\"#m61181fea64\" y=\"104.851948\"/>\n     <use style=\"fill:#1f77b4;stroke:#1f77b4;\" x=\"108.828433\" xlink:href=\"#m61181fea64\" y=\"113.49131\"/>\n     <use style=\"fill:#1f77b4;stroke:#1f77b4;\" x=\"298.140078\" xlink:href=\"#m61181fea64\" y=\"100.532266\"/>\n     <use style=\"fill:#1f77b4;stroke:#1f77b4;\" x=\"250.819794\" xlink:href=\"#m61181fea64\" y=\"100.532266\"/>\n     <use style=\"fill:#1f77b4;stroke:#1f77b4;\" x=\"68.372794\" xlink:href=\"#m61181fea64\" y=\"72.439843\"/>\n     <use style=\"fill:#1f77b4;stroke:#1f77b4;\" x=\"257.806477\" xlink:href=\"#m61181fea64\" y=\"132.91538\"/>\n     <use style=\"fill:#1f77b4;stroke:#1f77b4;\" x=\"169.755968\" xlink:href=\"#m61181fea64\" y=\"76.759524\"/>\n     <use style=\"fill:#1f77b4;stroke:#1f77b4;\" x=\"268.08819\" xlink:href=\"#m61181fea64\" y=\"69.221825\"/>\n     <use style=\"fill:#1f77b4;stroke:#1f77b4;\" x=\"337.832979\" xlink:href=\"#m61181fea64\" y=\"83.253541\"/>\n     <use style=\"fill:#1f77b4;stroke:#1f77b4;\" x=\"316.323759\" xlink:href=\"#m61181fea64\" y=\"123.203345\"/>\n     <use style=\"fill:#1f77b4;stroke:#1f77b4;\" x=\"185.742963\" xlink:href=\"#m61181fea64\" y=\"80.006533\"/>\n     <use style=\"fill:#1f77b4;stroke:#1f77b4;\" x=\"139.00236\" xlink:href=\"#m61181fea64\" y=\"81.079205\"/>\n     <use style=\"fill:#1f77b4;stroke:#1f77b4;\" x=\"73.040752\" xlink:href=\"#m61181fea64\" y=\"83.253541\"/>\n     <use style=\"fill:#1f77b4;stroke:#1f77b4;\" x=\"155.813112\" xlink:href=\"#m61181fea64\" y=\"76.759524\"/>\n     <use style=\"fill:#1f77b4;stroke:#1f77b4;\" x=\"334.568459\" xlink:href=\"#m61181fea64\" y=\"105.92462\"/>\n     <use style=\"fill:#1f77b4;stroke:#1f77b4;\" x=\"106.082575\" xlink:href=\"#m61181fea64\" y=\"128.595699\"/>\n     <use style=\"fill:#1f77b4;stroke:#1f77b4;\" x=\"341.951766\" xlink:href=\"#m61181fea64\" y=\"72.439843\"/>\n     <use style=\"fill:#1f77b4;stroke:#1f77b4;\" x=\"141.595671\" xlink:href=\"#m61181fea64\" y=\"178.257537\"/>\n     <use style=\"fill:#1f77b4;stroke:#1f77b4;\" x=\"67.762603\" xlink:href=\"#m61181fea64\" y=\"75.686851\"/>\n     <use style=\"fill:#1f77b4;stroke:#1f77b4;\" x=\"342.653485\" xlink:href=\"#m61181fea64\" y=\"118.883664\"/>\n     <use style=\"fill:#1f77b4;stroke:#1f77b4;\" x=\"287.705818\" xlink:href=\"#m61181fea64\" y=\"81.079205\"/>\n     <use style=\"fill:#1f77b4;stroke:#1f77b4;\" x=\"161.243809\" xlink:href=\"#m61181fea64\" y=\"72.439843\"/>\n     <use style=\"fill:#1f77b4;stroke:#1f77b4;\" x=\"88.265009\" xlink:href=\"#m61181fea64\" y=\"89.718568\"/>\n     <use style=\"fill:#1f77b4;stroke:#1f77b4;\" x=\"54.155352\" xlink:href=\"#m61181fea64\" y=\"68.120161\"/>\n     <use style=\"fill:#1f77b4;stroke:#1f77b4;\" x=\"229.646179\" xlink:href=\"#m61181fea64\" y=\"136.162389\"/>\n     <use style=\"fill:#1f77b4;stroke:#1f77b4;\" x=\"285.417604\" xlink:href=\"#m61181fea64\" y=\"104.851948\"/>\n     <use style=\"fill:#1f77b4;stroke:#1f77b4;\" x=\"85.092018\" xlink:href=\"#m61181fea64\" y=\"73.512515\"/>\n     <use style=\"fill:#1f77b4;stroke:#1f77b4;\" x=\"127.988419\" xlink:href=\"#m61181fea64\" y=\"148.019769\"/>\n     <use style=\"fill:#1f77b4;stroke:#1f77b4;\" x=\"64.376045\" xlink:href=\"#m61181fea64\" y=\"65.974816\"/>\n     <use style=\"fill:#1f77b4;stroke:#1f77b4;\" x=\"83.139408\" xlink:href=\"#m61181fea64\" y=\"131.842707\"/>\n     <use style=\"fill:#1f77b4;stroke:#1f77b4;\" x=\"144.188981\" xlink:href=\"#m61181fea64\" y=\"87.573223\"/>\n     <use style=\"fill:#1f77b4;stroke:#1f77b4;\" x=\"212.04218\" xlink:href=\"#m61181fea64\" y=\"60.582463\"/>\n     <use style=\"fill:#1f77b4;stroke:#1f77b4;\" x=\"308.848924\" xlink:href=\"#m61181fea64\" y=\"91.892904\"/>\n     <use style=\"fill:#1f77b4;stroke:#1f77b4;\" x=\"119.689827\" xlink:href=\"#m61181fea64\" y=\"64.902144\"/>\n     <use style=\"fill:#1f77b4;stroke:#1f77b4;\" x=\"159.90139\" xlink:href=\"#m61181fea64\" y=\"129.668371\"/>\n     <use style=\"fill:#1f77b4;stroke:#1f77b4;\" x=\"351.196154\" xlink:href=\"#m61181fea64\" y=\"77.832196\"/>\n     <use style=\"fill:#1f77b4;stroke:#1f77b4;\" x=\"174.454436\" xlink:href=\"#m61181fea64\" y=\"103.750284\"/>\n     <use style=\"fill:#1f77b4;stroke:#1f77b4;\" x=\"70.996614\" xlink:href=\"#m61181fea64\" y=\"105.92462\"/>\n     <use style=\"fill:#1f77b4;stroke:#1f77b4;\" x=\"349.121506\" xlink:href=\"#m61181fea64\" y=\"110.244301\"/>\n     <use style=\"fill:#1f77b4;stroke:#1f77b4;\" x=\"74.200115\" xlink:href=\"#m61181fea64\" y=\"99.430603\"/>\n     <use style=\"fill:#1f77b4;stroke:#1f77b4;\" x=\"185.92602\" xlink:href=\"#m61181fea64\" y=\"94.038249\"/>\n     <use style=\"fill:#1f77b4;stroke:#1f77b4;\" x=\"209.631927\" xlink:href=\"#m61181fea64\" y=\"68.120161\"/>\n     <use style=\"fill:#1f77b4;stroke:#1f77b4;\" x=\"141.046499\" xlink:href=\"#m61181fea64\" y=\"96.212585\"/>\n     <use style=\"fill:#1f77b4;stroke:#1f77b4;\" x=\"65.291331\" xlink:href=\"#m61181fea64\" y=\"70.294498\"/>\n     <use style=\"fill:#1f77b4;stroke:#1f77b4;\" x=\"196.573847\" xlink:href=\"#m61181fea64\" y=\"125.34869\"/>\n     <use style=\"fill:#1f77b4;stroke:#1f77b4;\" x=\"197.397604\" xlink:href=\"#m61181fea64\" y=\"136.162389\"/>\n     <use style=\"fill:#1f77b4;stroke:#1f77b4;\" x=\"58.396177\" xlink:href=\"#m61181fea64\" y=\"146.947096\"/>\n     <use style=\"fill:#1f77b4;stroke:#1f77b4;\" x=\"92.017681\" xlink:href=\"#m61181fea64\" y=\"95.110921\"/>\n     <use style=\"fill:#1f77b4;stroke:#1f77b4;\" x=\"93.085515\" xlink:href=\"#m61181fea64\" y=\"73.512515\"/>\n     <use style=\"fill:#1f77b4;stroke:#1f77b4;\" x=\"180.129209\" xlink:href=\"#m61181fea64\" y=\"129.668371\"/>\n     <use style=\"fill:#1f77b4;stroke:#1f77b4;\" x=\"299.909631\" xlink:href=\"#m61181fea64\" y=\"111.316974\"/>\n     <use style=\"fill:#1f77b4;stroke:#1f77b4;\" x=\"286.454928\" xlink:href=\"#m61181fea64\" y=\"111.316974\"/>\n     <use style=\"fill:#1f77b4;stroke:#1f77b4;\" x=\"347.748577\" xlink:href=\"#m61181fea64\" y=\"92.965576\"/>\n     <use style=\"fill:#1f77b4;stroke:#1f77b4;\" x=\"156.850436\" xlink:href=\"#m61181fea64\" y=\"98.35793\"/>\n     <use style=\"fill:#1f77b4;stroke:#1f77b4;\" x=\"289.597409\" xlink:href=\"#m61181fea64\" y=\"115.636655\"/>\n     <use style=\"fill:#1f77b4;stroke:#1f77b4;\" x=\"341.189028\" xlink:href=\"#m61181fea64\" y=\"89.718568\"/>\n     <use style=\"fill:#1f77b4;stroke:#1f77b4;\" x=\"272.573091\" xlink:href=\"#m61181fea64\" y=\"99.430603\"/>\n     <use style=\"fill:#1f77b4;stroke:#1f77b4;\" x=\"82.681765\" xlink:href=\"#m61181fea64\" y=\"99.430603\"/>\n     <use style=\"fill:#1f77b4;stroke:#1f77b4;\" x=\"55.955415\" xlink:href=\"#m61181fea64\" y=\"76.759524\"/>\n     <use style=\"fill:#1f77b4;stroke:#1f77b4;\" x=\"356.04717\" xlink:href=\"#m61181fea64\" y=\"83.253541\"/>\n     <use style=\"fill:#1f77b4;stroke:#1f77b4;\" x=\"175.52227\" xlink:href=\"#m61181fea64\" y=\"106.997293\"/>\n     <use style=\"fill:#1f77b4;stroke:#1f77b4;\" x=\"58.640253\" xlink:href=\"#m61181fea64\" y=\"77.832196\"/>\n     <use style=\"fill:#1f77b4;stroke:#1f77b4;\" x=\"51.68408\" xlink:href=\"#m61181fea64\" y=\"97.285258\"/>\n     <use style=\"fill:#1f77b4;stroke:#1f77b4;\" x=\"107.486014\" xlink:href=\"#m61181fea64\" y=\"154.513786\"/>\n     <use style=\"fill:#1f77b4;stroke:#1f77b4;\" x=\"102.451941\" xlink:href=\"#m61181fea64\" y=\"77.832196\"/>\n     <use style=\"fill:#1f77b4;stroke:#1f77b4;\" x=\"355.925132\" xlink:href=\"#m61181fea64\" y=\"100.532266\"/>\n     <use style=\"fill:#1f77b4;stroke:#1f77b4;\" x=\"256.036924\" xlink:href=\"#m61181fea64\" y=\"105.92462\"/>\n     <use style=\"fill:#1f77b4;stroke:#1f77b4;\" x=\"323.371461\" xlink:href=\"#m61181fea64\" y=\"87.573223\"/>\n     <use style=\"fill:#1f77b4;stroke:#1f77b4;\" x=\"135.432745\" xlink:href=\"#m61181fea64\" y=\"83.253541\"/>\n     <use style=\"fill:#1f77b4;stroke:#1f77b4;\" x=\"100.407803\" xlink:href=\"#m61181fea64\" y=\"86.471559\"/>\n     <use style=\"fill:#1f77b4;stroke:#1f77b4;\" x=\"145.744967\" xlink:href=\"#m61181fea64\" y=\"90.79124\"/>\n     <use style=\"fill:#1f77b4;stroke:#1f77b4;\" x=\"340.914442\" xlink:href=\"#m61181fea64\" y=\"88.645895\"/>\n     <use style=\"fill:#1f77b4;stroke:#1f77b4;\" x=\"209.723455\" xlink:href=\"#m61181fea64\" y=\"70.294498\"/>\n     <use style=\"fill:#1f77b4;stroke:#1f77b4;\" x=\"279.13264\" xlink:href=\"#m61181fea64\" y=\"80.006533\"/>\n     <use style=\"fill:#1f77b4;stroke:#1f77b4;\" x=\"242.978845\" xlink:href=\"#m61181fea64\" y=\"90.79124\"/>\n     <use style=\"fill:#1f77b4;stroke:#1f77b4;\" x=\"280.047926\" xlink:href=\"#m61181fea64\" y=\"105.92462\"/>\n     <use style=\"fill:#1f77b4;stroke:#1f77b4;\" x=\"237.975282\" xlink:href=\"#m61181fea64\" y=\"80.006533\"/>\n     <use style=\"fill:#1f77b4;stroke:#1f77b4;\" x=\"55.61981\" xlink:href=\"#m61181fea64\" y=\"91.892904\"/>\n     <use style=\"fill:#1f77b4;stroke:#1f77b4;\" x=\"175.064627\" xlink:href=\"#m61181fea64\" y=\"71.36717\"/>\n     <use style=\"fill:#1f77b4;stroke:#1f77b4;\" x=\"205.48263\" xlink:href=\"#m61181fea64\" y=\"89.718568\"/>\n     <use style=\"fill:#1f77b4;stroke:#1f77b4;\" x=\"190.50245\" xlink:href=\"#m61181fea64\" y=\"110.244301\"/>\n     <use style=\"fill:#1f77b4;stroke:#1f77b4;\" x=\"282.671746\" xlink:href=\"#m61181fea64\" y=\"89.718568\"/>\n     <use style=\"fill:#1f77b4;stroke:#1f77b4;\" x=\"91.071886\" xlink:href=\"#m61181fea64\" y=\"92.965576\"/>\n     <use style=\"fill:#1f77b4;stroke:#1f77b4;\" x=\"215.184661\" xlink:href=\"#m61181fea64\" y=\"89.718568\"/>\n     <use style=\"fill:#1f77b4;stroke:#1f77b4;\" x=\"292.434796\" xlink:href=\"#m61181fea64\" y=\"84.326214\"/>\n     <use style=\"fill:#1f77b4;stroke:#1f77b4;\" x=\"215.855871\" xlink:href=\"#m61181fea64\" y=\"83.253541\"/>\n     <use style=\"fill:#1f77b4;stroke:#1f77b4;\" x=\"215.154152\" xlink:href=\"#m61181fea64\" y=\"100.532266\"/>\n     <use style=\"fill:#1f77b4;stroke:#1f77b4;\" x=\"78.837564\" xlink:href=\"#m61181fea64\" y=\"80.006533\"/>\n    </g>\n   </g>\n   <g id=\"matplotlib.axis_1\">\n    <g id=\"xtick_1\">\n     <g id=\"line2d_1\">\n      <defs>\n       <path d=\"M 0 0 \nL 0 3.5 \n\" id=\"mbf69bd0eb0\" style=\"stroke:#000000;stroke-width:0.8;\"/>\n      </defs>\n      <g>\n       <use style=\"stroke:#000000;stroke-width:0.8;\" x=\"51.226437\" xlink:href=\"#mbf69bd0eb0\" y=\"228.14\"/>\n      </g>\n     </g>\n     <g id=\"text_1\">\n      <!-- 0 -->\n      <defs>\n       <path d=\"M 31.78125 66.40625 \nQ 24.171875 66.40625 20.328125 58.90625 \nQ 16.5 51.421875 16.5 36.375 \nQ 16.5 21.390625 20.328125 13.890625 \nQ 24.171875 6.390625 31.78125 6.390625 \nQ 39.453125 6.390625 43.28125 13.890625 \nQ 47.125 21.390625 47.125 36.375 \nQ 47.125 51.421875 43.28125 58.90625 \nQ 39.453125 66.40625 31.78125 66.40625 \nz\nM 31.78125 74.21875 \nQ 44.046875 74.21875 50.515625 64.515625 \nQ 56.984375 54.828125 56.984375 36.375 \nQ 56.984375 17.96875 50.515625 8.265625 \nQ 44.046875 -1.421875 31.78125 -1.421875 \nQ 19.53125 -1.421875 13.0625 8.265625 \nQ 6.59375 17.96875 6.59375 36.375 \nQ 6.59375 54.828125 13.0625 64.515625 \nQ 19.53125 74.21875 31.78125 74.21875 \nz\n\" id=\"DejaVuSans-30\"/>\n      </defs>\n      <g transform=\"translate(48.045187 242.738437)scale(0.1 -0.1)\">\n       <use xlink:href=\"#DejaVuSans-30\"/>\n      </g>\n     </g>\n    </g>\n    <g id=\"xtick_2\">\n     <g id=\"line2d_2\">\n      <g>\n       <use style=\"stroke:#000000;stroke-width:0.8;\" x=\"112.245501\" xlink:href=\"#mbf69bd0eb0\" y=\"228.14\"/>\n      </g>\n     </g>\n     <g id=\"text_2\">\n      <!-- 2000 -->\n      <defs>\n       <path d=\"M 19.1875 8.296875 \nL 53.609375 8.296875 \nL 53.609375 0 \nL 7.328125 0 \nL 7.328125 8.296875 \nQ 12.9375 14.109375 22.625 23.890625 \nQ 32.328125 33.6875 34.8125 36.53125 \nQ 39.546875 41.84375 41.421875 45.53125 \nQ 43.3125 49.21875 43.3125 52.78125 \nQ 43.3125 58.59375 39.234375 62.25 \nQ 35.15625 65.921875 28.609375 65.921875 \nQ 23.96875 65.921875 18.8125 64.3125 \nQ 13.671875 62.703125 7.8125 59.421875 \nL 7.8125 69.390625 \nQ 13.765625 71.78125 18.9375 73 \nQ 24.125 74.21875 28.421875 74.21875 \nQ 39.75 74.21875 46.484375 68.546875 \nQ 53.21875 62.890625 53.21875 53.421875 \nQ 53.21875 48.921875 51.53125 44.890625 \nQ 49.859375 40.875 45.40625 35.40625 \nQ 44.1875 33.984375 37.640625 27.21875 \nQ 31.109375 20.453125 19.1875 8.296875 \nz\n\" id=\"DejaVuSans-32\"/>\n      </defs>\n      <g transform=\"translate(99.520501 242.738437)scale(0.1 -0.1)\">\n       <use xlink:href=\"#DejaVuSans-32\"/>\n       <use x=\"63.623047\" xlink:href=\"#DejaVuSans-30\"/>\n       <use x=\"127.246094\" xlink:href=\"#DejaVuSans-30\"/>\n       <use x=\"190.869141\" xlink:href=\"#DejaVuSans-30\"/>\n      </g>\n     </g>\n    </g>\n    <g id=\"xtick_3\">\n     <g id=\"line2d_3\">\n      <g>\n       <use style=\"stroke:#000000;stroke-width:0.8;\" x=\"173.264565\" xlink:href=\"#mbf69bd0eb0\" y=\"228.14\"/>\n      </g>\n     </g>\n     <g id=\"text_3\">\n      <!-- 4000 -->\n      <defs>\n       <path d=\"M 37.796875 64.3125 \nL 12.890625 25.390625 \nL 37.796875 25.390625 \nz\nM 35.203125 72.90625 \nL 47.609375 72.90625 \nL 47.609375 25.390625 \nL 58.015625 25.390625 \nL 58.015625 17.1875 \nL 47.609375 17.1875 \nL 47.609375 0 \nL 37.796875 0 \nL 37.796875 17.1875 \nL 4.890625 17.1875 \nL 4.890625 26.703125 \nz\n\" id=\"DejaVuSans-34\"/>\n      </defs>\n      <g transform=\"translate(160.539565 242.738437)scale(0.1 -0.1)\">\n       <use xlink:href=\"#DejaVuSans-34\"/>\n       <use x=\"63.623047\" xlink:href=\"#DejaVuSans-30\"/>\n       <use x=\"127.246094\" xlink:href=\"#DejaVuSans-30\"/>\n       <use x=\"190.869141\" xlink:href=\"#DejaVuSans-30\"/>\n      </g>\n     </g>\n    </g>\n    <g id=\"xtick_4\">\n     <g id=\"line2d_4\">\n      <g>\n       <use style=\"stroke:#000000;stroke-width:0.8;\" x=\"234.283628\" xlink:href=\"#mbf69bd0eb0\" y=\"228.14\"/>\n      </g>\n     </g>\n     <g id=\"text_4\">\n      <!-- 6000 -->\n      <defs>\n       <path d=\"M 33.015625 40.375 \nQ 26.375 40.375 22.484375 35.828125 \nQ 18.609375 31.296875 18.609375 23.390625 \nQ 18.609375 15.53125 22.484375 10.953125 \nQ 26.375 6.390625 33.015625 6.390625 \nQ 39.65625 6.390625 43.53125 10.953125 \nQ 47.40625 15.53125 47.40625 23.390625 \nQ 47.40625 31.296875 43.53125 35.828125 \nQ 39.65625 40.375 33.015625 40.375 \nz\nM 52.59375 71.296875 \nL 52.59375 62.3125 \nQ 48.875 64.0625 45.09375 64.984375 \nQ 41.3125 65.921875 37.59375 65.921875 \nQ 27.828125 65.921875 22.671875 59.328125 \nQ 17.53125 52.734375 16.796875 39.40625 \nQ 19.671875 43.65625 24.015625 45.921875 \nQ 28.375 48.1875 33.59375 48.1875 \nQ 44.578125 48.1875 50.953125 41.515625 \nQ 57.328125 34.859375 57.328125 23.390625 \nQ 57.328125 12.15625 50.6875 5.359375 \nQ 44.046875 -1.421875 33.015625 -1.421875 \nQ 20.359375 -1.421875 13.671875 8.265625 \nQ 6.984375 17.96875 6.984375 36.375 \nQ 6.984375 53.65625 15.1875 63.9375 \nQ 23.390625 74.21875 37.203125 74.21875 \nQ 40.921875 74.21875 44.703125 73.484375 \nQ 48.484375 72.75 52.59375 71.296875 \nz\n\" id=\"DejaVuSans-36\"/>\n      </defs>\n      <g transform=\"translate(221.558628 242.738437)scale(0.1 -0.1)\">\n       <use xlink:href=\"#DejaVuSans-36\"/>\n       <use x=\"63.623047\" xlink:href=\"#DejaVuSans-30\"/>\n       <use x=\"127.246094\" xlink:href=\"#DejaVuSans-30\"/>\n       <use x=\"190.869141\" xlink:href=\"#DejaVuSans-30\"/>\n      </g>\n     </g>\n    </g>\n    <g id=\"xtick_5\">\n     <g id=\"line2d_5\">\n      <g>\n       <use style=\"stroke:#000000;stroke-width:0.8;\" x=\"295.302692\" xlink:href=\"#mbf69bd0eb0\" y=\"228.14\"/>\n      </g>\n     </g>\n     <g id=\"text_5\">\n      <!-- 8000 -->\n      <defs>\n       <path d=\"M 31.78125 34.625 \nQ 24.75 34.625 20.71875 30.859375 \nQ 16.703125 27.09375 16.703125 20.515625 \nQ 16.703125 13.921875 20.71875 10.15625 \nQ 24.75 6.390625 31.78125 6.390625 \nQ 38.8125 6.390625 42.859375 10.171875 \nQ 46.921875 13.96875 46.921875 20.515625 \nQ 46.921875 27.09375 42.890625 30.859375 \nQ 38.875 34.625 31.78125 34.625 \nz\nM 21.921875 38.8125 \nQ 15.578125 40.375 12.03125 44.71875 \nQ 8.5 49.078125 8.5 55.328125 \nQ 8.5 64.0625 14.71875 69.140625 \nQ 20.953125 74.21875 31.78125 74.21875 \nQ 42.671875 74.21875 48.875 69.140625 \nQ 55.078125 64.0625 55.078125 55.328125 \nQ 55.078125 49.078125 51.53125 44.71875 \nQ 48 40.375 41.703125 38.8125 \nQ 48.828125 37.15625 52.796875 32.3125 \nQ 56.78125 27.484375 56.78125 20.515625 \nQ 56.78125 9.90625 50.3125 4.234375 \nQ 43.84375 -1.421875 31.78125 -1.421875 \nQ 19.734375 -1.421875 13.25 4.234375 \nQ 6.78125 9.90625 6.78125 20.515625 \nQ 6.78125 27.484375 10.78125 32.3125 \nQ 14.796875 37.15625 21.921875 38.8125 \nz\nM 18.3125 54.390625 \nQ 18.3125 48.734375 21.84375 45.5625 \nQ 25.390625 42.390625 31.78125 42.390625 \nQ 38.140625 42.390625 41.71875 45.5625 \nQ 45.3125 48.734375 45.3125 54.390625 \nQ 45.3125 60.0625 41.71875 63.234375 \nQ 38.140625 66.40625 31.78125 66.40625 \nQ 25.390625 66.40625 21.84375 63.234375 \nQ 18.3125 60.0625 18.3125 54.390625 \nz\n\" id=\"DejaVuSans-38\"/>\n      </defs>\n      <g transform=\"translate(282.577692 242.738437)scale(0.1 -0.1)\">\n       <use xlink:href=\"#DejaVuSans-38\"/>\n       <use x=\"63.623047\" xlink:href=\"#DejaVuSans-30\"/>\n       <use x=\"127.246094\" xlink:href=\"#DejaVuSans-30\"/>\n       <use x=\"190.869141\" xlink:href=\"#DejaVuSans-30\"/>\n      </g>\n     </g>\n    </g>\n    <g id=\"xtick_6\">\n     <g id=\"line2d_6\">\n      <g>\n       <use style=\"stroke:#000000;stroke-width:0.8;\" x=\"356.321756\" xlink:href=\"#mbf69bd0eb0\" y=\"228.14\"/>\n      </g>\n     </g>\n     <g id=\"text_6\">\n      <!-- 10000 -->\n      <defs>\n       <path d=\"M 12.40625 8.296875 \nL 28.515625 8.296875 \nL 28.515625 63.921875 \nL 10.984375 60.40625 \nL 10.984375 69.390625 \nL 28.421875 72.90625 \nL 38.28125 72.90625 \nL 38.28125 8.296875 \nL 54.390625 8.296875 \nL 54.390625 0 \nL 12.40625 0 \nz\n\" id=\"DejaVuSans-31\"/>\n      </defs>\n      <g transform=\"translate(340.415506 242.738437)scale(0.1 -0.1)\">\n       <use xlink:href=\"#DejaVuSans-31\"/>\n       <use x=\"63.623047\" xlink:href=\"#DejaVuSans-30\"/>\n       <use x=\"127.246094\" xlink:href=\"#DejaVuSans-30\"/>\n       <use x=\"190.869141\" xlink:href=\"#DejaVuSans-30\"/>\n       <use x=\"254.492188\" xlink:href=\"#DejaVuSans-30\"/>\n      </g>\n     </g>\n    </g>\n   </g>\n   <g id=\"matplotlib.axis_2\">\n    <g id=\"ytick_1\">\n     <g id=\"line2d_7\">\n      <defs>\n       <path d=\"M 0 0 \nL -3.5 0 \n\" id=\"m4c2e4c8408\" style=\"stroke:#000000;stroke-width:0.8;\"/>\n      </defs>\n      <g>\n       <use style=\"stroke:#000000;stroke-width:0.8;\" x=\"36.465625\" xlink:href=\"#m4c2e4c8408\" y=\"205.741147\"/>\n      </g>\n     </g>\n     <g id=\"text_7\">\n      <!-- 0.83 -->\n      <defs>\n       <path d=\"M 10.6875 12.40625 \nL 21 12.40625 \nL 21 0 \nL 10.6875 0 \nz\n\" id=\"DejaVuSans-2e\"/>\n       <path d=\"M 40.578125 39.3125 \nQ 47.65625 37.796875 51.625 33 \nQ 55.609375 28.21875 55.609375 21.1875 \nQ 55.609375 10.40625 48.1875 4.484375 \nQ 40.765625 -1.421875 27.09375 -1.421875 \nQ 22.515625 -1.421875 17.65625 -0.515625 \nQ 12.796875 0.390625 7.625 2.203125 \nL 7.625 11.71875 \nQ 11.71875 9.328125 16.59375 8.109375 \nQ 21.484375 6.890625 26.8125 6.890625 \nQ 36.078125 6.890625 40.9375 10.546875 \nQ 45.796875 14.203125 45.796875 21.1875 \nQ 45.796875 27.640625 41.28125 31.265625 \nQ 36.765625 34.90625 28.71875 34.90625 \nL 20.21875 34.90625 \nL 20.21875 43.015625 \nL 29.109375 43.015625 \nQ 36.375 43.015625 40.234375 45.921875 \nQ 44.09375 48.828125 44.09375 54.296875 \nQ 44.09375 59.90625 40.109375 62.90625 \nQ 36.140625 65.921875 28.71875 65.921875 \nQ 24.65625 65.921875 20.015625 65.03125 \nQ 15.375 64.15625 9.8125 62.3125 \nL 9.8125 71.09375 \nQ 15.4375 72.65625 20.34375 73.4375 \nQ 25.25 74.21875 29.59375 74.21875 \nQ 40.828125 74.21875 47.359375 69.109375 \nQ 53.90625 64.015625 53.90625 55.328125 \nQ 53.90625 49.265625 50.4375 45.09375 \nQ 46.96875 40.921875 40.578125 39.3125 \nz\n\" id=\"DejaVuSans-33\"/>\n      </defs>\n      <g transform=\"translate(7.2 209.540366)scale(0.1 -0.1)\">\n       <use xlink:href=\"#DejaVuSans-30\"/>\n       <use x=\"63.623047\" xlink:href=\"#DejaVuSans-2e\"/>\n       <use x=\"95.410156\" xlink:href=\"#DejaVuSans-38\"/>\n       <use x=\"159.033203\" xlink:href=\"#DejaVuSans-33\"/>\n      </g>\n     </g>\n    </g>\n    <g id=\"ytick_2\">\n     <g id=\"line2d_8\">\n      <g>\n       <use style=\"stroke:#000000;stroke-width:0.8;\" x=\"36.465625\" xlink:href=\"#m4c2e4c8408\" y=\"176.749998\"/>\n      </g>\n     </g>\n     <g id=\"text_8\">\n      <!-- 0.84 -->\n      <g transform=\"translate(7.2 180.549216)scale(0.1 -0.1)\">\n       <use xlink:href=\"#DejaVuSans-30\"/>\n       <use x=\"63.623047\" xlink:href=\"#DejaVuSans-2e\"/>\n       <use x=\"95.410156\" xlink:href=\"#DejaVuSans-38\"/>\n       <use x=\"159.033203\" xlink:href=\"#DejaVuSans-34\"/>\n      </g>\n     </g>\n    </g>\n    <g id=\"ytick_3\">\n     <g id=\"line2d_9\">\n      <g>\n       <use style=\"stroke:#000000;stroke-width:0.8;\" x=\"36.465625\" xlink:href=\"#m4c2e4c8408\" y=\"147.758848\"/>\n      </g>\n     </g>\n     <g id=\"text_9\">\n      <!-- 0.85 -->\n      <defs>\n       <path d=\"M 10.796875 72.90625 \nL 49.515625 72.90625 \nL 49.515625 64.59375 \nL 19.828125 64.59375 \nL 19.828125 46.734375 \nQ 21.96875 47.46875 24.109375 47.828125 \nQ 26.265625 48.1875 28.421875 48.1875 \nQ 40.625 48.1875 47.75 41.5 \nQ 54.890625 34.8125 54.890625 23.390625 \nQ 54.890625 11.625 47.5625 5.09375 \nQ 40.234375 -1.421875 26.90625 -1.421875 \nQ 22.3125 -1.421875 17.546875 -0.640625 \nQ 12.796875 0.140625 7.71875 1.703125 \nL 7.71875 11.625 \nQ 12.109375 9.234375 16.796875 8.0625 \nQ 21.484375 6.890625 26.703125 6.890625 \nQ 35.15625 6.890625 40.078125 11.328125 \nQ 45.015625 15.765625 45.015625 23.390625 \nQ 45.015625 31 40.078125 35.4375 \nQ 35.15625 39.890625 26.703125 39.890625 \nQ 22.75 39.890625 18.8125 39.015625 \nQ 14.890625 38.140625 10.796875 36.28125 \nz\n\" id=\"DejaVuSans-35\"/>\n      </defs>\n      <g transform=\"translate(7.2 151.558067)scale(0.1 -0.1)\">\n       <use xlink:href=\"#DejaVuSans-30\"/>\n       <use x=\"63.623047\" xlink:href=\"#DejaVuSans-2e\"/>\n       <use x=\"95.410156\" xlink:href=\"#DejaVuSans-38\"/>\n       <use x=\"159.033203\" xlink:href=\"#DejaVuSans-35\"/>\n      </g>\n     </g>\n    </g>\n    <g id=\"ytick_4\">\n     <g id=\"line2d_10\">\n      <g>\n       <use style=\"stroke:#000000;stroke-width:0.8;\" x=\"36.465625\" xlink:href=\"#m4c2e4c8408\" y=\"118.767699\"/>\n      </g>\n     </g>\n     <g id=\"text_10\">\n      <!-- 0.86 -->\n      <g transform=\"translate(7.2 122.566918)scale(0.1 -0.1)\">\n       <use xlink:href=\"#DejaVuSans-30\"/>\n       <use x=\"63.623047\" xlink:href=\"#DejaVuSans-2e\"/>\n       <use x=\"95.410156\" xlink:href=\"#DejaVuSans-38\"/>\n       <use x=\"159.033203\" xlink:href=\"#DejaVuSans-36\"/>\n      </g>\n     </g>\n    </g>\n    <g id=\"ytick_5\">\n     <g id=\"line2d_11\">\n      <g>\n       <use style=\"stroke:#000000;stroke-width:0.8;\" x=\"36.465625\" xlink:href=\"#m4c2e4c8408\" y=\"89.77655\"/>\n      </g>\n     </g>\n     <g id=\"text_11\">\n      <!-- 0.87 -->\n      <defs>\n       <path d=\"M 8.203125 72.90625 \nL 55.078125 72.90625 \nL 55.078125 68.703125 \nL 28.609375 0 \nL 18.3125 0 \nL 43.21875 64.59375 \nL 8.203125 64.59375 \nz\n\" id=\"DejaVuSans-37\"/>\n      </defs>\n      <g transform=\"translate(7.2 93.575769)scale(0.1 -0.1)\">\n       <use xlink:href=\"#DejaVuSans-30\"/>\n       <use x=\"63.623047\" xlink:href=\"#DejaVuSans-2e\"/>\n       <use x=\"95.410156\" xlink:href=\"#DejaVuSans-38\"/>\n       <use x=\"159.033203\" xlink:href=\"#DejaVuSans-37\"/>\n      </g>\n     </g>\n    </g>\n    <g id=\"ytick_6\">\n     <g id=\"line2d_12\">\n      <g>\n       <use style=\"stroke:#000000;stroke-width:0.8;\" x=\"36.465625\" xlink:href=\"#m4c2e4c8408\" y=\"60.785401\"/>\n      </g>\n     </g>\n     <g id=\"text_12\">\n      <!-- 0.88 -->\n      <g transform=\"translate(7.2 64.584619)scale(0.1 -0.1)\">\n       <use xlink:href=\"#DejaVuSans-30\"/>\n       <use x=\"63.623047\" xlink:href=\"#DejaVuSans-2e\"/>\n       <use x=\"95.410156\" xlink:href=\"#DejaVuSans-38\"/>\n       <use x=\"159.033203\" xlink:href=\"#DejaVuSans-38\"/>\n      </g>\n     </g>\n    </g>\n    <g id=\"ytick_7\">\n     <g id=\"line2d_13\">\n      <g>\n       <use style=\"stroke:#000000;stroke-width:0.8;\" x=\"36.465625\" xlink:href=\"#m4c2e4c8408\" y=\"31.794251\"/>\n      </g>\n     </g>\n     <g id=\"text_13\">\n      <!-- 0.89 -->\n      <defs>\n       <path d=\"M 10.984375 1.515625 \nL 10.984375 10.5 \nQ 14.703125 8.734375 18.5 7.8125 \nQ 22.3125 6.890625 25.984375 6.890625 \nQ 35.75 6.890625 40.890625 13.453125 \nQ 46.046875 20.015625 46.78125 33.40625 \nQ 43.953125 29.203125 39.59375 26.953125 \nQ 35.25 24.703125 29.984375 24.703125 \nQ 19.046875 24.703125 12.671875 31.3125 \nQ 6.296875 37.9375 6.296875 49.421875 \nQ 6.296875 60.640625 12.9375 67.421875 \nQ 19.578125 74.21875 30.609375 74.21875 \nQ 43.265625 74.21875 49.921875 64.515625 \nQ 56.59375 54.828125 56.59375 36.375 \nQ 56.59375 19.140625 48.40625 8.859375 \nQ 40.234375 -1.421875 26.421875 -1.421875 \nQ 22.703125 -1.421875 18.890625 -0.6875 \nQ 15.09375 0.046875 10.984375 1.515625 \nz\nM 30.609375 32.421875 \nQ 37.25 32.421875 41.125 36.953125 \nQ 45.015625 41.5 45.015625 49.421875 \nQ 45.015625 57.28125 41.125 61.84375 \nQ 37.25 66.40625 30.609375 66.40625 \nQ 23.96875 66.40625 20.09375 61.84375 \nQ 16.21875 57.28125 16.21875 49.421875 \nQ 16.21875 41.5 20.09375 36.953125 \nQ 23.96875 32.421875 30.609375 32.421875 \nz\n\" id=\"DejaVuSans-39\"/>\n      </defs>\n      <g transform=\"translate(7.2 35.59347)scale(0.1 -0.1)\">\n       <use xlink:href=\"#DejaVuSans-30\"/>\n       <use x=\"63.623047\" xlink:href=\"#DejaVuSans-2e\"/>\n       <use x=\"95.410156\" xlink:href=\"#DejaVuSans-38\"/>\n       <use x=\"159.033203\" xlink:href=\"#DejaVuSans-39\"/>\n      </g>\n     </g>\n    </g>\n   </g>\n   <g id=\"patch_3\">\n    <path d=\"M 36.465625 228.14 \nL 36.465625 10.7 \n\" style=\"fill:none;stroke:#000000;stroke-linecap:square;stroke-linejoin:miter;stroke-width:0.8;\"/>\n   </g>\n   <g id=\"patch_4\">\n    <path d=\"M 371.265625 228.14 \nL 371.265625 10.7 \n\" style=\"fill:none;stroke:#000000;stroke-linecap:square;stroke-linejoin:miter;stroke-width:0.8;\"/>\n   </g>\n   <g id=\"patch_5\">\n    <path d=\"M 36.465625 228.14 \nL 371.265625 228.14 \n\" style=\"fill:none;stroke:#000000;stroke-linecap:square;stroke-linejoin:miter;stroke-width:0.8;\"/>\n   </g>\n   <g id=\"patch_6\">\n    <path d=\"M 36.465625 10.7 \nL 371.265625 10.7 \n\" style=\"fill:none;stroke:#000000;stroke-linecap:square;stroke-linejoin:miter;stroke-width:0.8;\"/>\n   </g>\n  </g>\n </g>\n <defs>\n  <clipPath id=\"p14ed200d33\">\n   <rect height=\"217.44\" width=\"334.8\" x=\"36.465625\" y=\"10.7\"/>\n  </clipPath>\n </defs>\n</svg>\n",
      "image/png": "[encoded data removed]"
     },
     "metadata": {
      "needs_background": "light"
     }
    }
   ],
   "source": [
    "x = [seed[0] for seed in seeds]\n",
    "y = [seed[1] for seed in seeds]\n",
    "\n",
    "plt.scatter(x,y)"
   ]
  },
  {
   "cell_type": "code",
   "execution_count": 2,
   "metadata": {},
   "outputs": [],
   "source": [
    "folder = '/media/data_1/darius/models/finetuned'\n",
    "numFolds= 1000\n",
    "\n",
    "sheets = ['overall', 'gender' ,'language', 'insurance', 'ethnicity']\n",
    "model = 'baseline'\n",
    "target = 'inhosp_mort'\n"
   ]
  },
  {
   "cell_type": "code",
   "execution_count": 3,
   "metadata": {
    "tags": [
     "outputPrepend"
    ]
   },
   "outputs": [
    {
     "output_type": "display_data",
     "data": {
      "text/plain": "|          | 0/? [00:00<?, ?it/s]",
      "application/vnd.jupyter.widget-view+json": {
       "version_major": 2,
       "version_minor": 0,
       "model_id": "55b7071cf2c64b5baea6a34ca5159bec"
      }
     },
     "metadata": {}
    },
    {
     "output_type": "stream",
     "name": "stdout",
     "text": [
      "dels/finetuned/inhosp_mort_baseline_clinical_BERT_1_epoch_512_inhosp_mort_seed1888/results.xlsx\n",
      "Current finetuned model is inhosp_mort_baseline_clinical_BERT_1_epoch_512_inhosp_mort_seed8093 with seed 8093...\n",
      "/media/data_1/darius/models/finetuned/inhosp_mort_baseline_clinical_BERT_1_epoch_512_inhosp_mort_seed8093/results.xlsx\n",
      "Current finetuned model is inhosp_mort_baseline_clinical_BERT_1_epoch_512_inhosp_mort_seed6542 with seed 6542...\n",
      "/media/data_1/darius/models/finetuned/inhosp_mort_baseline_clinical_BERT_1_epoch_512_inhosp_mort_seed6542/results.xlsx\n",
      "Current finetuned model is inhosp_mort_baseline_clinical_BERT_1_epoch_512_inhosp_mort_seed562 with seed 562...\n",
      "/media/data_1/darius/models/finetuned/inhosp_mort_baseline_clinical_BERT_1_epoch_512_inhosp_mort_seed562/results.xlsx\n",
      "Current finetuned model is inhosp_mort_baseline_clinical_BERT_1_epoch_512_inhosp_mort_seed6771 with seed 6771...\n",
      "/media/data_1/darius/models/finetuned/inhosp_mort_baseline_clinical_BERT_1_epoch_512_inhosp_mort_seed6771/results.xlsx\n",
      "Current finetuned model is inhosp_mort_baseline_clinical_BERT_1_epoch_512_inhosp_mort_seed3885 with seed 3885...\n",
      "/media/data_1/darius/models/finetuned/inhosp_mort_baseline_clinical_BERT_1_epoch_512_inhosp_mort_seed3885/results.xlsx\n",
      "Current finetuned model is inhosp_mort_baseline_clinical_BERT_1_epoch_512_inhosp_mort_seed7108 with seed 7108...\n",
      "/media/data_1/darius/models/finetuned/inhosp_mort_baseline_clinical_BERT_1_epoch_512_inhosp_mort_seed7108/results.xlsx\n",
      "Current finetuned model is inhosp_mort_baseline_clinical_BERT_1_epoch_512_inhosp_mort_seed9394 with seed 9394...\n",
      "/media/data_1/darius/models/finetuned/inhosp_mort_baseline_clinical_BERT_1_epoch_512_inhosp_mort_seed9394/results.xlsx\n",
      "Current finetuned model is inhosp_mort_baseline_clinical_BERT_1_epoch_512_inhosp_mort_seed8689 with seed 8689...\n",
      "/media/data_1/darius/models/finetuned/inhosp_mort_baseline_clinical_BERT_1_epoch_512_inhosp_mort_seed8689/results.xlsx\n",
      "Current finetuned model is inhosp_mort_baseline_clinical_BERT_1_epoch_512_inhosp_mort_seed4409 with seed 4409...\n",
      "/media/data_1/darius/models/finetuned/inhosp_mort_baseline_clinical_BERT_1_epoch_512_inhosp_mort_seed4409/results.xlsx\n",
      "Current finetuned model is inhosp_mort_baseline_clinical_BERT_1_epoch_512_inhosp_mort_seed2877 with seed 2877...\n",
      "/media/data_1/darius/models/finetuned/inhosp_mort_baseline_clinical_BERT_1_epoch_512_inhosp_mort_seed2877/results.xlsx\n",
      "Current finetuned model is inhosp_mort_baseline_clinical_BERT_1_epoch_512_inhosp_mort_seed715 with seed 715...\n",
      "/media/data_1/darius/models/finetuned/inhosp_mort_baseline_clinical_BERT_1_epoch_512_inhosp_mort_seed715/results.xlsx\n",
      "Current finetuned model is inhosp_mort_baseline_clinical_BERT_1_epoch_512_inhosp_mort_seed3428 with seed 3428...\n",
      "/media/data_1/darius/models/finetuned/inhosp_mort_baseline_clinical_BERT_1_epoch_512_inhosp_mort_seed3428/results.xlsx\n",
      "Current finetuned model is inhosp_mort_baseline_clinical_BERT_1_epoch_512_inhosp_mort_seed9287 with seed 9287...\n",
      "/media/data_1/darius/models/finetuned/inhosp_mort_baseline_clinical_BERT_1_epoch_512_inhosp_mort_seed9287/results.xlsx\n",
      "Current finetuned model is inhosp_mort_baseline_clinical_BERT_1_epoch_512_inhosp_mort_seed1798 with seed 1798...\n",
      "/media/data_1/darius/models/finetuned/inhosp_mort_baseline_clinical_BERT_1_epoch_512_inhosp_mort_seed1798/results.xlsx\n",
      "Current finetuned model is inhosp_mort_baseline_clinical_BERT_1_epoch_512_inhosp_mort_seed9529 with seed 9529...\n",
      "/media/data_1/darius/models/finetuned/inhosp_mort_baseline_clinical_BERT_1_epoch_512_inhosp_mort_seed9529/results.xlsx\n",
      "Current finetuned model is inhosp_mort_baseline_clinical_BERT_1_epoch_512_inhosp_mort_seed2962 with seed 2962...\n",
      "/media/data_1/darius/models/finetuned/inhosp_mort_baseline_clinical_BERT_1_epoch_512_inhosp_mort_seed2962/results.xlsx\n",
      "Current finetuned model is inhosp_mort_baseline_clinical_BERT_1_epoch_512_inhosp_mort_seed542 with seed 542...\n",
      "/media/data_1/darius/models/finetuned/inhosp_mort_baseline_clinical_BERT_1_epoch_512_inhosp_mort_seed542/results.xlsx\n",
      "Current finetuned model is inhosp_mort_baseline_clinical_BERT_1_epoch_512_inhosp_mort_seed9552 with seed 9552...\n",
      "/media/data_1/darius/models/finetuned/inhosp_mort_baseline_clinical_BERT_1_epoch_512_inhosp_mort_seed9552/results.xlsx\n",
      "Current finetuned model is inhosp_mort_baseline_clinical_BERT_1_epoch_512_inhosp_mort_seed7751 with seed 7751...\n",
      "/media/data_1/darius/models/finetuned/inhosp_mort_baseline_clinical_BERT_1_epoch_512_inhosp_mort_seed7751/results.xlsx\n",
      "Current finetuned model is inhosp_mort_baseline_clinical_BERT_1_epoch_512_inhosp_mort_seed3606 with seed 3606...\n",
      "/media/data_1/darius/models/finetuned/inhosp_mort_baseline_clinical_BERT_1_epoch_512_inhosp_mort_seed3606/results.xlsx\n",
      "Current finetuned model is inhosp_mort_baseline_clinical_BERT_1_epoch_512_inhosp_mort_seed1214 with seed 1214...\n",
      "/media/data_1/darius/models/finetuned/inhosp_mort_baseline_clinical_BERT_1_epoch_512_inhosp_mort_seed1214/results.xlsx\n",
      "Current finetuned model is inhosp_mort_baseline_clinical_BERT_1_epoch_512_inhosp_mort_seed96 with seed 96...\n",
      "/media/data_1/darius/models/finetuned/inhosp_mort_baseline_clinical_BERT_1_epoch_512_inhosp_mort_seed96/results.xlsx\n",
      "Current finetuned model is inhosp_mort_baseline_clinical_BERT_1_epoch_512_inhosp_mort_seed5848 with seed 5848...\n",
      "/media/data_1/darius/models/finetuned/inhosp_mort_baseline_clinical_BERT_1_epoch_512_inhosp_mort_seed5848/results.xlsx\n",
      "Current finetuned model is inhosp_mort_baseline_clinical_BERT_1_epoch_512_inhosp_mort_seed7676 with seed 7676...\n",
      "/media/data_1/darius/models/finetuned/inhosp_mort_baseline_clinical_BERT_1_epoch_512_inhosp_mort_seed7676/results.xlsx\n",
      "Current finetuned model is inhosp_mort_baseline_clinical_BERT_1_epoch_512_inhosp_mort_seed1110 with seed 1110...\n",
      "/media/data_1/darius/models/finetuned/inhosp_mort_baseline_clinical_BERT_1_epoch_512_inhosp_mort_seed1110/results.xlsx\n",
      "Current finetuned model is inhosp_mort_baseline_clinical_BERT_1_epoch_512_inhosp_mort_seed2516 with seed 2516...\n",
      "/media/data_1/darius/models/finetuned/inhosp_mort_baseline_clinical_BERT_1_epoch_512_inhosp_mort_seed2516/results.xlsx\n",
      "Current finetuned model is inhosp_mort_baseline_clinical_BERT_1_epoch_512_inhosp_mort_seed431 with seed 431...\n",
      "/media/data_1/darius/models/finetuned/inhosp_mort_baseline_clinical_BERT_1_epoch_512_inhosp_mort_seed431/results.xlsx\n",
      "Current finetuned model is inhosp_mort_baseline_clinical_BERT_1_epoch_512_inhosp_mort_seed1046 with seed 1046...\n",
      "/media/data_1/darius/models/finetuned/inhosp_mort_baseline_clinical_BERT_1_epoch_512_inhosp_mort_seed1046/results.xlsx\n",
      "Current finetuned model is inhosp_mort_baseline_clinical_BERT_1_epoch_512_inhosp_mort_seed3047 with seed 3047...\n",
      "/media/data_1/darius/models/finetuned/inhosp_mort_baseline_clinical_BERT_1_epoch_512_inhosp_mort_seed3047/results.xlsx\n",
      "Current finetuned model is inhosp_mort_baseline_clinical_BERT_1_epoch_512_inhosp_mort_seed5271 with seed 5271...\n",
      "/media/data_1/darius/models/finetuned/inhosp_mort_baseline_clinical_BERT_1_epoch_512_inhosp_mort_seed5271/results.xlsx\n",
      "Current finetuned model is inhosp_mort_baseline_clinical_BERT_1_epoch_512_inhosp_mort_seed8444 with seed 8444...\n",
      "/media/data_1/darius/models/finetuned/inhosp_mort_baseline_clinical_BERT_1_epoch_512_inhosp_mort_seed8444/results.xlsx\n",
      "Current finetuned model is inhosp_mort_baseline_clinical_BERT_1_epoch_512_inhosp_mort_seed2244 with seed 2244...\n",
      "/media/data_1/darius/models/finetuned/inhosp_mort_baseline_clinical_BERT_1_epoch_512_inhosp_mort_seed2244/results.xlsx\n",
      "Current finetuned model is inhosp_mort_baseline_clinical_BERT_1_epoch_512_inhosp_mort_seed3562 with seed 3562...\n",
      "/media/data_1/darius/models/finetuned/inhosp_mort_baseline_clinical_BERT_1_epoch_512_inhosp_mort_seed3562/results.xlsx\n",
      "Current finetuned model is inhosp_mort_baseline_clinical_BERT_1_epoch_512_inhosp_mort_seed9832 with seed 9832...\n",
      "/media/data_1/darius/models/finetuned/inhosp_mort_baseline_clinical_BERT_1_epoch_512_inhosp_mort_seed9832/results.xlsx\n",
      "Current finetuned model is inhosp_mort_baseline_clinical_BERT_1_epoch_512_inhosp_mort_seed4039 with seed 4039...\n",
      "/media/data_1/darius/models/finetuned/inhosp_mort_baseline_clinical_BERT_1_epoch_512_inhosp_mort_seed4039/results.xlsx\n",
      "Current finetuned model is inhosp_mort_baseline_clinical_BERT_1_epoch_512_inhosp_mort_seed648 with seed 648...\n",
      "/media/data_1/darius/models/finetuned/inhosp_mort_baseline_clinical_BERT_1_epoch_512_inhosp_mort_seed648/results.xlsx\n",
      "Current finetuned model is inhosp_mort_baseline_clinical_BERT_1_epoch_512_inhosp_mort_seed9764 with seed 9764...\n",
      "/media/data_1/darius/models/finetuned/inhosp_mort_baseline_clinical_BERT_1_epoch_512_inhosp_mort_seed9764/results.xlsx\n",
      "Current finetuned model is inhosp_mort_baseline_clinical_BERT_1_epoch_512_inhosp_mort_seed753 with seed 753...\n",
      "/media/data_1/darius/models/finetuned/inhosp_mort_baseline_clinical_BERT_1_epoch_512_inhosp_mort_seed753/results.xlsx\n",
      "Current finetuned model is inhosp_mort_baseline_clinical_BERT_1_epoch_512_inhosp_mort_seed4415 with seed 4415...\n",
      "/media/data_1/darius/models/finetuned/inhosp_mort_baseline_clinical_BERT_1_epoch_512_inhosp_mort_seed4415/results.xlsx\n",
      "Current finetuned model is inhosp_mort_baseline_clinical_BERT_1_epoch_512_inhosp_mort_seed5192 with seed 5192...\n",
      "/media/data_1/darius/models/finetuned/inhosp_mort_baseline_clinical_BERT_1_epoch_512_inhosp_mort_seed5192/results.xlsx\n",
      "Current finetuned model is inhosp_mort_baseline_clinical_BERT_1_epoch_512_inhosp_mort_seed2944 with seed 2944...\n",
      "/media/data_1/darius/models/finetuned/inhosp_mort_baseline_clinical_BERT_1_epoch_512_inhosp_mort_seed2944/results.xlsx\n",
      "Current finetuned model is inhosp_mort_baseline_clinical_BERT_1_epoch_512_inhosp_mort_seed461 with seed 461...\n",
      "/media/data_1/darius/models/finetuned/inhosp_mort_baseline_clinical_BERT_1_epoch_512_inhosp_mort_seed461/results.xlsx\n",
      "Current finetuned model is inhosp_mort_baseline_clinical_BERT_1_epoch_512_inhosp_mort_seed4764 with seed 4764...\n",
      "/media/data_1/darius/models/finetuned/inhosp_mort_baseline_clinical_BERT_1_epoch_512_inhosp_mort_seed4764/results.xlsx\n",
      "Current finetuned model is inhosp_mort_baseline_clinical_BERT_1_epoch_512_inhosp_mort_seed4791 with seed 4791...\n",
      "/media/data_1/darius/models/finetuned/inhosp_mort_baseline_clinical_BERT_1_epoch_512_inhosp_mort_seed4791/results.xlsx\n",
      "Current finetuned model is inhosp_mort_baseline_clinical_BERT_1_epoch_512_inhosp_mort_seed235 with seed 235...\n",
      "/media/data_1/darius/models/finetuned/inhosp_mort_baseline_clinical_BERT_1_epoch_512_inhosp_mort_seed235/results.xlsx\n",
      "Current finetuned model is inhosp_mort_baseline_clinical_BERT_1_epoch_512_inhosp_mort_seed1337 with seed 1337...\n",
      "/media/data_1/darius/models/finetuned/inhosp_mort_baseline_clinical_BERT_1_epoch_512_inhosp_mort_seed1337/results.xlsx\n",
      "Current finetuned model is inhosp_mort_baseline_clinical_BERT_1_epoch_512_inhosp_mort_seed1372 with seed 1372...\n",
      "/media/data_1/darius/models/finetuned/inhosp_mort_baseline_clinical_BERT_1_epoch_512_inhosp_mort_seed1372/results.xlsx\n",
      "Current finetuned model is inhosp_mort_baseline_clinical_BERT_1_epoch_512_inhosp_mort_seed4225 with seed 4225...\n",
      "/media/data_1/darius/models/finetuned/inhosp_mort_baseline_clinical_BERT_1_epoch_512_inhosp_mort_seed4225/results.xlsx\n",
      "Current finetuned model is inhosp_mort_baseline_clinical_BERT_1_epoch_512_inhosp_mort_seed8151 with seed 8151...\n",
      "/media/data_1/darius/models/finetuned/inhosp_mort_baseline_clinical_BERT_1_epoch_512_inhosp_mort_seed8151/results.xlsx\n",
      "Current finetuned model is inhosp_mort_baseline_clinical_BERT_1_epoch_512_inhosp_mort_seed7710 with seed 7710...\n",
      "/media/data_1/darius/models/finetuned/inhosp_mort_baseline_clinical_BERT_1_epoch_512_inhosp_mort_seed7710/results.xlsx\n",
      "Current finetuned model is inhosp_mort_baseline_clinical_BERT_1_epoch_512_inhosp_mort_seed9719 with seed 9719...\n",
      "/media/data_1/darius/models/finetuned/inhosp_mort_baseline_clinical_BERT_1_epoch_512_inhosp_mort_seed9719/results.xlsx\n",
      "Current finetuned model is inhosp_mort_baseline_clinical_BERT_1_epoch_512_inhosp_mort_seed3462 with seed 3462...\n",
      "/media/data_1/darius/models/finetuned/inhosp_mort_baseline_clinical_BERT_1_epoch_512_inhosp_mort_seed3462/results.xlsx\n",
      "Current finetuned model is inhosp_mort_baseline_clinical_BERT_1_epoch_512_inhosp_mort_seed7813 with seed 7813...\n",
      "/media/data_1/darius/models/finetuned/inhosp_mort_baseline_clinical_BERT_1_epoch_512_inhosp_mort_seed7813/results.xlsx\n",
      "Current finetuned model is inhosp_mort_baseline_clinical_BERT_1_epoch_512_inhosp_mort_seed9504 with seed 9504...\n",
      "/media/data_1/darius/models/finetuned/inhosp_mort_baseline_clinical_BERT_1_epoch_512_inhosp_mort_seed9504/results.xlsx\n",
      "Current finetuned model is inhosp_mort_baseline_clinical_BERT_1_epoch_512_inhosp_mort_seed7255 with seed 7255...\n",
      "/media/data_1/darius/models/finetuned/inhosp_mort_baseline_clinical_BERT_1_epoch_512_inhosp_mort_seed7255/results.xlsx\n",
      "Current finetuned model is inhosp_mort_baseline_clinical_BERT_1_epoch_512_inhosp_mort_seed1031 with seed 1031...\n",
      "/media/data_1/darius/models/finetuned/inhosp_mort_baseline_clinical_BERT_1_epoch_512_inhosp_mort_seed1031/results.xlsx\n",
      "Current finetuned model is inhosp_mort_baseline_clinical_BERT_1_epoch_512_inhosp_mort_seed155 with seed 155...\n",
      "/media/data_1/darius/models/finetuned/inhosp_mort_baseline_clinical_BERT_1_epoch_512_inhosp_mort_seed155/results.xlsx\n",
      "Current finetuned model is inhosp_mort_baseline_clinical_BERT_1_epoch_512_inhosp_mort_seed9991 with seed 9991...\n",
      "/media/data_1/darius/models/finetuned/inhosp_mort_baseline_clinical_BERT_1_epoch_512_inhosp_mort_seed9991/results.xlsx\n",
      "Current finetuned model is inhosp_mort_baseline_clinical_BERT_1_epoch_512_inhosp_mort_seed4074 with seed 4074...\n",
      "/media/data_1/darius/models/finetuned/inhosp_mort_baseline_clinical_BERT_1_epoch_512_inhosp_mort_seed4074/results.xlsx\n",
      "Current finetuned model is inhosp_mort_baseline_clinical_BERT_1_epoch_512_inhosp_mort_seed243 with seed 243...\n",
      "/media/data_1/darius/models/finetuned/inhosp_mort_baseline_clinical_BERT_1_epoch_512_inhosp_mort_seed243/results.xlsx\n",
      "Current finetuned model is inhosp_mort_baseline_clinical_BERT_1_epoch_512_inhosp_mort_seed15 with seed 15...\n",
      "/media/data_1/darius/models/finetuned/inhosp_mort_baseline_clinical_BERT_1_epoch_512_inhosp_mort_seed15/results.xlsx\n",
      "Current finetuned model is inhosp_mort_baseline_clinical_BERT_1_epoch_512_inhosp_mort_seed1844 with seed 1844...\n",
      "/media/data_1/darius/models/finetuned/inhosp_mort_baseline_clinical_BERT_1_epoch_512_inhosp_mort_seed1844/results.xlsx\n",
      "Current finetuned model is inhosp_mort_baseline_clinical_BERT_1_epoch_512_inhosp_mort_seed1679 with seed 1679...\n",
      "/media/data_1/darius/models/finetuned/inhosp_mort_baseline_clinical_BERT_1_epoch_512_inhosp_mort_seed1679/results.xlsx\n",
      "Current finetuned model is inhosp_mort_baseline_clinical_BERT_1_epoch_512_inhosp_mort_seed9987 with seed 9987...\n",
      "/media/data_1/darius/models/finetuned/inhosp_mort_baseline_clinical_BERT_1_epoch_512_inhosp_mort_seed9987/results.xlsx\n",
      "Current finetuned model is inhosp_mort_baseline_clinical_BERT_1_epoch_512_inhosp_mort_seed6713 with seed 6713...\n",
      "/media/data_1/darius/models/finetuned/inhosp_mort_baseline_clinical_BERT_1_epoch_512_inhosp_mort_seed6713/results.xlsx\n",
      "Current finetuned model is inhosp_mort_baseline_clinical_BERT_1_epoch_512_inhosp_mort_seed8920 with seed 8920...\n",
      "/media/data_1/darius/models/finetuned/inhosp_mort_baseline_clinical_BERT_1_epoch_512_inhosp_mort_seed8920/results.xlsx\n",
      "Current finetuned model is inhosp_mort_baseline_clinical_BERT_1_epoch_512_inhosp_mort_seed2760 with seed 2760...\n",
      "/media/data_1/darius/models/finetuned/inhosp_mort_baseline_clinical_BERT_1_epoch_512_inhosp_mort_seed2760/results.xlsx\n",
      "Current finetuned model is inhosp_mort_baseline_clinical_BERT_1_epoch_512_inhosp_mort_seed1612 with seed 1612...\n",
      "/media/data_1/darius/models/finetuned/inhosp_mort_baseline_clinical_BERT_1_epoch_512_inhosp_mort_seed1612/results.xlsx\n",
      "Current finetuned model is inhosp_mort_baseline_clinical_BERT_1_epoch_512_inhosp_mort_seed3098 with seed 3098...\n",
      "/media/data_1/darius/models/finetuned/inhosp_mort_baseline_clinical_BERT_1_epoch_512_inhosp_mort_seed3098/results.xlsx\n",
      "Current finetuned model is inhosp_mort_baseline_clinical_BERT_1_epoch_512_inhosp_mort_seed9495 with seed 9495...\n",
      "/media/data_1/darius/models/finetuned/inhosp_mort_baseline_clinical_BERT_1_epoch_512_inhosp_mort_seed9495/results.xlsx\n",
      "Current finetuned model is inhosp_mort_baseline_clinical_BERT_1_epoch_512_inhosp_mort_seed5195 with seed 5195...\n",
      "/media/data_1/darius/models/finetuned/inhosp_mort_baseline_clinical_BERT_1_epoch_512_inhosp_mort_seed5195/results.xlsx\n",
      "Current finetuned model is inhosp_mort_baseline_clinical_BERT_1_epoch_512_inhosp_mort_seed7470 with seed 7470...\n",
      "/media/data_1/darius/models/finetuned/inhosp_mort_baseline_clinical_BERT_1_epoch_512_inhosp_mort_seed7470/results.xlsx\n",
      "Current finetuned model is inhosp_mort_baseline_clinical_BERT_1_epoch_512_inhosp_mort_seed6285 with seed 6285...\n",
      "/media/data_1/darius/models/finetuned/inhosp_mort_baseline_clinical_BERT_1_epoch_512_inhosp_mort_seed6285/results.xlsx\n",
      "Current finetuned model is inhosp_mort_baseline_clinical_BERT_1_epoch_512_inhosp_mort_seed7500 with seed 7500...\n",
      "/media/data_1/darius/models/finetuned/inhosp_mort_baseline_clinical_BERT_1_epoch_512_inhosp_mort_seed7500/results.xlsx\n",
      "Current finetuned model is inhosp_mort_baseline_clinical_BERT_1_epoch_512_inhosp_mort_seed6121 with seed 6121...\n",
      "/media/data_1/darius/models/finetuned/inhosp_mort_baseline_clinical_BERT_1_epoch_512_inhosp_mort_seed6121/results.xlsx\n",
      "Current finetuned model is inhosp_mort_baseline_clinical_BERT_1_epoch_512_inhosp_mort_seed144 with seed 144...\n",
      "/media/data_1/darius/models/finetuned/inhosp_mort_baseline_clinical_BERT_1_epoch_512_inhosp_mort_seed144/results.xlsx\n",
      "Current finetuned model is inhosp_mort_baseline_clinical_BERT_1_epoch_512_inhosp_mort_seed4059 with seed 4059...\n",
      "/media/data_1/darius/models/finetuned/inhosp_mort_baseline_clinical_BERT_1_epoch_512_inhosp_mort_seed4059/results.xlsx\n",
      "Current finetuned model is inhosp_mort_baseline_clinical_BERT_1_epoch_512_inhosp_mort_seed5056 with seed 5056...\n",
      "/media/data_1/darius/models/finetuned/inhosp_mort_baseline_clinical_BERT_1_epoch_512_inhosp_mort_seed5056/results.xlsx\n",
      "Current finetuned model is inhosp_mort_baseline_clinical_BERT_1_epoch_512_inhosp_mort_seed4565 with seed 4565...\n",
      "/media/data_1/darius/models/finetuned/inhosp_mort_baseline_clinical_BERT_1_epoch_512_inhosp_mort_seed4565/results.xlsx\n",
      "Current finetuned model is inhosp_mort_baseline_clinical_BERT_1_epoch_512_inhosp_mort_seed7586 with seed 7586...\n",
      "/media/data_1/darius/models/finetuned/inhosp_mort_baseline_clinical_BERT_1_epoch_512_inhosp_mort_seed7586/results.xlsx\n",
      "Current finetuned model is inhosp_mort_baseline_clinical_BERT_1_epoch_512_inhosp_mort_seed1306 with seed 1306...\n",
      "/media/data_1/darius/models/finetuned/inhosp_mort_baseline_clinical_BERT_1_epoch_512_inhosp_mort_seed1306/results.xlsx\n",
      "Current finetuned model is inhosp_mort_baseline_clinical_BERT_1_epoch_512_inhosp_mort_seed5374 with seed 5374...\n",
      "/media/data_1/darius/models/finetuned/inhosp_mort_baseline_clinical_BERT_1_epoch_512_inhosp_mort_seed5374/results.xlsx\n",
      "Current finetuned model is inhosp_mort_baseline_clinical_BERT_1_epoch_512_inhosp_mort_seed7906 with seed 7906...\n",
      "/media/data_1/darius/models/finetuned/inhosp_mort_baseline_clinical_BERT_1_epoch_512_inhosp_mort_seed7906/results.xlsx\n",
      "Current finetuned model is inhosp_mort_baseline_clinical_BERT_1_epoch_512_inhosp_mort_seed5396 with seed 5396...\n",
      "/media/data_1/darius/models/finetuned/inhosp_mort_baseline_clinical_BERT_1_epoch_512_inhosp_mort_seed5396/results.xlsx\n",
      "Current finetuned model is inhosp_mort_baseline_clinical_BERT_1_epoch_512_inhosp_mort_seed5373 with seed 5373...\n",
      "/media/data_1/darius/models/finetuned/inhosp_mort_baseline_clinical_BERT_1_epoch_512_inhosp_mort_seed5373/results.xlsx\n",
      "Current finetuned model is inhosp_mort_baseline_clinical_BERT_1_epoch_512_inhosp_mort_seed905 with seed 905...\n",
      "/media/data_1/darius/models/finetuned/inhosp_mort_baseline_clinical_BERT_1_epoch_512_inhosp_mort_seed905/results.xlsx\n"
     ]
    },
    {
     "output_type": "display_data",
     "data": {
      "text/plain": "|          | 0/? [00:00<?, ?it/s]",
      "application/vnd.jupyter.widget-view+json": {
       "version_major": 2,
       "version_minor": 0,
       "model_id": "c7939c685f35456bb0679dcb507fc876"
      }
     },
     "metadata": {}
    },
    {
     "output_type": "stream",
     "name": "stdout",
     "text": [
      "Current finetuned model is inhosp_mort_baseline_clinical_BERT_1_epoch_512_inhosp_mort_seed1150 with seed 1150...\n",
      "Current finetuned model is inhosp_mort_baseline_clinical_BERT_1_epoch_512_inhosp_mort_seed9537 with seed 9537...\n",
      "Current finetuned model is inhosp_mort_baseline_clinical_BERT_1_epoch_512_inhosp_mort_seed2669 with seed 2669...\n",
      "Current finetuned model is inhosp_mort_baseline_clinical_BERT_1_epoch_512_inhosp_mort_seed1478 with seed 1478...\n",
      "Current finetuned model is inhosp_mort_baseline_clinical_BERT_1_epoch_512_inhosp_mort_seed6407 with seed 6407...\n",
      "Current finetuned model is inhosp_mort_baseline_clinical_BERT_1_epoch_512_inhosp_mort_seed7961 with seed 7961...\n",
      "Current finetuned model is inhosp_mort_baseline_clinical_BERT_1_epoch_512_inhosp_mort_seed2561 with seed 2561...\n",
      "Current finetuned model is inhosp_mort_baseline_clinical_BERT_1_epoch_512_inhosp_mort_seed1067 with seed 1067...\n",
      "Current finetuned model is inhosp_mort_baseline_clinical_BERT_1_epoch_512_inhosp_mort_seed2895 with seed 2895...\n",
      "Current finetuned model is inhosp_mort_baseline_clinical_BERT_1_epoch_512_inhosp_mort_seed6221 with seed 6221...\n",
      "Current finetuned model is inhosp_mort_baseline_clinical_BERT_1_epoch_512_inhosp_mort_seed3049 with seed 3049...\n",
      "Current finetuned model is inhosp_mort_baseline_clinical_BERT_1_epoch_512_inhosp_mort_seed5024 with seed 5024...\n",
      "Current finetuned model is inhosp_mort_baseline_clinical_BERT_1_epoch_512_inhosp_mort_seed1888 with seed 1888...\n",
      "Current finetuned model is inhosp_mort_baseline_clinical_BERT_1_epoch_512_inhosp_mort_seed8093 with seed 8093...\n",
      "Current finetuned model is inhosp_mort_baseline_clinical_BERT_1_epoch_512_inhosp_mort_seed6542 with seed 6542...\n",
      "Current finetuned model is inhosp_mort_baseline_clinical_BERT_1_epoch_512_inhosp_mort_seed562 with seed 562...\n",
      "Current finetuned model is inhosp_mort_baseline_clinical_BERT_1_epoch_512_inhosp_mort_seed6771 with seed 6771...\n",
      "Current finetuned model is inhosp_mort_baseline_clinical_BERT_1_epoch_512_inhosp_mort_seed3885 with seed 3885...\n",
      "Current finetuned model is inhosp_mort_baseline_clinical_BERT_1_epoch_512_inhosp_mort_seed7108 with seed 7108...\n",
      "Current finetuned model is inhosp_mort_baseline_clinical_BERT_1_epoch_512_inhosp_mort_seed9394 with seed 9394...\n",
      "Current finetuned model is inhosp_mort_baseline_clinical_BERT_1_epoch_512_inhosp_mort_seed8689 with seed 8689...\n",
      "Current finetuned model is inhosp_mort_baseline_clinical_BERT_1_epoch_512_inhosp_mort_seed4409 with seed 4409...\n",
      "Current finetuned model is inhosp_mort_baseline_clinical_BERT_1_epoch_512_inhosp_mort_seed2877 with seed 2877...\n",
      "Current finetuned model is inhosp_mort_baseline_clinical_BERT_1_epoch_512_inhosp_mort_seed715 with seed 715...\n",
      "Current finetuned model is inhosp_mort_baseline_clinical_BERT_1_epoch_512_inhosp_mort_seed3428 with seed 3428...\n",
      "Current finetuned model is inhosp_mort_baseline_clinical_BERT_1_epoch_512_inhosp_mort_seed9287 with seed 9287...\n",
      "Current finetuned model is inhosp_mort_baseline_clinical_BERT_1_epoch_512_inhosp_mort_seed1798 with seed 1798...\n",
      "Current finetuned model is inhosp_mort_baseline_clinical_BERT_1_epoch_512_inhosp_mort_seed9529 with seed 9529...\n",
      "Current finetuned model is inhosp_mort_baseline_clinical_BERT_1_epoch_512_inhosp_mort_seed2962 with seed 2962...\n",
      "Current finetuned model is inhosp_mort_baseline_clinical_BERT_1_epoch_512_inhosp_mort_seed542 with seed 542...\n",
      "Current finetuned model is inhosp_mort_baseline_clinical_BERT_1_epoch_512_inhosp_mort_seed9552 with seed 9552...\n",
      "Current finetuned model is inhosp_mort_baseline_clinical_BERT_1_epoch_512_inhosp_mort_seed7751 with seed 7751...\n",
      "Current finetuned model is inhosp_mort_baseline_clinical_BERT_1_epoch_512_inhosp_mort_seed3606 with seed 3606...\n",
      "Current finetuned model is inhosp_mort_baseline_clinical_BERT_1_epoch_512_inhosp_mort_seed1214 with seed 1214...\n",
      "Current finetuned model is inhosp_mort_baseline_clinical_BERT_1_epoch_512_inhosp_mort_seed96 with seed 96...\n",
      "Current finetuned model is inhosp_mort_baseline_clinical_BERT_1_epoch_512_inhosp_mort_seed5848 with seed 5848...\n",
      "Current finetuned model is inhosp_mort_baseline_clinical_BERT_1_epoch_512_inhosp_mort_seed7676 with seed 7676...\n",
      "Current finetuned model is inhosp_mort_baseline_clinical_BERT_1_epoch_512_inhosp_mort_seed1110 with seed 1110...\n",
      "Current finetuned model is inhosp_mort_baseline_clinical_BERT_1_epoch_512_inhosp_mort_seed2516 with seed 2516...\n",
      "Current finetuned model is inhosp_mort_baseline_clinical_BERT_1_epoch_512_inhosp_mort_seed431 with seed 431...\n",
      "Current finetuned model is inhosp_mort_baseline_clinical_BERT_1_epoch_512_inhosp_mort_seed1046 with seed 1046...\n",
      "Current finetuned model is inhosp_mort_baseline_clinical_BERT_1_epoch_512_inhosp_mort_seed3047 with seed 3047...\n",
      "Current finetuned model is inhosp_mort_baseline_clinical_BERT_1_epoch_512_inhosp_mort_seed5271 with seed 5271...\n",
      "Current finetuned model is inhosp_mort_baseline_clinical_BERT_1_epoch_512_inhosp_mort_seed8444 with seed 8444...\n",
      "Current finetuned model is inhosp_mort_baseline_clinical_BERT_1_epoch_512_inhosp_mort_seed2244 with seed 2244...\n",
      "Current finetuned model is inhosp_mort_baseline_clinical_BERT_1_epoch_512_inhosp_mort_seed3562 with seed 3562...\n",
      "Current finetuned model is inhosp_mort_baseline_clinical_BERT_1_epoch_512_inhosp_mort_seed9832 with seed 9832...\n",
      "Current finetuned model is inhosp_mort_baseline_clinical_BERT_1_epoch_512_inhosp_mort_seed4039 with seed 4039...\n",
      "Current finetuned model is inhosp_mort_baseline_clinical_BERT_1_epoch_512_inhosp_mort_seed648 with seed 648...\n",
      "Current finetuned model is inhosp_mort_baseline_clinical_BERT_1_epoch_512_inhosp_mort_seed9764 with seed 9764...\n",
      "Current finetuned model is inhosp_mort_baseline_clinical_BERT_1_epoch_512_inhosp_mort_seed753 with seed 753...\n",
      "Current finetuned model is inhosp_mort_baseline_clinical_BERT_1_epoch_512_inhosp_mort_seed4415 with seed 4415...\n",
      "Current finetuned model is inhosp_mort_baseline_clinical_BERT_1_epoch_512_inhosp_mort_seed5192 with seed 5192...\n",
      "Current finetuned model is inhosp_mort_baseline_clinical_BERT_1_epoch_512_inhosp_mort_seed2944 with seed 2944...\n",
      "Current finetuned model is inhosp_mort_baseline_clinical_BERT_1_epoch_512_inhosp_mort_seed461 with seed 461...\n",
      "Current finetuned model is inhosp_mort_baseline_clinical_BERT_1_epoch_512_inhosp_mort_seed4764 with seed 4764...\n",
      "Current finetuned model is inhosp_mort_baseline_clinical_BERT_1_epoch_512_inhosp_mort_seed4791 with seed 4791...\n",
      "Current finetuned model is inhosp_mort_baseline_clinical_BERT_1_epoch_512_inhosp_mort_seed235 with seed 235...\n",
      "Current finetuned model is inhosp_mort_baseline_clinical_BERT_1_epoch_512_inhosp_mort_seed1337 with seed 1337...\n",
      "Current finetuned model is inhosp_mort_baseline_clinical_BERT_1_epoch_512_inhosp_mort_seed1372 with seed 1372...\n",
      "Current finetuned model is inhosp_mort_baseline_clinical_BERT_1_epoch_512_inhosp_mort_seed4225 with seed 4225...\n",
      "Current finetuned model is inhosp_mort_baseline_clinical_BERT_1_epoch_512_inhosp_mort_seed8151 with seed 8151...\n",
      "Current finetuned model is inhosp_mort_baseline_clinical_BERT_1_epoch_512_inhosp_mort_seed7710 with seed 7710...\n",
      "Current finetuned model is inhosp_mort_baseline_clinical_BERT_1_epoch_512_inhosp_mort_seed9719 with seed 9719...\n",
      "Current finetuned model is inhosp_mort_baseline_clinical_BERT_1_epoch_512_inhosp_mort_seed3462 with seed 3462...\n",
      "Current finetuned model is inhosp_mort_baseline_clinical_BERT_1_epoch_512_inhosp_mort_seed7813 with seed 7813...\n",
      "Current finetuned model is inhosp_mort_baseline_clinical_BERT_1_epoch_512_inhosp_mort_seed9504 with seed 9504...\n",
      "Current finetuned model is inhosp_mort_baseline_clinical_BERT_1_epoch_512_inhosp_mort_seed7255 with seed 7255...\n",
      "Current finetuned model is inhosp_mort_baseline_clinical_BERT_1_epoch_512_inhosp_mort_seed1031 with seed 1031...\n",
      "Current finetuned model is inhosp_mort_baseline_clinical_BERT_1_epoch_512_inhosp_mort_seed155 with seed 155...\n",
      "Current finetuned model is inhosp_mort_baseline_clinical_BERT_1_epoch_512_inhosp_mort_seed9991 with seed 9991...\n",
      "Current finetuned model is inhosp_mort_baseline_clinical_BERT_1_epoch_512_inhosp_mort_seed4074 with seed 4074...\n",
      "Current finetuned model is inhosp_mort_baseline_clinical_BERT_1_epoch_512_inhosp_mort_seed243 with seed 243...\n",
      "Current finetuned model is inhosp_mort_baseline_clinical_BERT_1_epoch_512_inhosp_mort_seed15 with seed 15...\n",
      "Current finetuned model is inhosp_mort_baseline_clinical_BERT_1_epoch_512_inhosp_mort_seed1844 with seed 1844...\n",
      "Current finetuned model is inhosp_mort_baseline_clinical_BERT_1_epoch_512_inhosp_mort_seed1679 with seed 1679...\n",
      "Current finetuned model is inhosp_mort_baseline_clinical_BERT_1_epoch_512_inhosp_mort_seed9987 with seed 9987...\n",
      "Current finetuned model is inhosp_mort_baseline_clinical_BERT_1_epoch_512_inhosp_mort_seed6713 with seed 6713...\n",
      "Current finetuned model is inhosp_mort_baseline_clinical_BERT_1_epoch_512_inhosp_mort_seed8920 with seed 8920...\n",
      "Current finetuned model is inhosp_mort_baseline_clinical_BERT_1_epoch_512_inhosp_mort_seed2760 with seed 2760...\n",
      "Current finetuned model is inhosp_mort_baseline_clinical_BERT_1_epoch_512_inhosp_mort_seed1612 with seed 1612...\n",
      "Current finetuned model is inhosp_mort_baseline_clinical_BERT_1_epoch_512_inhosp_mort_seed3098 with seed 3098...\n",
      "Current finetuned model is inhosp_mort_baseline_clinical_BERT_1_epoch_512_inhosp_mort_seed9495 with seed 9495...\n",
      "Current finetuned model is inhosp_mort_baseline_clinical_BERT_1_epoch_512_inhosp_mort_seed5195 with seed 5195...\n",
      "Current finetuned model is inhosp_mort_baseline_clinical_BERT_1_epoch_512_inhosp_mort_seed7470 with seed 7470...\n",
      "Current finetuned model is inhosp_mort_baseline_clinical_BERT_1_epoch_512_inhosp_mort_seed6285 with seed 6285...\n",
      "Current finetuned model is inhosp_mort_baseline_clinical_BERT_1_epoch_512_inhosp_mort_seed7500 with seed 7500...\n",
      "Current finetuned model is inhosp_mort_baseline_clinical_BERT_1_epoch_512_inhosp_mort_seed6121 with seed 6121...\n",
      "Current finetuned model is inhosp_mort_baseline_clinical_BERT_1_epoch_512_inhosp_mort_seed144 with seed 144...\n",
      "Current finetuned model is inhosp_mort_baseline_clinical_BERT_1_epoch_512_inhosp_mort_seed4059 with seed 4059...\n",
      "Current finetuned model is inhosp_mort_baseline_clinical_BERT_1_epoch_512_inhosp_mort_seed5056 with seed 5056...\n",
      "Current finetuned model is inhosp_mort_baseline_clinical_BERT_1_epoch_512_inhosp_mort_seed4565 with seed 4565...\n",
      "Current finetuned model is inhosp_mort_baseline_clinical_BERT_1_epoch_512_inhosp_mort_seed7586 with seed 7586...\n",
      "Current finetuned model is inhosp_mort_baseline_clinical_BERT_1_epoch_512_inhosp_mort_seed1306 with seed 1306...\n",
      "Current finetuned model is inhosp_mort_baseline_clinical_BERT_1_epoch_512_inhosp_mort_seed5374 with seed 5374...\n",
      "Current finetuned model is inhosp_mort_baseline_clinical_BERT_1_epoch_512_inhosp_mort_seed7906 with seed 7906...\n",
      "Current finetuned model is inhosp_mort_baseline_clinical_BERT_1_epoch_512_inhosp_mort_seed5396 with seed 5396...\n",
      "Current finetuned model is inhosp_mort_baseline_clinical_BERT_1_epoch_512_inhosp_mort_seed5373 with seed 5373...\n",
      "Current finetuned model is inhosp_mort_baseline_clinical_BERT_1_epoch_512_inhosp_mort_seed905 with seed 905...\n"
     ]
    },
    {
     "output_type": "display_data",
     "data": {
      "text/plain": "|          | 0/? [00:00<?, ?it/s]",
      "application/vnd.jupyter.widget-view+json": {
       "version_major": 2,
       "version_minor": 0,
       "model_id": "e8918f7d70b84cf1b19b8915333ff2aa"
      }
     },
     "metadata": {}
    },
    {
     "output_type": "stream",
     "name": "stdout",
     "text": [
      "Current finetuned model is inhosp_mort_baseline_clinical_BERT_1_epoch_512_inhosp_mort_seed1150 with seed 1150...\n",
      "Current finetuned model is inhosp_mort_baseline_clinical_BERT_1_epoch_512_inhosp_mort_seed9537 with seed 9537...\n",
      "Current finetuned model is inhosp_mort_baseline_clinical_BERT_1_epoch_512_inhosp_mort_seed2669 with seed 2669...\n",
      "Current finetuned model is inhosp_mort_baseline_clinical_BERT_1_epoch_512_inhosp_mort_seed1478 with seed 1478...\n",
      "Current finetuned model is inhosp_mort_baseline_clinical_BERT_1_epoch_512_inhosp_mort_seed6407 with seed 6407...\n",
      "Current finetuned model is inhosp_mort_baseline_clinical_BERT_1_epoch_512_inhosp_mort_seed7961 with seed 7961...\n",
      "Current finetuned model is inhosp_mort_baseline_clinical_BERT_1_epoch_512_inhosp_mort_seed2561 with seed 2561...\n",
      "Current finetuned model is inhosp_mort_baseline_clinical_BERT_1_epoch_512_inhosp_mort_seed1067 with seed 1067...\n",
      "Current finetuned model is inhosp_mort_baseline_clinical_BERT_1_epoch_512_inhosp_mort_seed2895 with seed 2895...\n",
      "Current finetuned model is inhosp_mort_baseline_clinical_BERT_1_epoch_512_inhosp_mort_seed6221 with seed 6221...\n",
      "Current finetuned model is inhosp_mort_baseline_clinical_BERT_1_epoch_512_inhosp_mort_seed3049 with seed 3049...\n",
      "Current finetuned model is inhosp_mort_baseline_clinical_BERT_1_epoch_512_inhosp_mort_seed5024 with seed 5024...\n",
      "Current finetuned model is inhosp_mort_baseline_clinical_BERT_1_epoch_512_inhosp_mort_seed1888 with seed 1888...\n",
      "Current finetuned model is inhosp_mort_baseline_clinical_BERT_1_epoch_512_inhosp_mort_seed8093 with seed 8093...\n",
      "Current finetuned model is inhosp_mort_baseline_clinical_BERT_1_epoch_512_inhosp_mort_seed6542 with seed 6542...\n",
      "Current finetuned model is inhosp_mort_baseline_clinical_BERT_1_epoch_512_inhosp_mort_seed562 with seed 562...\n",
      "Current finetuned model is inhosp_mort_baseline_clinical_BERT_1_epoch_512_inhosp_mort_seed6771 with seed 6771...\n",
      "Current finetuned model is inhosp_mort_baseline_clinical_BERT_1_epoch_512_inhosp_mort_seed3885 with seed 3885...\n",
      "Current finetuned model is inhosp_mort_baseline_clinical_BERT_1_epoch_512_inhosp_mort_seed7108 with seed 7108...\n",
      "Current finetuned model is inhosp_mort_baseline_clinical_BERT_1_epoch_512_inhosp_mort_seed9394 with seed 9394...\n",
      "Current finetuned model is inhosp_mort_baseline_clinical_BERT_1_epoch_512_inhosp_mort_seed8689 with seed 8689...\n",
      "Current finetuned model is inhosp_mort_baseline_clinical_BERT_1_epoch_512_inhosp_mort_seed4409 with seed 4409...\n",
      "Current finetuned model is inhosp_mort_baseline_clinical_BERT_1_epoch_512_inhosp_mort_seed2877 with seed 2877...\n",
      "Current finetuned model is inhosp_mort_baseline_clinical_BERT_1_epoch_512_inhosp_mort_seed715 with seed 715...\n",
      "Current finetuned model is inhosp_mort_baseline_clinical_BERT_1_epoch_512_inhosp_mort_seed3428 with seed 3428...\n",
      "Current finetuned model is inhosp_mort_baseline_clinical_BERT_1_epoch_512_inhosp_mort_seed9287 with seed 9287...\n",
      "Current finetuned model is inhosp_mort_baseline_clinical_BERT_1_epoch_512_inhosp_mort_seed1798 with seed 1798...\n",
      "Current finetuned model is inhosp_mort_baseline_clinical_BERT_1_epoch_512_inhosp_mort_seed9529 with seed 9529...\n",
      "Current finetuned model is inhosp_mort_baseline_clinical_BERT_1_epoch_512_inhosp_mort_seed2962 with seed 2962...\n",
      "Current finetuned model is inhosp_mort_baseline_clinical_BERT_1_epoch_512_inhosp_mort_seed542 with seed 542...\n",
      "Current finetuned model is inhosp_mort_baseline_clinical_BERT_1_epoch_512_inhosp_mort_seed9552 with seed 9552...\n",
      "Current finetuned model is inhosp_mort_baseline_clinical_BERT_1_epoch_512_inhosp_mort_seed7751 with seed 7751...\n",
      "Current finetuned model is inhosp_mort_baseline_clinical_BERT_1_epoch_512_inhosp_mort_seed3606 with seed 3606...\n",
      "Current finetuned model is inhosp_mort_baseline_clinical_BERT_1_epoch_512_inhosp_mort_seed1214 with seed 1214...\n",
      "Current finetuned model is inhosp_mort_baseline_clinical_BERT_1_epoch_512_inhosp_mort_seed96 with seed 96...\n",
      "Current finetuned model is inhosp_mort_baseline_clinical_BERT_1_epoch_512_inhosp_mort_seed5848 with seed 5848...\n",
      "Current finetuned model is inhosp_mort_baseline_clinical_BERT_1_epoch_512_inhosp_mort_seed7676 with seed 7676...\n",
      "Current finetuned model is inhosp_mort_baseline_clinical_BERT_1_epoch_512_inhosp_mort_seed1110 with seed 1110...\n",
      "Current finetuned model is inhosp_mort_baseline_clinical_BERT_1_epoch_512_inhosp_mort_seed2516 with seed 2516...\n",
      "Current finetuned model is inhosp_mort_baseline_clinical_BERT_1_epoch_512_inhosp_mort_seed431 with seed 431...\n",
      "Current finetuned model is inhosp_mort_baseline_clinical_BERT_1_epoch_512_inhosp_mort_seed1046 with seed 1046...\n",
      "Current finetuned model is inhosp_mort_baseline_clinical_BERT_1_epoch_512_inhosp_mort_seed3047 with seed 3047...\n",
      "Current finetuned model is inhosp_mort_baseline_clinical_BERT_1_epoch_512_inhosp_mort_seed5271 with seed 5271...\n",
      "Current finetuned model is inhosp_mort_baseline_clinical_BERT_1_epoch_512_inhosp_mort_seed8444 with seed 8444...\n",
      "Current finetuned model is inhosp_mort_baseline_clinical_BERT_1_epoch_512_inhosp_mort_seed2244 with seed 2244...\n",
      "Current finetuned model is inhosp_mort_baseline_clinical_BERT_1_epoch_512_inhosp_mort_seed3562 with seed 3562...\n",
      "Current finetuned model is inhosp_mort_baseline_clinical_BERT_1_epoch_512_inhosp_mort_seed9832 with seed 9832...\n",
      "Current finetuned model is inhosp_mort_baseline_clinical_BERT_1_epoch_512_inhosp_mort_seed4039 with seed 4039...\n",
      "Current finetuned model is inhosp_mort_baseline_clinical_BERT_1_epoch_512_inhosp_mort_seed648 with seed 648...\n",
      "Current finetuned model is inhosp_mort_baseline_clinical_BERT_1_epoch_512_inhosp_mort_seed9764 with seed 9764...\n",
      "Current finetuned model is inhosp_mort_baseline_clinical_BERT_1_epoch_512_inhosp_mort_seed753 with seed 753...\n",
      "Current finetuned model is inhosp_mort_baseline_clinical_BERT_1_epoch_512_inhosp_mort_seed4415 with seed 4415...\n",
      "Current finetuned model is inhosp_mort_baseline_clinical_BERT_1_epoch_512_inhosp_mort_seed5192 with seed 5192...\n",
      "Current finetuned model is inhosp_mort_baseline_clinical_BERT_1_epoch_512_inhosp_mort_seed2944 with seed 2944...\n",
      "Current finetuned model is inhosp_mort_baseline_clinical_BERT_1_epoch_512_inhosp_mort_seed461 with seed 461...\n",
      "Current finetuned model is inhosp_mort_baseline_clinical_BERT_1_epoch_512_inhosp_mort_seed4764 with seed 4764...\n",
      "Current finetuned model is inhosp_mort_baseline_clinical_BERT_1_epoch_512_inhosp_mort_seed4791 with seed 4791...\n",
      "Current finetuned model is inhosp_mort_baseline_clinical_BERT_1_epoch_512_inhosp_mort_seed235 with seed 235...\n",
      "Current finetuned model is inhosp_mort_baseline_clinical_BERT_1_epoch_512_inhosp_mort_seed1337 with seed 1337...\n",
      "Current finetuned model is inhosp_mort_baseline_clinical_BERT_1_epoch_512_inhosp_mort_seed1372 with seed 1372...\n",
      "Current finetuned model is inhosp_mort_baseline_clinical_BERT_1_epoch_512_inhosp_mort_seed4225 with seed 4225...\n",
      "Current finetuned model is inhosp_mort_baseline_clinical_BERT_1_epoch_512_inhosp_mort_seed8151 with seed 8151...\n",
      "Current finetuned model is inhosp_mort_baseline_clinical_BERT_1_epoch_512_inhosp_mort_seed7710 with seed 7710...\n",
      "Current finetuned model is inhosp_mort_baseline_clinical_BERT_1_epoch_512_inhosp_mort_seed9719 with seed 9719...\n",
      "Current finetuned model is inhosp_mort_baseline_clinical_BERT_1_epoch_512_inhosp_mort_seed3462 with seed 3462...\n",
      "Current finetuned model is inhosp_mort_baseline_clinical_BERT_1_epoch_512_inhosp_mort_seed7813 with seed 7813...\n",
      "Current finetuned model is inhosp_mort_baseline_clinical_BERT_1_epoch_512_inhosp_mort_seed9504 with seed 9504...\n",
      "Current finetuned model is inhosp_mort_baseline_clinical_BERT_1_epoch_512_inhosp_mort_seed7255 with seed 7255...\n",
      "Current finetuned model is inhosp_mort_baseline_clinical_BERT_1_epoch_512_inhosp_mort_seed1031 with seed 1031...\n",
      "Current finetuned model is inhosp_mort_baseline_clinical_BERT_1_epoch_512_inhosp_mort_seed155 with seed 155...\n",
      "Current finetuned model is inhosp_mort_baseline_clinical_BERT_1_epoch_512_inhosp_mort_seed9991 with seed 9991...\n",
      "Current finetuned model is inhosp_mort_baseline_clinical_BERT_1_epoch_512_inhosp_mort_seed4074 with seed 4074...\n",
      "Current finetuned model is inhosp_mort_baseline_clinical_BERT_1_epoch_512_inhosp_mort_seed243 with seed 243...\n",
      "Current finetuned model is inhosp_mort_baseline_clinical_BERT_1_epoch_512_inhosp_mort_seed15 with seed 15...\n",
      "Current finetuned model is inhosp_mort_baseline_clinical_BERT_1_epoch_512_inhosp_mort_seed1844 with seed 1844...\n",
      "Current finetuned model is inhosp_mort_baseline_clinical_BERT_1_epoch_512_inhosp_mort_seed1679 with seed 1679...\n",
      "Current finetuned model is inhosp_mort_baseline_clinical_BERT_1_epoch_512_inhosp_mort_seed9987 with seed 9987...\n",
      "Current finetuned model is inhosp_mort_baseline_clinical_BERT_1_epoch_512_inhosp_mort_seed6713 with seed 6713...\n",
      "Current finetuned model is inhosp_mort_baseline_clinical_BERT_1_epoch_512_inhosp_mort_seed8920 with seed 8920...\n",
      "Current finetuned model is inhosp_mort_baseline_clinical_BERT_1_epoch_512_inhosp_mort_seed2760 with seed 2760...\n",
      "Current finetuned model is inhosp_mort_baseline_clinical_BERT_1_epoch_512_inhosp_mort_seed1612 with seed 1612...\n",
      "Current finetuned model is inhosp_mort_baseline_clinical_BERT_1_epoch_512_inhosp_mort_seed3098 with seed 3098...\n",
      "Current finetuned model is inhosp_mort_baseline_clinical_BERT_1_epoch_512_inhosp_mort_seed9495 with seed 9495...\n",
      "Current finetuned model is inhosp_mort_baseline_clinical_BERT_1_epoch_512_inhosp_mort_seed5195 with seed 5195...\n",
      "Current finetuned model is inhosp_mort_baseline_clinical_BERT_1_epoch_512_inhosp_mort_seed7470 with seed 7470...\n",
      "Current finetuned model is inhosp_mort_baseline_clinical_BERT_1_epoch_512_inhosp_mort_seed6285 with seed 6285...\n",
      "Current finetuned model is inhosp_mort_baseline_clinical_BERT_1_epoch_512_inhosp_mort_seed7500 with seed 7500...\n",
      "Current finetuned model is inhosp_mort_baseline_clinical_BERT_1_epoch_512_inhosp_mort_seed6121 with seed 6121...\n",
      "Current finetuned model is inhosp_mort_baseline_clinical_BERT_1_epoch_512_inhosp_mort_seed144 with seed 144...\n",
      "Current finetuned model is inhosp_mort_baseline_clinical_BERT_1_epoch_512_inhosp_mort_seed4059 with seed 4059...\n",
      "Current finetuned model is inhosp_mort_baseline_clinical_BERT_1_epoch_512_inhosp_mort_seed5056 with seed 5056...\n",
      "Current finetuned model is inhosp_mort_baseline_clinical_BERT_1_epoch_512_inhosp_mort_seed4565 with seed 4565...\n",
      "Current finetuned model is inhosp_mort_baseline_clinical_BERT_1_epoch_512_inhosp_mort_seed7586 with seed 7586...\n",
      "Current finetuned model is inhosp_mort_baseline_clinical_BERT_1_epoch_512_inhosp_mort_seed1306 with seed 1306...\n",
      "Current finetuned model is inhosp_mort_baseline_clinical_BERT_1_epoch_512_inhosp_mort_seed5374 with seed 5374...\n",
      "Current finetuned model is inhosp_mort_baseline_clinical_BERT_1_epoch_512_inhosp_mort_seed7906 with seed 7906...\n",
      "Current finetuned model is inhosp_mort_baseline_clinical_BERT_1_epoch_512_inhosp_mort_seed5396 with seed 5396...\n",
      "Current finetuned model is inhosp_mort_baseline_clinical_BERT_1_epoch_512_inhosp_mort_seed5373 with seed 5373...\n",
      "Current finetuned model is inhosp_mort_baseline_clinical_BERT_1_epoch_512_inhosp_mort_seed905 with seed 905...\n"
     ]
    },
    {
     "output_type": "display_data",
     "data": {
      "text/plain": "|          | 0/? [00:00<?, ?it/s]",
      "application/vnd.jupyter.widget-view+json": {
       "version_major": 2,
       "version_minor": 0,
       "model_id": "ee980a69aa004bfd8c3114ecd67db880"
      }
     },
     "metadata": {}
    },
    {
     "output_type": "stream",
     "name": "stdout",
     "text": [
      "Current finetuned model is inhosp_mort_baseline_clinical_BERT_1_epoch_512_inhosp_mort_seed1150 with seed 1150...\n",
      "Current finetuned model is inhosp_mort_baseline_clinical_BERT_1_epoch_512_inhosp_mort_seed9537 with seed 9537...\n",
      "Current finetuned model is inhosp_mort_baseline_clinical_BERT_1_epoch_512_inhosp_mort_seed2669 with seed 2669...\n",
      "Current finetuned model is inhosp_mort_baseline_clinical_BERT_1_epoch_512_inhosp_mort_seed1478 with seed 1478...\n",
      "Current finetuned model is inhosp_mort_baseline_clinical_BERT_1_epoch_512_inhosp_mort_seed6407 with seed 6407...\n",
      "Current finetuned model is inhosp_mort_baseline_clinical_BERT_1_epoch_512_inhosp_mort_seed7961 with seed 7961...\n",
      "Current finetuned model is inhosp_mort_baseline_clinical_BERT_1_epoch_512_inhosp_mort_seed2561 with seed 2561...\n",
      "Current finetuned model is inhosp_mort_baseline_clinical_BERT_1_epoch_512_inhosp_mort_seed1067 with seed 1067...\n",
      "Current finetuned model is inhosp_mort_baseline_clinical_BERT_1_epoch_512_inhosp_mort_seed2895 with seed 2895...\n",
      "Current finetuned model is inhosp_mort_baseline_clinical_BERT_1_epoch_512_inhosp_mort_seed6221 with seed 6221...\n",
      "Current finetuned model is inhosp_mort_baseline_clinical_BERT_1_epoch_512_inhosp_mort_seed3049 with seed 3049...\n",
      "Current finetuned model is inhosp_mort_baseline_clinical_BERT_1_epoch_512_inhosp_mort_seed5024 with seed 5024...\n",
      "Current finetuned model is inhosp_mort_baseline_clinical_BERT_1_epoch_512_inhosp_mort_seed1888 with seed 1888...\n",
      "Current finetuned model is inhosp_mort_baseline_clinical_BERT_1_epoch_512_inhosp_mort_seed8093 with seed 8093...\n",
      "Current finetuned model is inhosp_mort_baseline_clinical_BERT_1_epoch_512_inhosp_mort_seed6542 with seed 6542...\n",
      "Current finetuned model is inhosp_mort_baseline_clinical_BERT_1_epoch_512_inhosp_mort_seed562 with seed 562...\n",
      "Current finetuned model is inhosp_mort_baseline_clinical_BERT_1_epoch_512_inhosp_mort_seed6771 with seed 6771...\n",
      "Current finetuned model is inhosp_mort_baseline_clinical_BERT_1_epoch_512_inhosp_mort_seed3885 with seed 3885...\n",
      "Current finetuned model is inhosp_mort_baseline_clinical_BERT_1_epoch_512_inhosp_mort_seed7108 with seed 7108...\n",
      "Current finetuned model is inhosp_mort_baseline_clinical_BERT_1_epoch_512_inhosp_mort_seed9394 with seed 9394...\n",
      "Current finetuned model is inhosp_mort_baseline_clinical_BERT_1_epoch_512_inhosp_mort_seed8689 with seed 8689...\n",
      "Current finetuned model is inhosp_mort_baseline_clinical_BERT_1_epoch_512_inhosp_mort_seed4409 with seed 4409...\n",
      "Current finetuned model is inhosp_mort_baseline_clinical_BERT_1_epoch_512_inhosp_mort_seed2877 with seed 2877...\n",
      "Current finetuned model is inhosp_mort_baseline_clinical_BERT_1_epoch_512_inhosp_mort_seed715 with seed 715...\n",
      "Current finetuned model is inhosp_mort_baseline_clinical_BERT_1_epoch_512_inhosp_mort_seed3428 with seed 3428...\n",
      "Current finetuned model is inhosp_mort_baseline_clinical_BERT_1_epoch_512_inhosp_mort_seed9287 with seed 9287...\n",
      "Current finetuned model is inhosp_mort_baseline_clinical_BERT_1_epoch_512_inhosp_mort_seed1798 with seed 1798...\n",
      "Current finetuned model is inhosp_mort_baseline_clinical_BERT_1_epoch_512_inhosp_mort_seed9529 with seed 9529...\n",
      "Current finetuned model is inhosp_mort_baseline_clinical_BERT_1_epoch_512_inhosp_mort_seed2962 with seed 2962...\n",
      "Current finetuned model is inhosp_mort_baseline_clinical_BERT_1_epoch_512_inhosp_mort_seed542 with seed 542...\n",
      "Current finetuned model is inhosp_mort_baseline_clinical_BERT_1_epoch_512_inhosp_mort_seed9552 with seed 9552...\n",
      "Current finetuned model is inhosp_mort_baseline_clinical_BERT_1_epoch_512_inhosp_mort_seed7751 with seed 7751...\n",
      "Current finetuned model is inhosp_mort_baseline_clinical_BERT_1_epoch_512_inhosp_mort_seed3606 with seed 3606...\n",
      "Current finetuned model is inhosp_mort_baseline_clinical_BERT_1_epoch_512_inhosp_mort_seed1214 with seed 1214...\n",
      "Current finetuned model is inhosp_mort_baseline_clinical_BERT_1_epoch_512_inhosp_mort_seed96 with seed 96...\n",
      "Current finetuned model is inhosp_mort_baseline_clinical_BERT_1_epoch_512_inhosp_mort_seed5848 with seed 5848...\n",
      "Current finetuned model is inhosp_mort_baseline_clinical_BERT_1_epoch_512_inhosp_mort_seed7676 with seed 7676...\n",
      "Current finetuned model is inhosp_mort_baseline_clinical_BERT_1_epoch_512_inhosp_mort_seed1110 with seed 1110...\n",
      "Current finetuned model is inhosp_mort_baseline_clinical_BERT_1_epoch_512_inhosp_mort_seed2516 with seed 2516...\n",
      "Current finetuned model is inhosp_mort_baseline_clinical_BERT_1_epoch_512_inhosp_mort_seed431 with seed 431...\n",
      "Current finetuned model is inhosp_mort_baseline_clinical_BERT_1_epoch_512_inhosp_mort_seed1046 with seed 1046...\n",
      "Current finetuned model is inhosp_mort_baseline_clinical_BERT_1_epoch_512_inhosp_mort_seed3047 with seed 3047...\n",
      "Current finetuned model is inhosp_mort_baseline_clinical_BERT_1_epoch_512_inhosp_mort_seed5271 with seed 5271...\n",
      "Current finetuned model is inhosp_mort_baseline_clinical_BERT_1_epoch_512_inhosp_mort_seed8444 with seed 8444...\n",
      "Current finetuned model is inhosp_mort_baseline_clinical_BERT_1_epoch_512_inhosp_mort_seed2244 with seed 2244...\n",
      "Current finetuned model is inhosp_mort_baseline_clinical_BERT_1_epoch_512_inhosp_mort_seed3562 with seed 3562...\n",
      "Current finetuned model is inhosp_mort_baseline_clinical_BERT_1_epoch_512_inhosp_mort_seed9832 with seed 9832...\n",
      "Current finetuned model is inhosp_mort_baseline_clinical_BERT_1_epoch_512_inhosp_mort_seed4039 with seed 4039...\n",
      "Current finetuned model is inhosp_mort_baseline_clinical_BERT_1_epoch_512_inhosp_mort_seed648 with seed 648...\n",
      "Current finetuned model is inhosp_mort_baseline_clinical_BERT_1_epoch_512_inhosp_mort_seed9764 with seed 9764...\n",
      "Current finetuned model is inhosp_mort_baseline_clinical_BERT_1_epoch_512_inhosp_mort_seed753 with seed 753...\n",
      "Current finetuned model is inhosp_mort_baseline_clinical_BERT_1_epoch_512_inhosp_mort_seed4415 with seed 4415...\n",
      "Current finetuned model is inhosp_mort_baseline_clinical_BERT_1_epoch_512_inhosp_mort_seed5192 with seed 5192...\n",
      "Current finetuned model is inhosp_mort_baseline_clinical_BERT_1_epoch_512_inhosp_mort_seed2944 with seed 2944...\n",
      "Current finetuned model is inhosp_mort_baseline_clinical_BERT_1_epoch_512_inhosp_mort_seed461 with seed 461...\n",
      "Current finetuned model is inhosp_mort_baseline_clinical_BERT_1_epoch_512_inhosp_mort_seed4764 with seed 4764...\n",
      "Current finetuned model is inhosp_mort_baseline_clinical_BERT_1_epoch_512_inhosp_mort_seed4791 with seed 4791...\n",
      "Current finetuned model is inhosp_mort_baseline_clinical_BERT_1_epoch_512_inhosp_mort_seed235 with seed 235...\n",
      "Current finetuned model is inhosp_mort_baseline_clinical_BERT_1_epoch_512_inhosp_mort_seed1337 with seed 1337...\n",
      "Current finetuned model is inhosp_mort_baseline_clinical_BERT_1_epoch_512_inhosp_mort_seed1372 with seed 1372...\n",
      "Current finetuned model is inhosp_mort_baseline_clinical_BERT_1_epoch_512_inhosp_mort_seed4225 with seed 4225...\n",
      "Current finetuned model is inhosp_mort_baseline_clinical_BERT_1_epoch_512_inhosp_mort_seed8151 with seed 8151...\n",
      "Current finetuned model is inhosp_mort_baseline_clinical_BERT_1_epoch_512_inhosp_mort_seed7710 with seed 7710...\n",
      "Current finetuned model is inhosp_mort_baseline_clinical_BERT_1_epoch_512_inhosp_mort_seed9719 with seed 9719...\n",
      "Current finetuned model is inhosp_mort_baseline_clinical_BERT_1_epoch_512_inhosp_mort_seed3462 with seed 3462...\n",
      "Current finetuned model is inhosp_mort_baseline_clinical_BERT_1_epoch_512_inhosp_mort_seed7813 with seed 7813...\n",
      "Current finetuned model is inhosp_mort_baseline_clinical_BERT_1_epoch_512_inhosp_mort_seed9504 with seed 9504...\n",
      "Current finetuned model is inhosp_mort_baseline_clinical_BERT_1_epoch_512_inhosp_mort_seed7255 with seed 7255...\n",
      "Current finetuned model is inhosp_mort_baseline_clinical_BERT_1_epoch_512_inhosp_mort_seed1031 with seed 1031...\n",
      "Current finetuned model is inhosp_mort_baseline_clinical_BERT_1_epoch_512_inhosp_mort_seed155 with seed 155...\n",
      "Current finetuned model is inhosp_mort_baseline_clinical_BERT_1_epoch_512_inhosp_mort_seed9991 with seed 9991...\n",
      "Current finetuned model is inhosp_mort_baseline_clinical_BERT_1_epoch_512_inhosp_mort_seed4074 with seed 4074...\n",
      "Current finetuned model is inhosp_mort_baseline_clinical_BERT_1_epoch_512_inhosp_mort_seed243 with seed 243...\n",
      "Current finetuned model is inhosp_mort_baseline_clinical_BERT_1_epoch_512_inhosp_mort_seed15 with seed 15...\n",
      "Current finetuned model is inhosp_mort_baseline_clinical_BERT_1_epoch_512_inhosp_mort_seed1844 with seed 1844...\n",
      "Current finetuned model is inhosp_mort_baseline_clinical_BERT_1_epoch_512_inhosp_mort_seed1679 with seed 1679...\n",
      "Current finetuned model is inhosp_mort_baseline_clinical_BERT_1_epoch_512_inhosp_mort_seed9987 with seed 9987...\n",
      "Current finetuned model is inhosp_mort_baseline_clinical_BERT_1_epoch_512_inhosp_mort_seed6713 with seed 6713...\n",
      "Current finetuned model is inhosp_mort_baseline_clinical_BERT_1_epoch_512_inhosp_mort_seed8920 with seed 8920...\n",
      "Current finetuned model is inhosp_mort_baseline_clinical_BERT_1_epoch_512_inhosp_mort_seed2760 with seed 2760...\n",
      "Current finetuned model is inhosp_mort_baseline_clinical_BERT_1_epoch_512_inhosp_mort_seed1612 with seed 1612...\n",
      "Current finetuned model is inhosp_mort_baseline_clinical_BERT_1_epoch_512_inhosp_mort_seed3098 with seed 3098...\n",
      "Current finetuned model is inhosp_mort_baseline_clinical_BERT_1_epoch_512_inhosp_mort_seed9495 with seed 9495...\n",
      "Current finetuned model is inhosp_mort_baseline_clinical_BERT_1_epoch_512_inhosp_mort_seed5195 with seed 5195...\n",
      "Current finetuned model is inhosp_mort_baseline_clinical_BERT_1_epoch_512_inhosp_mort_seed7470 with seed 7470...\n",
      "Current finetuned model is inhosp_mort_baseline_clinical_BERT_1_epoch_512_inhosp_mort_seed6285 with seed 6285...\n",
      "Current finetuned model is inhosp_mort_baseline_clinical_BERT_1_epoch_512_inhosp_mort_seed7500 with seed 7500...\n",
      "Current finetuned model is inhosp_mort_baseline_clinical_BERT_1_epoch_512_inhosp_mort_seed6121 with seed 6121...\n",
      "Current finetuned model is inhosp_mort_baseline_clinical_BERT_1_epoch_512_inhosp_mort_seed144 with seed 144...\n",
      "Current finetuned model is inhosp_mort_baseline_clinical_BERT_1_epoch_512_inhosp_mort_seed4059 with seed 4059...\n",
      "Current finetuned model is inhosp_mort_baseline_clinical_BERT_1_epoch_512_inhosp_mort_seed5056 with seed 5056...\n",
      "Current finetuned model is inhosp_mort_baseline_clinical_BERT_1_epoch_512_inhosp_mort_seed4565 with seed 4565...\n",
      "Current finetuned model is inhosp_mort_baseline_clinical_BERT_1_epoch_512_inhosp_mort_seed7586 with seed 7586...\n",
      "Current finetuned model is inhosp_mort_baseline_clinical_BERT_1_epoch_512_inhosp_mort_seed1306 with seed 1306...\n",
      "Current finetuned model is inhosp_mort_baseline_clinical_BERT_1_epoch_512_inhosp_mort_seed5374 with seed 5374...\n",
      "Current finetuned model is inhosp_mort_baseline_clinical_BERT_1_epoch_512_inhosp_mort_seed7906 with seed 7906...\n",
      "Current finetuned model is inhosp_mort_baseline_clinical_BERT_1_epoch_512_inhosp_mort_seed5396 with seed 5396...\n",
      "Current finetuned model is inhosp_mort_baseline_clinical_BERT_1_epoch_512_inhosp_mort_seed5373 with seed 5373...\n",
      "Current finetuned model is inhosp_mort_baseline_clinical_BERT_1_epoch_512_inhosp_mort_seed905 with seed 905...\n"
     ]
    },
    {
     "output_type": "display_data",
     "data": {
      "text/plain": "|          | 0/? [00:00<?, ?it/s]",
      "application/vnd.jupyter.widget-view+json": {
       "version_major": 2,
       "version_minor": 0,
       "model_id": "94d779f619f34294ba097efa5e73b105"
      }
     },
     "metadata": {}
    },
    {
     "output_type": "stream",
     "name": "stdout",
     "text": [
      "Current finetuned model is inhosp_mort_baseline_clinical_BERT_1_epoch_512_inhosp_mort_seed1150 with seed 1150...\n",
      "Current finetuned model is inhosp_mort_baseline_clinical_BERT_1_epoch_512_inhosp_mort_seed9537 with seed 9537...\n",
      "Current finetuned model is inhosp_mort_baseline_clinical_BERT_1_epoch_512_inhosp_mort_seed2669 with seed 2669...\n",
      "Current finetuned model is inhosp_mort_baseline_clinical_BERT_1_epoch_512_inhosp_mort_seed1478 with seed 1478...\n",
      "Current finetuned model is inhosp_mort_baseline_clinical_BERT_1_epoch_512_inhosp_mort_seed6407 with seed 6407...\n",
      "Current finetuned model is inhosp_mort_baseline_clinical_BERT_1_epoch_512_inhosp_mort_seed7961 with seed 7961...\n",
      "Current finetuned model is inhosp_mort_baseline_clinical_BERT_1_epoch_512_inhosp_mort_seed2561 with seed 2561...\n",
      "Current finetuned model is inhosp_mort_baseline_clinical_BERT_1_epoch_512_inhosp_mort_seed1067 with seed 1067...\n",
      "Current finetuned model is inhosp_mort_baseline_clinical_BERT_1_epoch_512_inhosp_mort_seed2895 with seed 2895...\n",
      "Current finetuned model is inhosp_mort_baseline_clinical_BERT_1_epoch_512_inhosp_mort_seed6221 with seed 6221...\n",
      "Current finetuned model is inhosp_mort_baseline_clinical_BERT_1_epoch_512_inhosp_mort_seed3049 with seed 3049...\n",
      "Current finetuned model is inhosp_mort_baseline_clinical_BERT_1_epoch_512_inhosp_mort_seed5024 with seed 5024...\n",
      "Current finetuned model is inhosp_mort_baseline_clinical_BERT_1_epoch_512_inhosp_mort_seed1888 with seed 1888...\n",
      "Current finetuned model is inhosp_mort_baseline_clinical_BERT_1_epoch_512_inhosp_mort_seed8093 with seed 8093...\n",
      "Current finetuned model is inhosp_mort_baseline_clinical_BERT_1_epoch_512_inhosp_mort_seed6542 with seed 6542...\n",
      "Current finetuned model is inhosp_mort_baseline_clinical_BERT_1_epoch_512_inhosp_mort_seed562 with seed 562...\n",
      "Current finetuned model is inhosp_mort_baseline_clinical_BERT_1_epoch_512_inhosp_mort_seed6771 with seed 6771...\n",
      "Current finetuned model is inhosp_mort_baseline_clinical_BERT_1_epoch_512_inhosp_mort_seed3885 with seed 3885...\n",
      "Current finetuned model is inhosp_mort_baseline_clinical_BERT_1_epoch_512_inhosp_mort_seed7108 with seed 7108...\n",
      "Current finetuned model is inhosp_mort_baseline_clinical_BERT_1_epoch_512_inhosp_mort_seed9394 with seed 9394...\n",
      "Current finetuned model is inhosp_mort_baseline_clinical_BERT_1_epoch_512_inhosp_mort_seed8689 with seed 8689...\n",
      "Current finetuned model is inhosp_mort_baseline_clinical_BERT_1_epoch_512_inhosp_mort_seed4409 with seed 4409...\n",
      "Current finetuned model is inhosp_mort_baseline_clinical_BERT_1_epoch_512_inhosp_mort_seed2877 with seed 2877...\n",
      "Current finetuned model is inhosp_mort_baseline_clinical_BERT_1_epoch_512_inhosp_mort_seed715 with seed 715...\n",
      "Current finetuned model is inhosp_mort_baseline_clinical_BERT_1_epoch_512_inhosp_mort_seed3428 with seed 3428...\n",
      "Current finetuned model is inhosp_mort_baseline_clinical_BERT_1_epoch_512_inhosp_mort_seed9287 with seed 9287...\n",
      "Current finetuned model is inhosp_mort_baseline_clinical_BERT_1_epoch_512_inhosp_mort_seed1798 with seed 1798...\n",
      "Current finetuned model is inhosp_mort_baseline_clinical_BERT_1_epoch_512_inhosp_mort_seed9529 with seed 9529...\n",
      "Current finetuned model is inhosp_mort_baseline_clinical_BERT_1_epoch_512_inhosp_mort_seed2962 with seed 2962...\n",
      "Current finetuned model is inhosp_mort_baseline_clinical_BERT_1_epoch_512_inhosp_mort_seed542 with seed 542...\n",
      "Current finetuned model is inhosp_mort_baseline_clinical_BERT_1_epoch_512_inhosp_mort_seed9552 with seed 9552...\n",
      "Current finetuned model is inhosp_mort_baseline_clinical_BERT_1_epoch_512_inhosp_mort_seed7751 with seed 7751...\n",
      "Current finetuned model is inhosp_mort_baseline_clinical_BERT_1_epoch_512_inhosp_mort_seed3606 with seed 3606...\n",
      "Current finetuned model is inhosp_mort_baseline_clinical_BERT_1_epoch_512_inhosp_mort_seed1214 with seed 1214...\n",
      "Current finetuned model is inhosp_mort_baseline_clinical_BERT_1_epoch_512_inhosp_mort_seed96 with seed 96...\n",
      "Current finetuned model is inhosp_mort_baseline_clinical_BERT_1_epoch_512_inhosp_mort_seed5848 with seed 5848...\n",
      "Current finetuned model is inhosp_mort_baseline_clinical_BERT_1_epoch_512_inhosp_mort_seed7676 with seed 7676...\n",
      "Current finetuned model is inhosp_mort_baseline_clinical_BERT_1_epoch_512_inhosp_mort_seed1110 with seed 1110...\n",
      "Current finetuned model is inhosp_mort_baseline_clinical_BERT_1_epoch_512_inhosp_mort_seed2516 with seed 2516...\n",
      "Current finetuned model is inhosp_mort_baseline_clinical_BERT_1_epoch_512_inhosp_mort_seed431 with seed 431...\n",
      "Current finetuned model is inhosp_mort_baseline_clinical_BERT_1_epoch_512_inhosp_mort_seed1046 with seed 1046...\n",
      "Current finetuned model is inhosp_mort_baseline_clinical_BERT_1_epoch_512_inhosp_mort_seed3047 with seed 3047...\n",
      "Current finetuned model is inhosp_mort_baseline_clinical_BERT_1_epoch_512_inhosp_mort_seed5271 with seed 5271...\n",
      "Current finetuned model is inhosp_mort_baseline_clinical_BERT_1_epoch_512_inhosp_mort_seed8444 with seed 8444...\n",
      "Current finetuned model is inhosp_mort_baseline_clinical_BERT_1_epoch_512_inhosp_mort_seed2244 with seed 2244...\n",
      "Current finetuned model is inhosp_mort_baseline_clinical_BERT_1_epoch_512_inhosp_mort_seed3562 with seed 3562...\n",
      "Current finetuned model is inhosp_mort_baseline_clinical_BERT_1_epoch_512_inhosp_mort_seed9832 with seed 9832...\n",
      "Current finetuned model is inhosp_mort_baseline_clinical_BERT_1_epoch_512_inhosp_mort_seed4039 with seed 4039...\n",
      "Current finetuned model is inhosp_mort_baseline_clinical_BERT_1_epoch_512_inhosp_mort_seed648 with seed 648...\n",
      "Current finetuned model is inhosp_mort_baseline_clinical_BERT_1_epoch_512_inhosp_mort_seed9764 with seed 9764...\n",
      "Current finetuned model is inhosp_mort_baseline_clinical_BERT_1_epoch_512_inhosp_mort_seed753 with seed 753...\n",
      "Current finetuned model is inhosp_mort_baseline_clinical_BERT_1_epoch_512_inhosp_mort_seed4415 with seed 4415...\n",
      "Current finetuned model is inhosp_mort_baseline_clinical_BERT_1_epoch_512_inhosp_mort_seed5192 with seed 5192...\n",
      "Current finetuned model is inhosp_mort_baseline_clinical_BERT_1_epoch_512_inhosp_mort_seed2944 with seed 2944...\n",
      "Current finetuned model is inhosp_mort_baseline_clinical_BERT_1_epoch_512_inhosp_mort_seed461 with seed 461...\n",
      "Current finetuned model is inhosp_mort_baseline_clinical_BERT_1_epoch_512_inhosp_mort_seed4764 with seed 4764...\n",
      "Current finetuned model is inhosp_mort_baseline_clinical_BERT_1_epoch_512_inhosp_mort_seed4791 with seed 4791...\n",
      "Current finetuned model is inhosp_mort_baseline_clinical_BERT_1_epoch_512_inhosp_mort_seed235 with seed 235...\n",
      "Current finetuned model is inhosp_mort_baseline_clinical_BERT_1_epoch_512_inhosp_mort_seed1337 with seed 1337...\n",
      "Current finetuned model is inhosp_mort_baseline_clinical_BERT_1_epoch_512_inhosp_mort_seed1372 with seed 1372...\n",
      "Current finetuned model is inhosp_mort_baseline_clinical_BERT_1_epoch_512_inhosp_mort_seed4225 with seed 4225...\n",
      "Current finetuned model is inhosp_mort_baseline_clinical_BERT_1_epoch_512_inhosp_mort_seed8151 with seed 8151...\n",
      "Current finetuned model is inhosp_mort_baseline_clinical_BERT_1_epoch_512_inhosp_mort_seed7710 with seed 7710...\n",
      "Current finetuned model is inhosp_mort_baseline_clinical_BERT_1_epoch_512_inhosp_mort_seed9719 with seed 9719...\n",
      "Current finetuned model is inhosp_mort_baseline_clinical_BERT_1_epoch_512_inhosp_mort_seed3462 with seed 3462...\n",
      "Current finetuned model is inhosp_mort_baseline_clinical_BERT_1_epoch_512_inhosp_mort_seed7813 with seed 7813...\n",
      "Current finetuned model is inhosp_mort_baseline_clinical_BERT_1_epoch_512_inhosp_mort_seed9504 with seed 9504...\n",
      "Current finetuned model is inhosp_mort_baseline_clinical_BERT_1_epoch_512_inhosp_mort_seed7255 with seed 7255...\n",
      "Current finetuned model is inhosp_mort_baseline_clinical_BERT_1_epoch_512_inhosp_mort_seed1031 with seed 1031...\n",
      "Current finetuned model is inhosp_mort_baseline_clinical_BERT_1_epoch_512_inhosp_mort_seed155 with seed 155...\n",
      "Current finetuned model is inhosp_mort_baseline_clinical_BERT_1_epoch_512_inhosp_mort_seed9991 with seed 9991...\n",
      "Current finetuned model is inhosp_mort_baseline_clinical_BERT_1_epoch_512_inhosp_mort_seed4074 with seed 4074...\n",
      "Current finetuned model is inhosp_mort_baseline_clinical_BERT_1_epoch_512_inhosp_mort_seed243 with seed 243...\n",
      "Current finetuned model is inhosp_mort_baseline_clinical_BERT_1_epoch_512_inhosp_mort_seed15 with seed 15...\n",
      "Current finetuned model is inhosp_mort_baseline_clinical_BERT_1_epoch_512_inhosp_mort_seed1844 with seed 1844...\n",
      "Current finetuned model is inhosp_mort_baseline_clinical_BERT_1_epoch_512_inhosp_mort_seed1679 with seed 1679...\n",
      "Current finetuned model is inhosp_mort_baseline_clinical_BERT_1_epoch_512_inhosp_mort_seed9987 with seed 9987...\n",
      "Current finetuned model is inhosp_mort_baseline_clinical_BERT_1_epoch_512_inhosp_mort_seed6713 with seed 6713...\n",
      "Current finetuned model is inhosp_mort_baseline_clinical_BERT_1_epoch_512_inhosp_mort_seed8920 with seed 8920...\n",
      "Current finetuned model is inhosp_mort_baseline_clinical_BERT_1_epoch_512_inhosp_mort_seed2760 with seed 2760...\n",
      "Current finetuned model is inhosp_mort_baseline_clinical_BERT_1_epoch_512_inhosp_mort_seed1612 with seed 1612...\n",
      "Current finetuned model is inhosp_mort_baseline_clinical_BERT_1_epoch_512_inhosp_mort_seed3098 with seed 3098...\n",
      "Current finetuned model is inhosp_mort_baseline_clinical_BERT_1_epoch_512_inhosp_mort_seed9495 with seed 9495...\n",
      "Current finetuned model is inhosp_mort_baseline_clinical_BERT_1_epoch_512_inhosp_mort_seed5195 with seed 5195...\n",
      "Current finetuned model is inhosp_mort_baseline_clinical_BERT_1_epoch_512_inhosp_mort_seed7470 with seed 7470...\n",
      "Current finetuned model is inhosp_mort_baseline_clinical_BERT_1_epoch_512_inhosp_mort_seed6285 with seed 6285...\n",
      "Current finetuned model is inhosp_mort_baseline_clinical_BERT_1_epoch_512_inhosp_mort_seed7500 with seed 7500...\n",
      "Current finetuned model is inhosp_mort_baseline_clinical_BERT_1_epoch_512_inhosp_mort_seed6121 with seed 6121...\n",
      "Current finetuned model is inhosp_mort_baseline_clinical_BERT_1_epoch_512_inhosp_mort_seed144 with seed 144...\n",
      "Current finetuned model is inhosp_mort_baseline_clinical_BERT_1_epoch_512_inhosp_mort_seed4059 with seed 4059...\n",
      "Current finetuned model is inhosp_mort_baseline_clinical_BERT_1_epoch_512_inhosp_mort_seed5056 with seed 5056...\n",
      "Current finetuned model is inhosp_mort_baseline_clinical_BERT_1_epoch_512_inhosp_mort_seed4565 with seed 4565...\n",
      "Current finetuned model is inhosp_mort_baseline_clinical_BERT_1_epoch_512_inhosp_mort_seed7586 with seed 7586...\n",
      "Current finetuned model is inhosp_mort_baseline_clinical_BERT_1_epoch_512_inhosp_mort_seed1306 with seed 1306...\n",
      "Current finetuned model is inhosp_mort_baseline_clinical_BERT_1_epoch_512_inhosp_mort_seed5374 with seed 5374...\n",
      "Current finetuned model is inhosp_mort_baseline_clinical_BERT_1_epoch_512_inhosp_mort_seed7906 with seed 7906...\n",
      "Current finetuned model is inhosp_mort_baseline_clinical_BERT_1_epoch_512_inhosp_mort_seed5396 with seed 5396...\n",
      "Current finetuned model is inhosp_mort_baseline_clinical_BERT_1_epoch_512_inhosp_mort_seed5373 with seed 5373...\n",
      "Current finetuned model is inhosp_mort_baseline_clinical_BERT_1_epoch_512_inhosp_mort_seed905 with seed 905...\n"
     ]
    }
   ],
   "source": [
    "dfs = {}\n",
    "gap_infos_hyp = {}\n",
    "gap_infos_naive = {}\n",
    "for sheet in sheets:\n",
    "    res = pd.DataFrame()\n",
    "    for root, dirs, files in tqdm(os.walk(folder)):\n",
    "        for d in dirs:\n",
    "            mname = d\n",
    "            if 'seed' not in mname:\n",
    "                continue\n",
    "            files = sorted([os.path.join(root, d, f) for f in os.listdir(os.path.join(root, d)) if 'results' in f or 'final_scores' in f]) \n",
    "            for file in files:\n",
    "                if 'final_scores' in file:\n",
    "                    df = pd.read_csv(file, \": \", header=None, index_col=0)\n",
    "                    df = pd.DataFrame(df.values.transpose(), columns=df.index)\n",
    "                    seed = str(int(df.Seed.item()))\n",
    "                    continue\n",
    "\n",
    "                \n",
    "\n",
    "                print(f'Current finetuned model is {mname} with seed {seed}...')\n",
    "\n",
    "                if sheet == 'overall':\n",
    "                    print(os.path.join(root, file))\n",
    "                    df = pd.read_excel(os.path.join(root, file), index_col=0, sheet_name = 'all')\n",
    "                    column = 'all_auroc'\n",
    "                    res.loc[target, seed + '_' + column] = df.loc[column, 'avg']\n",
    "                    res.loc[target, seed + '_' + column +'lowerCI'] = df.loc[column, '2.5%']\n",
    "                    res.loc[target, seed + '_' + column +'upperCI'] = df.loc[column, '97.5%']\n",
    "\n",
    "                elif sheet == 'gender':\n",
    "                    df = pd.read_excel(os.path.join(root, file), index_col=0, sheet_name = 'gender')\n",
    "                    columns = ['gender==\"M\"_auroc', 'gender==\"F\"_auroc']\n",
    "\n",
    "                    for i in columns:\n",
    "                        res.loc[target, seed + '_' + i] = df.loc[i, 'avg']\n",
    "                        res.loc[target, seed + '_' + i +'lowerCI'] = df.loc[i, '2.5%']\n",
    "                        res.loc[target, seed + '_' + i +'upperCI'] = df.loc[i, '97.5%']\n",
    "                \n",
    "                elif sheet == 'language':\n",
    "                    df = pd.read_excel(os.path.join(root, file), index_col=0, sheet_name = 'language_to_use')\n",
    "                    columns = ['language_to_use==\"English\"_auroc', 'language_to_use==\"Other\"_auroc']\n",
    "\n",
    "                    for i in columns:\n",
    "                        res.loc[target, seed + '_' + i] = df.loc[i, 'avg']\n",
    "                        res.loc[target, seed + '_' + i +'lowerCI'] = df.loc[i, '2.5%']\n",
    "                        res.loc[target, seed + '_' + i +'upperCI'] = df.loc[i, '97.5%']\n",
    "                                              \n",
    "                elif sheet == 'insurance':                            \n",
    "                    df = pd.read_excel(os.path.join(root, file), index_col=0, sheet_name = 'insurance')\n",
    "                    columns = ['insurance==\"Medicare\"_auroc', 'insurance==\"Private\"_auroc', 'insurance==\"Medicaid\"_auroc']\n",
    "       \n",
    "                    for i in columns:\n",
    "                        res.loc[target, seed + '_' + i] = df.loc[i, 'avg']\n",
    "                        res.loc[target, seed + '_' + i +'lowerCI'] = df.loc[i, '2.5%']\n",
    "                        res.loc[target, seed + '_' + i +'upperCI'] = df.loc[i, '97.5%']\n",
    "\n",
    "\n",
    "                elif sheet == 'ethnicity':\n",
    "                    df = pd.read_excel(os.path.join(root, file), index_col=0, sheet_name = 'ethnicity_to_use')\n",
    "                    columns = ['ethnicity_to_use==\"WHITE\"_auroc', 'ethnicity_to_use==\"BLACK\"_auroc', 'ethnicity_to_use==\"ASIAN\"_auroc', \n",
    "                                'ethnicity_to_use==\"HISPANIC/LATINO\"_auroc', 'ethnicity_to_use==\"OTHER\"_auroc']\n",
    "\n",
    "                    for i in columns:\n",
    "                        res.loc[target, seed + '_' + i] = df.loc[i, 'avg']\n",
    "                        res.loc[target, seed + '_' + i +'lowerCI'] = df.loc[i, '2.5%']\n",
    "                        res.loc[target, seed + '_' + i +'upperCI'] = df.loc[i, '97.5%']\n",
    "    \n",
    "    \n",
    "    # if sheet == 'gender':\n",
    "    #     for m in allowed_models[sheet]:\n",
    "    #         for i in ('Parity Gap (M-F)','Recall Gap','Specificity Gap'):\n",
    "    #             add_gap(m, i, sheet, res)\n",
    "                \n",
    "    # if sheet == 'language':\n",
    "    #     for m in allowed_models[sheet]:\n",
    "    #         for i in ('Parity Gap (E-O)','Recall Gap','Specificity Gap'):\n",
    "    #             add_gap(m, i, sheet, res)\n",
    "    \n",
    "    # if sheet == 'insurance':\n",
    "    #     for m in allowed_models[sheet]:\n",
    "    #         for g in ['Medicare', 'Private', 'Medicaid']:\n",
    "    #             for i in ('\"%s\"_'%g + t for t in ['dgap_max','egap_positive_max','egap_negative_max']):\n",
    "    #                 add_gap(m, i, sheet, res)\n",
    "                    \n",
    "    # if sheet == 'ethnicity':\n",
    "    #     for m in allowed_models[sheet]:\n",
    "    #         for g in ['WHITE', 'BLACK', 'ASIAN', 'HISPANIC/LATINO', 'OTHER']:\n",
    "    #             for i in ('\"%s\"_'%g + t for t in ['dgap_max','egap_positive_max','egap_negative_max']):\n",
    "    #                 add_gap(m, i, sheet, res)\n",
    "    \n",
    "    dfs[sheet] = res.sort_index()"
   ]
  },
  {
   "cell_type": "code",
   "execution_count": 30,
   "metadata": {},
   "outputs": [],
   "source": [
    "def process_sheet(df):\n",
    "    temp = defaultdict(dict)\n",
    "    items = [(int(k.split('_')[0]), k.split('==\"')[1].split('\"_')[0], k.split('_')[-1], v.item()) for k, v in df.items()]\n",
    "\n",
    "    for item in items:\n",
    "        temp[(item[0], item[1])][item[2]] = item[3]\n",
    "\n",
    "    rowlist = []\n",
    "    for k, v in temp.items():\n",
    "        row = {}\n",
    "        row['seed'] = k[0]\n",
    "        row['target'] = k[1]\n",
    "        row['auroc'] = v['auroc']\n",
    "        row['lower'] = v['auroclowerCI']\n",
    "        row['upper'] = v['aurocupperCI']\n",
    "        rowlist.append(row)\n",
    "\n",
    "    return pd.DataFrame(rowlist).sort_values(['seed', 'target'])\n"
   ]
  },
  {
   "cell_type": "code",
   "execution_count": 64,
   "metadata": {},
   "outputs": [
    {
     "output_type": "execute_result",
     "data": {
      "text/plain": [
       "<matplotlib.axes._subplots.AxesSubplot at 0x7f5e63c19c10>"
      ]
     },
     "metadata": {},
     "execution_count": 64
    },
    {
     "output_type": "display_data",
     "data": {
      "text/plain": "<Figure size 1152x720 with 1 Axes>",
      "image/svg+xml": "<?xml version=\"1.0\" encoding=\"utf-8\" standalone=\"no\"?>\n<!DOCTYPE svg PUBLIC \"-//W3C//DTD SVG 1.1//EN\"\n  \"http://www.w3.org/Graphics/SVG/1.1/DTD/svg11.dtd\">\n<!-- Created with matplotlib (https://matplotlib.org/) -->\n<svg height=\"574.678125pt\" version=\"1.1\" viewBox=\"0 0 940.603125 574.678125\" width=\"940.603125pt\" xmlns=\"http://www.w3.org/2000/svg\" xmlns:xlink=\"http://www.w3.org/1999/xlink\">\n <defs>\n  <style type=\"text/css\">\n*{stroke-linecap:butt;stroke-linejoin:round;}\n  </style>\n </defs>\n <g id=\"figure_1\">\n  <g id=\"patch_1\">\n   <path d=\"M 0 574.678125 \nL 940.603125 574.678125 \nL 940.603125 0 \nL 0 0 \nz\n\" style=\"fill:none;\"/>\n  </g>\n  <g id=\"axes_1\">\n   <g id=\"patch_2\">\n    <path d=\"M 40.603125 550.8 \nL 933.403125 550.8 \nL 933.403125 7.2 \nL 40.603125 7.2 \nz\n\" style=\"fill:#ffffff;\"/>\n   </g>\n   <g id=\"patch_3\">\n    <path clip-path=\"url(#p2593098541)\" d=\"M 592.436066 550.8 \nL 622.47459 550.8 \nL 622.47459 532.310204 \nL 592.436066 532.310204 \nz\n\" style=\"fill:#006400;\"/>\n   </g>\n   <g id=\"patch_4\">\n    <path clip-path=\"url(#p2593098541)\" d=\"M 622.47459 550.8 \nL 652.513114 550.8 \nL 652.513114 513.820408 \nL 622.47459 513.820408 \nz\n\" style=\"fill:#006400;\"/>\n   </g>\n   <g id=\"patch_5\">\n    <path clip-path=\"url(#p2593098541)\" d=\"M 652.513114 550.8 \nL 682.551638 550.8 \nL 682.551638 439.861224 \nL 652.513114 439.861224 \nz\n\" style=\"fill:#006400;\"/>\n   </g>\n   <g id=\"patch_6\">\n    <path clip-path=\"url(#p2593098541)\" d=\"M 682.551638 550.8 \nL 712.590162 550.8 \nL 712.590162 347.412245 \nL 682.551638 347.412245 \nz\n\" style=\"fill:#006400;\"/>\n   </g>\n   <g id=\"patch_7\">\n    <path clip-path=\"url(#p2593098541)\" d=\"M 712.590162 550.8 \nL 742.628686 550.8 \nL 742.628686 236.473469 \nL 712.590162 236.473469 \nz\n\" style=\"fill:#006400;\"/>\n   </g>\n   <g id=\"patch_8\">\n    <path clip-path=\"url(#p2593098541)\" d=\"M 742.628686 550.8 \nL 772.66721 550.8 \nL 772.66721 217.983673 \nL 742.628686 217.983673 \nz\n\" style=\"fill:#006400;\"/>\n   </g>\n   <g id=\"patch_9\">\n    <path clip-path=\"url(#p2593098541)\" d=\"M 772.66721 550.8 \nL 802.705735 550.8 \nL 802.705735 33.085714 \nL 772.66721 33.085714 \nz\n\" style=\"fill:#006400;\"/>\n   </g>\n   <g id=\"patch_10\">\n    <path clip-path=\"url(#p2593098541)\" d=\"M 802.705735 550.8 \nL 832.744259 550.8 \nL 832.744259 439.861224 \nL 802.705735 439.861224 \nz\n\" style=\"fill:#006400;\"/>\n   </g>\n   <g id=\"patch_11\">\n    <path clip-path=\"url(#p2593098541)\" d=\"M 832.744259 550.8 \nL 862.782783 550.8 \nL 862.782783 458.35102 \nL 832.744259 458.35102 \nz\n\" style=\"fill:#006400;\"/>\n   </g>\n   <g id=\"patch_12\">\n    <path clip-path=\"url(#p2593098541)\" d=\"M 862.782783 550.8 \nL 892.821307 550.8 \nL 892.821307 458.35102 \nL 862.782783 458.35102 \nz\n\" style=\"fill:#006400;\"/>\n   </g>\n   <g id=\"patch_13\">\n    <path clip-path=\"url(#p2593098541)\" d=\"M 81.184943 550.8 \nL 121.223497 550.8 \nL 121.223497 476.840816 \nL 81.184943 476.840816 \nz\n\" style=\"fill:#00008b;\"/>\n   </g>\n   <g id=\"patch_14\">\n    <path clip-path=\"url(#p2593098541)\" d=\"M 121.223497 550.8 \nL 161.262051 550.8 \nL 161.262051 402.881633 \nL 121.223497 402.881633 \nz\n\" style=\"fill:#00008b;\"/>\n   </g>\n   <g id=\"patch_15\">\n    <path clip-path=\"url(#p2593098541)\" d=\"M 161.262051 550.8 \nL 201.300606 550.8 \nL 201.300606 365.902041 \nL 161.262051 365.902041 \nz\n\" style=\"fill:#00008b;\"/>\n   </g>\n   <g id=\"patch_16\">\n    <path clip-path=\"url(#p2593098541)\" d=\"M 201.300606 550.8 \nL 241.33916 550.8 \nL 241.33916 162.514286 \nL 201.300606 162.514286 \nz\n\" style=\"fill:#00008b;\"/>\n   </g>\n   <g id=\"patch_17\">\n    <path clip-path=\"url(#p2593098541)\" d=\"M 241.33916 550.8 \nL 281.377714 550.8 \nL 281.377714 199.493878 \nL 241.33916 199.493878 \nz\n\" style=\"fill:#00008b;\"/>\n   </g>\n   <g id=\"patch_18\">\n    <path clip-path=\"url(#p2593098541)\" d=\"M 281.377714 550.8 \nL 321.416268 550.8 \nL 321.416268 254.963265 \nL 281.377714 254.963265 \nz\n\" style=\"fill:#00008b;\"/>\n   </g>\n   <g id=\"patch_19\">\n    <path clip-path=\"url(#p2593098541)\" d=\"M 321.416268 550.8 \nL 361.454822 550.8 \nL 361.454822 384.391837 \nL 321.416268 384.391837 \nz\n\" style=\"fill:#00008b;\"/>\n   </g>\n   <g id=\"patch_20\">\n    <path clip-path=\"url(#p2593098541)\" d=\"M 361.454822 550.8 \nL 401.493376 550.8 \nL 401.493376 458.35102 \nL 361.454822 458.35102 \nz\n\" style=\"fill:#00008b;\"/>\n   </g>\n   <g id=\"patch_21\">\n    <path clip-path=\"url(#p2593098541)\" d=\"M 401.493376 550.8 \nL 441.53193 550.8 \nL 441.53193 458.35102 \nL 401.493376 458.35102 \nz\n\" style=\"fill:#00008b;\"/>\n   </g>\n   <g id=\"patch_22\">\n    <path clip-path=\"url(#p2593098541)\" d=\"M 441.53193 550.8 \nL 481.570485 550.8 \nL 481.570485 513.820408 \nL 441.53193 513.820408 \nz\n\" style=\"fill:#00008b;\"/>\n   </g>\n   <g id=\"matplotlib.axis_1\">\n    <g id=\"xtick_1\">\n     <g id=\"line2d_1\">\n      <defs>\n       <path d=\"M 0 0 \nL 0 3.5 \n\" id=\"m1c868c3f48\" style=\"stroke:#000000;stroke-width:0.8;\"/>\n      </defs>\n      <g>\n       <use style=\"stroke:#000000;stroke-width:0.8;\" x=\"143.697343\" xlink:href=\"#m1c868c3f48\" y=\"550.8\"/>\n      </g>\n     </g>\n     <g id=\"text_1\">\n      <!-- 0.82 -->\n      <defs>\n       <path d=\"M 31.78125 66.40625 \nQ 24.171875 66.40625 20.328125 58.90625 \nQ 16.5 51.421875 16.5 36.375 \nQ 16.5 21.390625 20.328125 13.890625 \nQ 24.171875 6.390625 31.78125 6.390625 \nQ 39.453125 6.390625 43.28125 13.890625 \nQ 47.125 21.390625 47.125 36.375 \nQ 47.125 51.421875 43.28125 58.90625 \nQ 39.453125 66.40625 31.78125 66.40625 \nz\nM 31.78125 74.21875 \nQ 44.046875 74.21875 50.515625 64.515625 \nQ 56.984375 54.828125 56.984375 36.375 \nQ 56.984375 17.96875 50.515625 8.265625 \nQ 44.046875 -1.421875 31.78125 -1.421875 \nQ 19.53125 -1.421875 13.0625 8.265625 \nQ 6.59375 17.96875 6.59375 36.375 \nQ 6.59375 54.828125 13.0625 64.515625 \nQ 19.53125 74.21875 31.78125 74.21875 \nz\n\" id=\"DejaVuSans-48\"/>\n       <path d=\"M 10.6875 12.40625 \nL 21 12.40625 \nL 21 0 \nL 10.6875 0 \nz\n\" id=\"DejaVuSans-46\"/>\n       <path d=\"M 31.78125 34.625 \nQ 24.75 34.625 20.71875 30.859375 \nQ 16.703125 27.09375 16.703125 20.515625 \nQ 16.703125 13.921875 20.71875 10.15625 \nQ 24.75 6.390625 31.78125 6.390625 \nQ 38.8125 6.390625 42.859375 10.171875 \nQ 46.921875 13.96875 46.921875 20.515625 \nQ 46.921875 27.09375 42.890625 30.859375 \nQ 38.875 34.625 31.78125 34.625 \nz\nM 21.921875 38.8125 \nQ 15.578125 40.375 12.03125 44.71875 \nQ 8.5 49.078125 8.5 55.328125 \nQ 8.5 64.0625 14.71875 69.140625 \nQ 20.953125 74.21875 31.78125 74.21875 \nQ 42.671875 74.21875 48.875 69.140625 \nQ 55.078125 64.0625 55.078125 55.328125 \nQ 55.078125 49.078125 51.53125 44.71875 \nQ 48 40.375 41.703125 38.8125 \nQ 48.828125 37.15625 52.796875 32.3125 \nQ 56.78125 27.484375 56.78125 20.515625 \nQ 56.78125 9.90625 50.3125 4.234375 \nQ 43.84375 -1.421875 31.78125 -1.421875 \nQ 19.734375 -1.421875 13.25 4.234375 \nQ 6.78125 9.90625 6.78125 20.515625 \nQ 6.78125 27.484375 10.78125 32.3125 \nQ 14.796875 37.15625 21.921875 38.8125 \nz\nM 18.3125 54.390625 \nQ 18.3125 48.734375 21.84375 45.5625 \nQ 25.390625 42.390625 31.78125 42.390625 \nQ 38.140625 42.390625 41.71875 45.5625 \nQ 45.3125 48.734375 45.3125 54.390625 \nQ 45.3125 60.0625 41.71875 63.234375 \nQ 38.140625 66.40625 31.78125 66.40625 \nQ 25.390625 66.40625 21.84375 63.234375 \nQ 18.3125 60.0625 18.3125 54.390625 \nz\n\" id=\"DejaVuSans-56\"/>\n       <path d=\"M 19.1875 8.296875 \nL 53.609375 8.296875 \nL 53.609375 0 \nL 7.328125 0 \nL 7.328125 8.296875 \nQ 12.9375 14.109375 22.625 23.890625 \nQ 32.328125 33.6875 34.8125 36.53125 \nQ 39.546875 41.84375 41.421875 45.53125 \nQ 43.3125 49.21875 43.3125 52.78125 \nQ 43.3125 58.59375 39.234375 62.25 \nQ 35.15625 65.921875 28.609375 65.921875 \nQ 23.96875 65.921875 18.8125 64.3125 \nQ 13.671875 62.703125 7.8125 59.421875 \nL 7.8125 69.390625 \nQ 13.765625 71.78125 18.9375 73 \nQ 24.125 74.21875 28.421875 74.21875 \nQ 39.75 74.21875 46.484375 68.546875 \nQ 53.21875 62.890625 53.21875 53.421875 \nQ 53.21875 48.921875 51.53125 44.890625 \nQ 49.859375 40.875 45.40625 35.40625 \nQ 44.1875 33.984375 37.640625 27.21875 \nQ 31.109375 20.453125 19.1875 8.296875 \nz\n\" id=\"DejaVuSans-50\"/>\n      </defs>\n      <g transform=\"translate(132.564531 565.398438)scale(0.1 -0.1)\">\n       <use xlink:href=\"#DejaVuSans-48\"/>\n       <use x=\"63.623047\" xlink:href=\"#DejaVuSans-46\"/>\n       <use x=\"95.410156\" xlink:href=\"#DejaVuSans-56\"/>\n       <use x=\"159.033203\" xlink:href=\"#DejaVuSans-50\"/>\n      </g>\n     </g>\n    </g>\n    <g id=\"xtick_2\">\n     <g id=\"line2d_2\">\n      <g>\n       <use style=\"stroke:#000000;stroke-width:0.8;\" x=\"262.075495\" xlink:href=\"#m1c868c3f48\" y=\"550.8\"/>\n      </g>\n     </g>\n     <g id=\"text_2\">\n      <!-- 0.83 -->\n      <defs>\n       <path d=\"M 40.578125 39.3125 \nQ 47.65625 37.796875 51.625 33 \nQ 55.609375 28.21875 55.609375 21.1875 \nQ 55.609375 10.40625 48.1875 4.484375 \nQ 40.765625 -1.421875 27.09375 -1.421875 \nQ 22.515625 -1.421875 17.65625 -0.515625 \nQ 12.796875 0.390625 7.625 2.203125 \nL 7.625 11.71875 \nQ 11.71875 9.328125 16.59375 8.109375 \nQ 21.484375 6.890625 26.8125 6.890625 \nQ 36.078125 6.890625 40.9375 10.546875 \nQ 45.796875 14.203125 45.796875 21.1875 \nQ 45.796875 27.640625 41.28125 31.265625 \nQ 36.765625 34.90625 28.71875 34.90625 \nL 20.21875 34.90625 \nL 20.21875 43.015625 \nL 29.109375 43.015625 \nQ 36.375 43.015625 40.234375 45.921875 \nQ 44.09375 48.828125 44.09375 54.296875 \nQ 44.09375 59.90625 40.109375 62.90625 \nQ 36.140625 65.921875 28.71875 65.921875 \nQ 24.65625 65.921875 20.015625 65.03125 \nQ 15.375 64.15625 9.8125 62.3125 \nL 9.8125 71.09375 \nQ 15.4375 72.65625 20.34375 73.4375 \nQ 25.25 74.21875 29.59375 74.21875 \nQ 40.828125 74.21875 47.359375 69.109375 \nQ 53.90625 64.015625 53.90625 55.328125 \nQ 53.90625 49.265625 50.4375 45.09375 \nQ 46.96875 40.921875 40.578125 39.3125 \nz\n\" id=\"DejaVuSans-51\"/>\n      </defs>\n      <g transform=\"translate(250.942683 565.398438)scale(0.1 -0.1)\">\n       <use xlink:href=\"#DejaVuSans-48\"/>\n       <use x=\"63.623047\" xlink:href=\"#DejaVuSans-46\"/>\n       <use x=\"95.410156\" xlink:href=\"#DejaVuSans-56\"/>\n       <use x=\"159.033203\" xlink:href=\"#DejaVuSans-51\"/>\n      </g>\n     </g>\n    </g>\n    <g id=\"xtick_3\">\n     <g id=\"line2d_3\">\n      <g>\n       <use style=\"stroke:#000000;stroke-width:0.8;\" x=\"380.453647\" xlink:href=\"#m1c868c3f48\" y=\"550.8\"/>\n      </g>\n     </g>\n     <g id=\"text_3\">\n      <!-- 0.84 -->\n      <defs>\n       <path d=\"M 37.796875 64.3125 \nL 12.890625 25.390625 \nL 37.796875 25.390625 \nz\nM 35.203125 72.90625 \nL 47.609375 72.90625 \nL 47.609375 25.390625 \nL 58.015625 25.390625 \nL 58.015625 17.1875 \nL 47.609375 17.1875 \nL 47.609375 0 \nL 37.796875 0 \nL 37.796875 17.1875 \nL 4.890625 17.1875 \nL 4.890625 26.703125 \nz\n\" id=\"DejaVuSans-52\"/>\n      </defs>\n      <g transform=\"translate(369.320835 565.398438)scale(0.1 -0.1)\">\n       <use xlink:href=\"#DejaVuSans-48\"/>\n       <use x=\"63.623047\" xlink:href=\"#DejaVuSans-46\"/>\n       <use x=\"95.410156\" xlink:href=\"#DejaVuSans-56\"/>\n       <use x=\"159.033203\" xlink:href=\"#DejaVuSans-52\"/>\n      </g>\n     </g>\n    </g>\n    <g id=\"xtick_4\">\n     <g id=\"line2d_4\">\n      <g>\n       <use style=\"stroke:#000000;stroke-width:0.8;\" x=\"498.831799\" xlink:href=\"#m1c868c3f48\" y=\"550.8\"/>\n      </g>\n     </g>\n     <g id=\"text_4\">\n      <!-- 0.85 -->\n      <defs>\n       <path d=\"M 10.796875 72.90625 \nL 49.515625 72.90625 \nL 49.515625 64.59375 \nL 19.828125 64.59375 \nL 19.828125 46.734375 \nQ 21.96875 47.46875 24.109375 47.828125 \nQ 26.265625 48.1875 28.421875 48.1875 \nQ 40.625 48.1875 47.75 41.5 \nQ 54.890625 34.8125 54.890625 23.390625 \nQ 54.890625 11.625 47.5625 5.09375 \nQ 40.234375 -1.421875 26.90625 -1.421875 \nQ 22.3125 -1.421875 17.546875 -0.640625 \nQ 12.796875 0.140625 7.71875 1.703125 \nL 7.71875 11.625 \nQ 12.109375 9.234375 16.796875 8.0625 \nQ 21.484375 6.890625 26.703125 6.890625 \nQ 35.15625 6.890625 40.078125 11.328125 \nQ 45.015625 15.765625 45.015625 23.390625 \nQ 45.015625 31 40.078125 35.4375 \nQ 35.15625 39.890625 26.703125 39.890625 \nQ 22.75 39.890625 18.8125 39.015625 \nQ 14.890625 38.140625 10.796875 36.28125 \nz\n\" id=\"DejaVuSans-53\"/>\n      </defs>\n      <g transform=\"translate(487.698986 565.398438)scale(0.1 -0.1)\">\n       <use xlink:href=\"#DejaVuSans-48\"/>\n       <use x=\"63.623047\" xlink:href=\"#DejaVuSans-46\"/>\n       <use x=\"95.410156\" xlink:href=\"#DejaVuSans-56\"/>\n       <use x=\"159.033203\" xlink:href=\"#DejaVuSans-53\"/>\n      </g>\n     </g>\n    </g>\n    <g id=\"xtick_5\">\n     <g id=\"line2d_5\">\n      <g>\n       <use style=\"stroke:#000000;stroke-width:0.8;\" x=\"617.209951\" xlink:href=\"#m1c868c3f48\" y=\"550.8\"/>\n      </g>\n     </g>\n     <g id=\"text_5\">\n      <!-- 0.86 -->\n      <defs>\n       <path d=\"M 33.015625 40.375 \nQ 26.375 40.375 22.484375 35.828125 \nQ 18.609375 31.296875 18.609375 23.390625 \nQ 18.609375 15.53125 22.484375 10.953125 \nQ 26.375 6.390625 33.015625 6.390625 \nQ 39.65625 6.390625 43.53125 10.953125 \nQ 47.40625 15.53125 47.40625 23.390625 \nQ 47.40625 31.296875 43.53125 35.828125 \nQ 39.65625 40.375 33.015625 40.375 \nz\nM 52.59375 71.296875 \nL 52.59375 62.3125 \nQ 48.875 64.0625 45.09375 64.984375 \nQ 41.3125 65.921875 37.59375 65.921875 \nQ 27.828125 65.921875 22.671875 59.328125 \nQ 17.53125 52.734375 16.796875 39.40625 \nQ 19.671875 43.65625 24.015625 45.921875 \nQ 28.375 48.1875 33.59375 48.1875 \nQ 44.578125 48.1875 50.953125 41.515625 \nQ 57.328125 34.859375 57.328125 23.390625 \nQ 57.328125 12.15625 50.6875 5.359375 \nQ 44.046875 -1.421875 33.015625 -1.421875 \nQ 20.359375 -1.421875 13.671875 8.265625 \nQ 6.984375 17.96875 6.984375 36.375 \nQ 6.984375 53.65625 15.1875 63.9375 \nQ 23.390625 74.21875 37.203125 74.21875 \nQ 40.921875 74.21875 44.703125 73.484375 \nQ 48.484375 72.75 52.59375 71.296875 \nz\n\" id=\"DejaVuSans-54\"/>\n      </defs>\n      <g transform=\"translate(606.077138 565.398438)scale(0.1 -0.1)\">\n       <use xlink:href=\"#DejaVuSans-48\"/>\n       <use x=\"63.623047\" xlink:href=\"#DejaVuSans-46\"/>\n       <use x=\"95.410156\" xlink:href=\"#DejaVuSans-56\"/>\n       <use x=\"159.033203\" xlink:href=\"#DejaVuSans-54\"/>\n      </g>\n     </g>\n    </g>\n    <g id=\"xtick_6\">\n     <g id=\"line2d_6\">\n      <g>\n       <use style=\"stroke:#000000;stroke-width:0.8;\" x=\"735.588103\" xlink:href=\"#m1c868c3f48\" y=\"550.8\"/>\n      </g>\n     </g>\n     <g id=\"text_6\">\n      <!-- 0.87 -->\n      <defs>\n       <path d=\"M 8.203125 72.90625 \nL 55.078125 72.90625 \nL 55.078125 68.703125 \nL 28.609375 0 \nL 18.3125 0 \nL 43.21875 64.59375 \nL 8.203125 64.59375 \nz\n\" id=\"DejaVuSans-55\"/>\n      </defs>\n      <g transform=\"translate(724.45529 565.398438)scale(0.1 -0.1)\">\n       <use xlink:href=\"#DejaVuSans-48\"/>\n       <use x=\"63.623047\" xlink:href=\"#DejaVuSans-46\"/>\n       <use x=\"95.410156\" xlink:href=\"#DejaVuSans-56\"/>\n       <use x=\"159.033203\" xlink:href=\"#DejaVuSans-55\"/>\n      </g>\n     </g>\n    </g>\n    <g id=\"xtick_7\">\n     <g id=\"line2d_7\">\n      <g>\n       <use style=\"stroke:#000000;stroke-width:0.8;\" x=\"853.966255\" xlink:href=\"#m1c868c3f48\" y=\"550.8\"/>\n      </g>\n     </g>\n     <g id=\"text_7\">\n      <!-- 0.88 -->\n      <g transform=\"translate(842.833442 565.398438)scale(0.1 -0.1)\">\n       <use xlink:href=\"#DejaVuSans-48\"/>\n       <use x=\"63.623047\" xlink:href=\"#DejaVuSans-46\"/>\n       <use x=\"95.410156\" xlink:href=\"#DejaVuSans-56\"/>\n       <use x=\"159.033203\" xlink:href=\"#DejaVuSans-56\"/>\n      </g>\n     </g>\n    </g>\n   </g>\n   <g id=\"matplotlib.axis_2\">\n    <g id=\"ytick_1\">\n     <g id=\"line2d_8\">\n      <defs>\n       <path d=\"M 0 0 \nL -3.5 0 \n\" id=\"mf83c6c653e\" style=\"stroke:#000000;stroke-width:0.8;\"/>\n      </defs>\n      <g>\n       <use style=\"stroke:#000000;stroke-width:0.8;\" x=\"40.603125\" xlink:href=\"#mf83c6c653e\" y=\"550.8\"/>\n      </g>\n     </g>\n     <g id=\"text_8\">\n      <!-- 0 -->\n      <g transform=\"translate(27.240625 554.599219)scale(0.1 -0.1)\">\n       <use xlink:href=\"#DejaVuSans-48\"/>\n      </g>\n     </g>\n    </g>\n    <g id=\"ytick_2\">\n     <g id=\"line2d_9\">\n      <g>\n       <use style=\"stroke:#000000;stroke-width:0.8;\" x=\"40.603125\" xlink:href=\"#mf83c6c653e\" y=\"458.35102\"/>\n      </g>\n     </g>\n     <g id=\"text_9\">\n      <!-- 5 -->\n      <g transform=\"translate(27.240625 462.150239)scale(0.1 -0.1)\">\n       <use xlink:href=\"#DejaVuSans-53\"/>\n      </g>\n     </g>\n    </g>\n    <g id=\"ytick_3\">\n     <g id=\"line2d_10\">\n      <g>\n       <use style=\"stroke:#000000;stroke-width:0.8;\" x=\"40.603125\" xlink:href=\"#mf83c6c653e\" y=\"365.902041\"/>\n      </g>\n     </g>\n     <g id=\"text_10\">\n      <!-- 10 -->\n      <defs>\n       <path d=\"M 12.40625 8.296875 \nL 28.515625 8.296875 \nL 28.515625 63.921875 \nL 10.984375 60.40625 \nL 10.984375 69.390625 \nL 28.421875 72.90625 \nL 38.28125 72.90625 \nL 38.28125 8.296875 \nL 54.390625 8.296875 \nL 54.390625 0 \nL 12.40625 0 \nz\n\" id=\"DejaVuSans-49\"/>\n      </defs>\n      <g transform=\"translate(20.878125 369.70126)scale(0.1 -0.1)\">\n       <use xlink:href=\"#DejaVuSans-49\"/>\n       <use x=\"63.623047\" xlink:href=\"#DejaVuSans-48\"/>\n      </g>\n     </g>\n    </g>\n    <g id=\"ytick_4\">\n     <g id=\"line2d_11\">\n      <g>\n       <use style=\"stroke:#000000;stroke-width:0.8;\" x=\"40.603125\" xlink:href=\"#mf83c6c653e\" y=\"273.453061\"/>\n      </g>\n     </g>\n     <g id=\"text_11\">\n      <!-- 15 -->\n      <g transform=\"translate(20.878125 277.25228)scale(0.1 -0.1)\">\n       <use xlink:href=\"#DejaVuSans-49\"/>\n       <use x=\"63.623047\" xlink:href=\"#DejaVuSans-53\"/>\n      </g>\n     </g>\n    </g>\n    <g id=\"ytick_5\">\n     <g id=\"line2d_12\">\n      <g>\n       <use style=\"stroke:#000000;stroke-width:0.8;\" x=\"40.603125\" xlink:href=\"#mf83c6c653e\" y=\"181.004082\"/>\n      </g>\n     </g>\n     <g id=\"text_12\">\n      <!-- 20 -->\n      <g transform=\"translate(20.878125 184.8033)scale(0.1 -0.1)\">\n       <use xlink:href=\"#DejaVuSans-50\"/>\n       <use x=\"63.623047\" xlink:href=\"#DejaVuSans-48\"/>\n      </g>\n     </g>\n    </g>\n    <g id=\"ytick_6\">\n     <g id=\"line2d_13\">\n      <g>\n       <use style=\"stroke:#000000;stroke-width:0.8;\" x=\"40.603125\" xlink:href=\"#mf83c6c653e\" y=\"88.555102\"/>\n      </g>\n     </g>\n     <g id=\"text_13\">\n      <!-- 25 -->\n      <g transform=\"translate(20.878125 92.354321)scale(0.1 -0.1)\">\n       <use xlink:href=\"#DejaVuSans-50\"/>\n       <use x=\"63.623047\" xlink:href=\"#DejaVuSans-53\"/>\n      </g>\n     </g>\n    </g>\n    <g id=\"text_14\">\n     <!-- Frequency -->\n     <defs>\n      <path d=\"M 9.8125 72.90625 \nL 51.703125 72.90625 \nL 51.703125 64.59375 \nL 19.671875 64.59375 \nL 19.671875 43.109375 \nL 48.578125 43.109375 \nL 48.578125 34.8125 \nL 19.671875 34.8125 \nL 19.671875 0 \nL 9.8125 0 \nz\n\" id=\"DejaVuSans-70\"/>\n      <path d=\"M 41.109375 46.296875 \nQ 39.59375 47.171875 37.8125 47.578125 \nQ 36.03125 48 33.890625 48 \nQ 26.265625 48 22.1875 43.046875 \nQ 18.109375 38.09375 18.109375 28.8125 \nL 18.109375 0 \nL 9.078125 0 \nL 9.078125 54.6875 \nL 18.109375 54.6875 \nL 18.109375 46.1875 \nQ 20.953125 51.171875 25.484375 53.578125 \nQ 30.03125 56 36.53125 56 \nQ 37.453125 56 38.578125 55.875 \nQ 39.703125 55.765625 41.0625 55.515625 \nz\n\" id=\"DejaVuSans-114\"/>\n      <path d=\"M 56.203125 29.59375 \nL 56.203125 25.203125 \nL 14.890625 25.203125 \nQ 15.484375 15.921875 20.484375 11.0625 \nQ 25.484375 6.203125 34.421875 6.203125 \nQ 39.59375 6.203125 44.453125 7.46875 \nQ 49.3125 8.734375 54.109375 11.28125 \nL 54.109375 2.78125 \nQ 49.265625 0.734375 44.1875 -0.34375 \nQ 39.109375 -1.421875 33.890625 -1.421875 \nQ 20.796875 -1.421875 13.15625 6.1875 \nQ 5.515625 13.8125 5.515625 26.8125 \nQ 5.515625 40.234375 12.765625 48.109375 \nQ 20.015625 56 32.328125 56 \nQ 43.359375 56 49.78125 48.890625 \nQ 56.203125 41.796875 56.203125 29.59375 \nz\nM 47.21875 32.234375 \nQ 47.125 39.59375 43.09375 43.984375 \nQ 39.0625 48.390625 32.421875 48.390625 \nQ 24.90625 48.390625 20.390625 44.140625 \nQ 15.875 39.890625 15.1875 32.171875 \nz\n\" id=\"DejaVuSans-101\"/>\n      <path d=\"M 14.796875 27.296875 \nQ 14.796875 17.390625 18.875 11.75 \nQ 22.953125 6.109375 30.078125 6.109375 \nQ 37.203125 6.109375 41.296875 11.75 \nQ 45.40625 17.390625 45.40625 27.296875 \nQ 45.40625 37.203125 41.296875 42.84375 \nQ 37.203125 48.484375 30.078125 48.484375 \nQ 22.953125 48.484375 18.875 42.84375 \nQ 14.796875 37.203125 14.796875 27.296875 \nz\nM 45.40625 8.203125 \nQ 42.578125 3.328125 38.25 0.953125 \nQ 33.9375 -1.421875 27.875 -1.421875 \nQ 17.96875 -1.421875 11.734375 6.484375 \nQ 5.515625 14.40625 5.515625 27.296875 \nQ 5.515625 40.1875 11.734375 48.09375 \nQ 17.96875 56 27.875 56 \nQ 33.9375 56 38.25 53.625 \nQ 42.578125 51.265625 45.40625 46.390625 \nL 45.40625 54.6875 \nL 54.390625 54.6875 \nL 54.390625 -20.796875 \nL 45.40625 -20.796875 \nz\n\" id=\"DejaVuSans-113\"/>\n      <path d=\"M 8.5 21.578125 \nL 8.5 54.6875 \nL 17.484375 54.6875 \nL 17.484375 21.921875 \nQ 17.484375 14.15625 20.5 10.265625 \nQ 23.53125 6.390625 29.59375 6.390625 \nQ 36.859375 6.390625 41.078125 11.03125 \nQ 45.3125 15.671875 45.3125 23.6875 \nL 45.3125 54.6875 \nL 54.296875 54.6875 \nL 54.296875 0 \nL 45.3125 0 \nL 45.3125 8.40625 \nQ 42.046875 3.421875 37.71875 1 \nQ 33.40625 -1.421875 27.6875 -1.421875 \nQ 18.265625 -1.421875 13.375 4.4375 \nQ 8.5 10.296875 8.5 21.578125 \nz\nM 31.109375 56 \nz\n\" id=\"DejaVuSans-117\"/>\n      <path d=\"M 54.890625 33.015625 \nL 54.890625 0 \nL 45.90625 0 \nL 45.90625 32.71875 \nQ 45.90625 40.484375 42.875 44.328125 \nQ 39.84375 48.1875 33.796875 48.1875 \nQ 26.515625 48.1875 22.3125 43.546875 \nQ 18.109375 38.921875 18.109375 30.90625 \nL 18.109375 0 \nL 9.078125 0 \nL 9.078125 54.6875 \nL 18.109375 54.6875 \nL 18.109375 46.1875 \nQ 21.34375 51.125 25.703125 53.5625 \nQ 30.078125 56 35.796875 56 \nQ 45.21875 56 50.046875 50.171875 \nQ 54.890625 44.34375 54.890625 33.015625 \nz\n\" id=\"DejaVuSans-110\"/>\n      <path d=\"M 48.78125 52.59375 \nL 48.78125 44.1875 \nQ 44.96875 46.296875 41.140625 47.34375 \nQ 37.3125 48.390625 33.40625 48.390625 \nQ 24.65625 48.390625 19.8125 42.84375 \nQ 14.984375 37.3125 14.984375 27.296875 \nQ 14.984375 17.28125 19.8125 11.734375 \nQ 24.65625 6.203125 33.40625 6.203125 \nQ 37.3125 6.203125 41.140625 7.25 \nQ 44.96875 8.296875 48.78125 10.40625 \nL 48.78125 2.09375 \nQ 45.015625 0.34375 40.984375 -0.53125 \nQ 36.96875 -1.421875 32.421875 -1.421875 \nQ 20.0625 -1.421875 12.78125 6.34375 \nQ 5.515625 14.109375 5.515625 27.296875 \nQ 5.515625 40.671875 12.859375 48.328125 \nQ 20.21875 56 33.015625 56 \nQ 37.15625 56 41.109375 55.140625 \nQ 45.0625 54.296875 48.78125 52.59375 \nz\n\" id=\"DejaVuSans-99\"/>\n      <path d=\"M 32.171875 -5.078125 \nQ 28.375 -14.84375 24.75 -17.8125 \nQ 21.140625 -20.796875 15.09375 -20.796875 \nL 7.90625 -20.796875 \nL 7.90625 -13.28125 \nL 13.1875 -13.28125 \nQ 16.890625 -13.28125 18.9375 -11.515625 \nQ 21 -9.765625 23.484375 -3.21875 \nL 25.09375 0.875 \nL 2.984375 54.6875 \nL 12.5 54.6875 \nL 29.59375 11.921875 \nL 46.6875 54.6875 \nL 56.203125 54.6875 \nz\n\" id=\"DejaVuSans-121\"/>\n     </defs>\n     <g transform=\"translate(14.798438 305.297656)rotate(-90)scale(0.1 -0.1)\">\n      <use xlink:href=\"#DejaVuSans-70\"/>\n      <use x=\"57.410156\" xlink:href=\"#DejaVuSans-114\"/>\n      <use x=\"98.492188\" xlink:href=\"#DejaVuSans-101\"/>\n      <use x=\"160.015625\" xlink:href=\"#DejaVuSans-113\"/>\n      <use x=\"223.492188\" xlink:href=\"#DejaVuSans-117\"/>\n      <use x=\"286.871094\" xlink:href=\"#DejaVuSans-101\"/>\n      <use x=\"348.394531\" xlink:href=\"#DejaVuSans-110\"/>\n      <use x=\"411.773438\" xlink:href=\"#DejaVuSans-99\"/>\n      <use x=\"466.753906\" xlink:href=\"#DejaVuSans-121\"/>\n     </g>\n    </g>\n   </g>\n   <g id=\"patch_23\">\n    <path d=\"M 40.603125 550.8 \nL 40.603125 7.2 \n\" style=\"fill:none;stroke:#000000;stroke-linecap:square;stroke-linejoin:miter;stroke-width:0.8;\"/>\n   </g>\n   <g id=\"patch_24\">\n    <path d=\"M 933.403125 550.8 \nL 933.403125 7.2 \n\" style=\"fill:none;stroke:#000000;stroke-linecap:square;stroke-linejoin:miter;stroke-width:0.8;\"/>\n   </g>\n   <g id=\"patch_25\">\n    <path d=\"M 40.603125 550.8 \nL 933.403125 550.8 \n\" style=\"fill:none;stroke:#000000;stroke-linecap:square;stroke-linejoin:miter;stroke-width:0.8;\"/>\n   </g>\n   <g id=\"patch_26\">\n    <path d=\"M 40.603125 7.2 \nL 933.403125 7.2 \n\" style=\"fill:none;stroke:#000000;stroke-linecap:square;stroke-linejoin:miter;stroke-width:0.8;\"/>\n   </g>\n   <g id=\"legend_1\">\n    <g id=\"patch_27\">\n     <path d=\"M 885.775 44.55625 \nL 926.403125 44.55625 \nQ 928.403125 44.55625 928.403125 42.55625 \nL 928.403125 14.2 \nQ 928.403125 12.2 926.403125 12.2 \nL 885.775 12.2 \nQ 883.775 12.2 883.775 14.2 \nL 883.775 42.55625 \nQ 883.775 44.55625 885.775 44.55625 \nz\n\" style=\"fill:#ffffff;opacity:0.8;stroke:#cccccc;stroke-linejoin:miter;\"/>\n    </g>\n    <g id=\"patch_28\">\n     <path d=\"M 887.775 23.798437 \nL 907.775 23.798437 \nL 907.775 16.798437 \nL 887.775 16.798437 \nz\n\" style=\"fill:#006400;\"/>\n    </g>\n    <g id=\"text_15\">\n     <!-- M -->\n     <defs>\n      <path d=\"M 9.8125 72.90625 \nL 24.515625 72.90625 \nL 43.109375 23.296875 \nL 61.8125 72.90625 \nL 76.515625 72.90625 \nL 76.515625 0 \nL 66.890625 0 \nL 66.890625 64.015625 \nL 48.09375 14.015625 \nL 38.1875 14.015625 \nL 19.390625 64.015625 \nL 19.390625 0 \nL 9.8125 0 \nz\n\" id=\"DejaVuSans-77\"/>\n     </defs>\n     <g transform=\"translate(915.775 23.798437)scale(0.1 -0.1)\">\n      <use xlink:href=\"#DejaVuSans-77\"/>\n     </g>\n    </g>\n    <g id=\"patch_29\">\n     <path d=\"M 887.775 38.476562 \nL 907.775 38.476562 \nL 907.775 31.476562 \nL 887.775 31.476562 \nz\n\" style=\"fill:#00008b;\"/>\n    </g>\n    <g id=\"text_16\">\n     <!-- F -->\n     <g transform=\"translate(915.775 38.476562)scale(0.1 -0.1)\">\n      <use xlink:href=\"#DejaVuSans-70\"/>\n     </g>\n    </g>\n   </g>\n  </g>\n </g>\n <defs>\n  <clipPath id=\"p2593098541\">\n   <rect height=\"543.6\" width=\"892.8\" x=\"40.603125\" y=\"7.2\"/>\n  </clipPath>\n </defs>\n</svg>\n",
      "image/png": "[encoded data removed]"
     },
     "metadata": {
      "needs_background": "light"
     }
    }
   ],
   "source": [
    "df = process_sheet(dfs['gender'])\n",
    "\n",
    "ax = df[df.target == 'M'].plot.hist(x=\"seed\", y=\"auroc\", color=\"DarkGreen\", label=\"M\")\n",
    "df[df.target == 'F'].plot.hist(x=\"seed\", y=\"auroc\", color=\"DarkBlue\", label=\"F\", ax=ax, figsize=(16,10))\n",
    "# start, end = ax.get_xlim()\n",
    "# ax.xaxis.set_ticks(np.arange(start, end, 5))"
   ]
  },
  {
   "cell_type": "code",
   "execution_count": 65,
   "metadata": {},
   "outputs": [
    {
     "output_type": "execute_result",
     "data": {
      "text/plain": [
       "<matplotlib.axes._subplots.AxesSubplot at 0x7f5e633aca90>"
      ]
     },
     "metadata": {},
     "execution_count": 65
    },
    {
     "output_type": "display_data",
     "data": {
      "text/plain": "<Figure size 1440x720 with 1 Axes>",
      "image/svg+xml": "<?xml version=\"1.0\" encoding=\"utf-8\" standalone=\"no\"?>\n<!DOCTYPE svg PUBLIC \"-//W3C//DTD SVG 1.1//EN\"\n  \"http://www.w3.org/Graphics/SVG/1.1/DTD/svg11.dtd\">\n<!-- Created with matplotlib (https://matplotlib.org/) -->\n<svg height=\"574.678125pt\" version=\"1.1\" viewBox=\"0 0 1163.803125 574.678125\" width=\"1163.803125pt\" xmlns=\"http://www.w3.org/2000/svg\" xmlns:xlink=\"http://www.w3.org/1999/xlink\">\n <defs>\n  <style type=\"text/css\">\n*{stroke-linecap:butt;stroke-linejoin:round;}\n  </style>\n </defs>\n <g id=\"figure_1\">\n  <g id=\"patch_1\">\n   <path d=\"M 0 574.678125 \nL 1163.803125 574.678125 \nL 1163.803125 0 \nL 0 0 \nz\n\" style=\"fill:none;\"/>\n  </g>\n  <g id=\"axes_1\">\n   <g id=\"patch_2\">\n    <path d=\"M 40.603125 550.8 \nL 1156.603125 550.8 \nL 1156.603125 7.2 \nL 40.603125 7.2 \nz\n\" style=\"fill:#ffffff;\"/>\n   </g>\n   <g id=\"patch_3\">\n    <path clip-path=\"url(#p1c28cc8e15)\" d=\"M 866.442547 550.8 \nL 888.587438 550.8 \nL 888.587438 491.063736 \nL 866.442547 491.063736 \nz\n\" style=\"fill:#ffff00;\"/>\n   </g>\n   <g id=\"patch_4\">\n    <path clip-path=\"url(#p1c28cc8e15)\" d=\"M 888.587438 550.8 \nL 910.732328 550.8 \nL 910.732328 510.975824 \nL 888.587438 510.975824 \nz\n\" style=\"fill:#ffff00;\"/>\n   </g>\n   <g id=\"patch_5\">\n    <path clip-path=\"url(#p1c28cc8e15)\" d=\"M 910.732328 550.8 \nL 932.877219 550.8 \nL 932.877219 431.327473 \nL 910.732328 431.327473 \nz\n\" style=\"fill:#ffff00;\"/>\n   </g>\n   <g id=\"patch_6\">\n    <path clip-path=\"url(#p1c28cc8e15)\" d=\"M 932.877219 550.8 \nL 955.022109 550.8 \nL 955.022109 331.767033 \nL 932.877219 331.767033 \nz\n\" style=\"fill:#ffff00;\"/>\n   </g>\n   <g id=\"patch_7\">\n    <path clip-path=\"url(#p1c28cc8e15)\" d=\"M 955.022109 550.8 \nL 977.167 550.8 \nL 977.167 212.294505 \nL 955.022109 212.294505 \nz\n\" style=\"fill:#ffff00;\"/>\n   </g>\n   <g id=\"patch_8\">\n    <path clip-path=\"url(#p1c28cc8e15)\" d=\"M 977.167 550.8 \nL 999.311891 550.8 \nL 999.311891 172.47033 \nL 977.167 172.47033 \nz\n\" style=\"fill:#ffff00;\"/>\n   </g>\n   <g id=\"patch_9\">\n    <path clip-path=\"url(#p1c28cc8e15)\" d=\"M 999.311891 550.8 \nL 1021.456781 550.8 \nL 1021.456781 132.646154 \nL 999.311891 132.646154 \nz\n\" style=\"fill:#ffff00;\"/>\n   </g>\n   <g id=\"patch_10\">\n    <path clip-path=\"url(#p1c28cc8e15)\" d=\"M 1021.456781 550.8 \nL 1043.601672 550.8 \nL 1043.601672 351.679121 \nL 1021.456781 351.679121 \nz\n\" style=\"fill:#ffff00;\"/>\n   </g>\n   <g id=\"patch_11\">\n    <path clip-path=\"url(#p1c28cc8e15)\" d=\"M 1043.601672 550.8 \nL 1065.746562 550.8 \nL 1065.746562 431.327473 \nL 1043.601672 431.327473 \nz\n\" style=\"fill:#ffff00;\"/>\n   </g>\n   <g id=\"patch_12\">\n    <path clip-path=\"url(#p1c28cc8e15)\" d=\"M 1065.746562 550.8 \nL 1087.891453 550.8 \nL 1087.891453 471.151648 \nL 1065.746562 471.151648 \nz\n\" style=\"fill:#ffff00;\"/>\n   </g>\n   <g id=\"patch_13\">\n    <path clip-path=\"url(#p1c28cc8e15)\" d=\"M 949.197829 550.8 \nL 957.888934 550.8 \nL 957.888934 491.063736 \nL 949.197829 491.063736 \nz\n\" style=\"fill:#ff0000;\"/>\n   </g>\n   <g id=\"patch_14\">\n    <path clip-path=\"url(#p1c28cc8e15)\" d=\"M 957.888934 550.8 \nL 966.580039 550.8 \nL 966.580039 491.063736 \nL 957.888934 491.063736 \nz\n\" style=\"fill:#ff0000;\"/>\n   </g>\n   <g id=\"patch_15\">\n    <path clip-path=\"url(#p1c28cc8e15)\" d=\"M 966.580039 550.8 \nL 975.271144 550.8 \nL 975.271144 311.854945 \nL 966.580039 311.854945 \nz\n\" style=\"fill:#ff0000;\"/>\n   </g>\n   <g id=\"patch_16\">\n    <path clip-path=\"url(#p1c28cc8e15)\" d=\"M 975.271144 550.8 \nL 983.96225 550.8 \nL 983.96225 232.206593 \nL 975.271144 232.206593 \nz\n\" style=\"fill:#ff0000;\"/>\n   </g>\n   <g id=\"patch_17\">\n    <path clip-path=\"url(#p1c28cc8e15)\" d=\"M 983.96225 550.8 \nL 992.653355 550.8 \nL 992.653355 72.90989 \nL 983.96225 72.90989 \nz\n\" style=\"fill:#ff0000;\"/>\n   </g>\n   <g id=\"patch_18\">\n    <path clip-path=\"url(#p1c28cc8e15)\" d=\"M 992.653355 550.8 \nL 1001.34446 550.8 \nL 1001.34446 351.679121 \nL 992.653355 351.679121 \nz\n\" style=\"fill:#ff0000;\"/>\n   </g>\n   <g id=\"patch_19\">\n    <path clip-path=\"url(#p1c28cc8e15)\" d=\"M 1001.34446 550.8 \nL 1010.035565 550.8 \nL 1010.035565 132.646154 \nL 1001.34446 132.646154 \nz\n\" style=\"fill:#ff0000;\"/>\n   </g>\n   <g id=\"patch_20\">\n    <path clip-path=\"url(#p1c28cc8e15)\" d=\"M 1010.035565 550.8 \nL 1018.726671 550.8 \nL 1018.726671 471.151648 \nL 1010.035565 471.151648 \nz\n\" style=\"fill:#ff0000;\"/>\n   </g>\n   <g id=\"patch_21\">\n    <path clip-path=\"url(#p1c28cc8e15)\" d=\"M 1018.726671 550.8 \nL 1027.417776 550.8 \nL 1027.417776 471.151648 \nL 1018.726671 471.151648 \nz\n\" style=\"fill:#ff0000;\"/>\n   </g>\n   <g id=\"patch_22\">\n    <path clip-path=\"url(#p1c28cc8e15)\" d=\"M 1027.417776 550.8 \nL 1036.108881 550.8 \nL 1036.108881 510.975824 \nL 1027.417776 510.975824 \nz\n\" style=\"fill:#ff0000;\"/>\n   </g>\n   <g id=\"patch_23\">\n    <path clip-path=\"url(#p1c28cc8e15)\" d=\"M 720.54069 550.8 \nL 759.074206 550.8 \nL 759.074206 530.887912 \nL 720.54069 530.887912 \nz\n\" style=\"fill:#9400d3;\"/>\n   </g>\n   <g id=\"patch_24\">\n    <path clip-path=\"url(#p1c28cc8e15)\" d=\"M 759.074206 550.8 \nL 797.607723 550.8 \nL 797.607723 510.975824 \nL 759.074206 510.975824 \nz\n\" style=\"fill:#9400d3;\"/>\n   </g>\n   <g id=\"patch_25\">\n    <path clip-path=\"url(#p1c28cc8e15)\" d=\"M 797.607723 550.8 \nL 836.141239 550.8 \nL 836.141239 431.327473 \nL 797.607723 431.327473 \nz\n\" style=\"fill:#9400d3;\"/>\n   </g>\n   <g id=\"patch_26\">\n    <path clip-path=\"url(#p1c28cc8e15)\" d=\"M 836.141239 550.8 \nL 874.674755 550.8 \nL 874.674755 132.646154 \nL 836.141239 132.646154 \nz\n\" style=\"fill:#9400d3;\"/>\n   </g>\n   <g id=\"patch_27\">\n    <path clip-path=\"url(#p1c28cc8e15)\" d=\"M 874.674755 550.8 \nL 913.208271 550.8 \nL 913.208271 192.382418 \nL 874.674755 192.382418 \nz\n\" style=\"fill:#9400d3;\"/>\n   </g>\n   <g id=\"patch_28\">\n    <path clip-path=\"url(#p1c28cc8e15)\" d=\"M 913.208271 550.8 \nL 951.741787 550.8 \nL 951.741787 172.47033 \nL 913.208271 172.47033 \nz\n\" style=\"fill:#9400d3;\"/>\n   </g>\n   <g id=\"patch_29\">\n    <path clip-path=\"url(#p1c28cc8e15)\" d=\"M 951.741787 550.8 \nL 990.275304 550.8 \nL 990.275304 92.821978 \nL 951.741787 92.821978 \nz\n\" style=\"fill:#9400d3;\"/>\n   </g>\n   <g id=\"patch_30\">\n    <path clip-path=\"url(#p1c28cc8e15)\" d=\"M 990.275304 550.8 \nL 1028.80882 550.8 \nL 1028.80882 471.151648 \nL 990.275304 471.151648 \nz\n\" style=\"fill:#9400d3;\"/>\n   </g>\n   <g id=\"patch_31\">\n    <path clip-path=\"url(#p1c28cc8e15)\" d=\"M 1028.80882 550.8 \nL 1067.342336 550.8 \nL 1067.342336 491.063736 \nL 1028.80882 491.063736 \nz\n\" style=\"fill:#9400d3;\"/>\n   </g>\n   <g id=\"patch_32\">\n    <path clip-path=\"url(#p1c28cc8e15)\" d=\"M 1067.342336 550.8 \nL 1105.875852 550.8 \nL 1105.875852 510.975824 \nL 1067.342336 510.975824 \nz\n\" style=\"fill:#9400d3;\"/>\n   </g>\n   <g id=\"patch_33\">\n    <path clip-path=\"url(#p1c28cc8e15)\" d=\"M 772.117857 550.8 \nL 799.767081 550.8 \nL 799.767081 510.975824 \nL 772.117857 510.975824 \nz\n\" style=\"fill:#4169e1;\"/>\n   </g>\n   <g id=\"patch_34\">\n    <path clip-path=\"url(#p1c28cc8e15)\" d=\"M 799.767081 550.8 \nL 827.416306 550.8 \nL 827.416306 491.063736 \nL 799.767081 491.063736 \nz\n\" style=\"fill:#4169e1;\"/>\n   </g>\n   <g id=\"patch_35\">\n    <path clip-path=\"url(#p1c28cc8e15)\" d=\"M 827.416306 550.8 \nL 855.06553 550.8 \nL 855.06553 371.591209 \nL 827.416306 371.591209 \nz\n\" style=\"fill:#4169e1;\"/>\n   </g>\n   <g id=\"patch_36\">\n    <path clip-path=\"url(#p1c28cc8e15)\" d=\"M 855.06553 550.8 \nL 882.714755 550.8 \nL 882.714755 192.382418 \nL 855.06553 192.382418 \nz\n\" style=\"fill:#4169e1;\"/>\n   </g>\n   <g id=\"patch_37\">\n    <path clip-path=\"url(#p1c28cc8e15)\" d=\"M 882.714755 550.8 \nL 910.363979 550.8 \nL 910.363979 33.085714 \nL 882.714755 33.085714 \nz\n\" style=\"fill:#4169e1;\"/>\n   </g>\n   <g id=\"patch_38\">\n    <path clip-path=\"url(#p1c28cc8e15)\" d=\"M 910.363979 550.8 \nL 938.013204 550.8 \nL 938.013204 311.854945 \nL 910.363979 311.854945 \nz\n\" style=\"fill:#4169e1;\"/>\n   </g>\n   <g id=\"patch_39\">\n    <path clip-path=\"url(#p1c28cc8e15)\" d=\"M 938.013204 550.8 \nL 965.662429 550.8 \nL 965.662429 192.382418 \nL 938.013204 192.382418 \nz\n\" style=\"fill:#4169e1;\"/>\n   </g>\n   <g id=\"patch_40\">\n    <path clip-path=\"url(#p1c28cc8e15)\" d=\"M 965.662429 550.8 \nL 993.311653 550.8 \nL 993.311653 371.591209 \nL 965.662429 371.591209 \nz\n\" style=\"fill:#4169e1;\"/>\n   </g>\n   <g id=\"patch_41\">\n    <path clip-path=\"url(#p1c28cc8e15)\" d=\"M 993.311653 550.8 \nL 1020.960878 550.8 \nL 1020.960878 550.8 \nL 993.311653 550.8 \nz\n\" style=\"fill:#4169e1;\"/>\n   </g>\n   <g id=\"patch_42\">\n    <path clip-path=\"url(#p1c28cc8e15)\" d=\"M 1020.960878 550.8 \nL 1048.610102 550.8 \nL 1048.610102 510.975824 \nL 1020.960878 510.975824 \nz\n\" style=\"fill:#4169e1;\"/>\n   </g>\n   <g id=\"patch_43\">\n    <path clip-path=\"url(#p1c28cc8e15)\" d=\"M 91.330398 550.8 \nL 150.635238 550.8 \nL 150.635238 451.23956 \nL 91.330398 451.23956 \nz\n\" style=\"fill:#008000;\"/>\n   </g>\n   <g id=\"patch_44\">\n    <path clip-path=\"url(#p1c28cc8e15)\" d=\"M 150.635238 550.8 \nL 209.940079 550.8 \nL 209.940079 411.415385 \nL 150.635238 411.415385 \nz\n\" style=\"fill:#008000;\"/>\n   </g>\n   <g id=\"patch_45\">\n    <path clip-path=\"url(#p1c28cc8e15)\" d=\"M 209.940079 550.8 \nL 269.24492 550.8 \nL 269.24492 311.854945 \nL 209.940079 311.854945 \nz\n\" style=\"fill:#008000;\"/>\n   </g>\n   <g id=\"patch_46\">\n    <path clip-path=\"url(#p1c28cc8e15)\" d=\"M 269.24492 550.8 \nL 328.54976 550.8 \nL 328.54976 192.382418 \nL 269.24492 192.382418 \nz\n\" style=\"fill:#008000;\"/>\n   </g>\n   <g id=\"patch_47\">\n    <path clip-path=\"url(#p1c28cc8e15)\" d=\"M 328.54976 550.8 \nL 387.854601 550.8 \nL 387.854601 252.118681 \nL 328.54976 252.118681 \nz\n\" style=\"fill:#008000;\"/>\n   </g>\n   <g id=\"patch_48\">\n    <path clip-path=\"url(#p1c28cc8e15)\" d=\"M 387.854601 550.8 \nL 447.159442 550.8 \nL 447.159442 152.558242 \nL 387.854601 152.558242 \nz\n\" style=\"fill:#008000;\"/>\n   </g>\n   <g id=\"patch_49\">\n    <path clip-path=\"url(#p1c28cc8e15)\" d=\"M 447.159442 550.8 \nL 506.464282 550.8 \nL 506.464282 291.942857 \nL 447.159442 291.942857 \nz\n\" style=\"fill:#008000;\"/>\n   </g>\n   <g id=\"patch_50\">\n    <path clip-path=\"url(#p1c28cc8e15)\" d=\"M 506.464282 550.8 \nL 565.769123 550.8 \nL 565.769123 471.151648 \nL 506.464282 471.151648 \nz\n\" style=\"fill:#008000;\"/>\n   </g>\n   <g id=\"patch_51\">\n    <path clip-path=\"url(#p1c28cc8e15)\" d=\"M 565.769123 550.8 \nL 625.073964 550.8 \nL 625.073964 471.151648 \nL 565.769123 471.151648 \nz\n\" style=\"fill:#008000;\"/>\n   </g>\n   <g id=\"patch_52\">\n    <path clip-path=\"url(#p1c28cc8e15)\" d=\"M 625.073964 550.8 \nL 684.378805 550.8 \nL 684.378805 530.887912 \nL 625.073964 530.887912 \nz\n\" style=\"fill:#008000;\"/>\n   </g>\n   <g id=\"matplotlib.axis_1\">\n    <g id=\"xtick_1\">\n     <g id=\"line2d_1\">\n      <defs>\n       <path d=\"M 0 0 \nL 0 3.5 \n\" id=\"m6cb16f84a0\" style=\"stroke:#000000;stroke-width:0.8;\"/>\n      </defs>\n      <g>\n       <use style=\"stroke:#000000;stroke-width:0.8;\" x=\"73.221727\" xlink:href=\"#m6cb16f84a0\" y=\"550.8\"/>\n      </g>\n     </g>\n     <g id=\"text_1\">\n      <!-- 0.60 -->\n      <defs>\n       <path d=\"M 31.78125 66.40625 \nQ 24.171875 66.40625 20.328125 58.90625 \nQ 16.5 51.421875 16.5 36.375 \nQ 16.5 21.390625 20.328125 13.890625 \nQ 24.171875 6.390625 31.78125 6.390625 \nQ 39.453125 6.390625 43.28125 13.890625 \nQ 47.125 21.390625 47.125 36.375 \nQ 47.125 51.421875 43.28125 58.90625 \nQ 39.453125 66.40625 31.78125 66.40625 \nz\nM 31.78125 74.21875 \nQ 44.046875 74.21875 50.515625 64.515625 \nQ 56.984375 54.828125 56.984375 36.375 \nQ 56.984375 17.96875 50.515625 8.265625 \nQ 44.046875 -1.421875 31.78125 -1.421875 \nQ 19.53125 -1.421875 13.0625 8.265625 \nQ 6.59375 17.96875 6.59375 36.375 \nQ 6.59375 54.828125 13.0625 64.515625 \nQ 19.53125 74.21875 31.78125 74.21875 \nz\n\" id=\"DejaVuSans-48\"/>\n       <path d=\"M 10.6875 12.40625 \nL 21 12.40625 \nL 21 0 \nL 10.6875 0 \nz\n\" id=\"DejaVuSans-46\"/>\n       <path d=\"M 33.015625 40.375 \nQ 26.375 40.375 22.484375 35.828125 \nQ 18.609375 31.296875 18.609375 23.390625 \nQ 18.609375 15.53125 22.484375 10.953125 \nQ 26.375 6.390625 33.015625 6.390625 \nQ 39.65625 6.390625 43.53125 10.953125 \nQ 47.40625 15.53125 47.40625 23.390625 \nQ 47.40625 31.296875 43.53125 35.828125 \nQ 39.65625 40.375 33.015625 40.375 \nz\nM 52.59375 71.296875 \nL 52.59375 62.3125 \nQ 48.875 64.0625 45.09375 64.984375 \nQ 41.3125 65.921875 37.59375 65.921875 \nQ 27.828125 65.921875 22.671875 59.328125 \nQ 17.53125 52.734375 16.796875 39.40625 \nQ 19.671875 43.65625 24.015625 45.921875 \nQ 28.375 48.1875 33.59375 48.1875 \nQ 44.578125 48.1875 50.953125 41.515625 \nQ 57.328125 34.859375 57.328125 23.390625 \nQ 57.328125 12.15625 50.6875 5.359375 \nQ 44.046875 -1.421875 33.015625 -1.421875 \nQ 20.359375 -1.421875 13.671875 8.265625 \nQ 6.984375 17.96875 6.984375 36.375 \nQ 6.984375 53.65625 15.1875 63.9375 \nQ 23.390625 74.21875 37.203125 74.21875 \nQ 40.921875 74.21875 44.703125 73.484375 \nQ 48.484375 72.75 52.59375 71.296875 \nz\n\" id=\"DejaVuSans-54\"/>\n      </defs>\n      <g transform=\"translate(62.088914 565.398438)scale(0.1 -0.1)\">\n       <use xlink:href=\"#DejaVuSans-48\"/>\n       <use x=\"63.623047\" xlink:href=\"#DejaVuSans-46\"/>\n       <use x=\"95.410156\" xlink:href=\"#DejaVuSans-54\"/>\n       <use x=\"159.033203\" xlink:href=\"#DejaVuSans-48\"/>\n      </g>\n     </g>\n    </g>\n    <g id=\"xtick_2\">\n     <g id=\"line2d_2\">\n      <g>\n       <use style=\"stroke:#000000;stroke-width:0.8;\" x=\"247.571491\" xlink:href=\"#m6cb16f84a0\" y=\"550.8\"/>\n      </g>\n     </g>\n     <g id=\"text_2\">\n      <!-- 0.65 -->\n      <defs>\n       <path d=\"M 10.796875 72.90625 \nL 49.515625 72.90625 \nL 49.515625 64.59375 \nL 19.828125 64.59375 \nL 19.828125 46.734375 \nQ 21.96875 47.46875 24.109375 47.828125 \nQ 26.265625 48.1875 28.421875 48.1875 \nQ 40.625 48.1875 47.75 41.5 \nQ 54.890625 34.8125 54.890625 23.390625 \nQ 54.890625 11.625 47.5625 5.09375 \nQ 40.234375 -1.421875 26.90625 -1.421875 \nQ 22.3125 -1.421875 17.546875 -0.640625 \nQ 12.796875 0.140625 7.71875 1.703125 \nL 7.71875 11.625 \nQ 12.109375 9.234375 16.796875 8.0625 \nQ 21.484375 6.890625 26.703125 6.890625 \nQ 35.15625 6.890625 40.078125 11.328125 \nQ 45.015625 15.765625 45.015625 23.390625 \nQ 45.015625 31 40.078125 35.4375 \nQ 35.15625 39.890625 26.703125 39.890625 \nQ 22.75 39.890625 18.8125 39.015625 \nQ 14.890625 38.140625 10.796875 36.28125 \nz\n\" id=\"DejaVuSans-53\"/>\n      </defs>\n      <g transform=\"translate(236.438678 565.398438)scale(0.1 -0.1)\">\n       <use xlink:href=\"#DejaVuSans-48\"/>\n       <use x=\"63.623047\" xlink:href=\"#DejaVuSans-46\"/>\n       <use x=\"95.410156\" xlink:href=\"#DejaVuSans-54\"/>\n       <use x=\"159.033203\" xlink:href=\"#DejaVuSans-53\"/>\n      </g>\n     </g>\n    </g>\n    <g id=\"xtick_3\">\n     <g id=\"line2d_3\">\n      <g>\n       <use style=\"stroke:#000000;stroke-width:0.8;\" x=\"421.921255\" xlink:href=\"#m6cb16f84a0\" y=\"550.8\"/>\n      </g>\n     </g>\n     <g id=\"text_3\">\n      <!-- 0.70 -->\n      <defs>\n       <path d=\"M 8.203125 72.90625 \nL 55.078125 72.90625 \nL 55.078125 68.703125 \nL 28.609375 0 \nL 18.3125 0 \nL 43.21875 64.59375 \nL 8.203125 64.59375 \nz\n\" id=\"DejaVuSans-55\"/>\n      </defs>\n      <g transform=\"translate(410.788442 565.398438)scale(0.1 -0.1)\">\n       <use xlink:href=\"#DejaVuSans-48\"/>\n       <use x=\"63.623047\" xlink:href=\"#DejaVuSans-46\"/>\n       <use x=\"95.410156\" xlink:href=\"#DejaVuSans-55\"/>\n       <use x=\"159.033203\" xlink:href=\"#DejaVuSans-48\"/>\n      </g>\n     </g>\n    </g>\n    <g id=\"xtick_4\">\n     <g id=\"line2d_4\">\n      <g>\n       <use style=\"stroke:#000000;stroke-width:0.8;\" x=\"596.271019\" xlink:href=\"#m6cb16f84a0\" y=\"550.8\"/>\n      </g>\n     </g>\n     <g id=\"text_4\">\n      <!-- 0.75 -->\n      <g transform=\"translate(585.138206 565.398438)scale(0.1 -0.1)\">\n       <use xlink:href=\"#DejaVuSans-48\"/>\n       <use x=\"63.623047\" xlink:href=\"#DejaVuSans-46\"/>\n       <use x=\"95.410156\" xlink:href=\"#DejaVuSans-55\"/>\n       <use x=\"159.033203\" xlink:href=\"#DejaVuSans-53\"/>\n      </g>\n     </g>\n    </g>\n    <g id=\"xtick_5\">\n     <g id=\"line2d_5\">\n      <g>\n       <use style=\"stroke:#000000;stroke-width:0.8;\" x=\"770.620783\" xlink:href=\"#m6cb16f84a0\" y=\"550.8\"/>\n      </g>\n     </g>\n     <g id=\"text_5\">\n      <!-- 0.80 -->\n      <defs>\n       <path d=\"M 31.78125 34.625 \nQ 24.75 34.625 20.71875 30.859375 \nQ 16.703125 27.09375 16.703125 20.515625 \nQ 16.703125 13.921875 20.71875 10.15625 \nQ 24.75 6.390625 31.78125 6.390625 \nQ 38.8125 6.390625 42.859375 10.171875 \nQ 46.921875 13.96875 46.921875 20.515625 \nQ 46.921875 27.09375 42.890625 30.859375 \nQ 38.875 34.625 31.78125 34.625 \nz\nM 21.921875 38.8125 \nQ 15.578125 40.375 12.03125 44.71875 \nQ 8.5 49.078125 8.5 55.328125 \nQ 8.5 64.0625 14.71875 69.140625 \nQ 20.953125 74.21875 31.78125 74.21875 \nQ 42.671875 74.21875 48.875 69.140625 \nQ 55.078125 64.0625 55.078125 55.328125 \nQ 55.078125 49.078125 51.53125 44.71875 \nQ 48 40.375 41.703125 38.8125 \nQ 48.828125 37.15625 52.796875 32.3125 \nQ 56.78125 27.484375 56.78125 20.515625 \nQ 56.78125 9.90625 50.3125 4.234375 \nQ 43.84375 -1.421875 31.78125 -1.421875 \nQ 19.734375 -1.421875 13.25 4.234375 \nQ 6.78125 9.90625 6.78125 20.515625 \nQ 6.78125 27.484375 10.78125 32.3125 \nQ 14.796875 37.15625 21.921875 38.8125 \nz\nM 18.3125 54.390625 \nQ 18.3125 48.734375 21.84375 45.5625 \nQ 25.390625 42.390625 31.78125 42.390625 \nQ 38.140625 42.390625 41.71875 45.5625 \nQ 45.3125 48.734375 45.3125 54.390625 \nQ 45.3125 60.0625 41.71875 63.234375 \nQ 38.140625 66.40625 31.78125 66.40625 \nQ 25.390625 66.40625 21.84375 63.234375 \nQ 18.3125 60.0625 18.3125 54.390625 \nz\n\" id=\"DejaVuSans-56\"/>\n      </defs>\n      <g transform=\"translate(759.48797 565.398438)scale(0.1 -0.1)\">\n       <use xlink:href=\"#DejaVuSans-48\"/>\n       <use x=\"63.623047\" xlink:href=\"#DejaVuSans-46\"/>\n       <use x=\"95.410156\" xlink:href=\"#DejaVuSans-56\"/>\n       <use x=\"159.033203\" xlink:href=\"#DejaVuSans-48\"/>\n      </g>\n     </g>\n    </g>\n    <g id=\"xtick_6\">\n     <g id=\"line2d_6\">\n      <g>\n       <use style=\"stroke:#000000;stroke-width:0.8;\" x=\"944.970546\" xlink:href=\"#m6cb16f84a0\" y=\"550.8\"/>\n      </g>\n     </g>\n     <g id=\"text_6\">\n      <!-- 0.85 -->\n      <g transform=\"translate(933.837734 565.398438)scale(0.1 -0.1)\">\n       <use xlink:href=\"#DejaVuSans-48\"/>\n       <use x=\"63.623047\" xlink:href=\"#DejaVuSans-46\"/>\n       <use x=\"95.410156\" xlink:href=\"#DejaVuSans-56\"/>\n       <use x=\"159.033203\" xlink:href=\"#DejaVuSans-53\"/>\n      </g>\n     </g>\n    </g>\n    <g id=\"xtick_7\">\n     <g id=\"line2d_7\">\n      <g>\n       <use style=\"stroke:#000000;stroke-width:0.8;\" x=\"1119.32031\" xlink:href=\"#m6cb16f84a0\" y=\"550.8\"/>\n      </g>\n     </g>\n     <g id=\"text_7\">\n      <!-- 0.90 -->\n      <defs>\n       <path d=\"M 10.984375 1.515625 \nL 10.984375 10.5 \nQ 14.703125 8.734375 18.5 7.8125 \nQ 22.3125 6.890625 25.984375 6.890625 \nQ 35.75 6.890625 40.890625 13.453125 \nQ 46.046875 20.015625 46.78125 33.40625 \nQ 43.953125 29.203125 39.59375 26.953125 \nQ 35.25 24.703125 29.984375 24.703125 \nQ 19.046875 24.703125 12.671875 31.3125 \nQ 6.296875 37.9375 6.296875 49.421875 \nQ 6.296875 60.640625 12.9375 67.421875 \nQ 19.578125 74.21875 30.609375 74.21875 \nQ 43.265625 74.21875 49.921875 64.515625 \nQ 56.59375 54.828125 56.59375 36.375 \nQ 56.59375 19.140625 48.40625 8.859375 \nQ 40.234375 -1.421875 26.421875 -1.421875 \nQ 22.703125 -1.421875 18.890625 -0.6875 \nQ 15.09375 0.046875 10.984375 1.515625 \nz\nM 30.609375 32.421875 \nQ 37.25 32.421875 41.125 36.953125 \nQ 45.015625 41.5 45.015625 49.421875 \nQ 45.015625 57.28125 41.125 61.84375 \nQ 37.25 66.40625 30.609375 66.40625 \nQ 23.96875 66.40625 20.09375 61.84375 \nQ 16.21875 57.28125 16.21875 49.421875 \nQ 16.21875 41.5 20.09375 36.953125 \nQ 23.96875 32.421875 30.609375 32.421875 \nz\n\" id=\"DejaVuSans-57\"/>\n      </defs>\n      <g transform=\"translate(1108.187498 565.398438)scale(0.1 -0.1)\">\n       <use xlink:href=\"#DejaVuSans-48\"/>\n       <use x=\"63.623047\" xlink:href=\"#DejaVuSans-46\"/>\n       <use x=\"95.410156\" xlink:href=\"#DejaVuSans-57\"/>\n       <use x=\"159.033203\" xlink:href=\"#DejaVuSans-48\"/>\n      </g>\n     </g>\n    </g>\n   </g>\n   <g id=\"matplotlib.axis_2\">\n    <g id=\"ytick_1\">\n     <g id=\"line2d_8\">\n      <defs>\n       <path d=\"M 0 0 \nL -3.5 0 \n\" id=\"m7018676300\" style=\"stroke:#000000;stroke-width:0.8;\"/>\n      </defs>\n      <g>\n       <use style=\"stroke:#000000;stroke-width:0.8;\" x=\"40.603125\" xlink:href=\"#m7018676300\" y=\"550.8\"/>\n      </g>\n     </g>\n     <g id=\"text_8\">\n      <!-- 0 -->\n      <g transform=\"translate(27.240625 554.599219)scale(0.1 -0.1)\">\n       <use xlink:href=\"#DejaVuSans-48\"/>\n      </g>\n     </g>\n    </g>\n    <g id=\"ytick_2\">\n     <g id=\"line2d_9\">\n      <g>\n       <use style=\"stroke:#000000;stroke-width:0.8;\" x=\"40.603125\" xlink:href=\"#m7018676300\" y=\"451.23956\"/>\n      </g>\n     </g>\n     <g id=\"text_9\">\n      <!-- 5 -->\n      <g transform=\"translate(27.240625 455.038779)scale(0.1 -0.1)\">\n       <use xlink:href=\"#DejaVuSans-53\"/>\n      </g>\n     </g>\n    </g>\n    <g id=\"ytick_3\">\n     <g id=\"line2d_10\">\n      <g>\n       <use style=\"stroke:#000000;stroke-width:0.8;\" x=\"40.603125\" xlink:href=\"#m7018676300\" y=\"351.679121\"/>\n      </g>\n     </g>\n     <g id=\"text_10\">\n      <!-- 10 -->\n      <defs>\n       <path d=\"M 12.40625 8.296875 \nL 28.515625 8.296875 \nL 28.515625 63.921875 \nL 10.984375 60.40625 \nL 10.984375 69.390625 \nL 28.421875 72.90625 \nL 38.28125 72.90625 \nL 38.28125 8.296875 \nL 54.390625 8.296875 \nL 54.390625 0 \nL 12.40625 0 \nz\n\" id=\"DejaVuSans-49\"/>\n      </defs>\n      <g transform=\"translate(20.878125 355.47834)scale(0.1 -0.1)\">\n       <use xlink:href=\"#DejaVuSans-49\"/>\n       <use x=\"63.623047\" xlink:href=\"#DejaVuSans-48\"/>\n      </g>\n     </g>\n    </g>\n    <g id=\"ytick_4\">\n     <g id=\"line2d_11\">\n      <g>\n       <use style=\"stroke:#000000;stroke-width:0.8;\" x=\"40.603125\" xlink:href=\"#m7018676300\" y=\"252.118681\"/>\n      </g>\n     </g>\n     <g id=\"text_11\">\n      <!-- 15 -->\n      <g transform=\"translate(20.878125 255.9179)scale(0.1 -0.1)\">\n       <use xlink:href=\"#DejaVuSans-49\"/>\n       <use x=\"63.623047\" xlink:href=\"#DejaVuSans-53\"/>\n      </g>\n     </g>\n    </g>\n    <g id=\"ytick_5\">\n     <g id=\"line2d_12\">\n      <g>\n       <use style=\"stroke:#000000;stroke-width:0.8;\" x=\"40.603125\" xlink:href=\"#m7018676300\" y=\"152.558242\"/>\n      </g>\n     </g>\n     <g id=\"text_12\">\n      <!-- 20 -->\n      <defs>\n       <path d=\"M 19.1875 8.296875 \nL 53.609375 8.296875 \nL 53.609375 0 \nL 7.328125 0 \nL 7.328125 8.296875 \nQ 12.9375 14.109375 22.625 23.890625 \nQ 32.328125 33.6875 34.8125 36.53125 \nQ 39.546875 41.84375 41.421875 45.53125 \nQ 43.3125 49.21875 43.3125 52.78125 \nQ 43.3125 58.59375 39.234375 62.25 \nQ 35.15625 65.921875 28.609375 65.921875 \nQ 23.96875 65.921875 18.8125 64.3125 \nQ 13.671875 62.703125 7.8125 59.421875 \nL 7.8125 69.390625 \nQ 13.765625 71.78125 18.9375 73 \nQ 24.125 74.21875 28.421875 74.21875 \nQ 39.75 74.21875 46.484375 68.546875 \nQ 53.21875 62.890625 53.21875 53.421875 \nQ 53.21875 48.921875 51.53125 44.890625 \nQ 49.859375 40.875 45.40625 35.40625 \nQ 44.1875 33.984375 37.640625 27.21875 \nQ 31.109375 20.453125 19.1875 8.296875 \nz\n\" id=\"DejaVuSans-50\"/>\n      </defs>\n      <g transform=\"translate(20.878125 156.357461)scale(0.1 -0.1)\">\n       <use xlink:href=\"#DejaVuSans-50\"/>\n       <use x=\"63.623047\" xlink:href=\"#DejaVuSans-48\"/>\n      </g>\n     </g>\n    </g>\n    <g id=\"ytick_6\">\n     <g id=\"line2d_13\">\n      <g>\n       <use style=\"stroke:#000000;stroke-width:0.8;\" x=\"40.603125\" xlink:href=\"#m7018676300\" y=\"52.997802\"/>\n      </g>\n     </g>\n     <g id=\"text_13\">\n      <!-- 25 -->\n      <g transform=\"translate(20.878125 56.797021)scale(0.1 -0.1)\">\n       <use xlink:href=\"#DejaVuSans-50\"/>\n       <use x=\"63.623047\" xlink:href=\"#DejaVuSans-53\"/>\n      </g>\n     </g>\n    </g>\n    <g id=\"text_14\">\n     <!-- Frequency -->\n     <defs>\n      <path d=\"M 9.8125 72.90625 \nL 51.703125 72.90625 \nL 51.703125 64.59375 \nL 19.671875 64.59375 \nL 19.671875 43.109375 \nL 48.578125 43.109375 \nL 48.578125 34.8125 \nL 19.671875 34.8125 \nL 19.671875 0 \nL 9.8125 0 \nz\n\" id=\"DejaVuSans-70\"/>\n      <path d=\"M 41.109375 46.296875 \nQ 39.59375 47.171875 37.8125 47.578125 \nQ 36.03125 48 33.890625 48 \nQ 26.265625 48 22.1875 43.046875 \nQ 18.109375 38.09375 18.109375 28.8125 \nL 18.109375 0 \nL 9.078125 0 \nL 9.078125 54.6875 \nL 18.109375 54.6875 \nL 18.109375 46.1875 \nQ 20.953125 51.171875 25.484375 53.578125 \nQ 30.03125 56 36.53125 56 \nQ 37.453125 56 38.578125 55.875 \nQ 39.703125 55.765625 41.0625 55.515625 \nz\n\" id=\"DejaVuSans-114\"/>\n      <path d=\"M 56.203125 29.59375 \nL 56.203125 25.203125 \nL 14.890625 25.203125 \nQ 15.484375 15.921875 20.484375 11.0625 \nQ 25.484375 6.203125 34.421875 6.203125 \nQ 39.59375 6.203125 44.453125 7.46875 \nQ 49.3125 8.734375 54.109375 11.28125 \nL 54.109375 2.78125 \nQ 49.265625 0.734375 44.1875 -0.34375 \nQ 39.109375 -1.421875 33.890625 -1.421875 \nQ 20.796875 -1.421875 13.15625 6.1875 \nQ 5.515625 13.8125 5.515625 26.8125 \nQ 5.515625 40.234375 12.765625 48.109375 \nQ 20.015625 56 32.328125 56 \nQ 43.359375 56 49.78125 48.890625 \nQ 56.203125 41.796875 56.203125 29.59375 \nz\nM 47.21875 32.234375 \nQ 47.125 39.59375 43.09375 43.984375 \nQ 39.0625 48.390625 32.421875 48.390625 \nQ 24.90625 48.390625 20.390625 44.140625 \nQ 15.875 39.890625 15.1875 32.171875 \nz\n\" id=\"DejaVuSans-101\"/>\n      <path d=\"M 14.796875 27.296875 \nQ 14.796875 17.390625 18.875 11.75 \nQ 22.953125 6.109375 30.078125 6.109375 \nQ 37.203125 6.109375 41.296875 11.75 \nQ 45.40625 17.390625 45.40625 27.296875 \nQ 45.40625 37.203125 41.296875 42.84375 \nQ 37.203125 48.484375 30.078125 48.484375 \nQ 22.953125 48.484375 18.875 42.84375 \nQ 14.796875 37.203125 14.796875 27.296875 \nz\nM 45.40625 8.203125 \nQ 42.578125 3.328125 38.25 0.953125 \nQ 33.9375 -1.421875 27.875 -1.421875 \nQ 17.96875 -1.421875 11.734375 6.484375 \nQ 5.515625 14.40625 5.515625 27.296875 \nQ 5.515625 40.1875 11.734375 48.09375 \nQ 17.96875 56 27.875 56 \nQ 33.9375 56 38.25 53.625 \nQ 42.578125 51.265625 45.40625 46.390625 \nL 45.40625 54.6875 \nL 54.390625 54.6875 \nL 54.390625 -20.796875 \nL 45.40625 -20.796875 \nz\n\" id=\"DejaVuSans-113\"/>\n      <path d=\"M 8.5 21.578125 \nL 8.5 54.6875 \nL 17.484375 54.6875 \nL 17.484375 21.921875 \nQ 17.484375 14.15625 20.5 10.265625 \nQ 23.53125 6.390625 29.59375 6.390625 \nQ 36.859375 6.390625 41.078125 11.03125 \nQ 45.3125 15.671875 45.3125 23.6875 \nL 45.3125 54.6875 \nL 54.296875 54.6875 \nL 54.296875 0 \nL 45.3125 0 \nL 45.3125 8.40625 \nQ 42.046875 3.421875 37.71875 1 \nQ 33.40625 -1.421875 27.6875 -1.421875 \nQ 18.265625 -1.421875 13.375 4.4375 \nQ 8.5 10.296875 8.5 21.578125 \nz\nM 31.109375 56 \nz\n\" id=\"DejaVuSans-117\"/>\n      <path d=\"M 54.890625 33.015625 \nL 54.890625 0 \nL 45.90625 0 \nL 45.90625 32.71875 \nQ 45.90625 40.484375 42.875 44.328125 \nQ 39.84375 48.1875 33.796875 48.1875 \nQ 26.515625 48.1875 22.3125 43.546875 \nQ 18.109375 38.921875 18.109375 30.90625 \nL 18.109375 0 \nL 9.078125 0 \nL 9.078125 54.6875 \nL 18.109375 54.6875 \nL 18.109375 46.1875 \nQ 21.34375 51.125 25.703125 53.5625 \nQ 30.078125 56 35.796875 56 \nQ 45.21875 56 50.046875 50.171875 \nQ 54.890625 44.34375 54.890625 33.015625 \nz\n\" id=\"DejaVuSans-110\"/>\n      <path d=\"M 48.78125 52.59375 \nL 48.78125 44.1875 \nQ 44.96875 46.296875 41.140625 47.34375 \nQ 37.3125 48.390625 33.40625 48.390625 \nQ 24.65625 48.390625 19.8125 42.84375 \nQ 14.984375 37.3125 14.984375 27.296875 \nQ 14.984375 17.28125 19.8125 11.734375 \nQ 24.65625 6.203125 33.40625 6.203125 \nQ 37.3125 6.203125 41.140625 7.25 \nQ 44.96875 8.296875 48.78125 10.40625 \nL 48.78125 2.09375 \nQ 45.015625 0.34375 40.984375 -0.53125 \nQ 36.96875 -1.421875 32.421875 -1.421875 \nQ 20.0625 -1.421875 12.78125 6.34375 \nQ 5.515625 14.109375 5.515625 27.296875 \nQ 5.515625 40.671875 12.859375 48.328125 \nQ 20.21875 56 33.015625 56 \nQ 37.15625 56 41.109375 55.140625 \nQ 45.0625 54.296875 48.78125 52.59375 \nz\n\" id=\"DejaVuSans-99\"/>\n      <path d=\"M 32.171875 -5.078125 \nQ 28.375 -14.84375 24.75 -17.8125 \nQ 21.140625 -20.796875 15.09375 -20.796875 \nL 7.90625 -20.796875 \nL 7.90625 -13.28125 \nL 13.1875 -13.28125 \nQ 16.890625 -13.28125 18.9375 -11.515625 \nQ 21 -9.765625 23.484375 -3.21875 \nL 25.09375 0.875 \nL 2.984375 54.6875 \nL 12.5 54.6875 \nL 29.59375 11.921875 \nL 46.6875 54.6875 \nL 56.203125 54.6875 \nz\n\" id=\"DejaVuSans-121\"/>\n     </defs>\n     <g transform=\"translate(14.798438 305.297656)rotate(-90)scale(0.1 -0.1)\">\n      <use xlink:href=\"#DejaVuSans-70\"/>\n      <use x=\"57.410156\" xlink:href=\"#DejaVuSans-114\"/>\n      <use x=\"98.492188\" xlink:href=\"#DejaVuSans-101\"/>\n      <use x=\"160.015625\" xlink:href=\"#DejaVuSans-113\"/>\n      <use x=\"223.492188\" xlink:href=\"#DejaVuSans-117\"/>\n      <use x=\"286.871094\" xlink:href=\"#DejaVuSans-101\"/>\n      <use x=\"348.394531\" xlink:href=\"#DejaVuSans-110\"/>\n      <use x=\"411.773438\" xlink:href=\"#DejaVuSans-99\"/>\n      <use x=\"466.753906\" xlink:href=\"#DejaVuSans-121\"/>\n     </g>\n    </g>\n   </g>\n   <g id=\"patch_53\">\n    <path d=\"M 40.603125 550.8 \nL 40.603125 7.2 \n\" style=\"fill:none;stroke:#000000;stroke-linecap:square;stroke-linejoin:miter;stroke-width:0.8;\"/>\n   </g>\n   <g id=\"patch_54\">\n    <path d=\"M 1156.603125 550.8 \nL 1156.603125 7.2 \n\" style=\"fill:none;stroke:#000000;stroke-linecap:square;stroke-linejoin:miter;stroke-width:0.8;\"/>\n   </g>\n   <g id=\"patch_55\">\n    <path d=\"M 40.603125 550.8 \nL 1156.603125 550.8 \n\" style=\"fill:none;stroke:#000000;stroke-linecap:square;stroke-linejoin:miter;stroke-width:0.8;\"/>\n   </g>\n   <g id=\"patch_56\">\n    <path d=\"M 40.603125 7.2 \nL 1156.603125 7.2 \n\" style=\"fill:none;stroke:#000000;stroke-linecap:square;stroke-linejoin:miter;stroke-width:0.8;\"/>\n   </g>\n   <g id=\"legend_1\">\n    <g id=\"patch_57\">\n     <path d=\"M 1075.004688 88.590625 \nL 1149.603125 88.590625 \nQ 1151.603125 88.590625 1151.603125 86.590625 \nL 1151.603125 14.2 \nQ 1151.603125 12.2 1149.603125 12.2 \nL 1075.004688 12.2 \nQ 1073.004688 12.2 1073.004688 14.2 \nL 1073.004688 86.590625 \nQ 1073.004688 88.590625 1075.004688 88.590625 \nz\n\" style=\"fill:#ffffff;opacity:0.8;stroke:#cccccc;stroke-linejoin:miter;\"/>\n    </g>\n    <g id=\"patch_58\">\n     <path d=\"M 1077.004688 23.798437 \nL 1097.004688 23.798437 \nL 1097.004688 16.798437 \nL 1077.004688 16.798437 \nz\n\" style=\"fill:#ffff00;\"/>\n    </g>\n    <g id=\"text_15\">\n     <!-- Other -->\n     <defs>\n      <path d=\"M 39.40625 66.21875 \nQ 28.65625 66.21875 22.328125 58.203125 \nQ 16.015625 50.203125 16.015625 36.375 \nQ 16.015625 22.609375 22.328125 14.59375 \nQ 28.65625 6.59375 39.40625 6.59375 \nQ 50.140625 6.59375 56.421875 14.59375 \nQ 62.703125 22.609375 62.703125 36.375 \nQ 62.703125 50.203125 56.421875 58.203125 \nQ 50.140625 66.21875 39.40625 66.21875 \nz\nM 39.40625 74.21875 \nQ 54.734375 74.21875 63.90625 63.9375 \nQ 73.09375 53.65625 73.09375 36.375 \nQ 73.09375 19.140625 63.90625 8.859375 \nQ 54.734375 -1.421875 39.40625 -1.421875 \nQ 24.03125 -1.421875 14.8125 8.828125 \nQ 5.609375 19.09375 5.609375 36.375 \nQ 5.609375 53.65625 14.8125 63.9375 \nQ 24.03125 74.21875 39.40625 74.21875 \nz\n\" id=\"DejaVuSans-79\"/>\n      <path d=\"M 18.3125 70.21875 \nL 18.3125 54.6875 \nL 36.8125 54.6875 \nL 36.8125 47.703125 \nL 18.3125 47.703125 \nL 18.3125 18.015625 \nQ 18.3125 11.328125 20.140625 9.421875 \nQ 21.96875 7.515625 27.59375 7.515625 \nL 36.8125 7.515625 \nL 36.8125 0 \nL 27.59375 0 \nQ 17.1875 0 13.234375 3.875 \nQ 9.28125 7.765625 9.28125 18.015625 \nL 9.28125 47.703125 \nL 2.6875 47.703125 \nL 2.6875 54.6875 \nL 9.28125 54.6875 \nL 9.28125 70.21875 \nz\n\" id=\"DejaVuSans-116\"/>\n      <path d=\"M 54.890625 33.015625 \nL 54.890625 0 \nL 45.90625 0 \nL 45.90625 32.71875 \nQ 45.90625 40.484375 42.875 44.328125 \nQ 39.84375 48.1875 33.796875 48.1875 \nQ 26.515625 48.1875 22.3125 43.546875 \nQ 18.109375 38.921875 18.109375 30.90625 \nL 18.109375 0 \nL 9.078125 0 \nL 9.078125 75.984375 \nL 18.109375 75.984375 \nL 18.109375 46.1875 \nQ 21.34375 51.125 25.703125 53.5625 \nQ 30.078125 56 35.796875 56 \nQ 45.21875 56 50.046875 50.171875 \nQ 54.890625 44.34375 54.890625 33.015625 \nz\n\" id=\"DejaVuSans-104\"/>\n     </defs>\n     <g transform=\"translate(1105.004688 23.798437)scale(0.1 -0.1)\">\n      <use xlink:href=\"#DejaVuSans-79\"/>\n      <use x=\"78.710938\" xlink:href=\"#DejaVuSans-116\"/>\n      <use x=\"117.919922\" xlink:href=\"#DejaVuSans-104\"/>\n      <use x=\"181.298828\" xlink:href=\"#DejaVuSans-101\"/>\n      <use x=\"242.822266\" xlink:href=\"#DejaVuSans-114\"/>\n     </g>\n    </g>\n    <g id=\"patch_59\">\n     <path d=\"M 1077.004688 38.476562 \nL 1097.004688 38.476562 \nL 1097.004688 31.476562 \nL 1077.004688 31.476562 \nz\n\" style=\"fill:#ff0000;\"/>\n    </g>\n    <g id=\"text_16\">\n     <!-- White -->\n     <defs>\n      <path d=\"M 3.328125 72.90625 \nL 13.28125 72.90625 \nL 28.609375 11.28125 \nL 43.890625 72.90625 \nL 54.984375 72.90625 \nL 70.3125 11.28125 \nL 85.59375 72.90625 \nL 95.609375 72.90625 \nL 77.296875 0 \nL 64.890625 0 \nL 49.515625 63.28125 \nL 33.984375 0 \nL 21.578125 0 \nz\n\" id=\"DejaVuSans-87\"/>\n      <path d=\"M 9.421875 54.6875 \nL 18.40625 54.6875 \nL 18.40625 0 \nL 9.421875 0 \nz\nM 9.421875 75.984375 \nL 18.40625 75.984375 \nL 18.40625 64.59375 \nL 9.421875 64.59375 \nz\n\" id=\"DejaVuSans-105\"/>\n     </defs>\n     <g transform=\"translate(1105.004688 38.476562)scale(0.1 -0.1)\">\n      <use xlink:href=\"#DejaVuSans-87\"/>\n      <use x=\"98.876953\" xlink:href=\"#DejaVuSans-104\"/>\n      <use x=\"162.255859\" xlink:href=\"#DejaVuSans-105\"/>\n      <use x=\"190.039062\" xlink:href=\"#DejaVuSans-116\"/>\n      <use x=\"229.248047\" xlink:href=\"#DejaVuSans-101\"/>\n     </g>\n    </g>\n    <g id=\"patch_60\">\n     <path d=\"M 1077.004688 53.154688 \nL 1097.004688 53.154688 \nL 1097.004688 46.154688 \nL 1077.004688 46.154688 \nz\n\" style=\"fill:#9400d3;\"/>\n    </g>\n    <g id=\"text_17\">\n     <!-- Hispanic -->\n     <defs>\n      <path d=\"M 9.8125 72.90625 \nL 19.671875 72.90625 \nL 19.671875 43.015625 \nL 55.515625 43.015625 \nL 55.515625 72.90625 \nL 65.375 72.90625 \nL 65.375 0 \nL 55.515625 0 \nL 55.515625 34.71875 \nL 19.671875 34.71875 \nL 19.671875 0 \nL 9.8125 0 \nz\n\" id=\"DejaVuSans-72\"/>\n      <path d=\"M 44.28125 53.078125 \nL 44.28125 44.578125 \nQ 40.484375 46.53125 36.375 47.5 \nQ 32.28125 48.484375 27.875 48.484375 \nQ 21.1875 48.484375 17.84375 46.4375 \nQ 14.5 44.390625 14.5 40.28125 \nQ 14.5 37.15625 16.890625 35.375 \nQ 19.28125 33.59375 26.515625 31.984375 \nL 29.59375 31.296875 \nQ 39.15625 29.25 43.1875 25.515625 \nQ 47.21875 21.78125 47.21875 15.09375 \nQ 47.21875 7.46875 41.1875 3.015625 \nQ 35.15625 -1.421875 24.609375 -1.421875 \nQ 20.21875 -1.421875 15.453125 -0.5625 \nQ 10.6875 0.296875 5.421875 2 \nL 5.421875 11.28125 \nQ 10.40625 8.6875 15.234375 7.390625 \nQ 20.0625 6.109375 24.8125 6.109375 \nQ 31.15625 6.109375 34.5625 8.28125 \nQ 37.984375 10.453125 37.984375 14.40625 \nQ 37.984375 18.0625 35.515625 20.015625 \nQ 33.0625 21.96875 24.703125 23.78125 \nL 21.578125 24.515625 \nQ 13.234375 26.265625 9.515625 29.90625 \nQ 5.8125 33.546875 5.8125 39.890625 \nQ 5.8125 47.609375 11.28125 51.796875 \nQ 16.75 56 26.8125 56 \nQ 31.78125 56 36.171875 55.265625 \nQ 40.578125 54.546875 44.28125 53.078125 \nz\n\" id=\"DejaVuSans-115\"/>\n      <path d=\"M 18.109375 8.203125 \nL 18.109375 -20.796875 \nL 9.078125 -20.796875 \nL 9.078125 54.6875 \nL 18.109375 54.6875 \nL 18.109375 46.390625 \nQ 20.953125 51.265625 25.265625 53.625 \nQ 29.59375 56 35.59375 56 \nQ 45.5625 56 51.78125 48.09375 \nQ 58.015625 40.1875 58.015625 27.296875 \nQ 58.015625 14.40625 51.78125 6.484375 \nQ 45.5625 -1.421875 35.59375 -1.421875 \nQ 29.59375 -1.421875 25.265625 0.953125 \nQ 20.953125 3.328125 18.109375 8.203125 \nz\nM 48.6875 27.296875 \nQ 48.6875 37.203125 44.609375 42.84375 \nQ 40.53125 48.484375 33.40625 48.484375 \nQ 26.265625 48.484375 22.1875 42.84375 \nQ 18.109375 37.203125 18.109375 27.296875 \nQ 18.109375 17.390625 22.1875 11.75 \nQ 26.265625 6.109375 33.40625 6.109375 \nQ 40.53125 6.109375 44.609375 11.75 \nQ 48.6875 17.390625 48.6875 27.296875 \nz\n\" id=\"DejaVuSans-112\"/>\n      <path d=\"M 34.28125 27.484375 \nQ 23.390625 27.484375 19.1875 25 \nQ 14.984375 22.515625 14.984375 16.5 \nQ 14.984375 11.71875 18.140625 8.90625 \nQ 21.296875 6.109375 26.703125 6.109375 \nQ 34.1875 6.109375 38.703125 11.40625 \nQ 43.21875 16.703125 43.21875 25.484375 \nL 43.21875 27.484375 \nz\nM 52.203125 31.203125 \nL 52.203125 0 \nL 43.21875 0 \nL 43.21875 8.296875 \nQ 40.140625 3.328125 35.546875 0.953125 \nQ 30.953125 -1.421875 24.3125 -1.421875 \nQ 15.921875 -1.421875 10.953125 3.296875 \nQ 6 8.015625 6 15.921875 \nQ 6 25.140625 12.171875 29.828125 \nQ 18.359375 34.515625 30.609375 34.515625 \nL 43.21875 34.515625 \nL 43.21875 35.40625 \nQ 43.21875 41.609375 39.140625 45 \nQ 35.0625 48.390625 27.6875 48.390625 \nQ 23 48.390625 18.546875 47.265625 \nQ 14.109375 46.140625 10.015625 43.890625 \nL 10.015625 52.203125 \nQ 14.9375 54.109375 19.578125 55.046875 \nQ 24.21875 56 28.609375 56 \nQ 40.484375 56 46.34375 49.84375 \nQ 52.203125 43.703125 52.203125 31.203125 \nz\n\" id=\"DejaVuSans-97\"/>\n     </defs>\n     <g transform=\"translate(1105.004688 53.154688)scale(0.1 -0.1)\">\n      <use xlink:href=\"#DejaVuSans-72\"/>\n      <use x=\"75.195312\" xlink:href=\"#DejaVuSans-105\"/>\n      <use x=\"102.978516\" xlink:href=\"#DejaVuSans-115\"/>\n      <use x=\"155.078125\" xlink:href=\"#DejaVuSans-112\"/>\n      <use x=\"218.554688\" xlink:href=\"#DejaVuSans-97\"/>\n      <use x=\"279.833984\" xlink:href=\"#DejaVuSans-110\"/>\n      <use x=\"343.212891\" xlink:href=\"#DejaVuSans-105\"/>\n      <use x=\"370.996094\" xlink:href=\"#DejaVuSans-99\"/>\n     </g>\n    </g>\n    <g id=\"patch_61\">\n     <path d=\"M 1077.004688 67.832812 \nL 1097.004688 67.832812 \nL 1097.004688 60.832812 \nL 1077.004688 60.832812 \nz\n\" style=\"fill:#4169e1;\"/>\n    </g>\n    <g id=\"text_18\">\n     <!-- Black -->\n     <defs>\n      <path d=\"M 19.671875 34.8125 \nL 19.671875 8.109375 \nL 35.5 8.109375 \nQ 43.453125 8.109375 47.28125 11.40625 \nQ 51.125 14.703125 51.125 21.484375 \nQ 51.125 28.328125 47.28125 31.5625 \nQ 43.453125 34.8125 35.5 34.8125 \nz\nM 19.671875 64.796875 \nL 19.671875 42.828125 \nL 34.28125 42.828125 \nQ 41.5 42.828125 45.03125 45.53125 \nQ 48.578125 48.25 48.578125 53.8125 \nQ 48.578125 59.328125 45.03125 62.0625 \nQ 41.5 64.796875 34.28125 64.796875 \nz\nM 9.8125 72.90625 \nL 35.015625 72.90625 \nQ 46.296875 72.90625 52.390625 68.21875 \nQ 58.5 63.53125 58.5 54.890625 \nQ 58.5 48.1875 55.375 44.234375 \nQ 52.25 40.28125 46.1875 39.3125 \nQ 53.46875 37.75 57.5 32.78125 \nQ 61.53125 27.828125 61.53125 20.40625 \nQ 61.53125 10.640625 54.890625 5.3125 \nQ 48.25 0 35.984375 0 \nL 9.8125 0 \nz\n\" id=\"DejaVuSans-66\"/>\n      <path d=\"M 9.421875 75.984375 \nL 18.40625 75.984375 \nL 18.40625 0 \nL 9.421875 0 \nz\n\" id=\"DejaVuSans-108\"/>\n      <path d=\"M 9.078125 75.984375 \nL 18.109375 75.984375 \nL 18.109375 31.109375 \nL 44.921875 54.6875 \nL 56.390625 54.6875 \nL 27.390625 29.109375 \nL 57.625 0 \nL 45.90625 0 \nL 18.109375 26.703125 \nL 18.109375 0 \nL 9.078125 0 \nz\n\" id=\"DejaVuSans-107\"/>\n     </defs>\n     <g transform=\"translate(1105.004688 67.832812)scale(0.1 -0.1)\">\n      <use xlink:href=\"#DejaVuSans-66\"/>\n      <use x=\"68.603516\" xlink:href=\"#DejaVuSans-108\"/>\n      <use x=\"96.386719\" xlink:href=\"#DejaVuSans-97\"/>\n      <use x=\"157.666016\" xlink:href=\"#DejaVuSans-99\"/>\n      <use x=\"212.646484\" xlink:href=\"#DejaVuSans-107\"/>\n     </g>\n    </g>\n    <g id=\"patch_62\">\n     <path d=\"M 1077.004688 82.510937 \nL 1097.004688 82.510937 \nL 1097.004688 75.510937 \nL 1077.004688 75.510937 \nz\n\" style=\"fill:#008000;\"/>\n    </g>\n    <g id=\"text_19\">\n     <!-- Asian -->\n     <defs>\n      <path d=\"M 34.1875 63.1875 \nL 20.796875 26.90625 \nL 47.609375 26.90625 \nz\nM 28.609375 72.90625 \nL 39.796875 72.90625 \nL 67.578125 0 \nL 57.328125 0 \nL 50.6875 18.703125 \nL 17.828125 18.703125 \nL 11.1875 0 \nL 0.78125 0 \nz\n\" id=\"DejaVuSans-65\"/>\n     </defs>\n     <g transform=\"translate(1105.004688 82.510937)scale(0.1 -0.1)\">\n      <use xlink:href=\"#DejaVuSans-65\"/>\n      <use x=\"68.408203\" xlink:href=\"#DejaVuSans-115\"/>\n      <use x=\"120.507812\" xlink:href=\"#DejaVuSans-105\"/>\n      <use x=\"148.291016\" xlink:href=\"#DejaVuSans-97\"/>\n      <use x=\"209.570312\" xlink:href=\"#DejaVuSans-110\"/>\n     </g>\n    </g>\n   </g>\n  </g>\n </g>\n <defs>\n  <clipPath id=\"p1c28cc8e15\">\n   <rect height=\"543.6\" width=\"1116\" x=\"40.603125\" y=\"7.2\"/>\n  </clipPath>\n </defs>\n</svg>\n",
      "image/png": "[encoded data removed]"
     },
     "metadata": {
      "needs_background": "light"
     }
    }
   ],
   "source": [
    "df = process_sheet(dfs['ethnicity'])\n",
    "\n",
    "ax = df[df.target == 'OTHER'].plot.hist(x=\"seed\", y=\"auroc\", color=\"yellow\", label=\"Other\")\n",
    "df[df.target == 'WHITE'].plot.hist(x=\"seed\", y=\"auroc\", color=\"red\", label=\"White\", ax=ax)\n",
    "df[df.target == 'HISPANIC/LATINO'].plot.hist(x=\"seed\", y=\"auroc\", color=\"darkviolet\", label=\"Hispanic\", ax=ax)\n",
    "df[df.target == 'BLACK'].plot.hist(x=\"seed\", y=\"auroc\", color=\"royalblue\", label=\"Black\", ax=ax)\n",
    "\n",
    "df[df.target == 'ASIAN'].plot.hist(x=\"seed\", y=\"auroc\", color=\"green\", label=\"Asian\", ax=ax, figsize=(20,10))\n",
    "# start, end = ax.get_xlim()\n",
    "# ax.xaxis.set_ticks(np.arange(start, end, 1))"
   ]
  },
  {
   "cell_type": "code",
   "execution_count": 92,
   "metadata": {},
   "outputs": [
    {
     "output_type": "execute_result",
     "data": {
      "text/plain": [
       "<matplotlib.axes._subplots.AxesSubplot at 0x7fc3e67cd790>"
      ]
     },
     "metadata": {},
     "execution_count": 92
    },
    {
     "output_type": "display_data",
     "data": {
      "text/plain": "<Figure size 432x288 with 1 Axes>",
      "image/svg+xml": "<?xml version=\"1.0\" encoding=\"utf-8\" standalone=\"no\"?>\n<!DOCTYPE svg PUBLIC \"-//W3C//DTD SVG 1.1//EN\"\n  \"http://www.w3.org/Graphics/SVG/1.1/DTD/svg11.dtd\">\n<!-- Created with matplotlib (https://matplotlib.org/) -->\n<svg height=\"262.19625pt\" version=\"1.1\" viewBox=\"0 0 392.14375 262.19625\" width=\"392.14375pt\" xmlns=\"http://www.w3.org/2000/svg\" xmlns:xlink=\"http://www.w3.org/1999/xlink\">\n <defs>\n  <style type=\"text/css\">\n*{stroke-linecap:butt;stroke-linejoin:round;}\n  </style>\n </defs>\n <g id=\"figure_1\">\n  <g id=\"patch_1\">\n   <path d=\"M 0 262.19625 \nL 392.14375 262.19625 \nL 392.14375 0 \nL 0 0 \nz\n\" style=\"fill:none;\"/>\n  </g>\n  <g id=\"axes_1\">\n   <g id=\"patch_2\">\n    <path d=\"M 50.14375 224.64 \nL 384.94375 224.64 \nL 384.94375 7.2 \nL 50.14375 7.2 \nz\n\" style=\"fill:#ffffff;\"/>\n   </g>\n   <g id=\"PathCollection_1\">\n    <defs>\n     <path d=\"M 0 2.236068 \nC 0.593012 2.236068 1.161816 2.000462 1.581139 1.581139 \nC 2.000462 1.161816 2.236068 0.593012 2.236068 0 \nC 2.236068 -0.593012 2.000462 -1.161816 1.581139 -1.581139 \nC 1.161816 -2.000462 0.593012 -2.236068 0 -2.236068 \nC -0.593012 -2.236068 -1.161816 -2.000462 -1.581139 -1.581139 \nC -2.000462 -1.161816 -2.236068 -0.593012 -2.236068 0 \nC -2.236068 0.593012 -2.000462 1.161816 -1.581139 1.581139 \nC -1.161816 2.000462 -0.593012 2.236068 0 2.236068 \nz\n\" id=\"m8b41a8543a\" style=\"stroke:#006400;\"/>\n    </defs>\n    <g clip-path=\"url(#p3e3ff644cc)\">\n     <use style=\"fill:#006400;stroke:#006400;\" x=\"101.692563\" xlink:href=\"#m8b41a8543a\" y=\"60.817766\"/>\n     <use style=\"fill:#006400;stroke:#006400;\" x=\"353.871101\" xlink:href=\"#m8b41a8543a\" y=\"78.697394\"/>\n     <use style=\"fill:#006400;stroke:#006400;\" x=\"147.365533\" xlink:href=\"#m8b41a8543a\" y=\"70.220122\"/>\n     <use style=\"fill:#006400;stroke:#006400;\" x=\"111.554797\" xlink:href=\"#m8b41a8543a\" y=\"51.358894\"/>\n     <use style=\"fill:#006400;stroke:#006400;\" x=\"259.758924\" xlink:href=\"#m8b41a8543a\" y=\"55.760538\"/>\n     <use style=\"fill:#006400;stroke:#006400;\" x=\"306.484267\" xlink:href=\"#m8b41a8543a\" y=\"73.582621\"/>\n     <use style=\"fill:#006400;stroke:#006400;\" x=\"144.118211\" xlink:href=\"#m8b41a8543a\" y=\"52.603006\"/>\n     <use style=\"fill:#006400;stroke:#006400;\" x=\"99.196936\" xlink:href=\"#m8b41a8543a\" y=\"71.127847\"/>\n     <use style=\"fill:#006400;stroke:#006400;\" x=\"154.160853\" xlink:href=\"#m8b41a8543a\" y=\"68.546421\"/>\n     <use style=\"fill:#006400;stroke:#006400;\" x=\"254.166316\" xlink:href=\"#m8b41a8543a\" y=\"63.519169\"/>\n     <use style=\"fill:#006400;stroke:#006400;\" x=\"158.791292\" xlink:href=\"#m8b41a8543a\" y=\"90.901093\"/>\n     <use style=\"fill:#006400;stroke:#006400;\" x=\"218.175174\" xlink:href=\"#m8b41a8543a\" y=\"69.668729\"/>\n     <use style=\"fill:#006400;stroke:#006400;\" x=\"123.88259\" xlink:href=\"#m8b41a8543a\" y=\"73.38471\"/>\n     <use style=\"fill:#006400;stroke:#006400;\" x=\"310.453215\" xlink:href=\"#m8b41a8543a\" y=\"38.280695\"/>\n     <use style=\"fill:#006400;stroke:#006400;\" x=\"263.818076\" xlink:href=\"#m8b41a8543a\" y=\"63.414511\"/>\n     <use style=\"fill:#006400;stroke:#006400;\" x=\"84.012703\" xlink:href=\"#m8b41a8543a\" y=\"66.633265\"/>\n     <use style=\"fill:#006400;stroke:#006400;\" x=\"270.703599\" xlink:href=\"#m8b41a8543a\" y=\"62.282281\"/>\n     <use style=\"fill:#006400;stroke:#006400;\" x=\"183.927963\" xlink:href=\"#m8b41a8543a\" y=\"75.023735\"/>\n     <use style=\"fill:#006400;stroke:#006400;\" x=\"280.836444\" xlink:href=\"#m8b41a8543a\" y=\"59.496083\"/>\n     <use style=\"fill:#006400;stroke:#006400;\" x=\"349.571407\" xlink:href=\"#m8b41a8543a\" y=\"47.339181\"/>\n     <use style=\"fill:#006400;stroke:#006400;\" x=\"328.373617\" xlink:href=\"#m8b41a8543a\" y=\"67.761143\"/>\n     <use style=\"fill:#006400;stroke:#006400;\" x=\"199.683484\" xlink:href=\"#m8b41a8543a\" y=\"55.437888\"/>\n     <use style=\"fill:#006400;stroke:#006400;\" x=\"153.619633\" xlink:href=\"#m8b41a8543a\" y=\"55.186814\"/>\n     <use style=\"fill:#006400;stroke:#006400;\" x=\"88.613075\" xlink:href=\"#m8b41a8543a\" y=\"52.583214\"/>\n     <use style=\"fill:#006400;stroke:#006400;\" x=\"170.186984\" xlink:href=\"#m8b41a8543a\" y=\"62.923815\"/>\n     <use style=\"fill:#006400;stroke:#006400;\" x=\"346.354154\" xlink:href=\"#m8b41a8543a\" y=\"57.051701\"/>\n     <use style=\"fill:#006400;stroke:#006400;\" x=\"121.176489\" xlink:href=\"#m8b41a8543a\" y=\"65.583661\"/>\n     <use style=\"fill:#006400;stroke:#006400;\" x=\"353.630559\" xlink:href=\"#m8b41a8543a\" y=\"80.186107\"/>\n     <use style=\"fill:#006400;stroke:#006400;\" x=\"156.175395\" xlink:href=\"#m8b41a8543a\" y=\"66.003721\"/>\n     <use style=\"fill:#006400;stroke:#006400;\" x=\"83.411347\" xlink:href=\"#m8b41a8543a\" y=\"75.262233\"/>\n     <use style=\"fill:#006400;stroke:#006400;\" x=\"354.322118\" xlink:href=\"#m8b41a8543a\" y=\"76.849142\"/>\n     <use style=\"fill:#006400;stroke:#006400;\" x=\"300.170032\" xlink:href=\"#m8b41a8543a\" y=\"38.92136\"/>\n     <use style=\"fill:#006400;stroke:#006400;\" x=\"175.53905\" xlink:href=\"#m8b41a8543a\" y=\"57.052211\"/>\n     <use style=\"fill:#006400;stroke:#006400;\" x=\"103.616901\" xlink:href=\"#m8b41a8543a\" y=\"37.202842\"/>\n     <use style=\"fill:#006400;stroke:#006400;\" x=\"70.001114\" xlink:href=\"#m8b41a8543a\" y=\"60.760037\"/>\n     <use style=\"fill:#006400;stroke:#006400;\" x=\"242.951031\" xlink:href=\"#m8b41a8543a\" y=\"58.995009\"/>\n     <use style=\"fill:#006400;stroke:#006400;\" x=\"297.914948\" xlink:href=\"#m8b41a8543a\" y=\"63.978247\"/>\n     <use style=\"fill:#006400;stroke:#006400;\" x=\"100.489851\" xlink:href=\"#m8b41a8543a\" y=\"61.860204\"/>\n     <use style=\"fill:#006400;stroke:#006400;\" x=\"142.765161\" xlink:href=\"#m8b41a8543a\" y=\"70.087344\"/>\n     <use style=\"fill:#006400;stroke:#006400;\" x=\"80.073823\" xlink:href=\"#m8b41a8543a\" y=\"59.454768\"/>\n     <use style=\"fill:#006400;stroke:#006400;\" x=\"98.565513\" xlink:href=\"#m8b41a8543a\" y=\"60.817418\"/>\n     <use style=\"fill:#006400;stroke:#006400;\" x=\"158.731157\" xlink:href=\"#m8b41a8543a\" y=\"69.298031\"/>\n     <use style=\"fill:#006400;stroke:#006400;\" x=\"225.601917\" xlink:href=\"#m8b41a8543a\" y=\"48.205671\"/>\n     <use style=\"fill:#006400;stroke:#006400;\" x=\"321.007009\" xlink:href=\"#m8b41a8543a\" y=\"36.280684\"/>\n     <use style=\"fill:#006400;stroke:#006400;\" x=\"134.586723\" xlink:href=\"#m8b41a8543a\" y=\"60.212226\"/>\n     <use style=\"fill:#006400;stroke:#006400;\" x=\"174.216067\" xlink:href=\"#m8b41a8543a\" y=\"63.376582\"/>\n     <use style=\"fill:#006400;stroke:#006400;\" x=\"362.741099\" xlink:href=\"#m8b41a8543a\" y=\"86.822479\"/>\n     <use style=\"fill:#006400;stroke:#006400;\" x=\"188.558402\" xlink:href=\"#m8b41a8543a\" y=\"59.471985\"/>\n     <use style=\"fill:#006400;stroke:#006400;\" x=\"86.598533\" xlink:href=\"#m8b41a8543a\" y=\"48.699912\"/>\n     <use style=\"fill:#006400;stroke:#006400;\" x=\"360.696489\" xlink:href=\"#m8b41a8543a\" y=\"69.357046\"/>\n     <use style=\"fill:#006400;stroke:#006400;\" x=\"89.755651\" xlink:href=\"#m8b41a8543a\" y=\"52.649079\"/>\n     <use style=\"fill:#006400;stroke:#006400;\" x=\"199.863891\" xlink:href=\"#m8b41a8543a\" y=\"46.171919\"/>\n     <use style=\"fill:#006400;stroke:#006400;\" x=\"223.226562\" xlink:href=\"#m8b41a8543a\" y=\"69.470542\"/>\n     <use style=\"fill:#006400;stroke:#006400;\" x=\"155.634174\" xlink:href=\"#m8b41a8543a\" y=\"42.655132\"/>\n     <use style=\"fill:#006400;stroke:#006400;\" x=\"80.975857\" xlink:href=\"#m8b41a8543a\" y=\"51.505213\"/>\n     <use style=\"fill:#006400;stroke:#006400;\" x=\"210.357549\" xlink:href=\"#m8b41a8543a\" y=\"65.765535\"/>\n     <use style=\"fill:#006400;stroke:#006400;\" x=\"211.169379\" xlink:href=\"#m8b41a8543a\" y=\"52.5827\"/>\n     <use style=\"fill:#006400;stroke:#006400;\" x=\"74.180536\" xlink:href=\"#m8b41a8543a\" y=\"67.462643\"/>\n     <use style=\"fill:#006400;stroke:#006400;\" x=\"107.315239\" xlink:href=\"#m8b41a8543a\" y=\"73.388207\"/>\n     <use style=\"fill:#006400;stroke:#006400;\" x=\"108.367611\" xlink:href=\"#m8b41a8543a\" y=\"48.516743\"/>\n     <use style=\"fill:#006400;stroke:#006400;\" x=\"194.151011\" xlink:href=\"#m8b41a8543a\" y=\"73.832057\"/>\n     <use style=\"fill:#006400;stroke:#006400;\" x=\"312.197147\" xlink:href=\"#m8b41a8543a\" y=\"62.684091\"/>\n     <use style=\"fill:#006400;stroke:#006400;\" x=\"298.937252\" xlink:href=\"#m8b41a8543a\" y=\"45.183516\"/>\n     <use style=\"fill:#006400;stroke:#006400;\" x=\"359.343439\" xlink:href=\"#m8b41a8543a\" y=\"56.92733\"/>\n     <use style=\"fill:#006400;stroke:#006400;\" x=\"171.209289\" xlink:href=\"#m8b41a8543a\" y=\"57.969955\"/>\n     <use style=\"fill:#006400;stroke:#006400;\" x=\"302.034235\" xlink:href=\"#m8b41a8543a\" y=\"50.380946\"/>\n     <use style=\"fill:#006400;stroke:#006400;\" x=\"352.878864\" xlink:href=\"#m8b41a8543a\" y=\"60.343513\"/>\n     <use style=\"fill:#006400;stroke:#006400;\" x=\"285.256409\" xlink:href=\"#m8b41a8543a\" y=\"54.250875\"/>\n     <use style=\"fill:#006400;stroke:#006400;\" x=\"98.114496\" xlink:href=\"#m8b41a8543a\" y=\"61.132517\"/>\n     <use style=\"fill:#006400;stroke:#006400;\" x=\"71.775113\" xlink:href=\"#m8b41a8543a\" y=\"85.445657\"/>\n     <use style=\"fill:#006400;stroke:#006400;\" x=\"367.521877\" xlink:href=\"#m8b41a8543a\" y=\"47.887888\"/>\n     <use style=\"fill:#006400;stroke:#006400;\" x=\"189.610775\" xlink:href=\"#m8b41a8543a\" y=\"50.745762\"/>\n     <use style=\"fill:#006400;stroke:#006400;\" x=\"74.421079\" xlink:href=\"#m8b41a8543a\" y=\"57.735515\"/>\n     <use style=\"fill:#006400;stroke:#006400;\" x=\"67.565623\" xlink:href=\"#m8b41a8543a\" y=\"54.22016\"/>\n     <use style=\"fill:#006400;stroke:#006400;\" x=\"122.559607\" xlink:href=\"#m8b41a8543a\" y=\"69.843508\"/>\n     <use style=\"fill:#006400;stroke:#006400;\" x=\"117.598422\" xlink:href=\"#m8b41a8543a\" y=\"52.514403\"/>\n     <use style=\"fill:#006400;stroke:#006400;\" x=\"367.401606\" xlink:href=\"#m8b41a8543a\" y=\"60.836115\"/>\n     <use style=\"fill:#006400;stroke:#006400;\" x=\"268.959668\" xlink:href=\"#m8b41a8543a\" y=\"59.275688\"/>\n     <use style=\"fill:#006400;stroke:#006400;\" x=\"335.319276\" xlink:href=\"#m8b41a8543a\" y=\"68.812022\"/>\n     <use style=\"fill:#006400;stroke:#006400;\" x=\"150.101701\" xlink:href=\"#m8b41a8543a\" y=\"49.907206\"/>\n     <use style=\"fill:#006400;stroke:#006400;\" x=\"115.583881\" xlink:href=\"#m8b41a8543a\" y=\"40.634958\"/>\n     <use style=\"fill:#006400;stroke:#006400;\" x=\"160.264614\" xlink:href=\"#m8b41a8543a\" y=\"52.859279\"/>\n     <use style=\"fill:#006400;stroke:#006400;\" x=\"352.608254\" xlink:href=\"#m8b41a8543a\" y=\"60.006069\"/>\n     <use style=\"fill:#006400;stroke:#006400;\" x=\"223.316765\" xlink:href=\"#m8b41a8543a\" y=\"51.555467\"/>\n     <use style=\"fill:#006400;stroke:#006400;\" x=\"291.720983\" xlink:href=\"#m8b41a8543a\" y=\"92.738456\"/>\n     <use style=\"fill:#006400;stroke:#006400;\" x=\"256.090654\" xlink:href=\"#m8b41a8543a\" y=\"53.645743\"/>\n     <use style=\"fill:#006400;stroke:#006400;\" x=\"292.623017\" xlink:href=\"#m8b41a8543a\" y=\"66.797341\"/>\n     <use style=\"fill:#006400;stroke:#006400;\" x=\"251.159537\" xlink:href=\"#m8b41a8543a\" y=\"91.316578\"/>\n     <use style=\"fill:#006400;stroke:#006400;\" x=\"71.444368\" xlink:href=\"#m8b41a8543a\" y=\"54.101392\"/>\n     <use style=\"fill:#006400;stroke:#006400;\" x=\"189.159758\" xlink:href=\"#m8b41a8543a\" y=\"63.757488\"/>\n     <use style=\"fill:#006400;stroke:#006400;\" x=\"219.137343\" xlink:href=\"#m8b41a8543a\" y=\"67.876173\"/>\n     <use style=\"fill:#006400;stroke:#006400;\" x=\"204.374059\" xlink:href=\"#m8b41a8543a\" y=\"61.671929\"/>\n     <use style=\"fill:#006400;stroke:#006400;\" x=\"295.208847\" xlink:href=\"#m8b41a8543a\" y=\"61.021296\"/>\n     <use style=\"fill:#006400;stroke:#006400;\" x=\"106.383137\" xlink:href=\"#m8b41a8543a\" y=\"48.598576\"/>\n     <use style=\"fill:#006400;stroke:#006400;\" x=\"228.698899\" xlink:href=\"#m8b41a8543a\" y=\"63.953816\"/>\n     <use style=\"fill:#006400;stroke:#006400;\" x=\"304.830539\" xlink:href=\"#m8b41a8543a\" y=\"62.667259\"/>\n     <use style=\"fill:#006400;stroke:#006400;\" x=\"229.360391\" xlink:href=\"#m8b41a8543a\" y=\"65.777362\"/>\n     <use style=\"fill:#006400;stroke:#006400;\" x=\"228.668832\" xlink:href=\"#m8b41a8543a\" y=\"61.032826\"/>\n     <use style=\"fill:#006400;stroke:#006400;\" x=\"94.325954\" xlink:href=\"#m8b41a8543a\" y=\"54.45159\"/>\n    </g>\n   </g>\n   <g id=\"PathCollection_2\">\n    <defs>\n     <path d=\"M 0 2.236068 \nC 0.593012 2.236068 1.161816 2.000462 1.581139 1.581139 \nC 2.000462 1.161816 2.236068 0.593012 2.236068 0 \nC 2.236068 -0.593012 2.000462 -1.161816 1.581139 -1.581139 \nC 1.161816 -2.000462 0.593012 -2.236068 0 -2.236068 \nC -0.593012 -2.236068 -1.161816 -2.000462 -1.581139 -1.581139 \nC -2.000462 -1.161816 -2.236068 -0.593012 -2.236068 0 \nC -2.236068 0.593012 -2.000462 1.161816 -1.581139 1.581139 \nC -1.161816 2.000462 -0.593012 2.236068 0 2.236068 \nz\n\" id=\"m68acbfe55f\" style=\"stroke:#00008b;\"/>\n    </defs>\n    <g clip-path=\"url(#p3e3ff644cc)\">\n     <use style=\"fill:#00008b;stroke:#00008b;\" x=\"101.692563\" xlink:href=\"#m68acbfe55f\" y=\"203.0532\"/>\n     <use style=\"fill:#00008b;stroke:#00008b;\" x=\"353.871101\" xlink:href=\"#m68acbfe55f\" y=\"180.869403\"/>\n     <use style=\"fill:#00008b;stroke:#00008b;\" x=\"147.365533\" xlink:href=\"#m68acbfe55f\" y=\"177.240001\"/>\n     <use style=\"fill:#00008b;stroke:#00008b;\" x=\"111.554797\" xlink:href=\"#m68acbfe55f\" y=\"202.934268\"/>\n     <use style=\"fill:#00008b;stroke:#00008b;\" x=\"259.758924\" xlink:href=\"#m68acbfe55f\" y=\"192.175526\"/>\n     <use style=\"fill:#00008b;stroke:#00008b;\" x=\"306.484267\" xlink:href=\"#m68acbfe55f\" y=\"130.634036\"/>\n     <use style=\"fill:#00008b;stroke:#00008b;\" x=\"144.118211\" xlink:href=\"#m68acbfe55f\" y=\"176.056141\"/>\n     <use style=\"fill:#00008b;stroke:#00008b;\" x=\"99.196936\" xlink:href=\"#m68acbfe55f\" y=\"181.170291\"/>\n     <use style=\"fill:#00008b;stroke:#00008b;\" x=\"154.160853\" xlink:href=\"#m68acbfe55f\" y=\"146.077968\"/>\n     <use style=\"fill:#00008b;stroke:#00008b;\" x=\"254.166316\" xlink:href=\"#m68acbfe55f\" y=\"190.25274\"/>\n     <use style=\"fill:#00008b;stroke:#00008b;\" x=\"158.791292\" xlink:href=\"#m68acbfe55f\" y=\"200.143888\"/>\n     <use style=\"fill:#00008b;stroke:#00008b;\" x=\"218.175174\" xlink:href=\"#m68acbfe55f\" y=\"145.270689\"/>\n     <use style=\"fill:#00008b;stroke:#00008b;\" x=\"123.88259\" xlink:href=\"#m68acbfe55f\" y=\"115.04704\"/>\n     <use style=\"fill:#00008b;stroke:#00008b;\" x=\"310.453215\" xlink:href=\"#m68acbfe55f\" y=\"178.360704\"/>\n     <use style=\"fill:#00008b;stroke:#00008b;\" x=\"263.818076\" xlink:href=\"#m68acbfe55f\" y=\"169.389026\"/>\n     <use style=\"fill:#00008b;stroke:#00008b;\" x=\"84.012703\" xlink:href=\"#m68acbfe55f\" y=\"202.297219\"/>\n     <use style=\"fill:#00008b;stroke:#00008b;\" x=\"270.703599\" xlink:href=\"#m68acbfe55f\" y=\"176.506397\"/>\n     <use style=\"fill:#00008b;stroke:#00008b;\" x=\"183.927963\" xlink:href=\"#m68acbfe55f\" y=\"210.231593\"/>\n     <use style=\"fill:#00008b;stroke:#00008b;\" x=\"280.836444\" xlink:href=\"#m68acbfe55f\" y=\"113.879742\"/>\n     <use style=\"fill:#00008b;stroke:#00008b;\" x=\"349.571407\" xlink:href=\"#m68acbfe55f\" y=\"161.094753\"/>\n     <use style=\"fill:#00008b;stroke:#00008b;\" x=\"328.373617\" xlink:href=\"#m68acbfe55f\" y=\"195.78831\"/>\n     <use style=\"fill:#00008b;stroke:#00008b;\" x=\"199.683484\" xlink:href=\"#m68acbfe55f\" y=\"176.899673\"/>\n     <use style=\"fill:#00008b;stroke:#00008b;\" x=\"153.619633\" xlink:href=\"#m68acbfe55f\" y=\"106.627188\"/>\n     <use style=\"fill:#00008b;stroke:#00008b;\" x=\"88.613075\" xlink:href=\"#m68acbfe55f\" y=\"157.883096\"/>\n     <use style=\"fill:#00008b;stroke:#00008b;\" x=\"170.186984\" xlink:href=\"#m68acbfe55f\" y=\"169.280388\"/>\n     <use style=\"fill:#00008b;stroke:#00008b;\" x=\"346.354154\" xlink:href=\"#m68acbfe55f\" y=\"145.626469\"/>\n     <use style=\"fill:#00008b;stroke:#00008b;\" x=\"121.176489\" xlink:href=\"#m68acbfe55f\" y=\"179.092609\"/>\n     <use style=\"fill:#00008b;stroke:#00008b;\" x=\"353.630559\" xlink:href=\"#m68acbfe55f\" y=\"189.160163\"/>\n     <use style=\"fill:#00008b;stroke:#00008b;\" x=\"156.175395\" xlink:href=\"#m68acbfe55f\" y=\"169.468231\"/>\n     <use style=\"fill:#00008b;stroke:#00008b;\" x=\"83.411347\" xlink:href=\"#m68acbfe55f\" y=\"163.376552\"/>\n     <use style=\"fill:#00008b;stroke:#00008b;\" x=\"354.322118\" xlink:href=\"#m68acbfe55f\" y=\"115.596106\"/>\n     <use style=\"fill:#00008b;stroke:#00008b;\" x=\"300.170032\" xlink:href=\"#m68acbfe55f\" y=\"136.081412\"/>\n     <use style=\"fill:#00008b;stroke:#00008b;\" x=\"175.53905\" xlink:href=\"#m68acbfe55f\" y=\"137.11108\"/>\n     <use style=\"fill:#00008b;stroke:#00008b;\" x=\"103.616901\" xlink:href=\"#m68acbfe55f\" y=\"183.748391\"/>\n     <use style=\"fill:#00008b;stroke:#00008b;\" x=\"70.001114\" xlink:href=\"#m68acbfe55f\" y=\"150.557874\"/>\n     <use style=\"fill:#00008b;stroke:#00008b;\" x=\"242.951031\" xlink:href=\"#m68acbfe55f\" y=\"151.751409\"/>\n     <use style=\"fill:#00008b;stroke:#00008b;\" x=\"297.914948\" xlink:href=\"#m68acbfe55f\" y=\"154.587649\"/>\n     <use style=\"fill:#00008b;stroke:#00008b;\" x=\"100.489851\" xlink:href=\"#m68acbfe55f\" y=\"197.121701\"/>\n     <use style=\"fill:#00008b;stroke:#00008b;\" x=\"142.765161\" xlink:href=\"#m68acbfe55f\" y=\"181.288099\"/>\n     <use style=\"fill:#00008b;stroke:#00008b;\" x=\"80.073823\" xlink:href=\"#m68acbfe55f\" y=\"151.316852\"/>\n     <use style=\"fill:#00008b;stroke:#00008b;\" x=\"98.565513\" xlink:href=\"#m68acbfe55f\" y=\"136.789401\"/>\n     <use style=\"fill:#00008b;stroke:#00008b;\" x=\"158.731157\" xlink:href=\"#m68acbfe55f\" y=\"153.702438\"/>\n     <use style=\"fill:#00008b;stroke:#00008b;\" x=\"225.601917\" xlink:href=\"#m68acbfe55f\" y=\"194.247397\"/>\n     <use style=\"fill:#00008b;stroke:#00008b;\" x=\"321.007009\" xlink:href=\"#m68acbfe55f\" y=\"150.510687\"/>\n     <use style=\"fill:#00008b;stroke:#00008b;\" x=\"134.586723\" xlink:href=\"#m68acbfe55f\" y=\"139.064351\"/>\n     <use style=\"fill:#00008b;stroke:#00008b;\" x=\"174.216067\" xlink:href=\"#m68acbfe55f\" y=\"120.913096\"/>\n     <use style=\"fill:#00008b;stroke:#00008b;\" x=\"362.741099\" xlink:href=\"#m68acbfe55f\" y=\"159.889312\"/>\n     <use style=\"fill:#00008b;stroke:#00008b;\" x=\"188.558402\" xlink:href=\"#m68acbfe55f\" y=\"176.528936\"/>\n     <use style=\"fill:#00008b;stroke:#00008b;\" x=\"86.598533\" xlink:href=\"#m68acbfe55f\" y=\"186.892622\"/>\n     <use style=\"fill:#00008b;stroke:#00008b;\" x=\"360.696489\" xlink:href=\"#m68acbfe55f\" y=\"191.830958\"/>\n     <use style=\"fill:#00008b;stroke:#00008b;\" x=\"89.755651\" xlink:href=\"#m68acbfe55f\" y=\"147.701872\"/>\n     <use style=\"fill:#00008b;stroke:#00008b;\" x=\"199.863891\" xlink:href=\"#m68acbfe55f\" y=\"147.53899\"/>\n     <use style=\"fill:#00008b;stroke:#00008b;\" x=\"223.226562\" xlink:href=\"#m68acbfe55f\" y=\"195.622948\"/>\n     <use style=\"fill:#00008b;stroke:#00008b;\" x=\"155.634174\" xlink:href=\"#m68acbfe55f\" y=\"194.109009\"/>\n     <use style=\"fill:#00008b;stroke:#00008b;\" x=\"80.975857\" xlink:href=\"#m68acbfe55f\" y=\"169.591771\"/>\n     <use style=\"fill:#00008b;stroke:#00008b;\" x=\"210.357549\" xlink:href=\"#m68acbfe55f\" y=\"150.650495\"/>\n     <use style=\"fill:#00008b;stroke:#00008b;\" x=\"211.169379\" xlink:href=\"#m68acbfe55f\" y=\"137.10272\"/>\n     <use style=\"fill:#00008b;stroke:#00008b;\" x=\"74.180536\" xlink:href=\"#m68acbfe55f\" y=\"153.647735\"/>\n     <use style=\"fill:#00008b;stroke:#00008b;\" x=\"107.315239\" xlink:href=\"#m68acbfe55f\" y=\"153.750408\"/>\n     <use style=\"fill:#00008b;stroke:#00008b;\" x=\"108.367611\" xlink:href=\"#m68acbfe55f\" y=\"121.9011\"/>\n     <use style=\"fill:#00008b;stroke:#00008b;\" x=\"194.151011\" xlink:href=\"#m68acbfe55f\" y=\"160.076948\"/>\n     <use style=\"fill:#00008b;stroke:#00008b;\" x=\"312.197147\" xlink:href=\"#m68acbfe55f\" y=\"129.815168\"/>\n     <use style=\"fill:#00008b;stroke:#00008b;\" x=\"298.937252\" xlink:href=\"#m68acbfe55f\" y=\"113.344634\"/>\n     <use style=\"fill:#00008b;stroke:#00008b;\" x=\"359.343439\" xlink:href=\"#m68acbfe55f\" y=\"134.01802\"/>\n     <use style=\"fill:#00008b;stroke:#00008b;\" x=\"171.209289\" xlink:href=\"#m68acbfe55f\" y=\"165.805819\"/>\n     <use style=\"fill:#00008b;stroke:#00008b;\" x=\"302.034235\" xlink:href=\"#m68acbfe55f\" y=\"140.210108\"/>\n     <use style=\"fill:#00008b;stroke:#00008b;\" x=\"352.878864\" xlink:href=\"#m68acbfe55f\" y=\"154.419861\"/>\n     <use style=\"fill:#00008b;stroke:#00008b;\" x=\"285.256409\" xlink:href=\"#m68acbfe55f\" y=\"127.690841\"/>\n     <use style=\"fill:#00008b;stroke:#00008b;\" x=\"98.114496\" xlink:href=\"#m68acbfe55f\" y=\"176.127965\"/>\n     <use style=\"fill:#00008b;stroke:#00008b;\" x=\"71.775113\" xlink:href=\"#m68acbfe55f\" y=\"213.683402\"/>\n     <use style=\"fill:#00008b;stroke:#00008b;\" x=\"367.521877\" xlink:href=\"#m68acbfe55f\" y=\"143.343682\"/>\n     <use style=\"fill:#00008b;stroke:#00008b;\" x=\"189.610775\" xlink:href=\"#m68acbfe55f\" y=\"175.049221\"/>\n     <use style=\"fill:#00008b;stroke:#00008b;\" x=\"74.421079\" xlink:href=\"#m68acbfe55f\" y=\"197.689235\"/>\n     <use style=\"fill:#00008b;stroke:#00008b;\" x=\"67.565623\" xlink:href=\"#m68acbfe55f\" y=\"165.357137\"/>\n     <use style=\"fill:#00008b;stroke:#00008b;\" x=\"122.559607\" xlink:href=\"#m68acbfe55f\" y=\"103.49929\"/>\n     <use style=\"fill:#00008b;stroke:#00008b;\" x=\"117.598422\" xlink:href=\"#m68acbfe55f\" y=\"148.227057\"/>\n     <use style=\"fill:#00008b;stroke:#00008b;\" x=\"367.401606\" xlink:href=\"#m68acbfe55f\" y=\"146.190713\"/>\n     <use style=\"fill:#00008b;stroke:#00008b;\" x=\"268.959668\" xlink:href=\"#m68acbfe55f\" y=\"132.737236\"/>\n     <use style=\"fill:#00008b;stroke:#00008b;\" x=\"335.319276\" xlink:href=\"#m68acbfe55f\" y=\"163.870313\"/>\n     <use style=\"fill:#00008b;stroke:#00008b;\" x=\"150.101701\" xlink:href=\"#m68acbfe55f\" y=\"171.212195\"/>\n     <use style=\"fill:#00008b;stroke:#00008b;\" x=\"115.583881\" xlink:href=\"#m68acbfe55f\" y=\"137.659078\"/>\n     <use style=\"fill:#00008b;stroke:#00008b;\" x=\"160.264614\" xlink:href=\"#m68acbfe55f\" y=\"155.841044\"/>\n     <use style=\"fill:#00008b;stroke:#00008b;\" x=\"352.608254\" xlink:href=\"#m68acbfe55f\" y=\"145.121351\"/>\n     <use style=\"fill:#00008b;stroke:#00008b;\" x=\"223.316765\" xlink:href=\"#m68acbfe55f\" y=\"190.805313\"/>\n     <use style=\"fill:#00008b;stroke:#00008b;\" x=\"291.720983\" xlink:href=\"#m68acbfe55f\" y=\"196.094851\"/>\n     <use style=\"fill:#00008b;stroke:#00008b;\" x=\"256.090654\" xlink:href=\"#m68acbfe55f\" y=\"152.616667\"/>\n     <use style=\"fill:#00008b;stroke:#00008b;\" x=\"292.623017\" xlink:href=\"#m68acbfe55f\" y=\"130.177138\"/>\n     <use style=\"fill:#00008b;stroke:#00008b;\" x=\"251.159537\" xlink:href=\"#m68acbfe55f\" y=\"202.378981\"/>\n     <use style=\"fill:#00008b;stroke:#00008b;\" x=\"71.444368\" xlink:href=\"#m68acbfe55f\" y=\"136.142943\"/>\n     <use style=\"fill:#00008b;stroke:#00008b;\" x=\"189.159758\" xlink:href=\"#m68acbfe55f\" y=\"161.01387\"/>\n     <use style=\"fill:#00008b;stroke:#00008b;\" x=\"219.137343\" xlink:href=\"#m68acbfe55f\" y=\"106.131108\"/>\n     <use style=\"fill:#00008b;stroke:#00008b;\" x=\"204.374059\" xlink:href=\"#m68acbfe55f\" y=\"186.940942\"/>\n     <use style=\"fill:#00008b;stroke:#00008b;\" x=\"295.208847\" xlink:href=\"#m68acbfe55f\" y=\"152.532056\"/>\n     <use style=\"fill:#00008b;stroke:#00008b;\" x=\"106.383137\" xlink:href=\"#m68acbfe55f\" y=\"179.212698\"/>\n     <use style=\"fill:#00008b;stroke:#00008b;\" x=\"228.698899\" xlink:href=\"#m68acbfe55f\" y=\"164.197046\"/>\n     <use style=\"fill:#00008b;stroke:#00008b;\" x=\"304.830539\" xlink:href=\"#m68acbfe55f\" y=\"190.330896\"/>\n     <use style=\"fill:#00008b;stroke:#00008b;\" x=\"229.360391\" xlink:href=\"#m68acbfe55f\" y=\"195.533994\"/>\n     <use style=\"fill:#00008b;stroke:#00008b;\" x=\"228.668832\" xlink:href=\"#m68acbfe55f\" y=\"161.178331\"/>\n     <use style=\"fill:#00008b;stroke:#00008b;\" x=\"94.325954\" xlink:href=\"#m68acbfe55f\" y=\"178.91742\"/>\n    </g>\n   </g>\n   <g id=\"matplotlib.axis_1\">\n    <g id=\"xtick_1\">\n     <g id=\"line2d_1\">\n      <defs>\n       <path d=\"M 0 0 \nL 0 3.5 \n\" id=\"ma3449bc31a\" style=\"stroke:#000000;stroke-width:0.8;\"/>\n      </defs>\n      <g>\n       <use style=\"stroke:#000000;stroke-width:0.8;\" x=\"67.114606\" xlink:href=\"#ma3449bc31a\" y=\"224.64\"/>\n      </g>\n     </g>\n     <g id=\"text_1\">\n      <!-- 0 -->\n      <defs>\n       <path d=\"M 31.78125 66.40625 \nQ 24.171875 66.40625 20.328125 58.90625 \nQ 16.5 51.421875 16.5 36.375 \nQ 16.5 21.390625 20.328125 13.890625 \nQ 24.171875 6.390625 31.78125 6.390625 \nQ 39.453125 6.390625 43.28125 13.890625 \nQ 47.125 21.390625 47.125 36.375 \nQ 47.125 51.421875 43.28125 58.90625 \nQ 39.453125 66.40625 31.78125 66.40625 \nz\nM 31.78125 74.21875 \nQ 44.046875 74.21875 50.515625 64.515625 \nQ 56.984375 54.828125 56.984375 36.375 \nQ 56.984375 17.96875 50.515625 8.265625 \nQ 44.046875 -1.421875 31.78125 -1.421875 \nQ 19.53125 -1.421875 13.0625 8.265625 \nQ 6.59375 17.96875 6.59375 36.375 \nQ 6.59375 54.828125 13.0625 64.515625 \nQ 19.53125 74.21875 31.78125 74.21875 \nz\n\" id=\"DejaVuSans-48\"/>\n      </defs>\n      <g transform=\"translate(63.933356 239.238438)scale(0.1 -0.1)\">\n       <use xlink:href=\"#DejaVuSans-48\"/>\n      </g>\n     </g>\n    </g>\n    <g id=\"xtick_2\">\n     <g id=\"line2d_2\">\n      <g>\n       <use style=\"stroke:#000000;stroke-width:0.8;\" x=\"127.250182\" xlink:href=\"#ma3449bc31a\" y=\"224.64\"/>\n      </g>\n     </g>\n     <g id=\"text_2\">\n      <!-- 2000 -->\n      <defs>\n       <path d=\"M 19.1875 8.296875 \nL 53.609375 8.296875 \nL 53.609375 0 \nL 7.328125 0 \nL 7.328125 8.296875 \nQ 12.9375 14.109375 22.625 23.890625 \nQ 32.328125 33.6875 34.8125 36.53125 \nQ 39.546875 41.84375 41.421875 45.53125 \nQ 43.3125 49.21875 43.3125 52.78125 \nQ 43.3125 58.59375 39.234375 62.25 \nQ 35.15625 65.921875 28.609375 65.921875 \nQ 23.96875 65.921875 18.8125 64.3125 \nQ 13.671875 62.703125 7.8125 59.421875 \nL 7.8125 69.390625 \nQ 13.765625 71.78125 18.9375 73 \nQ 24.125 74.21875 28.421875 74.21875 \nQ 39.75 74.21875 46.484375 68.546875 \nQ 53.21875 62.890625 53.21875 53.421875 \nQ 53.21875 48.921875 51.53125 44.890625 \nQ 49.859375 40.875 45.40625 35.40625 \nQ 44.1875 33.984375 37.640625 27.21875 \nQ 31.109375 20.453125 19.1875 8.296875 \nz\n\" id=\"DejaVuSans-50\"/>\n      </defs>\n      <g transform=\"translate(114.525182 239.238438)scale(0.1 -0.1)\">\n       <use xlink:href=\"#DejaVuSans-50\"/>\n       <use x=\"63.623047\" xlink:href=\"#DejaVuSans-48\"/>\n       <use x=\"127.246094\" xlink:href=\"#DejaVuSans-48\"/>\n       <use x=\"190.869141\" xlink:href=\"#DejaVuSans-48\"/>\n      </g>\n     </g>\n    </g>\n    <g id=\"xtick_3\">\n     <g id=\"line2d_3\">\n      <g>\n       <use style=\"stroke:#000000;stroke-width:0.8;\" x=\"187.385759\" xlink:href=\"#ma3449bc31a\" y=\"224.64\"/>\n      </g>\n     </g>\n     <g id=\"text_3\">\n      <!-- 4000 -->\n      <defs>\n       <path d=\"M 37.796875 64.3125 \nL 12.890625 25.390625 \nL 37.796875 25.390625 \nz\nM 35.203125 72.90625 \nL 47.609375 72.90625 \nL 47.609375 25.390625 \nL 58.015625 25.390625 \nL 58.015625 17.1875 \nL 47.609375 17.1875 \nL 47.609375 0 \nL 37.796875 0 \nL 37.796875 17.1875 \nL 4.890625 17.1875 \nL 4.890625 26.703125 \nz\n\" id=\"DejaVuSans-52\"/>\n      </defs>\n      <g transform=\"translate(174.660759 239.238438)scale(0.1 -0.1)\">\n       <use xlink:href=\"#DejaVuSans-52\"/>\n       <use x=\"63.623047\" xlink:href=\"#DejaVuSans-48\"/>\n       <use x=\"127.246094\" xlink:href=\"#DejaVuSans-48\"/>\n       <use x=\"190.869141\" xlink:href=\"#DejaVuSans-48\"/>\n      </g>\n     </g>\n    </g>\n    <g id=\"xtick_4\">\n     <g id=\"line2d_4\">\n      <g>\n       <use style=\"stroke:#000000;stroke-width:0.8;\" x=\"247.521335\" xlink:href=\"#ma3449bc31a\" y=\"224.64\"/>\n      </g>\n     </g>\n     <g id=\"text_4\">\n      <!-- 6000 -->\n      <defs>\n       <path d=\"M 33.015625 40.375 \nQ 26.375 40.375 22.484375 35.828125 \nQ 18.609375 31.296875 18.609375 23.390625 \nQ 18.609375 15.53125 22.484375 10.953125 \nQ 26.375 6.390625 33.015625 6.390625 \nQ 39.65625 6.390625 43.53125 10.953125 \nQ 47.40625 15.53125 47.40625 23.390625 \nQ 47.40625 31.296875 43.53125 35.828125 \nQ 39.65625 40.375 33.015625 40.375 \nz\nM 52.59375 71.296875 \nL 52.59375 62.3125 \nQ 48.875 64.0625 45.09375 64.984375 \nQ 41.3125 65.921875 37.59375 65.921875 \nQ 27.828125 65.921875 22.671875 59.328125 \nQ 17.53125 52.734375 16.796875 39.40625 \nQ 19.671875 43.65625 24.015625 45.921875 \nQ 28.375 48.1875 33.59375 48.1875 \nQ 44.578125 48.1875 50.953125 41.515625 \nQ 57.328125 34.859375 57.328125 23.390625 \nQ 57.328125 12.15625 50.6875 5.359375 \nQ 44.046875 -1.421875 33.015625 -1.421875 \nQ 20.359375 -1.421875 13.671875 8.265625 \nQ 6.984375 17.96875 6.984375 36.375 \nQ 6.984375 53.65625 15.1875 63.9375 \nQ 23.390625 74.21875 37.203125 74.21875 \nQ 40.921875 74.21875 44.703125 73.484375 \nQ 48.484375 72.75 52.59375 71.296875 \nz\n\" id=\"DejaVuSans-54\"/>\n      </defs>\n      <g transform=\"translate(234.796335 239.238438)scale(0.1 -0.1)\">\n       <use xlink:href=\"#DejaVuSans-54\"/>\n       <use x=\"63.623047\" xlink:href=\"#DejaVuSans-48\"/>\n       <use x=\"127.246094\" xlink:href=\"#DejaVuSans-48\"/>\n       <use x=\"190.869141\" xlink:href=\"#DejaVuSans-48\"/>\n      </g>\n     </g>\n    </g>\n    <g id=\"xtick_5\">\n     <g id=\"line2d_5\">\n      <g>\n       <use style=\"stroke:#000000;stroke-width:0.8;\" x=\"307.656911\" xlink:href=\"#ma3449bc31a\" y=\"224.64\"/>\n      </g>\n     </g>\n     <g id=\"text_5\">\n      <!-- 8000 -->\n      <defs>\n       <path d=\"M 31.78125 34.625 \nQ 24.75 34.625 20.71875 30.859375 \nQ 16.703125 27.09375 16.703125 20.515625 \nQ 16.703125 13.921875 20.71875 10.15625 \nQ 24.75 6.390625 31.78125 6.390625 \nQ 38.8125 6.390625 42.859375 10.171875 \nQ 46.921875 13.96875 46.921875 20.515625 \nQ 46.921875 27.09375 42.890625 30.859375 \nQ 38.875 34.625 31.78125 34.625 \nz\nM 21.921875 38.8125 \nQ 15.578125 40.375 12.03125 44.71875 \nQ 8.5 49.078125 8.5 55.328125 \nQ 8.5 64.0625 14.71875 69.140625 \nQ 20.953125 74.21875 31.78125 74.21875 \nQ 42.671875 74.21875 48.875 69.140625 \nQ 55.078125 64.0625 55.078125 55.328125 \nQ 55.078125 49.078125 51.53125 44.71875 \nQ 48 40.375 41.703125 38.8125 \nQ 48.828125 37.15625 52.796875 32.3125 \nQ 56.78125 27.484375 56.78125 20.515625 \nQ 56.78125 9.90625 50.3125 4.234375 \nQ 43.84375 -1.421875 31.78125 -1.421875 \nQ 19.734375 -1.421875 13.25 4.234375 \nQ 6.78125 9.90625 6.78125 20.515625 \nQ 6.78125 27.484375 10.78125 32.3125 \nQ 14.796875 37.15625 21.921875 38.8125 \nz\nM 18.3125 54.390625 \nQ 18.3125 48.734375 21.84375 45.5625 \nQ 25.390625 42.390625 31.78125 42.390625 \nQ 38.140625 42.390625 41.71875 45.5625 \nQ 45.3125 48.734375 45.3125 54.390625 \nQ 45.3125 60.0625 41.71875 63.234375 \nQ 38.140625 66.40625 31.78125 66.40625 \nQ 25.390625 66.40625 21.84375 63.234375 \nQ 18.3125 60.0625 18.3125 54.390625 \nz\n\" id=\"DejaVuSans-56\"/>\n      </defs>\n      <g transform=\"translate(294.931911 239.238438)scale(0.1 -0.1)\">\n       <use xlink:href=\"#DejaVuSans-56\"/>\n       <use x=\"63.623047\" xlink:href=\"#DejaVuSans-48\"/>\n       <use x=\"127.246094\" xlink:href=\"#DejaVuSans-48\"/>\n       <use x=\"190.869141\" xlink:href=\"#DejaVuSans-48\"/>\n      </g>\n     </g>\n    </g>\n    <g id=\"xtick_6\">\n     <g id=\"line2d_6\">\n      <g>\n       <use style=\"stroke:#000000;stroke-width:0.8;\" x=\"367.792487\" xlink:href=\"#ma3449bc31a\" y=\"224.64\"/>\n      </g>\n     </g>\n     <g id=\"text_6\">\n      <!-- 10000 -->\n      <defs>\n       <path d=\"M 12.40625 8.296875 \nL 28.515625 8.296875 \nL 28.515625 63.921875 \nL 10.984375 60.40625 \nL 10.984375 69.390625 \nL 28.421875 72.90625 \nL 38.28125 72.90625 \nL 38.28125 8.296875 \nL 54.390625 8.296875 \nL 54.390625 0 \nL 12.40625 0 \nz\n\" id=\"DejaVuSans-49\"/>\n      </defs>\n      <g transform=\"translate(351.886237 239.238438)scale(0.1 -0.1)\">\n       <use xlink:href=\"#DejaVuSans-49\"/>\n       <use x=\"63.623047\" xlink:href=\"#DejaVuSans-48\"/>\n       <use x=\"127.246094\" xlink:href=\"#DejaVuSans-48\"/>\n       <use x=\"190.869141\" xlink:href=\"#DejaVuSans-48\"/>\n       <use x=\"254.492188\" xlink:href=\"#DejaVuSans-48\"/>\n      </g>\n     </g>\n    </g>\n    <g id=\"text_7\">\n     <!-- seed -->\n     <defs>\n      <path d=\"M 44.28125 53.078125 \nL 44.28125 44.578125 \nQ 40.484375 46.53125 36.375 47.5 \nQ 32.28125 48.484375 27.875 48.484375 \nQ 21.1875 48.484375 17.84375 46.4375 \nQ 14.5 44.390625 14.5 40.28125 \nQ 14.5 37.15625 16.890625 35.375 \nQ 19.28125 33.59375 26.515625 31.984375 \nL 29.59375 31.296875 \nQ 39.15625 29.25 43.1875 25.515625 \nQ 47.21875 21.78125 47.21875 15.09375 \nQ 47.21875 7.46875 41.1875 3.015625 \nQ 35.15625 -1.421875 24.609375 -1.421875 \nQ 20.21875 -1.421875 15.453125 -0.5625 \nQ 10.6875 0.296875 5.421875 2 \nL 5.421875 11.28125 \nQ 10.40625 8.6875 15.234375 7.390625 \nQ 20.0625 6.109375 24.8125 6.109375 \nQ 31.15625 6.109375 34.5625 8.28125 \nQ 37.984375 10.453125 37.984375 14.40625 \nQ 37.984375 18.0625 35.515625 20.015625 \nQ 33.0625 21.96875 24.703125 23.78125 \nL 21.578125 24.515625 \nQ 13.234375 26.265625 9.515625 29.90625 \nQ 5.8125 33.546875 5.8125 39.890625 \nQ 5.8125 47.609375 11.28125 51.796875 \nQ 16.75 56 26.8125 56 \nQ 31.78125 56 36.171875 55.265625 \nQ 40.578125 54.546875 44.28125 53.078125 \nz\n\" id=\"DejaVuSans-115\"/>\n      <path d=\"M 56.203125 29.59375 \nL 56.203125 25.203125 \nL 14.890625 25.203125 \nQ 15.484375 15.921875 20.484375 11.0625 \nQ 25.484375 6.203125 34.421875 6.203125 \nQ 39.59375 6.203125 44.453125 7.46875 \nQ 49.3125 8.734375 54.109375 11.28125 \nL 54.109375 2.78125 \nQ 49.265625 0.734375 44.1875 -0.34375 \nQ 39.109375 -1.421875 33.890625 -1.421875 \nQ 20.796875 -1.421875 13.15625 6.1875 \nQ 5.515625 13.8125 5.515625 26.8125 \nQ 5.515625 40.234375 12.765625 48.109375 \nQ 20.015625 56 32.328125 56 \nQ 43.359375 56 49.78125 48.890625 \nQ 56.203125 41.796875 56.203125 29.59375 \nz\nM 47.21875 32.234375 \nQ 47.125 39.59375 43.09375 43.984375 \nQ 39.0625 48.390625 32.421875 48.390625 \nQ 24.90625 48.390625 20.390625 44.140625 \nQ 15.875 39.890625 15.1875 32.171875 \nz\n\" id=\"DejaVuSans-101\"/>\n      <path d=\"M 45.40625 46.390625 \nL 45.40625 75.984375 \nL 54.390625 75.984375 \nL 54.390625 0 \nL 45.40625 0 \nL 45.40625 8.203125 \nQ 42.578125 3.328125 38.25 0.953125 \nQ 33.9375 -1.421875 27.875 -1.421875 \nQ 17.96875 -1.421875 11.734375 6.484375 \nQ 5.515625 14.40625 5.515625 27.296875 \nQ 5.515625 40.1875 11.734375 48.09375 \nQ 17.96875 56 27.875 56 \nQ 33.9375 56 38.25 53.625 \nQ 42.578125 51.265625 45.40625 46.390625 \nz\nM 14.796875 27.296875 \nQ 14.796875 17.390625 18.875 11.75 \nQ 22.953125 6.109375 30.078125 6.109375 \nQ 37.203125 6.109375 41.296875 11.75 \nQ 45.40625 17.390625 45.40625 27.296875 \nQ 45.40625 37.203125 41.296875 42.84375 \nQ 37.203125 48.484375 30.078125 48.484375 \nQ 22.953125 48.484375 18.875 42.84375 \nQ 14.796875 37.203125 14.796875 27.296875 \nz\n\" id=\"DejaVuSans-100\"/>\n     </defs>\n     <g transform=\"translate(205.611719 252.916563)scale(0.1 -0.1)\">\n      <use xlink:href=\"#DejaVuSans-115\"/>\n      <use x=\"52.099609\" xlink:href=\"#DejaVuSans-101\"/>\n      <use x=\"113.623047\" xlink:href=\"#DejaVuSans-101\"/>\n      <use x=\"175.146484\" xlink:href=\"#DejaVuSans-100\"/>\n     </g>\n    </g>\n   </g>\n   <g id=\"matplotlib.axis_2\">\n    <g id=\"ytick_1\">\n     <g id=\"line2d_7\">\n      <defs>\n       <path d=\"M 0 0 \nL -3.5 0 \n\" id=\"m7851e5f510\" style=\"stroke:#000000;stroke-width:0.8;\"/>\n      </defs>\n      <g>\n       <use style=\"stroke:#000000;stroke-width:0.8;\" x=\"50.14375\" xlink:href=\"#m7851e5f510\" y=\"209.44551\"/>\n      </g>\n     </g>\n     <g id=\"text_8\">\n      <!-- 0.80 -->\n      <defs>\n       <path d=\"M 10.6875 12.40625 \nL 21 12.40625 \nL 21 0 \nL 10.6875 0 \nz\n\" id=\"DejaVuSans-46\"/>\n      </defs>\n      <g transform=\"translate(20.878125 213.244729)scale(0.1 -0.1)\">\n       <use xlink:href=\"#DejaVuSans-48\"/>\n       <use x=\"63.623047\" xlink:href=\"#DejaVuSans-46\"/>\n       <use x=\"95.410156\" xlink:href=\"#DejaVuSans-56\"/>\n       <use x=\"159.033203\" xlink:href=\"#DejaVuSans-48\"/>\n      </g>\n     </g>\n    </g>\n    <g id=\"ytick_2\">\n     <g id=\"line2d_8\">\n      <g>\n       <use style=\"stroke:#000000;stroke-width:0.8;\" x=\"50.14375\" xlink:href=\"#m7851e5f510\" y=\"172.110277\"/>\n      </g>\n     </g>\n     <g id=\"text_9\">\n      <!-- 0.82 -->\n      <g transform=\"translate(20.878125 175.909495)scale(0.1 -0.1)\">\n       <use xlink:href=\"#DejaVuSans-48\"/>\n       <use x=\"63.623047\" xlink:href=\"#DejaVuSans-46\"/>\n       <use x=\"95.410156\" xlink:href=\"#DejaVuSans-56\"/>\n       <use x=\"159.033203\" xlink:href=\"#DejaVuSans-50\"/>\n      </g>\n     </g>\n    </g>\n    <g id=\"ytick_3\">\n     <g id=\"line2d_9\">\n      <g>\n       <use style=\"stroke:#000000;stroke-width:0.8;\" x=\"50.14375\" xlink:href=\"#m7851e5f510\" y=\"134.775043\"/>\n      </g>\n     </g>\n     <g id=\"text_10\">\n      <!-- 0.84 -->\n      <g transform=\"translate(20.878125 138.574262)scale(0.1 -0.1)\">\n       <use xlink:href=\"#DejaVuSans-48\"/>\n       <use x=\"63.623047\" xlink:href=\"#DejaVuSans-46\"/>\n       <use x=\"95.410156\" xlink:href=\"#DejaVuSans-56\"/>\n       <use x=\"159.033203\" xlink:href=\"#DejaVuSans-52\"/>\n      </g>\n     </g>\n    </g>\n    <g id=\"ytick_4\">\n     <g id=\"line2d_10\">\n      <g>\n       <use style=\"stroke:#000000;stroke-width:0.8;\" x=\"50.14375\" xlink:href=\"#m7851e5f510\" y=\"97.439809\"/>\n      </g>\n     </g>\n     <g id=\"text_11\">\n      <!-- 0.86 -->\n      <g transform=\"translate(20.878125 101.239028)scale(0.1 -0.1)\">\n       <use xlink:href=\"#DejaVuSans-48\"/>\n       <use x=\"63.623047\" xlink:href=\"#DejaVuSans-46\"/>\n       <use x=\"95.410156\" xlink:href=\"#DejaVuSans-56\"/>\n       <use x=\"159.033203\" xlink:href=\"#DejaVuSans-54\"/>\n      </g>\n     </g>\n    </g>\n    <g id=\"ytick_5\">\n     <g id=\"line2d_11\">\n      <g>\n       <use style=\"stroke:#000000;stroke-width:0.8;\" x=\"50.14375\" xlink:href=\"#m7851e5f510\" y=\"60.104576\"/>\n      </g>\n     </g>\n     <g id=\"text_12\">\n      <!-- 0.88 -->\n      <g transform=\"translate(20.878125 63.903795)scale(0.1 -0.1)\">\n       <use xlink:href=\"#DejaVuSans-48\"/>\n       <use x=\"63.623047\" xlink:href=\"#DejaVuSans-46\"/>\n       <use x=\"95.410156\" xlink:href=\"#DejaVuSans-56\"/>\n       <use x=\"159.033203\" xlink:href=\"#DejaVuSans-56\"/>\n      </g>\n     </g>\n    </g>\n    <g id=\"ytick_6\">\n     <g id=\"line2d_12\">\n      <g>\n       <use style=\"stroke:#000000;stroke-width:0.8;\" x=\"50.14375\" xlink:href=\"#m7851e5f510\" y=\"22.769342\"/>\n      </g>\n     </g>\n     <g id=\"text_13\">\n      <!-- 0.90 -->\n      <defs>\n       <path d=\"M 10.984375 1.515625 \nL 10.984375 10.5 \nQ 14.703125 8.734375 18.5 7.8125 \nQ 22.3125 6.890625 25.984375 6.890625 \nQ 35.75 6.890625 40.890625 13.453125 \nQ 46.046875 20.015625 46.78125 33.40625 \nQ 43.953125 29.203125 39.59375 26.953125 \nQ 35.25 24.703125 29.984375 24.703125 \nQ 19.046875 24.703125 12.671875 31.3125 \nQ 6.296875 37.9375 6.296875 49.421875 \nQ 6.296875 60.640625 12.9375 67.421875 \nQ 19.578125 74.21875 30.609375 74.21875 \nQ 43.265625 74.21875 49.921875 64.515625 \nQ 56.59375 54.828125 56.59375 36.375 \nQ 56.59375 19.140625 48.40625 8.859375 \nQ 40.234375 -1.421875 26.421875 -1.421875 \nQ 22.703125 -1.421875 18.890625 -0.6875 \nQ 15.09375 0.046875 10.984375 1.515625 \nz\nM 30.609375 32.421875 \nQ 37.25 32.421875 41.125 36.953125 \nQ 45.015625 41.5 45.015625 49.421875 \nQ 45.015625 57.28125 41.125 61.84375 \nQ 37.25 66.40625 30.609375 66.40625 \nQ 23.96875 66.40625 20.09375 61.84375 \nQ 16.21875 57.28125 16.21875 49.421875 \nQ 16.21875 41.5 20.09375 36.953125 \nQ 23.96875 32.421875 30.609375 32.421875 \nz\n\" id=\"DejaVuSans-57\"/>\n      </defs>\n      <g transform=\"translate(20.878125 26.568561)scale(0.1 -0.1)\">\n       <use xlink:href=\"#DejaVuSans-48\"/>\n       <use x=\"63.623047\" xlink:href=\"#DejaVuSans-46\"/>\n       <use x=\"95.410156\" xlink:href=\"#DejaVuSans-57\"/>\n       <use x=\"159.033203\" xlink:href=\"#DejaVuSans-48\"/>\n      </g>\n     </g>\n    </g>\n    <g id=\"text_14\">\n     <!-- auroc -->\n     <defs>\n      <path d=\"M 34.28125 27.484375 \nQ 23.390625 27.484375 19.1875 25 \nQ 14.984375 22.515625 14.984375 16.5 \nQ 14.984375 11.71875 18.140625 8.90625 \nQ 21.296875 6.109375 26.703125 6.109375 \nQ 34.1875 6.109375 38.703125 11.40625 \nQ 43.21875 16.703125 43.21875 25.484375 \nL 43.21875 27.484375 \nz\nM 52.203125 31.203125 \nL 52.203125 0 \nL 43.21875 0 \nL 43.21875 8.296875 \nQ 40.140625 3.328125 35.546875 0.953125 \nQ 30.953125 -1.421875 24.3125 -1.421875 \nQ 15.921875 -1.421875 10.953125 3.296875 \nQ 6 8.015625 6 15.921875 \nQ 6 25.140625 12.171875 29.828125 \nQ 18.359375 34.515625 30.609375 34.515625 \nL 43.21875 34.515625 \nL 43.21875 35.40625 \nQ 43.21875 41.609375 39.140625 45 \nQ 35.0625 48.390625 27.6875 48.390625 \nQ 23 48.390625 18.546875 47.265625 \nQ 14.109375 46.140625 10.015625 43.890625 \nL 10.015625 52.203125 \nQ 14.9375 54.109375 19.578125 55.046875 \nQ 24.21875 56 28.609375 56 \nQ 40.484375 56 46.34375 49.84375 \nQ 52.203125 43.703125 52.203125 31.203125 \nz\n\" id=\"DejaVuSans-97\"/>\n      <path d=\"M 8.5 21.578125 \nL 8.5 54.6875 \nL 17.484375 54.6875 \nL 17.484375 21.921875 \nQ 17.484375 14.15625 20.5 10.265625 \nQ 23.53125 6.390625 29.59375 6.390625 \nQ 36.859375 6.390625 41.078125 11.03125 \nQ 45.3125 15.671875 45.3125 23.6875 \nL 45.3125 54.6875 \nL 54.296875 54.6875 \nL 54.296875 0 \nL 45.3125 0 \nL 45.3125 8.40625 \nQ 42.046875 3.421875 37.71875 1 \nQ 33.40625 -1.421875 27.6875 -1.421875 \nQ 18.265625 -1.421875 13.375 4.4375 \nQ 8.5 10.296875 8.5 21.578125 \nz\nM 31.109375 56 \nz\n\" id=\"DejaVuSans-117\"/>\n      <path d=\"M 41.109375 46.296875 \nQ 39.59375 47.171875 37.8125 47.578125 \nQ 36.03125 48 33.890625 48 \nQ 26.265625 48 22.1875 43.046875 \nQ 18.109375 38.09375 18.109375 28.8125 \nL 18.109375 0 \nL 9.078125 0 \nL 9.078125 54.6875 \nL 18.109375 54.6875 \nL 18.109375 46.1875 \nQ 20.953125 51.171875 25.484375 53.578125 \nQ 30.03125 56 36.53125 56 \nQ 37.453125 56 38.578125 55.875 \nQ 39.703125 55.765625 41.0625 55.515625 \nz\n\" id=\"DejaVuSans-114\"/>\n      <path d=\"M 30.609375 48.390625 \nQ 23.390625 48.390625 19.1875 42.75 \nQ 14.984375 37.109375 14.984375 27.296875 \nQ 14.984375 17.484375 19.15625 11.84375 \nQ 23.34375 6.203125 30.609375 6.203125 \nQ 37.796875 6.203125 41.984375 11.859375 \nQ 46.1875 17.53125 46.1875 27.296875 \nQ 46.1875 37.015625 41.984375 42.703125 \nQ 37.796875 48.390625 30.609375 48.390625 \nz\nM 30.609375 56 \nQ 42.328125 56 49.015625 48.375 \nQ 55.71875 40.765625 55.71875 27.296875 \nQ 55.71875 13.875 49.015625 6.21875 \nQ 42.328125 -1.421875 30.609375 -1.421875 \nQ 18.84375 -1.421875 12.171875 6.21875 \nQ 5.515625 13.875 5.515625 27.296875 \nQ 5.515625 40.765625 12.171875 48.375 \nQ 18.84375 56 30.609375 56 \nz\n\" id=\"DejaVuSans-111\"/>\n      <path d=\"M 48.78125 52.59375 \nL 48.78125 44.1875 \nQ 44.96875 46.296875 41.140625 47.34375 \nQ 37.3125 48.390625 33.40625 48.390625 \nQ 24.65625 48.390625 19.8125 42.84375 \nQ 14.984375 37.3125 14.984375 27.296875 \nQ 14.984375 17.28125 19.8125 11.734375 \nQ 24.65625 6.203125 33.40625 6.203125 \nQ 37.3125 6.203125 41.140625 7.25 \nQ 44.96875 8.296875 48.78125 10.40625 \nL 48.78125 2.09375 \nQ 45.015625 0.34375 40.984375 -0.53125 \nQ 36.96875 -1.421875 32.421875 -1.421875 \nQ 20.0625 -1.421875 12.78125 6.34375 \nQ 5.515625 14.109375 5.515625 27.296875 \nQ 5.515625 40.671875 12.859375 48.328125 \nQ 20.21875 56 33.015625 56 \nQ 37.15625 56 41.109375 55.140625 \nQ 45.0625 54.296875 48.78125 52.59375 \nz\n\" id=\"DejaVuSans-99\"/>\n     </defs>\n     <g transform=\"translate(14.798438 130.015313)rotate(-90)scale(0.1 -0.1)\">\n      <use xlink:href=\"#DejaVuSans-97\"/>\n      <use x=\"61.279297\" xlink:href=\"#DejaVuSans-117\"/>\n      <use x=\"124.658203\" xlink:href=\"#DejaVuSans-114\"/>\n      <use x=\"165.740234\" xlink:href=\"#DejaVuSans-111\"/>\n      <use x=\"226.921875\" xlink:href=\"#DejaVuSans-99\"/>\n     </g>\n    </g>\n   </g>\n   <g id=\"patch_3\">\n    <path d=\"M 50.14375 224.64 \nL 50.14375 7.2 \n\" style=\"fill:none;stroke:#000000;stroke-linecap:square;stroke-linejoin:miter;stroke-width:0.8;\"/>\n   </g>\n   <g id=\"patch_4\">\n    <path d=\"M 384.94375 224.64 \nL 384.94375 7.2 \n\" style=\"fill:none;stroke:#000000;stroke-linecap:square;stroke-linejoin:miter;stroke-width:0.8;\"/>\n   </g>\n   <g id=\"patch_5\">\n    <path d=\"M 50.14375 224.64 \nL 384.94375 224.64 \n\" style=\"fill:none;stroke:#000000;stroke-linecap:square;stroke-linejoin:miter;stroke-width:0.8;\"/>\n   </g>\n   <g id=\"patch_6\">\n    <path d=\"M 50.14375 7.2 \nL 384.94375 7.2 \n\" style=\"fill:none;stroke:#000000;stroke-linecap:square;stroke-linejoin:miter;stroke-width:0.8;\"/>\n   </g>\n   <g id=\"legend_1\">\n    <g id=\"patch_7\">\n     <path d=\"M 183.489844 44.55625 \nL 251.597656 44.55625 \nQ 253.597656 44.55625 253.597656 42.55625 \nL 253.597656 14.2 \nQ 253.597656 12.2 251.597656 12.2 \nL 183.489844 12.2 \nQ 181.489844 12.2 181.489844 14.2 \nL 181.489844 42.55625 \nQ 181.489844 44.55625 183.489844 44.55625 \nz\n\" style=\"fill:#ffffff;opacity:0.8;stroke:#cccccc;stroke-linejoin:miter;\"/>\n    </g>\n    <g id=\"PathCollection_3\">\n     <g>\n      <use style=\"fill:#006400;stroke:#006400;\" x=\"195.489844\" xlink:href=\"#m8b41a8543a\" y=\"21.173438\"/>\n     </g>\n    </g>\n    <g id=\"text_15\">\n     <!-- English -->\n     <defs>\n      <path d=\"M 9.8125 72.90625 \nL 55.90625 72.90625 \nL 55.90625 64.59375 \nL 19.671875 64.59375 \nL 19.671875 43.015625 \nL 54.390625 43.015625 \nL 54.390625 34.71875 \nL 19.671875 34.71875 \nL 19.671875 8.296875 \nL 56.78125 8.296875 \nL 56.78125 0 \nL 9.8125 0 \nz\n\" id=\"DejaVuSans-69\"/>\n      <path d=\"M 54.890625 33.015625 \nL 54.890625 0 \nL 45.90625 0 \nL 45.90625 32.71875 \nQ 45.90625 40.484375 42.875 44.328125 \nQ 39.84375 48.1875 33.796875 48.1875 \nQ 26.515625 48.1875 22.3125 43.546875 \nQ 18.109375 38.921875 18.109375 30.90625 \nL 18.109375 0 \nL 9.078125 0 \nL 9.078125 54.6875 \nL 18.109375 54.6875 \nL 18.109375 46.1875 \nQ 21.34375 51.125 25.703125 53.5625 \nQ 30.078125 56 35.796875 56 \nQ 45.21875 56 50.046875 50.171875 \nQ 54.890625 44.34375 54.890625 33.015625 \nz\n\" id=\"DejaVuSans-110\"/>\n      <path d=\"M 45.40625 27.984375 \nQ 45.40625 37.75 41.375 43.109375 \nQ 37.359375 48.484375 30.078125 48.484375 \nQ 22.859375 48.484375 18.828125 43.109375 \nQ 14.796875 37.75 14.796875 27.984375 \nQ 14.796875 18.265625 18.828125 12.890625 \nQ 22.859375 7.515625 30.078125 7.515625 \nQ 37.359375 7.515625 41.375 12.890625 \nQ 45.40625 18.265625 45.40625 27.984375 \nz\nM 54.390625 6.78125 \nQ 54.390625 -7.171875 48.1875 -13.984375 \nQ 42 -20.796875 29.203125 -20.796875 \nQ 24.46875 -20.796875 20.265625 -20.09375 \nQ 16.0625 -19.390625 12.109375 -17.921875 \nL 12.109375 -9.1875 \nQ 16.0625 -11.328125 19.921875 -12.34375 \nQ 23.78125 -13.375 27.78125 -13.375 \nQ 36.625 -13.375 41.015625 -8.765625 \nQ 45.40625 -4.15625 45.40625 5.171875 \nL 45.40625 9.625 \nQ 42.625 4.78125 38.28125 2.390625 \nQ 33.9375 0 27.875 0 \nQ 17.828125 0 11.671875 7.65625 \nQ 5.515625 15.328125 5.515625 27.984375 \nQ 5.515625 40.671875 11.671875 48.328125 \nQ 17.828125 56 27.875 56 \nQ 33.9375 56 38.28125 53.609375 \nQ 42.625 51.21875 45.40625 46.390625 \nL 45.40625 54.6875 \nL 54.390625 54.6875 \nz\n\" id=\"DejaVuSans-103\"/>\n      <path d=\"M 9.421875 75.984375 \nL 18.40625 75.984375 \nL 18.40625 0 \nL 9.421875 0 \nz\n\" id=\"DejaVuSans-108\"/>\n      <path d=\"M 9.421875 54.6875 \nL 18.40625 54.6875 \nL 18.40625 0 \nL 9.421875 0 \nz\nM 9.421875 75.984375 \nL 18.40625 75.984375 \nL 18.40625 64.59375 \nL 9.421875 64.59375 \nz\n\" id=\"DejaVuSans-105\"/>\n      <path d=\"M 54.890625 33.015625 \nL 54.890625 0 \nL 45.90625 0 \nL 45.90625 32.71875 \nQ 45.90625 40.484375 42.875 44.328125 \nQ 39.84375 48.1875 33.796875 48.1875 \nQ 26.515625 48.1875 22.3125 43.546875 \nQ 18.109375 38.921875 18.109375 30.90625 \nL 18.109375 0 \nL 9.078125 0 \nL 9.078125 75.984375 \nL 18.109375 75.984375 \nL 18.109375 46.1875 \nQ 21.34375 51.125 25.703125 53.5625 \nQ 30.078125 56 35.796875 56 \nQ 45.21875 56 50.046875 50.171875 \nQ 54.890625 44.34375 54.890625 33.015625 \nz\n\" id=\"DejaVuSans-104\"/>\n     </defs>\n     <g transform=\"translate(213.489844 23.798438)scale(0.1 -0.1)\">\n      <use xlink:href=\"#DejaVuSans-69\"/>\n      <use x=\"63.183594\" xlink:href=\"#DejaVuSans-110\"/>\n      <use x=\"126.5625\" xlink:href=\"#DejaVuSans-103\"/>\n      <use x=\"190.039062\" xlink:href=\"#DejaVuSans-108\"/>\n      <use x=\"217.822266\" xlink:href=\"#DejaVuSans-105\"/>\n      <use x=\"245.605469\" xlink:href=\"#DejaVuSans-115\"/>\n      <use x=\"297.705078\" xlink:href=\"#DejaVuSans-104\"/>\n     </g>\n    </g>\n    <g id=\"PathCollection_4\">\n     <g>\n      <use style=\"fill:#00008b;stroke:#00008b;\" x=\"195.489844\" xlink:href=\"#m68acbfe55f\" y=\"35.851562\"/>\n     </g>\n    </g>\n    <g id=\"text_16\">\n     <!-- Other -->\n     <defs>\n      <path d=\"M 39.40625 66.21875 \nQ 28.65625 66.21875 22.328125 58.203125 \nQ 16.015625 50.203125 16.015625 36.375 \nQ 16.015625 22.609375 22.328125 14.59375 \nQ 28.65625 6.59375 39.40625 6.59375 \nQ 50.140625 6.59375 56.421875 14.59375 \nQ 62.703125 22.609375 62.703125 36.375 \nQ 62.703125 50.203125 56.421875 58.203125 \nQ 50.140625 66.21875 39.40625 66.21875 \nz\nM 39.40625 74.21875 \nQ 54.734375 74.21875 63.90625 63.9375 \nQ 73.09375 53.65625 73.09375 36.375 \nQ 73.09375 19.140625 63.90625 8.859375 \nQ 54.734375 -1.421875 39.40625 -1.421875 \nQ 24.03125 -1.421875 14.8125 8.828125 \nQ 5.609375 19.09375 5.609375 36.375 \nQ 5.609375 53.65625 14.8125 63.9375 \nQ 24.03125 74.21875 39.40625 74.21875 \nz\n\" id=\"DejaVuSans-79\"/>\n      <path d=\"M 18.3125 70.21875 \nL 18.3125 54.6875 \nL 36.8125 54.6875 \nL 36.8125 47.703125 \nL 18.3125 47.703125 \nL 18.3125 18.015625 \nQ 18.3125 11.328125 20.140625 9.421875 \nQ 21.96875 7.515625 27.59375 7.515625 \nL 36.8125 7.515625 \nL 36.8125 0 \nL 27.59375 0 \nQ 17.1875 0 13.234375 3.875 \nQ 9.28125 7.765625 9.28125 18.015625 \nL 9.28125 47.703125 \nL 2.6875 47.703125 \nL 2.6875 54.6875 \nL 9.28125 54.6875 \nL 9.28125 70.21875 \nz\n\" id=\"DejaVuSans-116\"/>\n     </defs>\n     <g transform=\"translate(213.489844 38.476562)scale(0.1 -0.1)\">\n      <use xlink:href=\"#DejaVuSans-79\"/>\n      <use x=\"78.710938\" xlink:href=\"#DejaVuSans-116\"/>\n      <use x=\"117.919922\" xlink:href=\"#DejaVuSans-104\"/>\n      <use x=\"181.298828\" xlink:href=\"#DejaVuSans-101\"/>\n      <use x=\"242.822266\" xlink:href=\"#DejaVuSans-114\"/>\n     </g>\n    </g>\n   </g>\n  </g>\n </g>\n <defs>\n  <clipPath id=\"p3e3ff644cc\">\n   <rect height=\"217.44\" width=\"334.8\" x=\"50.14375\" y=\"7.2\"/>\n  </clipPath>\n </defs>\n</svg>\n",
      "image/png": "[encoded data removed]"
     },
     "metadata": {
      "needs_background": "light"
     }
    }
   ],
   "source": [
    "df = process_sheet(dfs['language'])\n",
    "\n",
    "ax = df[df.target == 'English'].plot.scatter(x=\"seed\", y=\"auroc\", color=\"DarkGreen\", label=\"English\")\n",
    "df[df.target == 'Other'].plot.scatter(x=\"seed\", y=\"auroc\", color=\"DarkBlue\", label=\"Other\", ax=ax)"
   ]
  },
  {
   "cell_type": "code",
   "execution_count": 58,
   "metadata": {},
   "outputs": [
    {
     "output_type": "execute_result",
     "data": {
      "text/plain": [
       "t 0x7f5e77313c50>,\n",
       " <matplotlib.axis.XTick at 0x7f5e77313590>,\n",
       " <matplotlib.axis.XTick at 0x7f5e773866d0>,\n",
       " <matplotlib.axis.XTick at 0x7f5e7731d210>,\n",
       " <matplotlib.axis.XTick at 0x7f5e7731d810>,\n",
       " <matplotlib.axis.XTick at 0x7f5e7731de50>,\n",
       " <matplotlib.axis.XTick at 0x7f5e77319550>,\n",
       " <matplotlib.axis.XTick at 0x7f5e77319b90>,\n",
       " <matplotlib.axis.XTick at 0x7f5e7732a1d0>,\n",
       " <matplotlib.axis.XTick at 0x7f5e7732a7d0>,\n",
       " <matplotlib.axis.XTick at 0x7f5e7732ae10>,\n",
       " <matplotlib.axis.XTick at 0x7f5e77319b10>,\n",
       " <matplotlib.axis.XTick at 0x7f5e77386550>,\n",
       " <matplotlib.axis.XTick at 0x7f5e7732f410>,\n",
       " <matplotlib.axis.XTick at 0x7f5e7732fa50>,\n",
       " <matplotlib.axis.XTick at 0x7f5e7732fd90>,\n",
       " <matplotlib.axis.XTick at 0x7f5e77330790>,\n",
       " <matplotlib.axis.XTick at 0x7f5e77330110>,\n",
       " <matplotlib.axis.XTick at 0x7f5e773413d0>,\n",
       " <matplotlib.axis.XTick at 0x7f5e77341a10>,\n",
       " <matplotlib.axis.XTick at 0x7f5e77330690>,\n",
       " <matplotlib.axis.XTick at 0x7f5e77319950>,\n",
       " <matplotlib.axis.XTick at 0x7f5e77341f10>,\n",
       " <matplotlib.axis.XTick at 0x7f5e773495d0>,\n",
       " <matplotlib.axis.XTick at 0x7f5e77349c10>,\n",
       " <matplotlib.axis.XTick at 0x7f5e7734f290>,\n",
       " <matplotlib.axis.XTick at 0x7f5e7734f8d0>,\n",
       " <matplotlib.axis.XTick at 0x7f5e7734ff10>,\n",
       " <matplotlib.axis.XTick at 0x7f5e77295590>,\n",
       " <matplotlib.axis.XTick at 0x7f5e7734f210>,\n",
       " <matplotlib.axis.XTick at 0x7f5e77341a90>,\n",
       " <matplotlib.axis.XTick at 0x7f5e772957d0>,\n",
       " <matplotlib.axis.XTick at 0x7f5e7729f250>,\n",
       " <matplotlib.axis.XTick at 0x7f5e7729f810>,\n",
       " <matplotlib.axis.XTick at 0x7f5e7729fe50>,\n",
       " <matplotlib.axis.XTick at 0x7f5e772a64d0>,\n",
       " <matplotlib.axis.XTick at 0x7f5e772a6b10>,\n",
       " <matplotlib.axis.XTick at 0x7f5e772ae1d0>,\n",
       " <matplotlib.axis.XTick at 0x7f5e772ae7d0>,\n",
       " <matplotlib.axis.XTick at 0x7f5e772a6350>,\n",
       " <matplotlib.axis.XTick at 0x7f5e77349390>,\n",
       " <matplotlib.axis.XTick at 0x7f5e772aed10>,\n",
       " <matplotlib.axis.XTick at 0x7f5e772b6390>,\n",
       " <matplotlib.axis.XTick at 0x7f5e772b69d0>,\n",
       " <matplotlib.axis.XTick at 0x7f5e772b6610>,\n",
       " <matplotlib.axis.XTick at 0x7f5e772bd690>,\n",
       " <matplotlib.axis.XTick at 0x7f5e772bdcd0>,\n",
       " <matplotlib.axis.XTick at 0x7f5e772c5350>,\n",
       " <matplotlib.axis.XTick at 0x7f5e772b6a50>,\n",
       " <matplotlib.axis.XTick at 0x7f5e772aedd0>,\n",
       " <matplotlib.axis.XTick at 0x7f5e772c5690>,\n",
       " <matplotlib.axis.XTick at 0x7f5e772c5f10>,\n",
       " <matplotlib.axis.XTick at 0x7f5e772cb5d0>,\n",
       " <matplotlib.axis.XTick at 0x7f5e772cbc10>,\n",
       " <matplotlib.axis.XTick at 0x7f5e77253290>,\n",
       " <matplotlib.axis.XTick at 0x7f5e772538d0>,\n",
       " <matplotlib.axis.XTick at 0x7f5e77253f10>,\n",
       " <matplotlib.axis.XTick at 0x7f5e77259590>,\n",
       " <matplotlib.axis.XTick at 0x7f5e77253850>,\n",
       " <matplotlib.axis.XTick at 0x7f5e772bd090>,\n",
       " <matplotlib.axis.XTick at 0x7f5e77259ad0>,\n",
       " <matplotlib.axis.XTick at 0x7f5e77262190>,\n",
       " <matplotlib.axis.XTick at 0x7f5e77262790>,\n",
       " <matplotlib.axis.XTick at 0x7f5e77262dd0>,\n",
       " <matplotlib.axis.XTick at 0x7f5e77268450>,\n",
       " <matplotlib.axis.XTick at 0x7f5e77268a90>,\n",
       " <matplotlib.axis.XTick at 0x7f5e77270050>,\n",
       " <matplotlib.axis.XTick at 0x7f5e77262e50>,\n",
       " <matplotlib.axis.XTick at 0x7f5e77259ed0>,\n",
       " <matplotlib.axis.XTick at 0x7f5e77270550>,\n",
       " <matplotlib.axis.XTick at 0x7f5e77270d10>,\n",
       " <matplotlib.axis.XTick at 0x7f5e77278390>,\n",
       " <matplotlib.axis.XTick at 0x7f5e772789d0>,\n",
       " <matplotlib.axis.XTick at 0x7f5e77278610>,\n",
       " <matplotlib.axis.XTick at 0x7f5e7727f690>,\n",
       " <matplotlib.axis.XTick at 0x7f5e7727fcd0>,\n",
       " <matplotlib.axis.XTick at 0x7f5e77286350>,\n",
       " <matplotlib.axis.XTick at 0x7f5e7727f590>,\n",
       " <matplotlib.axis.XTick at 0x7f5e772705d0>,\n",
       " <matplotlib.axis.XTick at 0x7f5e77286890>,\n",
       " <matplotlib.axis.XTick at 0x7f5e77286ed0>,\n",
       " <matplotlib.axis.XTick at 0x7f5e7728e550>,\n",
       " <matplotlib.axis.XTick at 0x7f5e7728eb90>,\n",
       " <matplotlib.axis.XTick at 0x7f5e77215290>,\n",
       " <matplotlib.axis.XTick at 0x7f5e77215850>,\n",
       " <matplotlib.axis.XTick at 0x7f5e77215e90>,\n",
       " <matplotlib.axis.XTick at 0x7f5e772152d0>,\n",
       " <matplotlib.axis.XTick at 0x7f5e7728ea90>,\n",
       " <matplotlib.axis.XTick at 0x7f5e7721b4d0>,\n",
       " <matplotlib.axis.XTick at 0x7f5e7721bad0>,\n",
       " <matplotlib.axis.XTick at 0x7f5e77224190>,\n",
       " <matplotlib.axis.XTick at 0x7f5e77224790>,\n",
       " <matplotlib.axis.XTick at 0x7f5e77224dd0>,\n",
       " <matplotlib.axis.XTick at 0x7f5e7722b450>,\n",
       " <matplotlib.axis.XTick at 0x7f5e7722ba90>,\n",
       " <matplotlib.axis.XTick at 0x7f5e77232050>,\n",
       " <matplotlib.axis.XTick at 0x7f5e7722b850>,\n",
       " <matplotlib.axis.XTick at 0x7f5e7721be10>,\n",
       " <matplotlib.axis.XTick at 0x7f5e77270290>,\n",
       " <matplotlib.axis.XTick at 0x7f5e77313dd0>,\n",
       " <matplotlib.axis.XTick at 0x7f5e77232750>,\n",
       " <matplotlib.axis.XTick at 0x7f5e77232d90>,\n",
       " <matplotlib.axis.XTick at 0x7f5e7723a410>,\n",
       " <matplotlib.axis.XTick at 0x7f5e7723aa50>,\n",
       " <matplotlib.axis.XTick at 0x7f5e7723ad90>,\n",
       " <matplotlib.axis.XTick at 0x7f5e7723a1d0>,\n",
       " <matplotlib.axis.XTick at 0x7f5e77295610>,\n",
       " <matplotlib.axis.XTick at 0x7f5e772425d0>,\n",
       " <matplotlib.axis.XTick at 0x7f5e77242cd0>,\n",
       " <matplotlib.axis.XTick at 0x7f5e77249350>,\n",
       " <matplotlib.axis.XTick at 0x7f5e77249990>,\n",
       " <matplotlib.axis.XTick at 0x7f5e77249a90>,\n",
       " <matplotlib.axis.XTick at 0x7f5e77250650>,\n",
       " <matplotlib.axis.XTick at 0x7f5e77250c90>,\n",
       " <matplotlib.axis.XTick at 0x7f5e77197310>,\n",
       " <matplotlib.axis.XTick at 0x7f5e77250550>,\n",
       " <matplotlib.axis.XTick at 0x7f5e77242750>,\n",
       " <matplotlib.axis.XTick at 0x7f5e77197850>,\n",
       " <matplotlib.axis.XTick at 0x7f5e77197e90>,\n",
       " <matplotlib.axis.XTick at 0x7f5e771a1510>,\n",
       " <matplotlib.axis.XTick at 0x7f5e771a1b50>,\n",
       " <matplotlib.axis.XTick at 0x7f5e771a7250>,\n",
       " <matplotlib.axis.XTick at 0x7f5e771a7810>,\n",
       " <matplotlib.axis.XTick at 0x7f5e771a7e50>,\n",
       " <matplotlib.axis.XTick at 0x7f5e771a7290>,\n",
       " <matplotlib.axis.XTick at 0x7f5e771a1a50>,\n",
       " <matplotlib.axis.XTick at 0x7f5e771ae490>,\n",
       " <matplotlib.axis.XTick at 0x7f5e771aea90>,\n",
       " <matplotlib.axis.XTick at 0x7f5e771b4050>,\n",
       " <matplotlib.axis.XTick at 0x7f5e771b4750>,\n",
       " <matplotlib.axis.XTick at 0x7f5e771b4d90>,\n",
       " <matplotlib.axis.XTick at 0x7f5e771bd410>,\n",
       " <matplotlib.axis.XTick at 0x7f5e771bda50>,\n",
       " <matplotlib.axis.XTick at 0x7f5e771bdd90>,\n",
       " <matplotlib.axis.XTick at 0x7f5e771bd810>,\n",
       " <matplotlib.axis.XTick at 0x7f5e771ae790>,\n",
       " <matplotlib.axis.XTick at 0x7f5e771c4610>,\n",
       " <matplotlib.axis.XTick at 0x7f5e771c4c50>,\n",
       " <matplotlib.axis.XTick at 0x7f5e771cc2d0>,\n",
       " <matplotlib.axis.XTick at 0x7f5e771cc910>,\n",
       " <matplotlib.axis.XTick at 0x7f5e771cc7d0>,\n",
       " <matplotlib.axis.XTick at 0x7f5e771cd650>,\n",
       " <matplotlib.axis.XTick at 0x7f5e771cdc90>,\n",
       " <matplotlib.axis.XTick at 0x7f5e771cde50>,\n",
       " <matplotlib.axis.XTick at 0x7f5e771cc150>,\n",
       " <matplotlib.axis.XTick at 0x7f5e771ae510>,\n",
       " <matplotlib.axis.XTick at 0x7f5e7715a850>,\n",
       " <matplotlib.axis.XTick at 0x7f5e7715ae90>,\n",
       " <matplotlib.axis.XTick at 0x7f5e77159590>,\n",
       " <matplotlib.axis.XTick at 0x7f5e77159bd0>,\n",
       " <matplotlib.axis.XTick at 0x7f5e7716a250>,\n",
       " <matplotlib.axis.XTick at 0x7f5e7716a810>,\n",
       " <matplotlib.axis.XTick at 0x7f5e7716ae50>,\n",
       " <matplotlib.axis.XTick at 0x7f5e7716a710>,\n",
       " <matplotlib.axis.XTick at 0x7f5e7715a7d0>,\n",
       " <matplotlib.axis.XTick at 0x7f5e771713d0>,\n",
       " <matplotlib.axis.XTick at 0x7f5e77171a10>,\n",
       " <matplotlib.axis.XTick at 0x7f5e77171d50>,\n",
       " <matplotlib.axis.XTick at 0x7f5e771796d0>,\n",
       " <matplotlib.axis.XTick at 0x7f5e77179d10>,\n",
       " <matplotlib.axis.XTick at 0x7f5e77180390>,\n",
       " <matplotlib.axis.XTick at 0x7f5e771809d0>,\n",
       " <matplotlib.axis.XTick at 0x7f5e77180610>,\n",
       " <matplotlib.axis.XTick at 0x7f5e77179210>,\n",
       " <matplotlib.axis.XTick at 0x7f5e7716a5d0>,\n",
       " <matplotlib.axis.XTick at 0x7f5e77187610>,\n",
       " <matplotlib.axis.XTick at 0x7f5e77187c50>,\n",
       " <matplotlib.axis.XTick at 0x7f5e771912d0>,\n",
       " <matplotlib.axis.XTick at 0x7f5e77191910>,\n",
       " <matplotlib.axis.XTick at 0x7f5e771917d0>,\n",
       " <matplotlib.axis.XTick at 0x7f5e770d55d0>,\n",
       " <matplotlib.axis.XTick at 0x7f5e770d5c10>,\n",
       " <matplotlib.axis.XTick at 0x7f5e770d5ad0>,\n",
       " <matplotlib.axis.XTick at 0x7f5e7716a8d0>,\n",
       " <matplotlib.axis.XTick at 0x7f5e770df1d0>,\n",
       " <matplotlib.axis.XTick at 0x7f5e770df7d0>,\n",
       " <matplotlib.axis.XTick at 0x7f5e770dfe10>,\n",
       " <matplotlib.axis.XTick at 0x7f5e770e4490>,\n",
       " <matplotlib.axis.XTick at 0x7f5e770e4ad0>,\n",
       " <matplotlib.axis.XTick at 0x7f5e770ec190>,\n",
       " <matplotlib.axis.XTick at 0x7f5e770ec790>,\n",
       " <matplotlib.axis.XTick at 0x7f5e770ecdd0>,\n",
       " <matplotlib.axis.XTick at 0x7f5e770e4a50>,\n",
       " <matplotlib.axis.XTick at 0x7f5e771876d0>,\n",
       " <matplotlib.axis.XTick at 0x7f5e770f43d0>,\n",
       " <matplotlib.axis.XTick at 0x7f5e770f4a10>,\n",
       " <matplotlib.axis.XTick at 0x7f5e770f4d50>,\n",
       " <matplotlib.axis.XTick at 0x7f5e770fb6d0>,\n",
       " <matplotlib.axis.XTick at 0x7f5e770fbd10>,\n",
       " <matplotlib.axis.XTick at 0x7f5e77102390>,\n",
       " <matplotlib.axis.XTick at 0x7f5e771029d0>,\n",
       " <matplotlib.axis.XTick at 0x7f5e770fb5d0>,\n",
       " <matplotlib.axis.XTick at 0x7f5e770e4890>,\n",
       " <matplotlib.axis.XTick at 0x7f5e77102f10>,\n",
       " <matplotlib.axis.XTick at 0x7f5e7710c590>,\n",
       " <matplotlib.axis.XTick at 0x7f5e7710cbd0>,\n",
       " <matplotlib.axis.XTick at 0x7f5e7710af90>,\n",
       " <matplotlib.axis.XTick at 0x7f5e7710a910>,\n",
       " <matplotlib.axis.XTick at 0x7f5e7710a290>,\n",
       " <matplotlib.axis.XTick at 0x7f5e77099550>,\n",
       " <matplotlib.axis.XTick at 0x7f5e7710af10>,\n",
       " <matplotlib.axis.XTick at 0x7f5e77102a50>,\n",
       " <matplotlib.axis.XTick at 0x7f5e77099790>,\n",
       " <matplotlib.axis.XTick at 0x7f5e770a01d0>,\n",
       " <matplotlib.axis.XTick at 0x7f5e770a07d0>,\n",
       " <matplotlib.axis.XTick at 0x7f5e770a0e10>,\n",
       " <matplotlib.axis.XTick at 0x7f5e770a7490>,\n",
       " <matplotlib.axis.XTick at 0x7f5e770a7ad0>,\n",
       " <matplotlib.axis.XTick at 0x7f5e770af190>,\n",
       " <matplotlib.axis.XTick at 0x7f5e770af790>,\n",
       " <matplotlib.axis.XTick at 0x7f5e770a7550>,\n",
       " <matplotlib.axis.XTick at 0x7f5e770995d0>,\n",
       " <matplotlib.axis.XTick at 0x7f5e77180f10>,\n",
       " <matplotlib.axis.XTick at 0x7f5e77197710>,\n",
       " <matplotlib.axis.XTick at 0x7f5e770afdd0>,\n",
       " <matplotlib.axis.XTick at 0x7f5e770b8450>,\n",
       " <matplotlib.axis.XTick at 0x7f5e770b8a90>,\n",
       " <matplotlib.axis.XTick at 0x7f5e770be050>,\n",
       " <matplotlib.axis.XTick at 0x7f5e770be750>,\n",
       " <matplotlib.axis.XTick at 0x7f5e770bed90>,\n",
       " <matplotlib.axis.XTick at 0x7f5e770b84d0>,\n",
       " <matplotlib.axis.XTick at 0x7f5e770ec810>,\n",
       " <matplotlib.axis.XTick at 0x7f5e770c3390>,\n",
       " <matplotlib.axis.XTick at 0x7f5e770c39d0>,\n",
       " <matplotlib.axis.XTick at 0x7f5e770c3610>,\n",
       " <matplotlib.axis.XTick at 0x7f5e770c4710>,\n",
       " <matplotlib.axis.XTick at 0x7f5e770c4d50>,\n",
       " <matplotlib.axis.XTick at 0x7f5e77054350>,\n",
       " <matplotlib.axis.XTick at 0x7f5e77054990>,\n",
       " <matplotlib.axis.XTick at 0x7f5e770c47d0>,\n",
       " <matplotlib.axis.XTick at 0x7f5e770c3890>,\n",
       " <matplotlib.axis.XTick at 0x7f5e77054ed0>,\n",
       " <matplotlib.axis.XTick at 0x7f5e7705d550>,\n",
       " <matplotlib.axis.XTick at 0x7f5e7705db90>,\n",
       " <matplotlib.axis.XTick at 0x7f5e77062290>,\n",
       " <matplotlib.axis.XTick at 0x7f5e77062850>,\n",
       " <matplotlib.axis.XTick at 0x7f5e77062e90>,\n",
       " <matplotlib.axis.XTick at 0x7f5e7706b510>,\n",
       " <matplotlib.axis.XTick at 0x7f5e77062190>,\n",
       " <matplotlib.axis.XTick at 0x7f5e77054c50>,\n",
       " <matplotlib.axis.XTick at 0x7f5e7706b750>,\n",
       " <matplotlib.axis.XTick at 0x7f5e77072190>,\n",
       " <matplotlib.axis.XTick at 0x7f5e77072790>,\n",
       " <matplotlib.axis.XTick at 0x7f5e77072dd0>,\n",
       " <matplotlib.axis.XTick at 0x7f5e77079450>,\n",
       " <matplotlib.axis.XTick at 0x7f5e77079a90>,\n",
       " <matplotlib.axis.XTick at 0x7f5e77081050>,\n",
       " <matplotlib.axis.XTick at 0x7f5e77081750>,\n",
       " <matplotlib.axis.XTick at 0x7f5e77079510>,\n",
       " <matplotlib.axis.XTick at 0x7f5e77054110>,\n",
       " <matplotlib.axis.XTick at 0x7f5e77081c90>,\n",
       " <matplotlib.axis.XTick at 0x7f5e77080050>,\n",
       " <matplotlib.axis.XTick at 0x7f5e770809d0>,\n",
       " <matplotlib.axis.XTick at 0x7f5e77080890>,\n",
       " <matplotlib.axis.XTick at 0x7f5e77090610>,\n",
       " <matplotlib.axis.XTick at 0x7f5e77090c50>,\n",
       " <matplotlib.axis.XTick at 0x7f5e76fd72d0>,\n",
       " <matplotlib.axis.XTick at 0x7f5e77080a50>,\n",
       " <matplotlib.axis.XTick at 0x7f5e77081c10>,\n",
       " <matplotlib.axis.XTick at 0x7f5e76fd7610>,\n",
       " <matplotlib.axis.XTick at 0x7f5e76fd7ed0>,\n",
       " <matplotlib.axis.XTick at 0x7f5e76fdf550>,\n",
       " <matplotlib.axis.XTick at 0x7f5e76fdfb90>,\n",
       " <matplotlib.axis.XTick at 0x7f5e76fdefd0>,\n",
       " <matplotlib.axis.XTick at 0x7f5e76fde8d0>,\n",
       " <matplotlib.axis.XTick at 0x7f5e76fde250>,\n",
       " <matplotlib.axis.XTick at 0x7f5e76fed510>,\n",
       " <matplotlib.axis.XTick at 0x7f5e76fde850>,\n",
       " <matplotlib.axis.XTick at 0x7f5e77090050>,\n",
       " <matplotlib.axis.XTick at 0x7f5e76feda50>,\n",
       " <matplotlib.axis.XTick at 0x7f5e76fedd90>,\n",
       " <matplotlib.axis.XTick at 0x7f5e76ff5710>,\n",
       " <matplotlib.axis.XTick at 0x7f5e76ff5d50>,\n",
       " <matplotlib.axis.XTick at 0x7f5e76ffc3d0>,\n",
       " <matplotlib.axis.XTick at 0x7f5e76ffca10>,\n",
       " <matplotlib.axis.XTick at 0x7f5e76ffcd50>,\n",
       " <matplotlib.axis.XTick at 0x7f5e76ffc190>,\n",
       " <matplotlib.axis.XTick at 0x7f5e76fed490>,\n",
       " <matplotlib.axis.XTick at 0x7f5e77004590>,\n",
       " <matplotlib.axis.XTick at 0x7f5e77004c90>,\n",
       " <matplotlib.axis.XTick at 0x7f5e7700b310>,\n",
       " <matplotlib.axis.XTick at 0x7f5e7700b950>,\n",
       " <matplotlib.axis.XTick at 0x7f5e7700b810>,\n",
       " <matplotlib.axis.XTick at 0x7f5e7700e690>,\n",
       " <matplotlib.axis.XTick at 0x7f5e7700ecd0>,\n",
       " <matplotlib.axis.XTick at 0x7f5e76f982d0>,\n",
       " <matplotlib.axis.XTick at 0x7f5e7700e590>,\n",
       " <matplotlib.axis.XTick at 0x7f5e77004190>,\n",
       " <matplotlib.axis.XTick at 0x7f5e76f98810>,\n",
       " <matplotlib.axis.XTick at 0x7f5e76f98e50>,\n",
       " <matplotlib.axis.XTick at 0x7f5e76fa24d0>,\n",
       " <matplotlib.axis.XTick at 0x7f5e76fa2b10>,\n",
       " <matplotlib.axis.XTick at 0x7f5e76faa1d0>,\n",
       " <matplotlib.axis.XTick at 0x7f5e76faa7d0>,\n",
       " <matplotlib.axis.XTick at 0x7f5e76faae10>,\n",
       " <matplotlib.axis.XTick at 0x7f5e76faa050>,\n",
       " <matplotlib.axis.XTick at 0x7f5e76fa2a10>,\n",
       " <matplotlib.axis.XTick at 0x7f5e76faf450>,\n",
       " <matplotlib.axis.XTick at 0x7f5e76fafa50>,\n",
       " <matplotlib.axis.XTick at 0x7f5e76fafd90>,\n",
       " <matplotlib.axis.XTick at 0x7f5e76fb9710>,\n",
       " <matplotlib.axis.XTick at 0x7f5e76fb9d50>,\n",
       " <matplotlib.axis.XTick at 0x7f5e76fbf3d0>,\n",
       " <matplotlib.axis.XTick at 0x7f5e76fbfa10>,\n",
       " <matplotlib.axis.XTick at 0x7f5e76fbfd50>,\n",
       " <matplotlib.axis.XTick at 0x7f5e76fbf550>,\n",
       " <matplotlib.axis.XTick at 0x7f5e76faf350>,\n",
       " <matplotlib.axis.XTick at 0x7f5e76fc65d0>,\n",
       " <matplotlib.axis.XTick at 0x7f5e76fc6c10>,\n",
       " <matplotlib.axis.XTick at 0x7f5e76fce290>,\n",
       " <matplotlib.axis.XTick at 0x7f5e76fce8d0>,\n",
       " <matplotlib.axis.XTick at 0x7f5e76fcef10>,\n",
       " <matplotlib.axis.XTick at 0x7f5e6f517590>,\n",
       " <matplotlib.axis.XTick at 0x7f5e6f517bd0>,\n",
       " <matplotlib.axis.XTick at 0x7f5e6f5170d0>,\n",
       " <matplotlib.axis.XTick at 0x7f5e76fce110>,\n",
       " <matplotlib.axis.XTick at 0x7f5e76faf4d0>,\n",
       " <matplotlib.axis.XTick at 0x7f5e6f522810>,\n",
       " <matplotlib.axis.XTick at 0x7f5e6f522e50>,\n",
       " <matplotlib.axis.XTick at 0x7f5e6f5264d0>,\n",
       " <matplotlib.axis.XTick at 0x7f5e6f526b10>,\n",
       " <matplotlib.axis.XTick at 0x7f5e6f5281d0>,\n",
       " <matplotlib.axis.XTick at 0x7f5e6f5287d0>,\n",
       " <matplotlib.axis.XTick at 0x7f5e6f528e10>,\n",
       " <matplotlib.axis.XTick at 0x7f5e6f528750>,\n",
       " <matplotlib.axis.XTick at 0x7f5e6f526450>,\n",
       " <matplotlib.axis.XTick at 0x7f5e76fce690>,\n",
       " <matplotlib.axis.XTick at 0x7f5e7706b590>,\n",
       " <matplotlib.axis.XTick at 0x7f5e6f52f490>,\n",
       " <matplotlib.axis.XTick at 0x7f5e6f52fad0>,\n",
       " <matplotlib.axis.XTick at 0x7f5e6f534190>,\n",
       " <matplotlib.axis.XTick at 0x7f5e6f534790>,\n",
       " <matplotlib.axis.XTick at 0x7f5e6f534dd0>,\n",
       " <matplotlib.axis.XTick at 0x7f5e6f534210>,\n",
       " <matplotlib.axis.XTick at 0x7f5e7706bad0>,\n",
       " <matplotlib.axis.XTick at 0x7f5e6f545450>,\n",
       " <matplotlib.axis.XTick at 0x7f5e6f545a10>,\n",
       " <matplotlib.axis.XTick at 0x7f5e6f545d50>,\n",
       " <matplotlib.axis.XTick at 0x7f5e6f54e6d0>,\n",
       " <matplotlib.axis.XTick at 0x7f5e6f54ed10>,\n",
       " <matplotlib.axis.XTick at 0x7f5e6f552390>,\n",
       " <matplotlib.axis.XTick at 0x7f5e6f5529d0>,\n",
       " <matplotlib.axis.XTick at 0x7f5e6f552610>,\n",
       " <matplotlib.axis.XTick at 0x7f5e6f552510>,\n",
       " <matplotlib.axis.XTick at 0x7f5e6f545810>,\n",
       " <matplotlib.axis.XTick at 0x7f5e6f3dc590>,\n",
       " <matplotlib.axis.XTick at 0x7f5e6f3dcbd0>,\n",
       " <matplotlib.axis.XTick at 0x7f5e6f3e3250>,\n",
       " <matplotlib.axis.XTick at 0x7f5e6f3e3890>,\n",
       " <matplotlib.axis.XTick at 0x7f5e6f3e3ed0>,\n",
       " <matplotlib.axis.XTick at 0x7f5e6f3eb550>,\n",
       " <matplotlib.axis.XTick at 0x7f5e6f3ebb90>,\n",
       " <matplotlib.axis.XTick at 0x7f5e6f3eb3d0>,\n",
       " <matplotlib.axis.XTick at 0x7f5e6f3e3310>,\n",
       " <matplotlib.axis.XTick at 0x7f5e6f545390>,\n",
       " <matplotlib.axis.XTick at 0x7f5e6f3f57d0>,\n",
       " <matplotlib.axis.XTick at 0x7f5e6f3f5e10>,\n",
       " <matplotlib.axis.XTick at 0x7f5e6f3fb490>,\n",
       " <matplotlib.axis.XTick at 0x7f5e6f3fbad0>,\n",
       " <matplotlib.axis.XTick at 0x7f5e6f402190>,\n",
       " <matplotlib.axis.XTick at 0x7f5e6f402790>,\n",
       " <matplotlib.axis.XTick at 0x7f5e6f402dd0>,\n",
       " <matplotlib.axis.XTick at 0x7f5e6f402710>,\n",
       " <matplotlib.axis.XTick at 0x7f5e6f3f56d0>,\n",
       " <matplotlib.axis.XTick at 0x7f5e6f401350>,\n",
       " <matplotlib.axis.XTick at 0x7f5e6f401990>,\n",
       " <matplotlib.axis.XTick at 0x7f5e6f401a90>,\n",
       " <matplotlib.axis.XTick at 0x7f5e6f407650>,\n",
       " <matplotlib.axis.XTick at 0x7f5e6f407c90>,\n",
       " <matplotlib.axis.XTick at 0x7f5e6f394310>,\n",
       " <matplotlib.axis.XTick at 0x7f5e6f394950>,\n",
       " <matplotlib.axis.XTick at 0x7f5e6f394810>,\n",
       " <matplotlib.axis.XTick at 0x7f5e6f4075d0>,\n",
       " <matplotlib.axis.XTick at 0x7f5e6f3fb0d0>,\n",
       " <matplotlib.axis.XTick at 0x7f5e6f397590>,\n",
       " <matplotlib.axis.XTick at 0x7f5e6f397bd0>,\n",
       " <matplotlib.axis.XTick at 0x7f5e6f3a6250>,\n",
       " <matplotlib.axis.XTick at 0x7f5e6f3a6890>,\n",
       " <matplotlib.axis.XTick at 0x7f5e6f3a6ed0>,\n",
       " <matplotlib.axis.XTick at 0x7f5e6f3a75d0>,\n",
       " <matplotlib.axis.XTick at 0x7f5e6f3a7c10>,\n",
       " <matplotlib.axis.XTick at 0x7f5e6f3a7450>,\n",
       " <matplotlib.axis.XTick at 0x7f5e6f397d50>,\n",
       " <matplotlib.axis.XTick at 0x7f5e6f3b7050>,\n",
       " <matplotlib.axis.XTick at 0x7f5e6f3b7750>,\n",
       " <matplotlib.axis.XTick at 0x7f5e6f3b7d90>,\n",
       " <matplotlib.axis.XTick at 0x7f5e6f3bd410>,\n",
       " <matplotlib.axis.XTick at 0x7f5e6f3bda50>,\n",
       " <matplotlib.axis.XTick at 0x7f5e6f3bdd90>,\n",
       " <matplotlib.axis.XTick at 0x7f5e6f3c4710>,\n",
       " <matplotlib.axis.XTick at 0x7f5e6f3c4d50>,\n",
       " <matplotlib.axis.XTick at 0x7f5e6f3bd9d0>,\n",
       " <matplotlib.axis.XTick at 0x7f5e6f394190>,\n",
       " <matplotlib.axis.XTick at 0x7f5e6f3cd350>,\n",
       " <matplotlib.axis.XTick at 0x7f5e6f3cd990>,\n",
       " <matplotlib.axis.XTick at 0x7f5e6f3cda90>,\n",
       " <matplotlib.axis.XTick at 0x7f5e6f3cf650>,\n",
       " <matplotlib.axis.XTick at 0x7f5e6f3cfc90>,\n",
       " <matplotlib.axis.XTick at 0x7f5e6f355310>,\n",
       " <matplotlib.axis.XTick at 0x7f5e6f355950>,\n",
       " <matplotlib.axis.XTick at 0x7f5e6f3cf710>,\n",
       " <matplotlib.axis.XTick at 0x7f5e6f3a6910>,\n",
       " <matplotlib.axis.XTick at 0x7f5e6f355e90>,\n",
       " <matplotlib.axis.XTick at 0x7f5e6f361510>,\n",
       " <matplotlib.axis.XTick at 0x7f5e6f361b50>,\n",
       " <matplotlib.axis.XTick at 0x7f5e6f36a250>,\n",
       " <matplotlib.axis.XTick at 0x7f5e6f36a810>,\n",
       " <matplotlib.axis.XTick at 0x7f5e6f36ae50>,\n",
       " <matplotlib.axis.XTick at 0x7f5e6f3674d0>,\n",
       " <matplotlib.axis.XTick at 0x7f5e6f36a150>,\n",
       " <matplotlib.axis.XTick at 0x7f5e6f355c10>,\n",
       " <matplotlib.axis.XTick at 0x7f5e6f367710>,\n",
       " <matplotlib.axis.XTick at 0x7f5e6f370050>,\n",
       " <matplotlib.axis.XTick at 0x7f5e6f370750>,\n",
       " <matplotlib.axis.XTick at 0x7f5e6f370d90>,\n",
       " <matplotlib.axis.XTick at 0x7f5e6f377410>,\n",
       " <matplotlib.axis.XTick at 0x7f5e6f377a50>,\n",
       " <matplotlib.axis.XTick at 0x7f5e6f377d90>,\n",
       " <matplotlib.axis.XTick at 0x7f5e6f387710>,\n",
       " <matplotlib.axis.XTick at 0x7f5e6f3774d0>,\n",
       " <matplotlib.axis.XTick at 0x7f5e6f3550d0>,\n",
       " <matplotlib.axis.XTick at 0x7f5e6f387c50>,\n",
       " <matplotlib.axis.XTick at 0x7f5e6f3902d0>,\n",
       " <matplotlib.axis.XTick at 0x7f5e6f390910>,\n",
       " <matplotlib.axis.XTick at 0x7f5e6f3907d0>,\n",
       " <matplotlib.axis.XTick at 0x7f5e6f38f5d0>,\n",
       " <matplotlib.axis.XTick at 0x7f5e6f38fc10>,\n",
       " <matplotlib.axis.XTick at 0x7f5e6f2df290>,\n",
       " <matplotlib.axis.XTick at 0x7f5e6f390990>,\n",
       " <matplotlib.axis.XTick at 0x7f5e6f387bd0>,\n",
       " <matplotlib.axis.XTick at 0x7f5e6f2df5d0>,\n",
       " <matplotlib.axis.XTick at 0x7f5e6f2dfe90>,\n",
       " <matplotlib.axis.XTick at 0x7f5e6f2de590>,\n",
       " <matplotlib.axis.XTick at 0x7f5e6f2debd0>,\n",
       " <matplotlib.axis.XTick at 0x7f5e6f2ec250>,\n",
       " <matplotlib.axis.XTick at 0x7f5e6f2ec810>,\n",
       " <matplotlib.axis.XTick at 0x7f5e6f2ece50>,\n",
       " <matplotlib.axis.XTick at 0x7f5e6f2f54d0>,\n",
       " <matplotlib.axis.XTick at 0x7f5e6f2ec790>,\n",
       " <matplotlib.axis.XTick at 0x7f5e6f2df910>,\n",
       " <matplotlib.axis.XTick at 0x7f5e6f3c4c50>,\n",
       " <matplotlib.axis.XTick at 0x7f5e6f5452d0>,\n",
       " <matplotlib.axis.XTick at 0x7f5e6f2f5b10>,\n",
       " <matplotlib.axis.XTick at 0x7f5e6f2f6f10>,\n",
       " <matplotlib.axis.XTick at 0x7f5e6f2f6850>,\n",
       " <matplotlib.axis.XTick at 0x7f5e6f2f61d0>,\n",
       " <matplotlib.axis.XTick at 0x7f5e6f2fa490>,\n",
       " <matplotlib.axis.XTick at 0x7f5e6f2f6e50>,\n",
       " <matplotlib.axis.XTick at 0x7f5e6f3c4b10>,\n",
       " <matplotlib.axis.XTick at 0x7f5e6f2fa7d0>,\n",
       " <matplotlib.axis.XTick at 0x7f5e6f2faed0>,\n",
       " <matplotlib.axis.XTick at 0x7f5e6f2f8790>,\n",
       " <matplotlib.axis.XTick at 0x7f5e6f2f8110>,\n",
       " <matplotlib.axis.XTick at 0x7f5e6f3113d0>,\n",
       " <matplotlib.axis.XTick at 0x7f5e6f311a10>,\n",
       " ...]"
      ]
     },
     "metadata": {},
     "execution_count": 58
    },
    {
     "output_type": "stream",
     "name": "stdout",
     "text": [
      "Error in callback <function flush_figures at 0x7f5eb01b5b90> (for post_execute):\n"
     ]
    },
    {
     "output_type": "error",
     "ename": "KeyboardInterrupt",
     "evalue": "",
     "traceback": [
      "\u001b[0;31m---------------------------------------------------------------------------\u001b[0m",
      "\u001b[0;31mKeyboardInterrupt\u001b[0m                         Traceback (most recent call last)",
      "\u001b[0;32m/media/data_1/darius/miniconda/envs/hurtfulwords/lib/python3.7/site-packages/ipykernel/pylab/backend_inline.py\u001b[0m in \u001b[0;36mflush_figures\u001b[0;34m()\u001b[0m\n\u001b[1;32m    119\u001b[0m         \u001b[0;31m# ignore the tracking, just draw and close all figures\u001b[0m\u001b[0;34m\u001b[0m\u001b[0;34m\u001b[0m\u001b[0;34m\u001b[0m\u001b[0m\n\u001b[1;32m    120\u001b[0m         \u001b[0;32mtry\u001b[0m\u001b[0;34m:\u001b[0m\u001b[0;34m\u001b[0m\u001b[0;34m\u001b[0m\u001b[0m\n\u001b[0;32m--> 121\u001b[0;31m             \u001b[0;32mreturn\u001b[0m \u001b[0mshow\u001b[0m\u001b[0;34m(\u001b[0m\u001b[0;32mTrue\u001b[0m\u001b[0;34m)\u001b[0m\u001b[0;34m\u001b[0m\u001b[0;34m\u001b[0m\u001b[0m\n\u001b[0m\u001b[1;32m    122\u001b[0m         \u001b[0;32mexcept\u001b[0m \u001b[0mException\u001b[0m \u001b[0;32mas\u001b[0m \u001b[0me\u001b[0m\u001b[0;34m:\u001b[0m\u001b[0;34m\u001b[0m\u001b[0;34m\u001b[0m\u001b[0m\n\u001b[1;32m    123\u001b[0m             \u001b[0;31m# safely show traceback if in IPython, else raise\u001b[0m\u001b[0;34m\u001b[0m\u001b[0;34m\u001b[0m\u001b[0;34m\u001b[0m\u001b[0m\n",
      "\u001b[0;32m/media/data_1/darius/miniconda/envs/hurtfulwords/lib/python3.7/site-packages/ipykernel/pylab/backend_inline.py\u001b[0m in \u001b[0;36mshow\u001b[0;34m(close, block)\u001b[0m\n\u001b[1;32m     41\u001b[0m             display(\n\u001b[1;32m     42\u001b[0m                 \u001b[0mfigure_manager\u001b[0m\u001b[0;34m.\u001b[0m\u001b[0mcanvas\u001b[0m\u001b[0;34m.\u001b[0m\u001b[0mfigure\u001b[0m\u001b[0;34m,\u001b[0m\u001b[0;34m\u001b[0m\u001b[0;34m\u001b[0m\u001b[0m\n\u001b[0;32m---> 43\u001b[0;31m                 \u001b[0mmetadata\u001b[0m\u001b[0;34m=\u001b[0m\u001b[0m_fetch_figure_metadata\u001b[0m\u001b[0;34m(\u001b[0m\u001b[0mfigure_manager\u001b[0m\u001b[0;34m.\u001b[0m\u001b[0mcanvas\u001b[0m\u001b[0;34m.\u001b[0m\u001b[0mfigure\u001b[0m\u001b[0;34m)\u001b[0m\u001b[0;34m\u001b[0m\u001b[0;34m\u001b[0m\u001b[0m\n\u001b[0m\u001b[1;32m     44\u001b[0m             )\n\u001b[1;32m     45\u001b[0m     \u001b[0;32mfinally\u001b[0m\u001b[0;34m:\u001b[0m\u001b[0;34m\u001b[0m\u001b[0;34m\u001b[0m\u001b[0m\n",
      "\u001b[0;32m/media/data_1/darius/miniconda/envs/hurtfulwords/lib/python3.7/site-packages/IPython/core/display.py\u001b[0m in \u001b[0;36mdisplay\u001b[0;34m(include, exclude, metadata, transient, display_id, *objs, **kwargs)\u001b[0m\n\u001b[1;32m    311\u001b[0m             \u001b[0mpublish_display_data\u001b[0m\u001b[0;34m(\u001b[0m\u001b[0mdata\u001b[0m\u001b[0;34m=\u001b[0m\u001b[0mobj\u001b[0m\u001b[0;34m,\u001b[0m \u001b[0mmetadata\u001b[0m\u001b[0;34m=\u001b[0m\u001b[0mmetadata\u001b[0m\u001b[0;34m,\u001b[0m \u001b[0;34m**\u001b[0m\u001b[0mkwargs\u001b[0m\u001b[0;34m)\u001b[0m\u001b[0;34m\u001b[0m\u001b[0;34m\u001b[0m\u001b[0m\n\u001b[1;32m    312\u001b[0m         \u001b[0;32melse\u001b[0m\u001b[0;34m:\u001b[0m\u001b[0;34m\u001b[0m\u001b[0;34m\u001b[0m\u001b[0m\n\u001b[0;32m--> 313\u001b[0;31m             \u001b[0mformat_dict\u001b[0m\u001b[0;34m,\u001b[0m \u001b[0mmd_dict\u001b[0m \u001b[0;34m=\u001b[0m \u001b[0mformat\u001b[0m\u001b[0;34m(\u001b[0m\u001b[0mobj\u001b[0m\u001b[0;34m,\u001b[0m \u001b[0minclude\u001b[0m\u001b[0;34m=\u001b[0m\u001b[0minclude\u001b[0m\u001b[0;34m,\u001b[0m \u001b[0mexclude\u001b[0m\u001b[0;34m=\u001b[0m\u001b[0mexclude\u001b[0m\u001b[0;34m)\u001b[0m\u001b[0;34m\u001b[0m\u001b[0;34m\u001b[0m\u001b[0m\n\u001b[0m\u001b[1;32m    314\u001b[0m             \u001b[0;32mif\u001b[0m \u001b[0;32mnot\u001b[0m \u001b[0mformat_dict\u001b[0m\u001b[0;34m:\u001b[0m\u001b[0;34m\u001b[0m\u001b[0;34m\u001b[0m\u001b[0m\n\u001b[1;32m    315\u001b[0m                 \u001b[0;31m# nothing to display (e.g. _ipython_display_ took over)\u001b[0m\u001b[0;34m\u001b[0m\u001b[0;34m\u001b[0m\u001b[0;34m\u001b[0m\u001b[0m\n",
      "\u001b[0;32m/media/data_1/darius/miniconda/envs/hurtfulwords/lib/python3.7/site-packages/IPython/core/formatters.py\u001b[0m in \u001b[0;36mformat\u001b[0;34m(self, obj, include, exclude)\u001b[0m\n\u001b[1;32m    178\u001b[0m             \u001b[0mmd\u001b[0m \u001b[0;34m=\u001b[0m \u001b[0;32mNone\u001b[0m\u001b[0;34m\u001b[0m\u001b[0;34m\u001b[0m\u001b[0m\n\u001b[1;32m    179\u001b[0m             \u001b[0;32mtry\u001b[0m\u001b[0;34m:\u001b[0m\u001b[0;34m\u001b[0m\u001b[0;34m\u001b[0m\u001b[0m\n\u001b[0;32m--> 180\u001b[0;31m                 \u001b[0mdata\u001b[0m \u001b[0;34m=\u001b[0m \u001b[0mformatter\u001b[0m\u001b[0;34m(\u001b[0m\u001b[0mobj\u001b[0m\u001b[0;34m)\u001b[0m\u001b[0;34m\u001b[0m\u001b[0;34m\u001b[0m\u001b[0m\n\u001b[0m\u001b[1;32m    181\u001b[0m             \u001b[0;32mexcept\u001b[0m\u001b[0;34m:\u001b[0m\u001b[0;34m\u001b[0m\u001b[0;34m\u001b[0m\u001b[0m\n\u001b[1;32m    182\u001b[0m                 \u001b[0;31m# FIXME: log the exception\u001b[0m\u001b[0;34m\u001b[0m\u001b[0;34m\u001b[0m\u001b[0;34m\u001b[0m\u001b[0m\n",
      "\u001b[0;32m<decorator-gen-2>\u001b[0m in \u001b[0;36m__call__\u001b[0;34m(self, obj)\u001b[0m\n",
      "\u001b[0;32m/media/data_1/darius/miniconda/envs/hurtfulwords/lib/python3.7/site-packages/IPython/core/formatters.py\u001b[0m in \u001b[0;36mcatch_format_error\u001b[0;34m(method, self, *args, **kwargs)\u001b[0m\n\u001b[1;32m    222\u001b[0m     \u001b[0;34m\"\"\"show traceback on failed format call\"\"\"\u001b[0m\u001b[0;34m\u001b[0m\u001b[0;34m\u001b[0m\u001b[0m\n\u001b[1;32m    223\u001b[0m     \u001b[0;32mtry\u001b[0m\u001b[0;34m:\u001b[0m\u001b[0;34m\u001b[0m\u001b[0;34m\u001b[0m\u001b[0m\n\u001b[0;32m--> 224\u001b[0;31m         \u001b[0mr\u001b[0m \u001b[0;34m=\u001b[0m \u001b[0mmethod\u001b[0m\u001b[0;34m(\u001b[0m\u001b[0mself\u001b[0m\u001b[0;34m,\u001b[0m \u001b[0;34m*\u001b[0m\u001b[0margs\u001b[0m\u001b[0;34m,\u001b[0m \u001b[0;34m**\u001b[0m\u001b[0mkwargs\u001b[0m\u001b[0;34m)\u001b[0m\u001b[0;34m\u001b[0m\u001b[0;34m\u001b[0m\u001b[0m\n\u001b[0m\u001b[1;32m    225\u001b[0m     \u001b[0;32mexcept\u001b[0m \u001b[0mNotImplementedError\u001b[0m\u001b[0;34m:\u001b[0m\u001b[0;34m\u001b[0m\u001b[0;34m\u001b[0m\u001b[0m\n\u001b[1;32m    226\u001b[0m         \u001b[0;31m# don't warn on NotImplementedErrors\u001b[0m\u001b[0;34m\u001b[0m\u001b[0;34m\u001b[0m\u001b[0;34m\u001b[0m\u001b[0m\n",
      "\u001b[0;32m/media/data_1/darius/miniconda/envs/hurtfulwords/lib/python3.7/site-packages/IPython/core/formatters.py\u001b[0m in \u001b[0;36m__call__\u001b[0;34m(self, obj)\u001b[0m\n\u001b[1;32m    339\u001b[0m                 \u001b[0;32mpass\u001b[0m\u001b[0;34m\u001b[0m\u001b[0;34m\u001b[0m\u001b[0m\n\u001b[1;32m    340\u001b[0m             \u001b[0;32melse\u001b[0m\u001b[0;34m:\u001b[0m\u001b[0;34m\u001b[0m\u001b[0;34m\u001b[0m\u001b[0m\n\u001b[0;32m--> 341\u001b[0;31m                 \u001b[0;32mreturn\u001b[0m \u001b[0mprinter\u001b[0m\u001b[0;34m(\u001b[0m\u001b[0mobj\u001b[0m\u001b[0;34m)\u001b[0m\u001b[0;34m\u001b[0m\u001b[0;34m\u001b[0m\u001b[0m\n\u001b[0m\u001b[1;32m    342\u001b[0m             \u001b[0;31m# Finally look for special method names\u001b[0m\u001b[0;34m\u001b[0m\u001b[0;34m\u001b[0m\u001b[0;34m\u001b[0m\u001b[0m\n\u001b[1;32m    343\u001b[0m             \u001b[0mmethod\u001b[0m \u001b[0;34m=\u001b[0m \u001b[0mget_real_method\u001b[0m\u001b[0;34m(\u001b[0m\u001b[0mobj\u001b[0m\u001b[0;34m,\u001b[0m \u001b[0mself\u001b[0m\u001b[0;34m.\u001b[0m\u001b[0mprint_method\u001b[0m\u001b[0;34m)\u001b[0m\u001b[0;34m\u001b[0m\u001b[0;34m\u001b[0m\u001b[0m\n",
      "\u001b[0;32m/media/data_1/darius/miniconda/envs/hurtfulwords/lib/python3.7/site-packages/IPython/core/pylabtools.py\u001b[0m in \u001b[0;36m<lambda>\u001b[0;34m(fig)\u001b[0m\n\u001b[1;32m    252\u001b[0m         \u001b[0mjpg_formatter\u001b[0m\u001b[0;34m.\u001b[0m\u001b[0mfor_type\u001b[0m\u001b[0;34m(\u001b[0m\u001b[0mFigure\u001b[0m\u001b[0;34m,\u001b[0m \u001b[0;32mlambda\u001b[0m \u001b[0mfig\u001b[0m\u001b[0;34m:\u001b[0m \u001b[0mprint_figure\u001b[0m\u001b[0;34m(\u001b[0m\u001b[0mfig\u001b[0m\u001b[0;34m,\u001b[0m \u001b[0;34m'jpg'\u001b[0m\u001b[0;34m,\u001b[0m \u001b[0;34m**\u001b[0m\u001b[0mkwargs\u001b[0m\u001b[0;34m)\u001b[0m\u001b[0;34m)\u001b[0m\u001b[0;34m\u001b[0m\u001b[0;34m\u001b[0m\u001b[0m\n\u001b[1;32m    253\u001b[0m     \u001b[0;32mif\u001b[0m \u001b[0;34m'svg'\u001b[0m \u001b[0;32min\u001b[0m \u001b[0mformats\u001b[0m\u001b[0;34m:\u001b[0m\u001b[0;34m\u001b[0m\u001b[0;34m\u001b[0m\u001b[0m\n\u001b[0;32m--> 254\u001b[0;31m         \u001b[0msvg_formatter\u001b[0m\u001b[0;34m.\u001b[0m\u001b[0mfor_type\u001b[0m\u001b[0;34m(\u001b[0m\u001b[0mFigure\u001b[0m\u001b[0;34m,\u001b[0m \u001b[0;32mlambda\u001b[0m \u001b[0mfig\u001b[0m\u001b[0;34m:\u001b[0m \u001b[0mprint_figure\u001b[0m\u001b[0;34m(\u001b[0m\u001b[0mfig\u001b[0m\u001b[0;34m,\u001b[0m \u001b[0;34m'svg'\u001b[0m\u001b[0;34m,\u001b[0m \u001b[0;34m**\u001b[0m\u001b[0mkwargs\u001b[0m\u001b[0;34m)\u001b[0m\u001b[0;34m)\u001b[0m\u001b[0;34m\u001b[0m\u001b[0;34m\u001b[0m\u001b[0m\n\u001b[0m\u001b[1;32m    255\u001b[0m     \u001b[0;32mif\u001b[0m \u001b[0;34m'pdf'\u001b[0m \u001b[0;32min\u001b[0m \u001b[0mformats\u001b[0m\u001b[0;34m:\u001b[0m\u001b[0;34m\u001b[0m\u001b[0;34m\u001b[0m\u001b[0m\n\u001b[1;32m    256\u001b[0m         \u001b[0mpdf_formatter\u001b[0m\u001b[0;34m.\u001b[0m\u001b[0mfor_type\u001b[0m\u001b[0;34m(\u001b[0m\u001b[0mFigure\u001b[0m\u001b[0;34m,\u001b[0m \u001b[0;32mlambda\u001b[0m \u001b[0mfig\u001b[0m\u001b[0;34m:\u001b[0m \u001b[0mprint_figure\u001b[0m\u001b[0;34m(\u001b[0m\u001b[0mfig\u001b[0m\u001b[0;34m,\u001b[0m \u001b[0;34m'pdf'\u001b[0m\u001b[0;34m,\u001b[0m \u001b[0;34m**\u001b[0m\u001b[0mkwargs\u001b[0m\u001b[0;34m)\u001b[0m\u001b[0;34m)\u001b[0m\u001b[0;34m\u001b[0m\u001b[0;34m\u001b[0m\u001b[0m\n",
      "\u001b[0;32m/media/data_1/darius/miniconda/envs/hurtfulwords/lib/python3.7/site-packages/IPython/core/pylabtools.py\u001b[0m in \u001b[0;36mprint_figure\u001b[0;34m(fig, fmt, bbox_inches, **kwargs)\u001b[0m\n\u001b[1;32m    130\u001b[0m         \u001b[0mFigureCanvasBase\u001b[0m\u001b[0;34m(\u001b[0m\u001b[0mfig\u001b[0m\u001b[0;34m)\u001b[0m\u001b[0;34m\u001b[0m\u001b[0;34m\u001b[0m\u001b[0m\n\u001b[1;32m    131\u001b[0m \u001b[0;34m\u001b[0m\u001b[0m\n\u001b[0;32m--> 132\u001b[0;31m     \u001b[0mfig\u001b[0m\u001b[0;34m.\u001b[0m\u001b[0mcanvas\u001b[0m\u001b[0;34m.\u001b[0m\u001b[0mprint_figure\u001b[0m\u001b[0;34m(\u001b[0m\u001b[0mbytes_io\u001b[0m\u001b[0;34m,\u001b[0m \u001b[0;34m**\u001b[0m\u001b[0mkw\u001b[0m\u001b[0;34m)\u001b[0m\u001b[0;34m\u001b[0m\u001b[0;34m\u001b[0m\u001b[0m\n\u001b[0m\u001b[1;32m    133\u001b[0m     \u001b[0mdata\u001b[0m \u001b[0;34m=\u001b[0m \u001b[0mbytes_io\u001b[0m\u001b[0;34m.\u001b[0m\u001b[0mgetvalue\u001b[0m\u001b[0;34m(\u001b[0m\u001b[0;34m)\u001b[0m\u001b[0;34m\u001b[0m\u001b[0;34m\u001b[0m\u001b[0m\n\u001b[1;32m    134\u001b[0m     \u001b[0;32mif\u001b[0m \u001b[0mfmt\u001b[0m \u001b[0;34m==\u001b[0m \u001b[0;34m'svg'\u001b[0m\u001b[0;34m:\u001b[0m\u001b[0;34m\u001b[0m\u001b[0;34m\u001b[0m\u001b[0m\n",
      "\u001b[0;32m/media/data_1/darius/miniconda/envs/hurtfulwords/lib/python3.7/site-packages/matplotlib/backend_bases.py\u001b[0m in \u001b[0;36mprint_figure\u001b[0;34m(self, filename, dpi, facecolor, edgecolor, orientation, format, bbox_inches, **kwargs)\u001b[0m\n\u001b[1;32m   2063\u001b[0m                         \u001b[0morientation\u001b[0m\u001b[0;34m=\u001b[0m\u001b[0morientation\u001b[0m\u001b[0;34m,\u001b[0m\u001b[0;34m\u001b[0m\u001b[0;34m\u001b[0m\u001b[0m\n\u001b[1;32m   2064\u001b[0m                         \u001b[0mdryrun\u001b[0m\u001b[0;34m=\u001b[0m\u001b[0;32mTrue\u001b[0m\u001b[0;34m,\u001b[0m\u001b[0;34m\u001b[0m\u001b[0;34m\u001b[0m\u001b[0m\n\u001b[0;32m-> 2065\u001b[0;31m                         **kwargs)\n\u001b[0m\u001b[1;32m   2066\u001b[0m                     \u001b[0mrenderer\u001b[0m \u001b[0;34m=\u001b[0m \u001b[0mself\u001b[0m\u001b[0;34m.\u001b[0m\u001b[0mfigure\u001b[0m\u001b[0;34m.\u001b[0m\u001b[0m_cachedRenderer\u001b[0m\u001b[0;34m\u001b[0m\u001b[0;34m\u001b[0m\u001b[0m\n\u001b[1;32m   2067\u001b[0m                     \u001b[0mbbox_artists\u001b[0m \u001b[0;34m=\u001b[0m \u001b[0mkwargs\u001b[0m\u001b[0;34m.\u001b[0m\u001b[0mpop\u001b[0m\u001b[0;34m(\u001b[0m\u001b[0;34m\"bbox_extra_artists\"\u001b[0m\u001b[0;34m,\u001b[0m \u001b[0;32mNone\u001b[0m\u001b[0;34m)\u001b[0m\u001b[0;34m\u001b[0m\u001b[0;34m\u001b[0m\u001b[0m\n",
      "\u001b[0;32m/media/data_1/darius/miniconda/envs/hurtfulwords/lib/python3.7/site-packages/matplotlib/backends/backend_svg.py\u001b[0m in \u001b[0;36mprint_svg\u001b[0;34m(self, filename, *args, **kwargs)\u001b[0m\n\u001b[1;32m   1200\u001b[0m                 \u001b[0mdetach\u001b[0m \u001b[0;34m=\u001b[0m \u001b[0;32mTrue\u001b[0m\u001b[0;34m\u001b[0m\u001b[0;34m\u001b[0m\u001b[0m\n\u001b[1;32m   1201\u001b[0m \u001b[0;34m\u001b[0m\u001b[0m\n\u001b[0;32m-> 1202\u001b[0;31m             \u001b[0mresult\u001b[0m \u001b[0;34m=\u001b[0m \u001b[0mself\u001b[0m\u001b[0;34m.\u001b[0m\u001b[0m_print_svg\u001b[0m\u001b[0;34m(\u001b[0m\u001b[0mfilename\u001b[0m\u001b[0;34m,\u001b[0m \u001b[0mfh\u001b[0m\u001b[0;34m,\u001b[0m \u001b[0;34m**\u001b[0m\u001b[0mkwargs\u001b[0m\u001b[0;34m)\u001b[0m\u001b[0;34m\u001b[0m\u001b[0;34m\u001b[0m\u001b[0m\n\u001b[0m\u001b[1;32m   1203\u001b[0m \u001b[0;34m\u001b[0m\u001b[0m\n\u001b[1;32m   1204\u001b[0m             \u001b[0;31m# Detach underlying stream from wrapper so that it remains open in\u001b[0m\u001b[0;34m\u001b[0m\u001b[0;34m\u001b[0m\u001b[0;34m\u001b[0m\u001b[0m\n",
      "\u001b[0;32m/media/data_1/darius/miniconda/envs/hurtfulwords/lib/python3.7/site-packages/matplotlib/backends/backend_svg.py\u001b[0m in \u001b[0;36m_print_svg\u001b[0;34m(self, filename, fh, dpi, bbox_inches_restore, **kwargs)\u001b[0m\n\u001b[1;32m   1225\u001b[0m             bbox_inches_restore=bbox_inches_restore)\n\u001b[1;32m   1226\u001b[0m \u001b[0;34m\u001b[0m\u001b[0m\n\u001b[0;32m-> 1227\u001b[0;31m         \u001b[0mself\u001b[0m\u001b[0;34m.\u001b[0m\u001b[0mfigure\u001b[0m\u001b[0;34m.\u001b[0m\u001b[0mdraw\u001b[0m\u001b[0;34m(\u001b[0m\u001b[0mrenderer\u001b[0m\u001b[0;34m)\u001b[0m\u001b[0;34m\u001b[0m\u001b[0;34m\u001b[0m\u001b[0m\n\u001b[0m\u001b[1;32m   1228\u001b[0m         \u001b[0mrenderer\u001b[0m\u001b[0;34m.\u001b[0m\u001b[0mfinalize\u001b[0m\u001b[0;34m(\u001b[0m\u001b[0;34m)\u001b[0m\u001b[0;34m\u001b[0m\u001b[0;34m\u001b[0m\u001b[0m\n\u001b[1;32m   1229\u001b[0m \u001b[0;34m\u001b[0m\u001b[0m\n",
      "\u001b[0;32m/media/data_1/darius/miniconda/envs/hurtfulwords/lib/python3.7/site-packages/matplotlib/artist.py\u001b[0m in \u001b[0;36mdraw_wrapper\u001b[0;34m(artist, renderer, *args, **kwargs)\u001b[0m\n\u001b[1;32m     36\u001b[0m                 \u001b[0mrenderer\u001b[0m\u001b[0;34m.\u001b[0m\u001b[0mstart_filter\u001b[0m\u001b[0;34m(\u001b[0m\u001b[0;34m)\u001b[0m\u001b[0;34m\u001b[0m\u001b[0;34m\u001b[0m\u001b[0m\n\u001b[1;32m     37\u001b[0m \u001b[0;34m\u001b[0m\u001b[0m\n\u001b[0;32m---> 38\u001b[0;31m             \u001b[0;32mreturn\u001b[0m \u001b[0mdraw\u001b[0m\u001b[0;34m(\u001b[0m\u001b[0martist\u001b[0m\u001b[0;34m,\u001b[0m \u001b[0mrenderer\u001b[0m\u001b[0;34m,\u001b[0m \u001b[0;34m*\u001b[0m\u001b[0margs\u001b[0m\u001b[0;34m,\u001b[0m \u001b[0;34m**\u001b[0m\u001b[0mkwargs\u001b[0m\u001b[0;34m)\u001b[0m\u001b[0;34m\u001b[0m\u001b[0;34m\u001b[0m\u001b[0m\n\u001b[0m\u001b[1;32m     39\u001b[0m         \u001b[0;32mfinally\u001b[0m\u001b[0;34m:\u001b[0m\u001b[0;34m\u001b[0m\u001b[0;34m\u001b[0m\u001b[0m\n\u001b[1;32m     40\u001b[0m             \u001b[0;32mif\u001b[0m \u001b[0martist\u001b[0m\u001b[0;34m.\u001b[0m\u001b[0mget_agg_filter\u001b[0m\u001b[0;34m(\u001b[0m\u001b[0;34m)\u001b[0m \u001b[0;32mis\u001b[0m \u001b[0;32mnot\u001b[0m \u001b[0;32mNone\u001b[0m\u001b[0;34m:\u001b[0m\u001b[0;34m\u001b[0m\u001b[0;34m\u001b[0m\u001b[0m\n",
      "\u001b[0;32m/media/data_1/darius/miniconda/envs/hurtfulwords/lib/python3.7/site-packages/matplotlib/figure.py\u001b[0m in \u001b[0;36mdraw\u001b[0;34m(self, renderer)\u001b[0m\n\u001b[1;32m   1707\u001b[0m             \u001b[0mself\u001b[0m\u001b[0;34m.\u001b[0m\u001b[0mpatch\u001b[0m\u001b[0;34m.\u001b[0m\u001b[0mdraw\u001b[0m\u001b[0;34m(\u001b[0m\u001b[0mrenderer\u001b[0m\u001b[0;34m)\u001b[0m\u001b[0;34m\u001b[0m\u001b[0;34m\u001b[0m\u001b[0m\n\u001b[1;32m   1708\u001b[0m             mimage._draw_list_compositing_images(\n\u001b[0;32m-> 1709\u001b[0;31m                 renderer, self, artists, self.suppressComposite)\n\u001b[0m\u001b[1;32m   1710\u001b[0m \u001b[0;34m\u001b[0m\u001b[0m\n\u001b[1;32m   1711\u001b[0m             \u001b[0mrenderer\u001b[0m\u001b[0;34m.\u001b[0m\u001b[0mclose_group\u001b[0m\u001b[0;34m(\u001b[0m\u001b[0;34m'figure'\u001b[0m\u001b[0;34m)\u001b[0m\u001b[0;34m\u001b[0m\u001b[0;34m\u001b[0m\u001b[0m\n",
      "\u001b[0;32m/media/data_1/darius/miniconda/envs/hurtfulwords/lib/python3.7/site-packages/matplotlib/image.py\u001b[0m in \u001b[0;36m_draw_list_compositing_images\u001b[0;34m(renderer, parent, artists, suppress_composite)\u001b[0m\n\u001b[1;32m    133\u001b[0m     \u001b[0;32mif\u001b[0m \u001b[0mnot_composite\u001b[0m \u001b[0;32mor\u001b[0m \u001b[0;32mnot\u001b[0m \u001b[0mhas_images\u001b[0m\u001b[0;34m:\u001b[0m\u001b[0;34m\u001b[0m\u001b[0;34m\u001b[0m\u001b[0m\n\u001b[1;32m    134\u001b[0m         \u001b[0;32mfor\u001b[0m \u001b[0ma\u001b[0m \u001b[0;32min\u001b[0m \u001b[0martists\u001b[0m\u001b[0;34m:\u001b[0m\u001b[0;34m\u001b[0m\u001b[0;34m\u001b[0m\u001b[0m\n\u001b[0;32m--> 135\u001b[0;31m             \u001b[0ma\u001b[0m\u001b[0;34m.\u001b[0m\u001b[0mdraw\u001b[0m\u001b[0;34m(\u001b[0m\u001b[0mrenderer\u001b[0m\u001b[0;34m)\u001b[0m\u001b[0;34m\u001b[0m\u001b[0;34m\u001b[0m\u001b[0m\n\u001b[0m\u001b[1;32m    136\u001b[0m     \u001b[0;32melse\u001b[0m\u001b[0;34m:\u001b[0m\u001b[0;34m\u001b[0m\u001b[0;34m\u001b[0m\u001b[0m\n\u001b[1;32m    137\u001b[0m         \u001b[0;31m# Composite any adjacent images together\u001b[0m\u001b[0;34m\u001b[0m\u001b[0;34m\u001b[0m\u001b[0;34m\u001b[0m\u001b[0m\n",
      "\u001b[0;32m/media/data_1/darius/miniconda/envs/hurtfulwords/lib/python3.7/site-packages/matplotlib/artist.py\u001b[0m in \u001b[0;36mdraw_wrapper\u001b[0;34m(artist, renderer, *args, **kwargs)\u001b[0m\n\u001b[1;32m     36\u001b[0m                 \u001b[0mrenderer\u001b[0m\u001b[0;34m.\u001b[0m\u001b[0mstart_filter\u001b[0m\u001b[0;34m(\u001b[0m\u001b[0;34m)\u001b[0m\u001b[0;34m\u001b[0m\u001b[0;34m\u001b[0m\u001b[0m\n\u001b[1;32m     37\u001b[0m \u001b[0;34m\u001b[0m\u001b[0m\n\u001b[0;32m---> 38\u001b[0;31m             \u001b[0;32mreturn\u001b[0m \u001b[0mdraw\u001b[0m\u001b[0;34m(\u001b[0m\u001b[0martist\u001b[0m\u001b[0;34m,\u001b[0m \u001b[0mrenderer\u001b[0m\u001b[0;34m,\u001b[0m \u001b[0;34m*\u001b[0m\u001b[0margs\u001b[0m\u001b[0;34m,\u001b[0m \u001b[0;34m**\u001b[0m\u001b[0mkwargs\u001b[0m\u001b[0;34m)\u001b[0m\u001b[0;34m\u001b[0m\u001b[0;34m\u001b[0m\u001b[0m\n\u001b[0m\u001b[1;32m     39\u001b[0m         \u001b[0;32mfinally\u001b[0m\u001b[0;34m:\u001b[0m\u001b[0;34m\u001b[0m\u001b[0;34m\u001b[0m\u001b[0m\n\u001b[1;32m     40\u001b[0m             \u001b[0;32mif\u001b[0m \u001b[0martist\u001b[0m\u001b[0;34m.\u001b[0m\u001b[0mget_agg_filter\u001b[0m\u001b[0;34m(\u001b[0m\u001b[0;34m)\u001b[0m \u001b[0;32mis\u001b[0m \u001b[0;32mnot\u001b[0m \u001b[0;32mNone\u001b[0m\u001b[0;34m:\u001b[0m\u001b[0;34m\u001b[0m\u001b[0;34m\u001b[0m\u001b[0m\n",
      "\u001b[0;32m/media/data_1/darius/miniconda/envs/hurtfulwords/lib/python3.7/site-packages/matplotlib/axes/_base.py\u001b[0m in \u001b[0;36mdraw\u001b[0;34m(self, renderer, inframe)\u001b[0m\n\u001b[1;32m   2645\u001b[0m             \u001b[0mrenderer\u001b[0m\u001b[0;34m.\u001b[0m\u001b[0mstop_rasterizing\u001b[0m\u001b[0;34m(\u001b[0m\u001b[0;34m)\u001b[0m\u001b[0;34m\u001b[0m\u001b[0;34m\u001b[0m\u001b[0m\n\u001b[1;32m   2646\u001b[0m \u001b[0;34m\u001b[0m\u001b[0m\n\u001b[0;32m-> 2647\u001b[0;31m         \u001b[0mmimage\u001b[0m\u001b[0;34m.\u001b[0m\u001b[0m_draw_list_compositing_images\u001b[0m\u001b[0;34m(\u001b[0m\u001b[0mrenderer\u001b[0m\u001b[0;34m,\u001b[0m \u001b[0mself\u001b[0m\u001b[0;34m,\u001b[0m \u001b[0martists\u001b[0m\u001b[0;34m)\u001b[0m\u001b[0;34m\u001b[0m\u001b[0;34m\u001b[0m\u001b[0m\n\u001b[0m\u001b[1;32m   2648\u001b[0m \u001b[0;34m\u001b[0m\u001b[0m\n\u001b[1;32m   2649\u001b[0m         \u001b[0mrenderer\u001b[0m\u001b[0;34m.\u001b[0m\u001b[0mclose_group\u001b[0m\u001b[0;34m(\u001b[0m\u001b[0;34m'axes'\u001b[0m\u001b[0;34m)\u001b[0m\u001b[0;34m\u001b[0m\u001b[0;34m\u001b[0m\u001b[0m\n",
      "\u001b[0;32m/media/data_1/darius/miniconda/envs/hurtfulwords/lib/python3.7/site-packages/matplotlib/image.py\u001b[0m in \u001b[0;36m_draw_list_compositing_images\u001b[0;34m(renderer, parent, artists, suppress_composite)\u001b[0m\n\u001b[1;32m    133\u001b[0m     \u001b[0;32mif\u001b[0m \u001b[0mnot_composite\u001b[0m \u001b[0;32mor\u001b[0m \u001b[0;32mnot\u001b[0m \u001b[0mhas_images\u001b[0m\u001b[0;34m:\u001b[0m\u001b[0;34m\u001b[0m\u001b[0;34m\u001b[0m\u001b[0m\n\u001b[1;32m    134\u001b[0m         \u001b[0;32mfor\u001b[0m \u001b[0ma\u001b[0m \u001b[0;32min\u001b[0m \u001b[0martists\u001b[0m\u001b[0;34m:\u001b[0m\u001b[0;34m\u001b[0m\u001b[0;34m\u001b[0m\u001b[0m\n\u001b[0;32m--> 135\u001b[0;31m             \u001b[0ma\u001b[0m\u001b[0;34m.\u001b[0m\u001b[0mdraw\u001b[0m\u001b[0;34m(\u001b[0m\u001b[0mrenderer\u001b[0m\u001b[0;34m)\u001b[0m\u001b[0;34m\u001b[0m\u001b[0;34m\u001b[0m\u001b[0m\n\u001b[0m\u001b[1;32m    136\u001b[0m     \u001b[0;32melse\u001b[0m\u001b[0;34m:\u001b[0m\u001b[0;34m\u001b[0m\u001b[0;34m\u001b[0m\u001b[0m\n\u001b[1;32m    137\u001b[0m         \u001b[0;31m# Composite any adjacent images together\u001b[0m\u001b[0;34m\u001b[0m\u001b[0;34m\u001b[0m\u001b[0;34m\u001b[0m\u001b[0m\n",
      "\u001b[0;32m/media/data_1/darius/miniconda/envs/hurtfulwords/lib/python3.7/site-packages/matplotlib/artist.py\u001b[0m in \u001b[0;36mdraw_wrapper\u001b[0;34m(artist, renderer, *args, **kwargs)\u001b[0m\n\u001b[1;32m     36\u001b[0m                 \u001b[0mrenderer\u001b[0m\u001b[0;34m.\u001b[0m\u001b[0mstart_filter\u001b[0m\u001b[0;34m(\u001b[0m\u001b[0;34m)\u001b[0m\u001b[0;34m\u001b[0m\u001b[0;34m\u001b[0m\u001b[0m\n\u001b[1;32m     37\u001b[0m \u001b[0;34m\u001b[0m\u001b[0m\n\u001b[0;32m---> 38\u001b[0;31m             \u001b[0;32mreturn\u001b[0m \u001b[0mdraw\u001b[0m\u001b[0;34m(\u001b[0m\u001b[0martist\u001b[0m\u001b[0;34m,\u001b[0m \u001b[0mrenderer\u001b[0m\u001b[0;34m,\u001b[0m \u001b[0;34m*\u001b[0m\u001b[0margs\u001b[0m\u001b[0;34m,\u001b[0m \u001b[0;34m**\u001b[0m\u001b[0mkwargs\u001b[0m\u001b[0;34m)\u001b[0m\u001b[0;34m\u001b[0m\u001b[0;34m\u001b[0m\u001b[0m\n\u001b[0m\u001b[1;32m     39\u001b[0m         \u001b[0;32mfinally\u001b[0m\u001b[0;34m:\u001b[0m\u001b[0;34m\u001b[0m\u001b[0;34m\u001b[0m\u001b[0m\n\u001b[1;32m     40\u001b[0m             \u001b[0;32mif\u001b[0m \u001b[0martist\u001b[0m\u001b[0;34m.\u001b[0m\u001b[0mget_agg_filter\u001b[0m\u001b[0;34m(\u001b[0m\u001b[0;34m)\u001b[0m \u001b[0;32mis\u001b[0m \u001b[0;32mnot\u001b[0m \u001b[0;32mNone\u001b[0m\u001b[0;34m:\u001b[0m\u001b[0;34m\u001b[0m\u001b[0;34m\u001b[0m\u001b[0m\n",
      "\u001b[0;32m/media/data_1/darius/miniconda/envs/hurtfulwords/lib/python3.7/site-packages/matplotlib/axis.py\u001b[0m in \u001b[0;36mdraw\u001b[0;34m(self, renderer, *args, **kwargs)\u001b[0m\n\u001b[1;32m   1217\u001b[0m         \u001b[0mself\u001b[0m\u001b[0;34m.\u001b[0m\u001b[0mlabel\u001b[0m\u001b[0;34m.\u001b[0m\u001b[0mdraw\u001b[0m\u001b[0;34m(\u001b[0m\u001b[0mrenderer\u001b[0m\u001b[0;34m)\u001b[0m\u001b[0;34m\u001b[0m\u001b[0;34m\u001b[0m\u001b[0m\n\u001b[1;32m   1218\u001b[0m \u001b[0;34m\u001b[0m\u001b[0m\n\u001b[0;32m-> 1219\u001b[0;31m         \u001b[0mself\u001b[0m\u001b[0;34m.\u001b[0m\u001b[0m_update_offset_text_position\u001b[0m\u001b[0;34m(\u001b[0m\u001b[0mticklabelBoxes\u001b[0m\u001b[0;34m,\u001b[0m \u001b[0mticklabelBoxes2\u001b[0m\u001b[0;34m)\u001b[0m\u001b[0;34m\u001b[0m\u001b[0;34m\u001b[0m\u001b[0m\n\u001b[0m\u001b[1;32m   1220\u001b[0m         \u001b[0mself\u001b[0m\u001b[0;34m.\u001b[0m\u001b[0moffsetText\u001b[0m\u001b[0;34m.\u001b[0m\u001b[0mset_text\u001b[0m\u001b[0;34m(\u001b[0m\u001b[0mself\u001b[0m\u001b[0;34m.\u001b[0m\u001b[0mmajor\u001b[0m\u001b[0;34m.\u001b[0m\u001b[0mformatter\u001b[0m\u001b[0;34m.\u001b[0m\u001b[0mget_offset\u001b[0m\u001b[0;34m(\u001b[0m\u001b[0;34m)\u001b[0m\u001b[0;34m)\u001b[0m\u001b[0;34m\u001b[0m\u001b[0;34m\u001b[0m\u001b[0m\n\u001b[1;32m   1221\u001b[0m         \u001b[0mself\u001b[0m\u001b[0;34m.\u001b[0m\u001b[0moffsetText\u001b[0m\u001b[0;34m.\u001b[0m\u001b[0mdraw\u001b[0m\u001b[0;34m(\u001b[0m\u001b[0mrenderer\u001b[0m\u001b[0;34m)\u001b[0m\u001b[0;34m\u001b[0m\u001b[0;34m\u001b[0m\u001b[0m\n",
      "\u001b[0;32m/media/data_1/darius/miniconda/envs/hurtfulwords/lib/python3.7/site-packages/matplotlib/axis.py\u001b[0m in \u001b[0;36m_update_offset_text_position\u001b[0;34m(self, bboxes, bboxes2)\u001b[0m\n\u001b[1;32m   2054\u001b[0m             \u001b[0mbottom\u001b[0m \u001b[0;34m=\u001b[0m \u001b[0mself\u001b[0m\u001b[0;34m.\u001b[0m\u001b[0maxes\u001b[0m\u001b[0;34m.\u001b[0m\u001b[0mbbox\u001b[0m\u001b[0;34m.\u001b[0m\u001b[0mymin\u001b[0m\u001b[0;34m\u001b[0m\u001b[0;34m\u001b[0m\u001b[0m\n\u001b[1;32m   2055\u001b[0m         \u001b[0;32melse\u001b[0m\u001b[0;34m:\u001b[0m\u001b[0;34m\u001b[0m\u001b[0;34m\u001b[0m\u001b[0m\n\u001b[0;32m-> 2056\u001b[0;31m             \u001b[0mbbox\u001b[0m \u001b[0;34m=\u001b[0m \u001b[0mmtransforms\u001b[0m\u001b[0;34m.\u001b[0m\u001b[0mBbox\u001b[0m\u001b[0;34m.\u001b[0m\u001b[0munion\u001b[0m\u001b[0;34m(\u001b[0m\u001b[0mbboxes\u001b[0m\u001b[0;34m)\u001b[0m\u001b[0;34m\u001b[0m\u001b[0;34m\u001b[0m\u001b[0m\n\u001b[0m\u001b[1;32m   2057\u001b[0m             \u001b[0mbottom\u001b[0m \u001b[0;34m=\u001b[0m \u001b[0mbbox\u001b[0m\u001b[0;34m.\u001b[0m\u001b[0my0\u001b[0m\u001b[0;34m\u001b[0m\u001b[0;34m\u001b[0m\u001b[0m\n\u001b[1;32m   2058\u001b[0m         self.offsetText.set_position(\n",
      "\u001b[0;32m/media/data_1/darius/miniconda/envs/hurtfulwords/lib/python3.7/site-packages/matplotlib/transforms.py\u001b[0m in \u001b[0;36munion\u001b[0;34m(bboxes)\u001b[0m\n\u001b[1;32m    703\u001b[0m         \u001b[0mx1\u001b[0m \u001b[0;34m=\u001b[0m \u001b[0mnp\u001b[0m\u001b[0;34m.\u001b[0m\u001b[0mmax\u001b[0m\u001b[0;34m(\u001b[0m\u001b[0;34m[\u001b[0m\u001b[0mbbox\u001b[0m\u001b[0;34m.\u001b[0m\u001b[0mxmax\u001b[0m \u001b[0;32mfor\u001b[0m \u001b[0mbbox\u001b[0m \u001b[0;32min\u001b[0m \u001b[0mbboxes\u001b[0m\u001b[0;34m]\u001b[0m\u001b[0;34m)\u001b[0m\u001b[0;34m\u001b[0m\u001b[0;34m\u001b[0m\u001b[0m\n\u001b[1;32m    704\u001b[0m         \u001b[0my0\u001b[0m \u001b[0;34m=\u001b[0m \u001b[0mnp\u001b[0m\u001b[0;34m.\u001b[0m\u001b[0mmin\u001b[0m\u001b[0;34m(\u001b[0m\u001b[0;34m[\u001b[0m\u001b[0mbbox\u001b[0m\u001b[0;34m.\u001b[0m\u001b[0mymin\u001b[0m \u001b[0;32mfor\u001b[0m \u001b[0mbbox\u001b[0m \u001b[0;32min\u001b[0m \u001b[0mbboxes\u001b[0m\u001b[0;34m]\u001b[0m\u001b[0;34m)\u001b[0m\u001b[0;34m\u001b[0m\u001b[0;34m\u001b[0m\u001b[0m\n\u001b[0;32m--> 705\u001b[0;31m         \u001b[0my1\u001b[0m \u001b[0;34m=\u001b[0m \u001b[0mnp\u001b[0m\u001b[0;34m.\u001b[0m\u001b[0mmax\u001b[0m\u001b[0;34m(\u001b[0m\u001b[0;34m[\u001b[0m\u001b[0mbbox\u001b[0m\u001b[0;34m.\u001b[0m\u001b[0mymax\u001b[0m \u001b[0;32mfor\u001b[0m \u001b[0mbbox\u001b[0m \u001b[0;32min\u001b[0m \u001b[0mbboxes\u001b[0m\u001b[0;34m]\u001b[0m\u001b[0;34m)\u001b[0m\u001b[0;34m\u001b[0m\u001b[0;34m\u001b[0m\u001b[0m\n\u001b[0m\u001b[1;32m    706\u001b[0m         \u001b[0;32mreturn\u001b[0m \u001b[0mBbox\u001b[0m\u001b[0;34m(\u001b[0m\u001b[0;34m[\u001b[0m\u001b[0;34m[\u001b[0m\u001b[0mx0\u001b[0m\u001b[0;34m,\u001b[0m \u001b[0my0\u001b[0m\u001b[0;34m]\u001b[0m\u001b[0;34m,\u001b[0m \u001b[0;34m[\u001b[0m\u001b[0mx1\u001b[0m\u001b[0;34m,\u001b[0m \u001b[0my1\u001b[0m\u001b[0;34m]\u001b[0m\u001b[0;34m]\u001b[0m\u001b[0;34m)\u001b[0m\u001b[0;34m\u001b[0m\u001b[0;34m\u001b[0m\u001b[0m\n\u001b[1;32m    707\u001b[0m \u001b[0;34m\u001b[0m\u001b[0m\n",
      "\u001b[0;32m/media/data_1/darius/miniconda/envs/hurtfulwords/lib/python3.7/site-packages/matplotlib/transforms.py\u001b[0m in \u001b[0;36m<listcomp>\u001b[0;34m(.0)\u001b[0m\n\u001b[1;32m    703\u001b[0m         \u001b[0mx1\u001b[0m \u001b[0;34m=\u001b[0m \u001b[0mnp\u001b[0m\u001b[0;34m.\u001b[0m\u001b[0mmax\u001b[0m\u001b[0;34m(\u001b[0m\u001b[0;34m[\u001b[0m\u001b[0mbbox\u001b[0m\u001b[0;34m.\u001b[0m\u001b[0mxmax\u001b[0m \u001b[0;32mfor\u001b[0m \u001b[0mbbox\u001b[0m \u001b[0;32min\u001b[0m \u001b[0mbboxes\u001b[0m\u001b[0;34m]\u001b[0m\u001b[0;34m)\u001b[0m\u001b[0;34m\u001b[0m\u001b[0;34m\u001b[0m\u001b[0m\n\u001b[1;32m    704\u001b[0m         \u001b[0my0\u001b[0m \u001b[0;34m=\u001b[0m \u001b[0mnp\u001b[0m\u001b[0;34m.\u001b[0m\u001b[0mmin\u001b[0m\u001b[0;34m(\u001b[0m\u001b[0;34m[\u001b[0m\u001b[0mbbox\u001b[0m\u001b[0;34m.\u001b[0m\u001b[0mymin\u001b[0m \u001b[0;32mfor\u001b[0m \u001b[0mbbox\u001b[0m \u001b[0;32min\u001b[0m \u001b[0mbboxes\u001b[0m\u001b[0;34m]\u001b[0m\u001b[0;34m)\u001b[0m\u001b[0;34m\u001b[0m\u001b[0;34m\u001b[0m\u001b[0m\n\u001b[0;32m--> 705\u001b[0;31m         \u001b[0my1\u001b[0m \u001b[0;34m=\u001b[0m \u001b[0mnp\u001b[0m\u001b[0;34m.\u001b[0m\u001b[0mmax\u001b[0m\u001b[0;34m(\u001b[0m\u001b[0;34m[\u001b[0m\u001b[0mbbox\u001b[0m\u001b[0;34m.\u001b[0m\u001b[0mymax\u001b[0m \u001b[0;32mfor\u001b[0m \u001b[0mbbox\u001b[0m \u001b[0;32min\u001b[0m \u001b[0mbboxes\u001b[0m\u001b[0;34m]\u001b[0m\u001b[0;34m)\u001b[0m\u001b[0;34m\u001b[0m\u001b[0;34m\u001b[0m\u001b[0m\n\u001b[0m\u001b[1;32m    706\u001b[0m         \u001b[0;32mreturn\u001b[0m \u001b[0mBbox\u001b[0m\u001b[0;34m(\u001b[0m\u001b[0;34m[\u001b[0m\u001b[0;34m[\u001b[0m\u001b[0mx0\u001b[0m\u001b[0;34m,\u001b[0m \u001b[0my0\u001b[0m\u001b[0;34m]\u001b[0m\u001b[0;34m,\u001b[0m \u001b[0;34m[\u001b[0m\u001b[0mx1\u001b[0m\u001b[0;34m,\u001b[0m \u001b[0my1\u001b[0m\u001b[0;34m]\u001b[0m\u001b[0;34m]\u001b[0m\u001b[0;34m)\u001b[0m\u001b[0;34m\u001b[0m\u001b[0;34m\u001b[0m\u001b[0m\n\u001b[1;32m    707\u001b[0m \u001b[0;34m\u001b[0m\u001b[0m\n",
      "\u001b[0;32m/media/data_1/darius/miniconda/envs/hurtfulwords/lib/python3.7/site-packages/matplotlib/transforms.py\u001b[0m in \u001b[0;36mymax\u001b[0;34m(self)\u001b[0m\n\u001b[1;32m    363\u001b[0m     \u001b[0;32mdef\u001b[0m \u001b[0mymax\u001b[0m\u001b[0;34m(\u001b[0m\u001b[0mself\u001b[0m\u001b[0;34m)\u001b[0m\u001b[0;34m:\u001b[0m\u001b[0;34m\u001b[0m\u001b[0;34m\u001b[0m\u001b[0m\n\u001b[1;32m    364\u001b[0m         \u001b[0;34m\"\"\"The top edge of the bounding box.\"\"\"\u001b[0m\u001b[0;34m\u001b[0m\u001b[0;34m\u001b[0m\u001b[0m\n\u001b[0;32m--> 365\u001b[0;31m         \u001b[0;32mreturn\u001b[0m \u001b[0mnp\u001b[0m\u001b[0;34m.\u001b[0m\u001b[0mmax\u001b[0m\u001b[0;34m(\u001b[0m\u001b[0mself\u001b[0m\u001b[0;34m.\u001b[0m\u001b[0mget_points\u001b[0m\u001b[0;34m(\u001b[0m\u001b[0;34m)\u001b[0m\u001b[0;34m[\u001b[0m\u001b[0;34m:\u001b[0m\u001b[0;34m,\u001b[0m \u001b[0;36m1\u001b[0m\u001b[0;34m]\u001b[0m\u001b[0;34m)\u001b[0m\u001b[0;34m\u001b[0m\u001b[0;34m\u001b[0m\u001b[0m\n\u001b[0m\u001b[1;32m    366\u001b[0m \u001b[0;34m\u001b[0m\u001b[0m\n\u001b[1;32m    367\u001b[0m     \u001b[0;34m@\u001b[0m\u001b[0mproperty\u001b[0m\u001b[0;34m\u001b[0m\u001b[0;34m\u001b[0m\u001b[0m\n",
      "\u001b[0;32m<__array_function__ internals>\u001b[0m in \u001b[0;36mamax\u001b[0;34m(*args, **kwargs)\u001b[0m\n",
      "\u001b[0;32m/media/data_1/darius/miniconda/envs/hurtfulwords/lib/python3.7/site-packages/numpy/core/fromnumeric.py\u001b[0m in \u001b[0;36mamax\u001b[0;34m(a, axis, out, keepdims, initial, where)\u001b[0m\n\u001b[1;32m   2704\u001b[0m     \"\"\"\n\u001b[1;32m   2705\u001b[0m     return _wrapreduction(a, np.maximum, 'max', axis, None, out,\n\u001b[0;32m-> 2706\u001b[0;31m                           keepdims=keepdims, initial=initial, where=where)\n\u001b[0m\u001b[1;32m   2707\u001b[0m \u001b[0;34m\u001b[0m\u001b[0m\n\u001b[1;32m   2708\u001b[0m \u001b[0;34m\u001b[0m\u001b[0m\n",
      "\u001b[0;32m/media/data_1/darius/miniconda/envs/hurtfulwords/lib/python3.7/site-packages/numpy/core/fromnumeric.py\u001b[0m in \u001b[0;36m_wrapreduction\u001b[0;34m(obj, ufunc, method, axis, dtype, out, **kwargs)\u001b[0m\n\u001b[1;32m     85\u001b[0m                 \u001b[0;32mreturn\u001b[0m \u001b[0mreduction\u001b[0m\u001b[0;34m(\u001b[0m\u001b[0maxis\u001b[0m\u001b[0;34m=\u001b[0m\u001b[0maxis\u001b[0m\u001b[0;34m,\u001b[0m \u001b[0mout\u001b[0m\u001b[0;34m=\u001b[0m\u001b[0mout\u001b[0m\u001b[0;34m,\u001b[0m \u001b[0;34m**\u001b[0m\u001b[0mpasskwargs\u001b[0m\u001b[0;34m)\u001b[0m\u001b[0;34m\u001b[0m\u001b[0;34m\u001b[0m\u001b[0m\n\u001b[1;32m     86\u001b[0m \u001b[0;34m\u001b[0m\u001b[0m\n\u001b[0;32m---> 87\u001b[0;31m     \u001b[0;32mreturn\u001b[0m \u001b[0mufunc\u001b[0m\u001b[0;34m.\u001b[0m\u001b[0mreduce\u001b[0m\u001b[0;34m(\u001b[0m\u001b[0mobj\u001b[0m\u001b[0;34m,\u001b[0m \u001b[0maxis\u001b[0m\u001b[0;34m,\u001b[0m \u001b[0mdtype\u001b[0m\u001b[0;34m,\u001b[0m \u001b[0mout\u001b[0m\u001b[0;34m,\u001b[0m \u001b[0;34m**\u001b[0m\u001b[0mpasskwargs\u001b[0m\u001b[0;34m)\u001b[0m\u001b[0;34m\u001b[0m\u001b[0;34m\u001b[0m\u001b[0m\n\u001b[0m\u001b[1;32m     88\u001b[0m \u001b[0;34m\u001b[0m\u001b[0m\n\u001b[1;32m     89\u001b[0m \u001b[0;34m\u001b[0m\u001b[0m\n",
      "\u001b[0;31mKeyboardInterrupt\u001b[0m: "
     ]
    }
   ],
   "source": [
    "df = process_sheet(dfs['insurance'])\n",
    "\n",
    "ax = df[df.target == 'Medicare'].plot.scatter(x=\"seed\", y=\"auroc\", color=\"red\", label=\"Medicare\")\n",
    "df[df.target == 'Private'].plot.scatter(x=\"seed\", y=\"auroc\", color=\"royalblue\", label=\"Private\", ax=ax)\n",
    "df[df.target == 'Medicaid'].plot.scatter(x=\"seed\", y=\"auroc\", color=\"green\", label=\"Medicaid\", ax=ax)\n",
    "start, end = ax.get_xlim()\n",
    "ax.xaxis.set_ticks(np.arange(start, end, 1))"
   ]
  },
  {
   "cell_type": "code",
   "execution_count": 102,
   "metadata": {},
   "outputs": [
    {
     "output_type": "execute_result",
     "data": {
      "text/plain": [
       "<matplotlib.axes._subplots.AxesSubplot at 0x7fc3ed0aef90>"
      ]
     },
     "metadata": {},
     "execution_count": 102
    },
    {
     "output_type": "display_data",
     "data": {
      "text/plain": "<Figure size 432x288 with 1 Axes>",
      "image/svg+xml": "<?xml version=\"1.0\" encoding=\"utf-8\" standalone=\"no\"?>\n<!DOCTYPE svg PUBLIC \"-//W3C//DTD SVG 1.1//EN\"\n  \"http://www.w3.org/Graphics/SVG/1.1/DTD/svg11.dtd\">\n<!-- Created with matplotlib (https://matplotlib.org/) -->\n<svg height=\"262.19625pt\" version=\"1.1\" viewBox=\"0 0 393.1062 262.19625\" width=\"393.1062pt\" xmlns=\"http://www.w3.org/2000/svg\" xmlns:xlink=\"http://www.w3.org/1999/xlink\">\n <defs>\n  <style type=\"text/css\">\n*{stroke-linecap:butt;stroke-linejoin:round;}\n  </style>\n </defs>\n <g id=\"figure_1\">\n  <g id=\"patch_1\">\n   <path d=\"M 0 262.19625 \nL 393.1062 262.19625 \nL 393.1062 0 \nL 0 0 \nz\n\" style=\"fill:none;\"/>\n  </g>\n  <g id=\"axes_1\">\n   <g id=\"patch_2\">\n    <path d=\"M 50.14375 224.64 \nL 384.94375 224.64 \nL 384.94375 7.2 \nL 50.14375 7.2 \nz\n\" style=\"fill:#ffffff;\"/>\n   </g>\n   <g id=\"PathCollection_1\">\n    <defs>\n     <path d=\"M 0 2.236068 \nC 0.593012 2.236068 1.161816 2.000462 1.581139 1.581139 \nC 2.000462 1.161816 2.236068 0.593012 2.236068 0 \nC 2.236068 -0.593012 2.000462 -1.161816 1.581139 -1.581139 \nC 1.161816 -2.000462 0.593012 -2.236068 0 -2.236068 \nC -0.593012 -2.236068 -1.161816 -2.000462 -1.581139 -1.581139 \nC -2.000462 -1.161816 -2.236068 -0.593012 -2.236068 0 \nC -2.236068 0.593012 -2.000462 1.161816 -1.581139 1.581139 \nC -1.161816 2.000462 -0.593012 2.236068 0 2.236068 \nz\n\" id=\"m577a091954\" style=\"stroke:#1f77b4;\"/>\n    </defs>\n    <g clip-path=\"url(#pcd7459c893)\">\n     <use style=\"fill:#1f77b4;stroke:#1f77b4;\" x=\"99.99047\" xlink:href=\"#m577a091954\" y=\"164.995149\"/>\n     <use style=\"fill:#1f77b4;stroke:#1f77b4;\" x=\"355.874031\" xlink:href=\"#m577a091954\" y=\"164.770512\"/>\n     <use style=\"fill:#1f77b4;stroke:#1f77b4;\" x=\"146.33447\" xlink:href=\"#m577a091954\" y=\"121.730903\"/>\n     <use style=\"fill:#1f77b4;stroke:#1f77b4;\" x=\"109.997601\" xlink:href=\"#m577a091954\" y=\"104.164041\"/>\n     <use style=\"fill:#1f77b4;stroke:#1f77b4;\" x=\"260.379152\" xlink:href=\"#m577a091954\" y=\"149.67189\"/>\n     <use style=\"fill:#1f77b4;stroke:#1f77b4;\" x=\"307.790986\" xlink:href=\"#m577a091954\" y=\"148.942681\"/>\n     <use style=\"fill:#1f77b4;stroke:#1f77b4;\" x=\"143.039439\" xlink:href=\"#m577a091954\" y=\"99.317437\"/>\n     <use style=\"fill:#1f77b4;stroke:#1f77b4;\" x=\"97.458178\" xlink:href=\"#m577a091954\" y=\"136.59262\"/>\n     <use style=\"fill:#1f77b4;stroke:#1f77b4;\" x=\"153.229627\" xlink:href=\"#m577a091954\" y=\"109.674347\"/>\n     <use style=\"fill:#1f77b4;stroke:#1f77b4;\" x=\"254.704377\" xlink:href=\"#m577a091954\" y=\"126.862712\"/>\n     <use style=\"fill:#1f77b4;stroke:#1f77b4;\" x=\"157.928098\" xlink:href=\"#m577a091954\" y=\"152.664195\"/>\n     <use style=\"fill:#1f77b4;stroke:#1f77b4;\" x=\"218.18445\" xlink:href=\"#m577a091954\" y=\"128.994386\"/>\n     <use style=\"fill:#1f77b4;stroke:#1f77b4;\" x=\"122.506515\" xlink:href=\"#m577a091954\" y=\"125.807068\"/>\n     <use style=\"fill:#1f77b4;stroke:#1f77b4;\" x=\"311.818246\" xlink:href=\"#m577a091954\" y=\"116.143429\"/>\n     <use style=\"fill:#1f77b4;stroke:#1f77b4;\" x=\"264.497941\" xlink:href=\"#m577a091954\" y=\"129.342591\"/>\n     <use style=\"fill:#1f77b4;stroke:#1f77b4;\" x=\"82.050857\" xlink:href=\"#m577a091954\" y=\"121.664596\"/>\n     <use style=\"fill:#1f77b4;stroke:#1f77b4;\" x=\"271.484627\" xlink:href=\"#m577a091954\" y=\"116.249951\"/>\n     <use style=\"fill:#1f77b4;stroke:#1f77b4;\" x=\"183.434078\" xlink:href=\"#m577a091954\" y=\"113.462006\"/>\n     <use style=\"fill:#1f77b4;stroke:#1f77b4;\" x=\"281.766344\" xlink:href=\"#m577a091954\" y=\"125.041743\"/>\n     <use style=\"fill:#1f77b4;stroke:#1f77b4;\" x=\"351.511166\" xlink:href=\"#m577a091954\" y=\"132.523109\"/>\n     <use style=\"fill:#1f77b4;stroke:#1f77b4;\" x=\"330.001936\" xlink:href=\"#m577a091954\" y=\"165.685735\"/>\n     <use style=\"fill:#1f77b4;stroke:#1f77b4;\" x=\"199.42108\" xlink:href=\"#m577a091954\" y=\"124.7062\"/>\n     <use style=\"fill:#1f77b4;stroke:#1f77b4;\" x=\"152.680456\" xlink:href=\"#m577a091954\" y=\"137.775348\"/>\n     <use style=\"fill:#1f77b4;stroke:#1f77b4;\" x=\"86.718818\" xlink:href=\"#m577a091954\" y=\"132.478956\"/>\n     <use style=\"fill:#1f77b4;stroke:#1f77b4;\" x=\"169.491215\" xlink:href=\"#m577a091954\" y=\"137.147646\"/>\n     <use style=\"fill:#1f77b4;stroke:#1f77b4;\" x=\"348.246644\" xlink:href=\"#m577a091954\" y=\"116.589486\"/>\n     <use style=\"fill:#1f77b4;stroke:#1f77b4;\" x=\"119.760656\" xlink:href=\"#m577a091954\" y=\"126.097411\"/>\n     <use style=\"fill:#1f77b4;stroke:#1f77b4;\" x=\"355.629954\" xlink:href=\"#m577a091954\" y=\"93.224936\"/>\n     <use style=\"fill:#1f77b4;stroke:#1f77b4;\" x=\"155.273767\" xlink:href=\"#m577a091954\" y=\"152.863901\"/>\n     <use style=\"fill:#1f77b4;stroke:#1f77b4;\" x=\"81.440666\" xlink:href=\"#m577a091954\" y=\"133.533492\"/>\n     <use style=\"fill:#1f77b4;stroke:#1f77b4;\" x=\"356.331674\" xlink:href=\"#m577a091954\" y=\"129.802056\"/>\n     <use style=\"fill:#1f77b4;stroke:#1f77b4;\" x=\"301.383982\" xlink:href=\"#m577a091954\" y=\"114.991816\"/>\n     <use style=\"fill:#1f77b4;stroke:#1f77b4;\" x=\"174.921915\" xlink:href=\"#m577a091954\" y=\"93.739209\"/>\n     <use style=\"fill:#1f77b4;stroke:#1f77b4;\" x=\"101.943081\" xlink:href=\"#m577a091954\" y=\"70.406036\"/>\n     <use style=\"fill:#1f77b4;stroke:#1f77b4;\" x=\"67.833409\" xlink:href=\"#m577a091954\" y=\"121.781903\"/>\n     <use style=\"fill:#1f77b4;stroke:#1f77b4;\" x=\"243.324316\" xlink:href=\"#m577a091954\" y=\"132.043767\"/>\n     <use style=\"fill:#1f77b4;stroke:#1f77b4;\" x=\"299.095766\" xlink:href=\"#m577a091954\" y=\"144.340598\"/>\n     <use style=\"fill:#1f77b4;stroke:#1f77b4;\" x=\"98.770088\" xlink:href=\"#m577a091954\" y=\"140.814821\"/>\n     <use style=\"fill:#1f77b4;stroke:#1f77b4;\" x=\"141.66651\" xlink:href=\"#m577a091954\" y=\"138.326689\"/>\n     <use style=\"fill:#1f77b4;stroke:#1f77b4;\" x=\"78.054107\" xlink:href=\"#m577a091954\" y=\"85.605626\"/>\n     <use style=\"fill:#1f77b4;stroke:#1f77b4;\" x=\"96.817477\" xlink:href=\"#m577a091954\" y=\"147.721676\"/>\n     <use style=\"fill:#1f77b4;stroke:#1f77b4;\" x=\"157.867078\" xlink:href=\"#m577a091954\" y=\"132.004413\"/>\n     <use style=\"fill:#1f77b4;stroke:#1f77b4;\" x=\"225.720308\" xlink:href=\"#m577a091954\" y=\"126.844097\"/>\n     <use style=\"fill:#1f77b4;stroke:#1f77b4;\" x=\"322.527097\" xlink:href=\"#m577a091954\" y=\"65.699054\"/>\n     <use style=\"fill:#1f77b4;stroke:#1f77b4;\" x=\"133.367913\" xlink:href=\"#m577a091954\" y=\"81.182449\"/>\n     <use style=\"fill:#1f77b4;stroke:#1f77b4;\" x=\"173.579495\" xlink:href=\"#m577a091954\" y=\"105.597344\"/>\n     <use style=\"fill:#1f77b4;stroke:#1f77b4;\" x=\"364.874347\" xlink:href=\"#m577a091954\" y=\"160.401073\"/>\n     <use style=\"fill:#1f77b4;stroke:#1f77b4;\" x=\"188.132548\" xlink:href=\"#m577a091954\" y=\"112.645621\"/>\n     <use style=\"fill:#1f77b4;stroke:#1f77b4;\" x=\"84.674678\" xlink:href=\"#m577a091954\" y=\"113.287631\"/>\n     <use style=\"fill:#1f77b4;stroke:#1f77b4;\" x=\"362.799698\" xlink:href=\"#m577a091954\" y=\"161.656739\"/>\n     <use style=\"fill:#1f77b4;stroke:#1f77b4;\" x=\"87.87818\" xlink:href=\"#m577a091954\" y=\"109.098013\"/>\n     <use style=\"fill:#1f77b4;stroke:#1f77b4;\" x=\"199.604137\" xlink:href=\"#m577a091954\" y=\"115.558911\"/>\n     <use style=\"fill:#1f77b4;stroke:#1f77b4;\" x=\"223.310054\" xlink:href=\"#m577a091954\" y=\"131.879199\"/>\n     <use style=\"fill:#1f77b4;stroke:#1f77b4;\" x=\"154.724595\" xlink:href=\"#m577a091954\" y=\"117.196427\"/>\n     <use style=\"fill:#1f77b4;stroke:#1f77b4;\" x=\"78.969393\" xlink:href=\"#m577a091954\" y=\"97.697413\"/>\n     <use style=\"fill:#1f77b4;stroke:#1f77b4;\" x=\"210.251969\" xlink:href=\"#m577a091954\" y=\"124.342603\"/>\n     <use style=\"fill:#1f77b4;stroke:#1f77b4;\" x=\"211.075726\" xlink:href=\"#m577a091954\" y=\"115.841631\"/>\n     <use style=\"fill:#1f77b4;stroke:#1f77b4;\" x=\"72.074236\" xlink:href=\"#m577a091954\" y=\"132.991951\"/>\n     <use style=\"fill:#1f77b4;stroke:#1f77b4;\" x=\"105.695755\" xlink:href=\"#m577a091954\" y=\"123.482496\"/>\n     <use style=\"fill:#1f77b4;stroke:#1f77b4;\" x=\"106.763589\" xlink:href=\"#m577a091954\" y=\"111.085958\"/>\n     <use style=\"fill:#1f77b4;stroke:#1f77b4;\" x=\"193.807323\" xlink:href=\"#m577a091954\" y=\"98.193285\"/>\n     <use style=\"fill:#1f77b4;stroke:#1f77b4;\" x=\"313.5878\" xlink:href=\"#m577a091954\" y=\"103.21968\"/>\n     <use style=\"fill:#1f77b4;stroke:#1f77b4;\" x=\"300.13309\" xlink:href=\"#m577a091954\" y=\"95.537293\"/>\n     <use style=\"fill:#1f77b4;stroke:#1f77b4;\" x=\"361.426768\" xlink:href=\"#m577a091954\" y=\"92.508612\"/>\n     <use style=\"fill:#1f77b4;stroke:#1f77b4;\" x=\"170.52854\" xlink:href=\"#m577a091954\" y=\"89.430308\"/>\n     <use style=\"fill:#1f77b4;stroke:#1f77b4;\" x=\"303.275574\" xlink:href=\"#m577a091954\" y=\"121.265092\"/>\n     <use style=\"fill:#1f77b4;stroke:#1f77b4;\" x=\"354.867216\" xlink:href=\"#m577a091954\" y=\"166.140946\"/>\n     <use style=\"fill:#1f77b4;stroke:#1f77b4;\" x=\"286.251247\" xlink:href=\"#m577a091954\" y=\"115.870739\"/>\n     <use style=\"fill:#1f77b4;stroke:#1f77b4;\" x=\"96.359834\" xlink:href=\"#m577a091954\" y=\"125.734553\"/>\n     <use style=\"fill:#1f77b4;stroke:#1f77b4;\" x=\"69.633472\" xlink:href=\"#m577a091954\" y=\"121.36776\"/>\n     <use style=\"fill:#1f77b4;stroke:#1f77b4;\" x=\"369.725364\" xlink:href=\"#m577a091954\" y=\"113.642212\"/>\n     <use style=\"fill:#1f77b4;stroke:#1f77b4;\" x=\"189.200382\" xlink:href=\"#m577a091954\" y=\"103.145081\"/>\n     <use style=\"fill:#1f77b4;stroke:#1f77b4;\" x=\"72.318312\" xlink:href=\"#m577a091954\" y=\"96.672968\"/>\n     <use style=\"fill:#1f77b4;stroke:#1f77b4;\" x=\"65.362136\" xlink:href=\"#m577a091954\" y=\"142.855634\"/>\n     <use style=\"fill:#1f77b4;stroke:#1f77b4;\" x=\"121.164095\" xlink:href=\"#m577a091954\" y=\"111.927396\"/>\n     <use style=\"fill:#1f77b4;stroke:#1f77b4;\" x=\"116.13002\" xlink:href=\"#m577a091954\" y=\"107.631318\"/>\n     <use style=\"fill:#1f77b4;stroke:#1f77b4;\" x=\"369.603326\" xlink:href=\"#m577a091954\" y=\"91.627189\"/>\n     <use style=\"fill:#1f77b4;stroke:#1f77b4;\" x=\"269.715073\" xlink:href=\"#m577a091954\" y=\"115.183122\"/>\n     <use style=\"fill:#1f77b4;stroke:#1f77b4;\" x=\"337.049641\" xlink:href=\"#m577a091954\" y=\"145.438073\"/>\n     <use style=\"fill:#1f77b4;stroke:#1f77b4;\" x=\"149.110839\" xlink:href=\"#m577a091954\" y=\"94.592348\"/>\n     <use style=\"fill:#1f77b4;stroke:#1f77b4;\" x=\"114.08588\" xlink:href=\"#m577a091954\" y=\"143.168478\"/>\n     <use style=\"fill:#1f77b4;stroke:#1f77b4;\" x=\"159.423065\" xlink:href=\"#m577a091954\" y=\"103.308272\"/>\n     <use style=\"fill:#1f77b4;stroke:#1f77b4;\" x=\"354.59263\" xlink:href=\"#m577a091954\" y=\"139.320565\"/>\n     <use style=\"fill:#1f77b4;stroke:#1f77b4;\" x=\"223.401583\" xlink:href=\"#m577a091954\" y=\"123.603448\"/>\n     <use style=\"fill:#1f77b4;stroke:#1f77b4;\" x=\"292.810799\" xlink:href=\"#m577a091954\" y=\"147.431333\"/>\n     <use style=\"fill:#1f77b4;stroke:#1f77b4;\" x=\"256.656988\" xlink:href=\"#m577a091954\" y=\"114.034432\"/>\n     <use style=\"fill:#1f77b4;stroke:#1f77b4;\" x=\"293.726086\" xlink:href=\"#m577a091954\" y=\"145.377466\"/>\n     <use style=\"fill:#1f77b4;stroke:#1f77b4;\" x=\"251.653422\" xlink:href=\"#m577a091954\" y=\"146.353119\"/>\n     <use style=\"fill:#1f77b4;stroke:#1f77b4;\" x=\"69.297867\" xlink:href=\"#m577a091954\" y=\"128.504713\"/>\n     <use style=\"fill:#1f77b4;stroke:#1f77b4;\" x=\"188.742739\" xlink:href=\"#m577a091954\" y=\"91.584566\"/>\n     <use style=\"fill:#1f77b4;stroke:#1f77b4;\" x=\"219.160756\" xlink:href=\"#m577a091954\" y=\"134.270271\"/>\n     <use style=\"fill:#1f77b4;stroke:#1f77b4;\" x=\"204.180569\" xlink:href=\"#m577a091954\" y=\"160.954669\"/>\n     <use style=\"fill:#1f77b4;stroke:#1f77b4;\" x=\"296.349907\" xlink:href=\"#m577a091954\" y=\"107.50605\"/>\n     <use style=\"fill:#1f77b4;stroke:#1f77b4;\" x=\"104.749959\" xlink:href=\"#m577a091954\" y=\"133.08035\"/>\n     <use style=\"fill:#1f77b4;stroke:#1f77b4;\" x=\"228.862791\" xlink:href=\"#m577a091954\" y=\"124.142367\"/>\n     <use style=\"fill:#1f77b4;stroke:#1f77b4;\" x=\"306.112961\" xlink:href=\"#m577a091954\" y=\"153.912722\"/>\n     <use style=\"fill:#1f77b4;stroke:#1f77b4;\" x=\"229.534001\" xlink:href=\"#m577a091954\" y=\"140.118189\"/>\n     <use style=\"fill:#1f77b4;stroke:#1f77b4;\" x=\"228.832282\" xlink:href=\"#m577a091954\" y=\"106.610912\"/>\n     <use style=\"fill:#1f77b4;stroke:#1f77b4;\" x=\"92.515631\" xlink:href=\"#m577a091954\" y=\"88.657499\"/>\n    </g>\n   </g>\n   <g id=\"matplotlib.axis_1\">\n    <g id=\"xtick_1\">\n     <g id=\"line2d_1\">\n      <defs>\n       <path d=\"M 0 0 \nL 0 3.5 \n\" id=\"m1b9e4f2f6a\" style=\"stroke:#000000;stroke-width:0.8;\"/>\n      </defs>\n      <g>\n       <use style=\"stroke:#000000;stroke-width:0.8;\" x=\"64.904492\" xlink:href=\"#m1b9e4f2f6a\" y=\"224.64\"/>\n      </g>\n     </g>\n     <g id=\"text_1\">\n      <!-- 0 -->\n      <defs>\n       <path d=\"M 31.78125 66.40625 \nQ 24.171875 66.40625 20.328125 58.90625 \nQ 16.5 51.421875 16.5 36.375 \nQ 16.5 21.390625 20.328125 13.890625 \nQ 24.171875 6.390625 31.78125 6.390625 \nQ 39.453125 6.390625 43.28125 13.890625 \nQ 47.125 21.390625 47.125 36.375 \nQ 47.125 51.421875 43.28125 58.90625 \nQ 39.453125 66.40625 31.78125 66.40625 \nz\nM 31.78125 74.21875 \nQ 44.046875 74.21875 50.515625 64.515625 \nQ 56.984375 54.828125 56.984375 36.375 \nQ 56.984375 17.96875 50.515625 8.265625 \nQ 44.046875 -1.421875 31.78125 -1.421875 \nQ 19.53125 -1.421875 13.0625 8.265625 \nQ 6.59375 17.96875 6.59375 36.375 \nQ 6.59375 54.828125 13.0625 64.515625 \nQ 19.53125 74.21875 31.78125 74.21875 \nz\n\" id=\"DejaVuSans-48\"/>\n      </defs>\n      <g transform=\"translate(61.723242 239.238438)scale(0.1 -0.1)\">\n       <use xlink:href=\"#DejaVuSans-48\"/>\n      </g>\n     </g>\n    </g>\n    <g id=\"xtick_2\">\n     <g id=\"line2d_2\">\n      <g>\n       <use style=\"stroke:#000000;stroke-width:0.8;\" x=\"125.923584\" xlink:href=\"#m1b9e4f2f6a\" y=\"224.64\"/>\n      </g>\n     </g>\n     <g id=\"text_2\">\n      <!-- 2000 -->\n      <defs>\n       <path d=\"M 19.1875 8.296875 \nL 53.609375 8.296875 \nL 53.609375 0 \nL 7.328125 0 \nL 7.328125 8.296875 \nQ 12.9375 14.109375 22.625 23.890625 \nQ 32.328125 33.6875 34.8125 36.53125 \nQ 39.546875 41.84375 41.421875 45.53125 \nQ 43.3125 49.21875 43.3125 52.78125 \nQ 43.3125 58.59375 39.234375 62.25 \nQ 35.15625 65.921875 28.609375 65.921875 \nQ 23.96875 65.921875 18.8125 64.3125 \nQ 13.671875 62.703125 7.8125 59.421875 \nL 7.8125 69.390625 \nQ 13.765625 71.78125 18.9375 73 \nQ 24.125 74.21875 28.421875 74.21875 \nQ 39.75 74.21875 46.484375 68.546875 \nQ 53.21875 62.890625 53.21875 53.421875 \nQ 53.21875 48.921875 51.53125 44.890625 \nQ 49.859375 40.875 45.40625 35.40625 \nQ 44.1875 33.984375 37.640625 27.21875 \nQ 31.109375 20.453125 19.1875 8.296875 \nz\n\" id=\"DejaVuSans-50\"/>\n      </defs>\n      <g transform=\"translate(113.198584 239.238438)scale(0.1 -0.1)\">\n       <use xlink:href=\"#DejaVuSans-50\"/>\n       <use x=\"63.623047\" xlink:href=\"#DejaVuSans-48\"/>\n       <use x=\"127.246094\" xlink:href=\"#DejaVuSans-48\"/>\n       <use x=\"190.869141\" xlink:href=\"#DejaVuSans-48\"/>\n      </g>\n     </g>\n    </g>\n    <g id=\"xtick_3\">\n     <g id=\"line2d_3\">\n      <g>\n       <use style=\"stroke:#000000;stroke-width:0.8;\" x=\"186.942676\" xlink:href=\"#m1b9e4f2f6a\" y=\"224.64\"/>\n      </g>\n     </g>\n     <g id=\"text_3\">\n      <!-- 4000 -->\n      <defs>\n       <path d=\"M 37.796875 64.3125 \nL 12.890625 25.390625 \nL 37.796875 25.390625 \nz\nM 35.203125 72.90625 \nL 47.609375 72.90625 \nL 47.609375 25.390625 \nL 58.015625 25.390625 \nL 58.015625 17.1875 \nL 47.609375 17.1875 \nL 47.609375 0 \nL 37.796875 0 \nL 37.796875 17.1875 \nL 4.890625 17.1875 \nL 4.890625 26.703125 \nz\n\" id=\"DejaVuSans-52\"/>\n      </defs>\n      <g transform=\"translate(174.217676 239.238438)scale(0.1 -0.1)\">\n       <use xlink:href=\"#DejaVuSans-52\"/>\n       <use x=\"63.623047\" xlink:href=\"#DejaVuSans-48\"/>\n       <use x=\"127.246094\" xlink:href=\"#DejaVuSans-48\"/>\n       <use x=\"190.869141\" xlink:href=\"#DejaVuSans-48\"/>\n      </g>\n     </g>\n    </g>\n    <g id=\"xtick_4\">\n     <g id=\"line2d_4\">\n      <g>\n       <use style=\"stroke:#000000;stroke-width:0.8;\" x=\"247.961767\" xlink:href=\"#m1b9e4f2f6a\" y=\"224.64\"/>\n      </g>\n     </g>\n     <g id=\"text_4\">\n      <!-- 6000 -->\n      <defs>\n       <path d=\"M 33.015625 40.375 \nQ 26.375 40.375 22.484375 35.828125 \nQ 18.609375 31.296875 18.609375 23.390625 \nQ 18.609375 15.53125 22.484375 10.953125 \nQ 26.375 6.390625 33.015625 6.390625 \nQ 39.65625 6.390625 43.53125 10.953125 \nQ 47.40625 15.53125 47.40625 23.390625 \nQ 47.40625 31.296875 43.53125 35.828125 \nQ 39.65625 40.375 33.015625 40.375 \nz\nM 52.59375 71.296875 \nL 52.59375 62.3125 \nQ 48.875 64.0625 45.09375 64.984375 \nQ 41.3125 65.921875 37.59375 65.921875 \nQ 27.828125 65.921875 22.671875 59.328125 \nQ 17.53125 52.734375 16.796875 39.40625 \nQ 19.671875 43.65625 24.015625 45.921875 \nQ 28.375 48.1875 33.59375 48.1875 \nQ 44.578125 48.1875 50.953125 41.515625 \nQ 57.328125 34.859375 57.328125 23.390625 \nQ 57.328125 12.15625 50.6875 5.359375 \nQ 44.046875 -1.421875 33.015625 -1.421875 \nQ 20.359375 -1.421875 13.671875 8.265625 \nQ 6.984375 17.96875 6.984375 36.375 \nQ 6.984375 53.65625 15.1875 63.9375 \nQ 23.390625 74.21875 37.203125 74.21875 \nQ 40.921875 74.21875 44.703125 73.484375 \nQ 48.484375 72.75 52.59375 71.296875 \nz\n\" id=\"DejaVuSans-54\"/>\n      </defs>\n      <g transform=\"translate(235.236767 239.238438)scale(0.1 -0.1)\">\n       <use xlink:href=\"#DejaVuSans-54\"/>\n       <use x=\"63.623047\" xlink:href=\"#DejaVuSans-48\"/>\n       <use x=\"127.246094\" xlink:href=\"#DejaVuSans-48\"/>\n       <use x=\"190.869141\" xlink:href=\"#DejaVuSans-48\"/>\n      </g>\n     </g>\n    </g>\n    <g id=\"xtick_5\">\n     <g id=\"line2d_5\">\n      <g>\n       <use style=\"stroke:#000000;stroke-width:0.8;\" x=\"308.980859\" xlink:href=\"#m1b9e4f2f6a\" y=\"224.64\"/>\n      </g>\n     </g>\n     <g id=\"text_5\">\n      <!-- 8000 -->\n      <defs>\n       <path d=\"M 31.78125 34.625 \nQ 24.75 34.625 20.71875 30.859375 \nQ 16.703125 27.09375 16.703125 20.515625 \nQ 16.703125 13.921875 20.71875 10.15625 \nQ 24.75 6.390625 31.78125 6.390625 \nQ 38.8125 6.390625 42.859375 10.171875 \nQ 46.921875 13.96875 46.921875 20.515625 \nQ 46.921875 27.09375 42.890625 30.859375 \nQ 38.875 34.625 31.78125 34.625 \nz\nM 21.921875 38.8125 \nQ 15.578125 40.375 12.03125 44.71875 \nQ 8.5 49.078125 8.5 55.328125 \nQ 8.5 64.0625 14.71875 69.140625 \nQ 20.953125 74.21875 31.78125 74.21875 \nQ 42.671875 74.21875 48.875 69.140625 \nQ 55.078125 64.0625 55.078125 55.328125 \nQ 55.078125 49.078125 51.53125 44.71875 \nQ 48 40.375 41.703125 38.8125 \nQ 48.828125 37.15625 52.796875 32.3125 \nQ 56.78125 27.484375 56.78125 20.515625 \nQ 56.78125 9.90625 50.3125 4.234375 \nQ 43.84375 -1.421875 31.78125 -1.421875 \nQ 19.734375 -1.421875 13.25 4.234375 \nQ 6.78125 9.90625 6.78125 20.515625 \nQ 6.78125 27.484375 10.78125 32.3125 \nQ 14.796875 37.15625 21.921875 38.8125 \nz\nM 18.3125 54.390625 \nQ 18.3125 48.734375 21.84375 45.5625 \nQ 25.390625 42.390625 31.78125 42.390625 \nQ 38.140625 42.390625 41.71875 45.5625 \nQ 45.3125 48.734375 45.3125 54.390625 \nQ 45.3125 60.0625 41.71875 63.234375 \nQ 38.140625 66.40625 31.78125 66.40625 \nQ 25.390625 66.40625 21.84375 63.234375 \nQ 18.3125 60.0625 18.3125 54.390625 \nz\n\" id=\"DejaVuSans-56\"/>\n      </defs>\n      <g transform=\"translate(296.255859 239.238438)scale(0.1 -0.1)\">\n       <use xlink:href=\"#DejaVuSans-56\"/>\n       <use x=\"63.623047\" xlink:href=\"#DejaVuSans-48\"/>\n       <use x=\"127.246094\" xlink:href=\"#DejaVuSans-48\"/>\n       <use x=\"190.869141\" xlink:href=\"#DejaVuSans-48\"/>\n      </g>\n     </g>\n    </g>\n    <g id=\"xtick_6\">\n     <g id=\"line2d_6\">\n      <g>\n       <use style=\"stroke:#000000;stroke-width:0.8;\" x=\"369.99995\" xlink:href=\"#m1b9e4f2f6a\" y=\"224.64\"/>\n      </g>\n     </g>\n     <g id=\"text_6\">\n      <!-- 10000 -->\n      <defs>\n       <path d=\"M 12.40625 8.296875 \nL 28.515625 8.296875 \nL 28.515625 63.921875 \nL 10.984375 60.40625 \nL 10.984375 69.390625 \nL 28.421875 72.90625 \nL 38.28125 72.90625 \nL 38.28125 8.296875 \nL 54.390625 8.296875 \nL 54.390625 0 \nL 12.40625 0 \nz\n\" id=\"DejaVuSans-49\"/>\n      </defs>\n      <g transform=\"translate(354.0937 239.238438)scale(0.1 -0.1)\">\n       <use xlink:href=\"#DejaVuSans-49\"/>\n       <use x=\"63.623047\" xlink:href=\"#DejaVuSans-48\"/>\n       <use x=\"127.246094\" xlink:href=\"#DejaVuSans-48\"/>\n       <use x=\"190.869141\" xlink:href=\"#DejaVuSans-48\"/>\n       <use x=\"254.492188\" xlink:href=\"#DejaVuSans-48\"/>\n      </g>\n     </g>\n    </g>\n    <g id=\"text_7\">\n     <!-- seed -->\n     <defs>\n      <path d=\"M 44.28125 53.078125 \nL 44.28125 44.578125 \nQ 40.484375 46.53125 36.375 47.5 \nQ 32.28125 48.484375 27.875 48.484375 \nQ 21.1875 48.484375 17.84375 46.4375 \nQ 14.5 44.390625 14.5 40.28125 \nQ 14.5 37.15625 16.890625 35.375 \nQ 19.28125 33.59375 26.515625 31.984375 \nL 29.59375 31.296875 \nQ 39.15625 29.25 43.1875 25.515625 \nQ 47.21875 21.78125 47.21875 15.09375 \nQ 47.21875 7.46875 41.1875 3.015625 \nQ 35.15625 -1.421875 24.609375 -1.421875 \nQ 20.21875 -1.421875 15.453125 -0.5625 \nQ 10.6875 0.296875 5.421875 2 \nL 5.421875 11.28125 \nQ 10.40625 8.6875 15.234375 7.390625 \nQ 20.0625 6.109375 24.8125 6.109375 \nQ 31.15625 6.109375 34.5625 8.28125 \nQ 37.984375 10.453125 37.984375 14.40625 \nQ 37.984375 18.0625 35.515625 20.015625 \nQ 33.0625 21.96875 24.703125 23.78125 \nL 21.578125 24.515625 \nQ 13.234375 26.265625 9.515625 29.90625 \nQ 5.8125 33.546875 5.8125 39.890625 \nQ 5.8125 47.609375 11.28125 51.796875 \nQ 16.75 56 26.8125 56 \nQ 31.78125 56 36.171875 55.265625 \nQ 40.578125 54.546875 44.28125 53.078125 \nz\n\" id=\"DejaVuSans-115\"/>\n      <path d=\"M 56.203125 29.59375 \nL 56.203125 25.203125 \nL 14.890625 25.203125 \nQ 15.484375 15.921875 20.484375 11.0625 \nQ 25.484375 6.203125 34.421875 6.203125 \nQ 39.59375 6.203125 44.453125 7.46875 \nQ 49.3125 8.734375 54.109375 11.28125 \nL 54.109375 2.78125 \nQ 49.265625 0.734375 44.1875 -0.34375 \nQ 39.109375 -1.421875 33.890625 -1.421875 \nQ 20.796875 -1.421875 13.15625 6.1875 \nQ 5.515625 13.8125 5.515625 26.8125 \nQ 5.515625 40.234375 12.765625 48.109375 \nQ 20.015625 56 32.328125 56 \nQ 43.359375 56 49.78125 48.890625 \nQ 56.203125 41.796875 56.203125 29.59375 \nz\nM 47.21875 32.234375 \nQ 47.125 39.59375 43.09375 43.984375 \nQ 39.0625 48.390625 32.421875 48.390625 \nQ 24.90625 48.390625 20.390625 44.140625 \nQ 15.875 39.890625 15.1875 32.171875 \nz\n\" id=\"DejaVuSans-101\"/>\n      <path d=\"M 45.40625 46.390625 \nL 45.40625 75.984375 \nL 54.390625 75.984375 \nL 54.390625 0 \nL 45.40625 0 \nL 45.40625 8.203125 \nQ 42.578125 3.328125 38.25 0.953125 \nQ 33.9375 -1.421875 27.875 -1.421875 \nQ 17.96875 -1.421875 11.734375 6.484375 \nQ 5.515625 14.40625 5.515625 27.296875 \nQ 5.515625 40.1875 11.734375 48.09375 \nQ 17.96875 56 27.875 56 \nQ 33.9375 56 38.25 53.625 \nQ 42.578125 51.265625 45.40625 46.390625 \nz\nM 14.796875 27.296875 \nQ 14.796875 17.390625 18.875 11.75 \nQ 22.953125 6.109375 30.078125 6.109375 \nQ 37.203125 6.109375 41.296875 11.75 \nQ 45.40625 17.390625 45.40625 27.296875 \nQ 45.40625 37.203125 41.296875 42.84375 \nQ 37.203125 48.484375 30.078125 48.484375 \nQ 22.953125 48.484375 18.875 42.84375 \nQ 14.796875 37.203125 14.796875 27.296875 \nz\n\" id=\"DejaVuSans-100\"/>\n     </defs>\n     <g transform=\"translate(205.611719 252.916563)scale(0.1 -0.1)\">\n      <use xlink:href=\"#DejaVuSans-115\"/>\n      <use x=\"52.099609\" xlink:href=\"#DejaVuSans-101\"/>\n      <use x=\"113.623047\" xlink:href=\"#DejaVuSans-101\"/>\n      <use x=\"175.146484\" xlink:href=\"#DejaVuSans-100\"/>\n     </g>\n    </g>\n   </g>\n   <g id=\"matplotlib.axis_2\">\n    <g id=\"ytick_1\">\n     <g id=\"line2d_7\">\n      <defs>\n       <path d=\"M 0 0 \nL -3.5 0 \n\" id=\"m11180b0d80\" style=\"stroke:#000000;stroke-width:0.8;\"/>\n      </defs>\n      <g>\n       <use style=\"stroke:#000000;stroke-width:0.8;\" x=\"50.14375\" xlink:href=\"#m11180b0d80\" y=\"187.379215\"/>\n      </g>\n     </g>\n     <g id=\"text_8\">\n      <!-- 0.84 -->\n      <defs>\n       <path d=\"M 10.6875 12.40625 \nL 21 12.40625 \nL 21 0 \nL 10.6875 0 \nz\n\" id=\"DejaVuSans-46\"/>\n      </defs>\n      <g transform=\"translate(20.878125 191.178434)scale(0.1 -0.1)\">\n       <use xlink:href=\"#DejaVuSans-48\"/>\n       <use x=\"63.623047\" xlink:href=\"#DejaVuSans-46\"/>\n       <use x=\"95.410156\" xlink:href=\"#DejaVuSans-56\"/>\n       <use x=\"159.033203\" xlink:href=\"#DejaVuSans-52\"/>\n      </g>\n     </g>\n    </g>\n    <g id=\"ytick_2\">\n     <g id=\"line2d_8\">\n      <g>\n       <use style=\"stroke:#000000;stroke-width:0.8;\" x=\"50.14375\" xlink:href=\"#m11180b0d80\" y=\"140.104551\"/>\n      </g>\n     </g>\n     <g id=\"text_9\">\n      <!-- 0.85 -->\n      <defs>\n       <path d=\"M 10.796875 72.90625 \nL 49.515625 72.90625 \nL 49.515625 64.59375 \nL 19.828125 64.59375 \nL 19.828125 46.734375 \nQ 21.96875 47.46875 24.109375 47.828125 \nQ 26.265625 48.1875 28.421875 48.1875 \nQ 40.625 48.1875 47.75 41.5 \nQ 54.890625 34.8125 54.890625 23.390625 \nQ 54.890625 11.625 47.5625 5.09375 \nQ 40.234375 -1.421875 26.90625 -1.421875 \nQ 22.3125 -1.421875 17.546875 -0.640625 \nQ 12.796875 0.140625 7.71875 1.703125 \nL 7.71875 11.625 \nQ 12.109375 9.234375 16.796875 8.0625 \nQ 21.484375 6.890625 26.703125 6.890625 \nQ 35.15625 6.890625 40.078125 11.328125 \nQ 45.015625 15.765625 45.015625 23.390625 \nQ 45.015625 31 40.078125 35.4375 \nQ 35.15625 39.890625 26.703125 39.890625 \nQ 22.75 39.890625 18.8125 39.015625 \nQ 14.890625 38.140625 10.796875 36.28125 \nz\n\" id=\"DejaVuSans-53\"/>\n      </defs>\n      <g transform=\"translate(20.878125 143.903769)scale(0.1 -0.1)\">\n       <use xlink:href=\"#DejaVuSans-48\"/>\n       <use x=\"63.623047\" xlink:href=\"#DejaVuSans-46\"/>\n       <use x=\"95.410156\" xlink:href=\"#DejaVuSans-56\"/>\n       <use x=\"159.033203\" xlink:href=\"#DejaVuSans-53\"/>\n      </g>\n     </g>\n    </g>\n    <g id=\"ytick_3\">\n     <g id=\"line2d_9\">\n      <g>\n       <use style=\"stroke:#000000;stroke-width:0.8;\" x=\"50.14375\" xlink:href=\"#m11180b0d80\" y=\"92.829886\"/>\n      </g>\n     </g>\n     <g id=\"text_10\">\n      <!-- 0.86 -->\n      <g transform=\"translate(20.878125 96.629105)scale(0.1 -0.1)\">\n       <use xlink:href=\"#DejaVuSans-48\"/>\n       <use x=\"63.623047\" xlink:href=\"#DejaVuSans-46\"/>\n       <use x=\"95.410156\" xlink:href=\"#DejaVuSans-56\"/>\n       <use x=\"159.033203\" xlink:href=\"#DejaVuSans-54\"/>\n      </g>\n     </g>\n    </g>\n    <g id=\"ytick_4\">\n     <g id=\"line2d_10\">\n      <g>\n       <use style=\"stroke:#000000;stroke-width:0.8;\" x=\"50.14375\" xlink:href=\"#m11180b0d80\" y=\"45.555222\"/>\n      </g>\n     </g>\n     <g id=\"text_11\">\n      <!-- 0.87 -->\n      <defs>\n       <path d=\"M 8.203125 72.90625 \nL 55.078125 72.90625 \nL 55.078125 68.703125 \nL 28.609375 0 \nL 18.3125 0 \nL 43.21875 64.59375 \nL 8.203125 64.59375 \nz\n\" id=\"DejaVuSans-55\"/>\n      </defs>\n      <g transform=\"translate(20.878125 49.35444)scale(0.1 -0.1)\">\n       <use xlink:href=\"#DejaVuSans-48\"/>\n       <use x=\"63.623047\" xlink:href=\"#DejaVuSans-46\"/>\n       <use x=\"95.410156\" xlink:href=\"#DejaVuSans-56\"/>\n       <use x=\"159.033203\" xlink:href=\"#DejaVuSans-55\"/>\n      </g>\n     </g>\n    </g>\n    <g id=\"text_12\">\n     <!-- auroc -->\n     <defs>\n      <path d=\"M 34.28125 27.484375 \nQ 23.390625 27.484375 19.1875 25 \nQ 14.984375 22.515625 14.984375 16.5 \nQ 14.984375 11.71875 18.140625 8.90625 \nQ 21.296875 6.109375 26.703125 6.109375 \nQ 34.1875 6.109375 38.703125 11.40625 \nQ 43.21875 16.703125 43.21875 25.484375 \nL 43.21875 27.484375 \nz\nM 52.203125 31.203125 \nL 52.203125 0 \nL 43.21875 0 \nL 43.21875 8.296875 \nQ 40.140625 3.328125 35.546875 0.953125 \nQ 30.953125 -1.421875 24.3125 -1.421875 \nQ 15.921875 -1.421875 10.953125 3.296875 \nQ 6 8.015625 6 15.921875 \nQ 6 25.140625 12.171875 29.828125 \nQ 18.359375 34.515625 30.609375 34.515625 \nL 43.21875 34.515625 \nL 43.21875 35.40625 \nQ 43.21875 41.609375 39.140625 45 \nQ 35.0625 48.390625 27.6875 48.390625 \nQ 23 48.390625 18.546875 47.265625 \nQ 14.109375 46.140625 10.015625 43.890625 \nL 10.015625 52.203125 \nQ 14.9375 54.109375 19.578125 55.046875 \nQ 24.21875 56 28.609375 56 \nQ 40.484375 56 46.34375 49.84375 \nQ 52.203125 43.703125 52.203125 31.203125 \nz\n\" id=\"DejaVuSans-97\"/>\n      <path d=\"M 8.5 21.578125 \nL 8.5 54.6875 \nL 17.484375 54.6875 \nL 17.484375 21.921875 \nQ 17.484375 14.15625 20.5 10.265625 \nQ 23.53125 6.390625 29.59375 6.390625 \nQ 36.859375 6.390625 41.078125 11.03125 \nQ 45.3125 15.671875 45.3125 23.6875 \nL 45.3125 54.6875 \nL 54.296875 54.6875 \nL 54.296875 0 \nL 45.3125 0 \nL 45.3125 8.40625 \nQ 42.046875 3.421875 37.71875 1 \nQ 33.40625 -1.421875 27.6875 -1.421875 \nQ 18.265625 -1.421875 13.375 4.4375 \nQ 8.5 10.296875 8.5 21.578125 \nz\nM 31.109375 56 \nz\n\" id=\"DejaVuSans-117\"/>\n      <path d=\"M 41.109375 46.296875 \nQ 39.59375 47.171875 37.8125 47.578125 \nQ 36.03125 48 33.890625 48 \nQ 26.265625 48 22.1875 43.046875 \nQ 18.109375 38.09375 18.109375 28.8125 \nL 18.109375 0 \nL 9.078125 0 \nL 9.078125 54.6875 \nL 18.109375 54.6875 \nL 18.109375 46.1875 \nQ 20.953125 51.171875 25.484375 53.578125 \nQ 30.03125 56 36.53125 56 \nQ 37.453125 56 38.578125 55.875 \nQ 39.703125 55.765625 41.0625 55.515625 \nz\n\" id=\"DejaVuSans-114\"/>\n      <path d=\"M 30.609375 48.390625 \nQ 23.390625 48.390625 19.1875 42.75 \nQ 14.984375 37.109375 14.984375 27.296875 \nQ 14.984375 17.484375 19.15625 11.84375 \nQ 23.34375 6.203125 30.609375 6.203125 \nQ 37.796875 6.203125 41.984375 11.859375 \nQ 46.1875 17.53125 46.1875 27.296875 \nQ 46.1875 37.015625 41.984375 42.703125 \nQ 37.796875 48.390625 30.609375 48.390625 \nz\nM 30.609375 56 \nQ 42.328125 56 49.015625 48.375 \nQ 55.71875 40.765625 55.71875 27.296875 \nQ 55.71875 13.875 49.015625 6.21875 \nQ 42.328125 -1.421875 30.609375 -1.421875 \nQ 18.84375 -1.421875 12.171875 6.21875 \nQ 5.515625 13.875 5.515625 27.296875 \nQ 5.515625 40.765625 12.171875 48.375 \nQ 18.84375 56 30.609375 56 \nz\n\" id=\"DejaVuSans-111\"/>\n      <path d=\"M 48.78125 52.59375 \nL 48.78125 44.1875 \nQ 44.96875 46.296875 41.140625 47.34375 \nQ 37.3125 48.390625 33.40625 48.390625 \nQ 24.65625 48.390625 19.8125 42.84375 \nQ 14.984375 37.3125 14.984375 27.296875 \nQ 14.984375 17.28125 19.8125 11.734375 \nQ 24.65625 6.203125 33.40625 6.203125 \nQ 37.3125 6.203125 41.140625 7.25 \nQ 44.96875 8.296875 48.78125 10.40625 \nL 48.78125 2.09375 \nQ 45.015625 0.34375 40.984375 -0.53125 \nQ 36.96875 -1.421875 32.421875 -1.421875 \nQ 20.0625 -1.421875 12.78125 6.34375 \nQ 5.515625 14.109375 5.515625 27.296875 \nQ 5.515625 40.671875 12.859375 48.328125 \nQ 20.21875 56 33.015625 56 \nQ 37.15625 56 41.109375 55.140625 \nQ 45.0625 54.296875 48.78125 52.59375 \nz\n\" id=\"DejaVuSans-99\"/>\n     </defs>\n     <g transform=\"translate(14.798438 130.015313)rotate(-90)scale(0.1 -0.1)\">\n      <use xlink:href=\"#DejaVuSans-97\"/>\n      <use x=\"61.279297\" xlink:href=\"#DejaVuSans-117\"/>\n      <use x=\"124.658203\" xlink:href=\"#DejaVuSans-114\"/>\n      <use x=\"165.740234\" xlink:href=\"#DejaVuSans-111\"/>\n      <use x=\"226.921875\" xlink:href=\"#DejaVuSans-99\"/>\n     </g>\n    </g>\n   </g>\n   <g id=\"patch_3\">\n    <path d=\"M 50.14375 224.64 \nL 50.14375 7.2 \n\" style=\"fill:none;stroke:#000000;stroke-linecap:square;stroke-linejoin:miter;stroke-width:0.8;\"/>\n   </g>\n   <g id=\"patch_4\">\n    <path d=\"M 384.94375 224.64 \nL 384.94375 7.2 \n\" style=\"fill:none;stroke:#000000;stroke-linecap:square;stroke-linejoin:miter;stroke-width:0.8;\"/>\n   </g>\n   <g id=\"patch_5\">\n    <path d=\"M 50.14375 224.64 \nL 384.94375 224.64 \n\" style=\"fill:none;stroke:#000000;stroke-linecap:square;stroke-linejoin:miter;stroke-width:0.8;\"/>\n   </g>\n   <g id=\"patch_6\">\n    <path d=\"M 50.14375 7.2 \nL 384.94375 7.2 \n\" style=\"fill:none;stroke:#000000;stroke-linecap:square;stroke-linejoin:miter;stroke-width:0.8;\"/>\n   </g>\n  </g>\n </g>\n <defs>\n  <clipPath id=\"pcd7459c893\">\n   <rect height=\"217.44\" width=\"334.8\" x=\"50.14375\" y=\"7.2\"/>\n  </clipPath>\n </defs>\n</svg>\n",
      "image/png": "[encoded data removed]"
     },
     "metadata": {
      "needs_background": "light"
     }
    }
   ],
   "source": [
    "temp = defaultdict(dict)\n",
    "items = [(int(k.split('_')[0]), k.split('_')[-1], v.item()) for k, v in dfs['overall'].items()]\n",
    "\n",
    "for item in items:\n",
    "    temp[item[0]][item[1]] = item[2]\n",
    "\n",
    "rowlist = []\n",
    "for k, v in temp.items():\n",
    "    row = {}\n",
    "    row['seed'] = k\n",
    "    row['auroc'] = v['auroc']\n",
    "    row['lower'] = v['auroclowerCI']\n",
    "    row['upper'] = v['aurocupperCI']\n",
    "    rowlist.append(row)\n",
    "\n",
    "df = pd.DataFrame(rowlist)\n",
    "\n",
    "\n",
    "df.plot.scatter(x=\"seed\", y=\"auroc\")"
   ]
  },
  {
   "cell_type": "code",
   "execution_count": 47,
   "metadata": {},
   "outputs": [],
   "source": [
    "df = pd.concat([process_sheet(dfs[target]) for target in sheets if target != 'overall'])\n",
    "df.to_csv('/home/darius/subgroup_auroc.csv', index=False)"
   ]
  },
  {
   "cell_type": "code",
   "execution_count": 43,
   "metadata": {},
   "outputs": [
    {
     "output_type": "execute_result",
     "data": {
      "text/plain": [
       "     seed           target     auroc     lower     upper\n",
       "147    15                F  0.824922  0.789673  0.858033\n",
       "146    15                M  0.869564  0.839669  0.896942\n",
       "69     96                F  0.830783  0.793480  0.862455\n",
       "68     96                M  0.869892  0.843427  0.896161\n",
       "177   144                F  0.825878  0.787503  0.861602\n",
       "..    ...              ...       ...       ...       ...\n",
       "352  9991            ASIAN  0.694308  0.361607  0.966927\n",
       "351  9991            BLACK  0.833736  0.720777  0.932120\n",
       "353  9991  HISPANIC/LATINO  0.843584  0.727555  0.937201\n",
       "354  9991            OTHER  0.833610  0.585392  1.000000\n",
       "350  9991            WHITE  0.866996  0.843255  0.890971\n",
       "\n",
       "[1188 rows x 5 columns]"
      ],
      "text/html": "<div>\n<style scoped>\n    .dataframe tbody tr th:only-of-type {\n        vertical-align: middle;\n    }\n\n    .dataframe tbody tr th {\n        vertical-align: top;\n    }\n\n    .dataframe thead th {\n        text-align: right;\n    }\n</style>\n<table border=\"1\" class=\"dataframe\">\n  <thead>\n    <tr style=\"text-align: right;\">\n      <th></th>\n      <th>seed</th>\n      <th>target</th>\n      <th>auroc</th>\n      <th>lower</th>\n      <th>upper</th>\n    </tr>\n  </thead>\n  <tbody>\n    <tr>\n      <th>147</th>\n      <td>15</td>\n      <td>F</td>\n      <td>0.824922</td>\n      <td>0.789673</td>\n      <td>0.858033</td>\n    </tr>\n    <tr>\n      <th>146</th>\n      <td>15</td>\n      <td>M</td>\n      <td>0.869564</td>\n      <td>0.839669</td>\n      <td>0.896942</td>\n    </tr>\n    <tr>\n      <th>69</th>\n      <td>96</td>\n      <td>F</td>\n      <td>0.830783</td>\n      <td>0.793480</td>\n      <td>0.862455</td>\n    </tr>\n    <tr>\n      <th>68</th>\n      <td>96</td>\n      <td>M</td>\n      <td>0.869892</td>\n      <td>0.843427</td>\n      <td>0.896161</td>\n    </tr>\n    <tr>\n      <th>177</th>\n      <td>144</td>\n      <td>F</td>\n      <td>0.825878</td>\n      <td>0.787503</td>\n      <td>0.861602</td>\n    </tr>\n    <tr>\n      <th>...</th>\n      <td>...</td>\n      <td>...</td>\n      <td>...</td>\n      <td>...</td>\n      <td>...</td>\n    </tr>\n    <tr>\n      <th>352</th>\n      <td>9991</td>\n      <td>ASIAN</td>\n      <td>0.694308</td>\n      <td>0.361607</td>\n      <td>0.966927</td>\n    </tr>\n    <tr>\n      <th>351</th>\n      <td>9991</td>\n      <td>BLACK</td>\n      <td>0.833736</td>\n      <td>0.720777</td>\n      <td>0.932120</td>\n    </tr>\n    <tr>\n      <th>353</th>\n      <td>9991</td>\n      <td>HISPANIC/LATINO</td>\n      <td>0.843584</td>\n      <td>0.727555</td>\n      <td>0.937201</td>\n    </tr>\n    <tr>\n      <th>354</th>\n      <td>9991</td>\n      <td>OTHER</td>\n      <td>0.833610</td>\n      <td>0.585392</td>\n      <td>1.000000</td>\n    </tr>\n    <tr>\n      <th>350</th>\n      <td>9991</td>\n      <td>WHITE</td>\n      <td>0.866996</td>\n      <td>0.843255</td>\n      <td>0.890971</td>\n    </tr>\n  </tbody>\n</table>\n<p>1188 rows × 5 columns</p>\n</div>"
     },
     "metadata": {},
     "execution_count": 43
    }
   ],
   "source": [
    "df"
   ]
  },
  {
   "cell_type": "code",
   "execution_count": null,
   "metadata": {},
   "outputs": [],
   "source": []
  }
 ],
 "metadata": {
  "kernelspec": {
   "name": "python3",
   "display_name": "Python 3.7.9 64-bit ('hurtfulwords': conda)",
   "metadata": {
    "interpreter": {
     "hash": "5e3a5529e051cdb568e4a62199e8a47588a2b04fb732f167c994aa20891e93ce"
    }
   }
  },
  "language_info": {
   "codemirror_mode": {
    "name": "ipython",
    "version": 3
   },
   "file_extension": ".py",
   "mimetype": "text/x-python",
   "name": "python",
   "nbconvert_exporter": "python",
   "pygments_lexer": "ipython3",
   "version": "3.7.9"
  }
 },
 "nbformat": 4,
 "nbformat_minor": 2
}