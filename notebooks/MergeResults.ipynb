{
 "cells": [
  {
   "cell_type": "code",
   "execution_count": 2,
   "metadata": {},
   "outputs": [],
   "source": [
    "import pandas as pd\n",
    "import os\n",
    "import re\n",
    "from tqdm.auto import tqdm\n",
    "import numpy as np\n",
    "from scipy.stats import ttest_ind\n",
    "from statsmodels.stats.multitest import multipletests\n",
    "import re\n",
    "\n",
    "pd.set_option('display.max_columns', None)"
   ]
  },
  {
   "cell_type": "code",
   "execution_count": 1,
   "metadata": {},
   "outputs": [],
   "source": [
    "folder = '/media/data_1/darius/models/finetuned'\n",
    "numFolds= 1000"
   ]
  },
  {
   "cell_type": "code",
   "execution_count": 18,
   "metadata": {},
   "outputs": [],
   "source": [
    "sheets = ['overall', 'gender' ,'language', 'insurance', 'ethnicity'] \n",
    "allowed_models = {'overall': ['baseline', 'debiased_gender', 'debiased_insurance', 'debiased_ethnicity', 'debiased_language'],\n",
    "                 'gender': ['baseline', 'debiased_gender'],\n",
    "                 'language': ['baseline', 'debiased_language'],\n",
    "                 'insurance': ['baseline', 'debiased_insurance'],\n",
    "                 'ethnicity': ['baseline', 'debiased_ethnicity']}\n",
    "\n",
    "allowed_models = {'overall': ['baseline'],\n",
    "                 'gender': ['baseline'],\n",
    "                 'language': ['baseline'],\n",
    "                 'insurance': ['baseline'],\n",
    "                 'ethnicity': ['baseline']}"
   ]
  },
  {
   "cell_type": "code",
   "execution_count": 19,
   "metadata": {},
   "outputs": [],
   "source": [
    "def gap_significant(lower, upper):\n",
    "    return (((lower <0) & (upper < 0)) | ((lower >0) & (upper > 0)))"
   ]
  },
  {
   "cell_type": "code",
   "execution_count": 20,
   "metadata": {},
   "outputs": [],
   "source": [
    "def add_to_dict(gap_dict, model, sheet, name, num_sig, num_favor):\n",
    "    if model not in gap_dict:\n",
    "        gap_dict[model] = {}\n",
    "    if sheet not in gap_dict[model]:\n",
    "        gap_dict[model][sheet] = {}\n",
    "    gap_dict[model][sheet][name] = [num_sig, num_favor]\n",
    "\n",
    "def add_gap(model, gap, sheet, res):\n",
    "    res[model+'_' + gap+'_sig'] = multipletests(res[model+'_'+gap + '_p'], alpha = 0.05, method = \"fdr_bh\")[0]  \n",
    "    add_to_dict(gap_infos_hyp, model, sheet, gap, res[model+'_' + gap+'_sig'].sum(), \n",
    "                       np.isclose(res.loc[res[model+'_' + gap+'_sig'], model+'_'+gap+'_favor'],  1).sum())\n",
    "    add_to_dict(gap_infos_naive, model, sheet, gap, res[model+'_' + gap + 'naive_sig'].astype(int).sum(),\n",
    "                       (res.loc[res[model+'_' + gap + 'naive_sig'], model+'_'+gap] > 0).astype(int).sum() )"
   ]
  },
  {
   "cell_type": "code",
   "execution_count": 21,
   "metadata": {
    "scrolled": false,
    "tags": []
   },
   "outputs": [
    {
     "output_type": "display_data",
     "data": {
      "text/plain": "|          | 0/? [00:00<?, ?it/s]",
      "application/vnd.jupyter.widget-view+json": {
       "version_major": 2,
       "version_minor": 0,
       "model_id": "eba1db96f5a744aba4994176b0cdf8a1"
      }
     },
     "metadata": {}
    },
    {
     "output_type": "stream",
     "name": "stdout",
     "text": [
      "/media/data_1/darius/models/finetuned/phenotype_first_baseline_clinical_BERT_1_epoch_512_Diabetes mellitus with complications/results.xlsx\n",
      "/media/data_1/darius/models/finetuned/phenotype_first_baseline_clinical_BERT_1_epoch_512_Respiratory failure; insufficiency; arrest (adult)/results.xlsx\n",
      "/media/data_1/darius/models/finetuned/phenotype_all_baseline_clinical_BERT_1_epoch_512_Fluid and electrolyte disorders/results.xlsx\n",
      "/media/data_1/darius/models/finetuned/phenotype_all_baseline_clinical_BERT_1_epoch_512_Respiratory failure; insufficiency; arrest (adult)/results.xlsx\n",
      "/media/data_1/darius/models/finetuned/phenotype_all_baseline_clinical_BERT_1_epoch_512_Chronic kidney disease/results.xlsx\n",
      "/media/data_1/darius/models/finetuned/phenotype_first_baseline_clinical_BERT_1_epoch_512_Acute myocardial infarction/results.xlsx\n",
      "/media/data_1/darius/models/finetuned/phenotype_first_baseline_clinical_BERT_1_epoch_512_Diabetes mellitus without complication/results.xlsx\n",
      "/media/data_1/darius/models/finetuned/phenotype_first_baseline_clinical_BERT_1_epoch_512_any_acute/results.xlsx\n",
      "/media/data_1/darius/models/finetuned/phenotype_all_baseline_clinical_BERT_1_epoch_512_Disorders of lipid metabolism/results.xlsx\n",
      "/media/data_1/darius/models/finetuned/phenotype_all_baseline_clinical_BERT_1_epoch_512_Conduction disorders/results.xlsx\n",
      "/media/data_1/darius/models/finetuned/phenotype_all_baseline_clinical_BERT_1_epoch_512_any_chronic/results.xlsx\n",
      "/media/data_1/darius/models/finetuned/phenotype_first_baseline_clinical_BERT_1_epoch_512_Hypertension with complications and secondary hypertension/results.xlsx\n",
      "/media/data_1/darius/models/finetuned/phenotype_first_baseline_clinical_BERT_1_epoch_512_Other upper respiratory disease/results.xlsx\n",
      "/media/data_1/darius/models/finetuned/phenotype_first_baseline_clinical_BERT_1_epoch_512_Other lower respiratory disease/results.xlsx\n",
      "/media/data_1/darius/models/finetuned/phenotype_first_baseline_clinical_BERT_1_epoch_512_Acute cerebrovascular disease/results.xlsx\n",
      "/media/data_1/darius/models/finetuned/phenotype_all_baseline_clinical_BERT_1_epoch_512_Essential hypertension/results.xlsx\n",
      "/media/data_1/darius/models/finetuned/phenotype_first_baseline_clinical_BERT_1_epoch_512_Congestive heart failure; nonhypertensive/results.xlsx\n",
      "/media/data_1/darius/models/finetuned/phenotype_all_baseline_clinical_BERT_1_epoch_512_Complications of surgical procedures or medical care/results.xlsx\n",
      "/media/data_1/darius/models/finetuned/phenotype_first_baseline_clinical_BERT_1_epoch_512_Complications of surgical procedures or medical care/results.xlsx\n",
      "/media/data_1/darius/models/finetuned/phenotype_first_baseline_clinical_BERT_1_epoch_512_any_chronic/results.xlsx\n",
      "/media/data_1/darius/models/finetuned/phenotype_first_baseline_clinical_BERT_1_epoch_512_Chronic obstructive pulmonary disease and bronchiectasis/results.xlsx\n",
      "/media/data_1/darius/models/finetuned/phenotype_all_baseline_clinical_BERT_1_epoch_512_any_acute/results.xlsx\n",
      "/media/data_1/darius/models/finetuned/phenotype_first_baseline_clinical_BERT_1_epoch_512_Other liver diseases/results.xlsx\n",
      "/media/data_1/darius/models/finetuned/phenotype_first_baseline_clinical_BERT_1_epoch_512_Cardiac dysrhythmias/results.xlsx\n",
      "/media/data_1/darius/models/finetuned/phenotype_all_baseline_clinical_BERT_1_epoch_512_Hypertension with complications and secondary hypertension/results.xlsx\n",
      "/media/data_1/darius/models/finetuned/phenotype_all_baseline_clinical_BERT_1_epoch_512_Acute myocardial infarction/results.xlsx\n",
      "/media/data_1/darius/models/finetuned/phenotype_all_baseline_clinical_BERT_1_epoch_512_Pleurisy; pneumothorax; pulmonary collapse/results.xlsx\n",
      "/media/data_1/darius/models/finetuned/phenotype_all_baseline_clinical_BERT_1_epoch_512_Acute and unspecified renal failure/results.xlsx\n",
      "/media/data_1/darius/models/finetuned/phenotype_first_baseline_clinical_BERT_1_epoch_512_any_disease/results.xlsx\n",
      "/media/data_1/darius/models/finetuned/phenotype_all_baseline_clinical_BERT_1_epoch_512_Other lower respiratory disease/results.xlsx\n",
      "/media/data_1/darius/models/finetuned/phenotype_first_baseline_clinical_BERT_1_epoch_512_Acute and unspecified renal failure/results.xlsx\n",
      "/media/data_1/darius/models/finetuned/phenotype_all_baseline_clinical_BERT_1_epoch_512_Chronic obstructive pulmonary disease and bronchiectasis/results.xlsx\n",
      "/media/data_1/darius/models/finetuned/phenotype_first_baseline_clinical_BERT_1_epoch_512_Conduction disorders/results.xlsx\n",
      "/media/data_1/darius/models/finetuned/phenotype_all_baseline_clinical_BERT_1_epoch_512_Gastrointestinal hemorrhage/results.xlsx\n",
      "/media/data_1/darius/models/finetuned/phenotype_all_baseline_clinical_BERT_1_epoch_512_Septicemia (except in labor)/results.xlsx\n",
      "/media/data_1/darius/models/finetuned/phenotype_all_baseline_clinical_BERT_1_epoch_512_any_disease/results.xlsx\n",
      "/media/data_1/darius/models/finetuned/phenotype_all_baseline_clinical_BERT_1_epoch_512_Cardiac dysrhythmias/results.xlsx\n",
      "/media/data_1/darius/models/finetuned/phenotype_all_baseline_clinical_BERT_1_epoch_512_Other upper respiratory disease/results.xlsx\n",
      "/media/data_1/darius/models/finetuned/phenotype_first_baseline_clinical_BERT_1_epoch_512_Pneumonia (except that caused by tuberculosis or sexually transmitted disease)/results.xlsx\n",
      "/media/data_1/darius/models/finetuned/inhosp_mort_baseline_clinical_BERT_1_epoch_512_inhosp_mort/results.xlsx\n",
      "/media/data_1/darius/models/finetuned/phenotype_first_baseline_clinical_BERT_1_epoch_512_Coronary atherosclerosis and other heart disease/results.xlsx\n",
      "/media/data_1/darius/models/finetuned/phenotype_first_baseline_clinical_BERT_1_epoch_512_Disorders of lipid metabolism/results.xlsx\n",
      "/media/data_1/darius/models/finetuned/phenotype_all_baseline_clinical_BERT_1_epoch_512_Diabetes mellitus with complications/results.xlsx\n",
      "/media/data_1/darius/models/finetuned/phenotype_first_baseline_clinical_BERT_1_epoch_512_Fluid and electrolyte disorders/results.xlsx\n",
      "/media/data_1/darius/models/finetuned/phenotype_all_baseline_clinical_BERT_1_epoch_512_Acute cerebrovascular disease/results.xlsx\n",
      "/media/data_1/darius/models/finetuned/phenotype_first_baseline_clinical_BERT_1_epoch_512_Chronic kidney disease/results.xlsx\n",
      "/media/data_1/darius/models/finetuned/phenotype_all_baseline_clinical_BERT_1_epoch_512_Diabetes mellitus without complication/results.xlsx\n",
      "/media/data_1/darius/models/finetuned/phenotype_all_baseline_clinical_BERT_1_epoch_512_Coronary atherosclerosis and other heart disease/results.xlsx\n",
      "/media/data_1/darius/models/finetuned/phenotype_first_baseline_clinical_BERT_1_epoch_512_Septicemia (except in labor)/results.xlsx\n",
      "/media/data_1/darius/models/finetuned/phenotype_first_baseline_clinical_BERT_1_epoch_512_Shock/results.xlsx\n",
      "/media/data_1/darius/models/finetuned/phenotype_first_baseline_clinical_BERT_1_epoch_512_Pleurisy; pneumothorax; pulmonary collapse/results.xlsx\n",
      "/media/data_1/darius/models/finetuned/phenotype_all_baseline_clinical_BERT_1_epoch_512_Other liver diseases/results.xlsx\n",
      "/media/data_1/darius/models/finetuned/phenotype_all_baseline_clinical_BERT_1_epoch_512_Pneumonia (except that caused by tuberculosis or sexually transmitted disease)/results.xlsx\n",
      "/media/data_1/darius/models/finetuned/phenotype_all_baseline_clinical_BERT_1_epoch_512_Congestive heart failure; nonhypertensive/results.xlsx\n",
      "/media/data_1/darius/models/finetuned/phenotype_first_baseline_clinical_BERT_1_epoch_512_Essential hypertension/results.xlsx\n",
      "/media/data_1/darius/models/finetuned/phenotype_all_baseline_clinical_BERT_1_epoch_512_Shock/results.xlsx\n",
      "/media/data_1/darius/models/finetuned/phenotype_first_baseline_clinical_BERT_1_epoch_512_Gastrointestinal hemorrhage/results.xlsx\n"
     ]
    },
    {
     "output_type": "display_data",
     "data": {
      "text/plain": "|          | 0/? [00:00<?, ?it/s]",
      "application/vnd.jupyter.widget-view+json": {
       "version_major": 2,
       "version_minor": 0,
       "model_id": "7048e45779504c66a43bedd2fbc86a6b"
      }
     },
     "metadata": {}
    },
    {
     "output_type": "stream",
     "name": "stdout",
     "text": [
      "Current task is baseline\nCurrent task is baseline\nCurrent task is baseline\n"
     ]
    },
    {
     "output_type": "display_data",
     "data": {
      "text/plain": "|          | 0/? [00:00<?, ?it/s]",
      "application/vnd.jupyter.widget-view+json": {
       "version_major": 2,
       "version_minor": 0,
       "model_id": "f3d14929e134466aaea712c3f5189e3b"
      }
     },
     "metadata": {}
    },
    {
     "output_type": "stream",
     "name": "stdout",
     "text": [
      "Current task is baseline\nCurrent task is baseline\nCurrent task is baseline\n"
     ]
    },
    {
     "output_type": "display_data",
     "data": {
      "text/plain": "|          | 0/? [00:00<?, ?it/s]",
      "application/vnd.jupyter.widget-view+json": {
       "version_major": 2,
       "version_minor": 0,
       "model_id": "39d87580427b4e3e870d53e0261e2a0e"
      }
     },
     "metadata": {}
    },
    {
     "output_type": "stream",
     "name": "stdout",
     "text": [
      "Current task is baseline\nCurrent task is baseline\nCurrent task is baseline\nCurrent task is baseline\nCurrent task is baseline\nCurrent task is baseline\nCurrent task is baseline\nCurrent task is baseline\nCurrent task is baseline\n"
     ]
    },
    {
     "output_type": "display_data",
     "data": {
      "text/plain": "|          | 0/? [00:00<?, ?it/s]",
      "application/vnd.jupyter.widget-view+json": {
       "version_major": 2,
       "version_minor": 0,
       "model_id": "8bbac62bf73d48f99a8d64738d72f148"
      }
     },
     "metadata": {}
    },
    {
     "output_type": "stream",
     "name": "stdout",
     "text": [
      "Current task is baseline\nCurrent task is baseline\nCurrent task is baseline\nCurrent task is baseline\nCurrent task is baseline\nCurrent task is baseline\nCurrent task is baseline\nCurrent task is baseline\nCurrent task is baseline\nCurrent task is baseline\nCurrent task is baseline\nCurrent task is baseline\nCurrent task is baseline\nCurrent task is baseline\nCurrent task is baseline\n"
     ]
    }
   ],
   "source": [
    "dfs = {}\n",
    "gap_infos_hyp = {}\n",
    "gap_infos_naive = {}\n",
    "for sheet in sheets:\n",
    "    res = pd.DataFrame()\n",
    "    for root, dirs, files in tqdm(os.walk(folder)):\n",
    "        for d in dirs:\n",
    "            mname = d\n",
    "            for file in os.scandir(os.path.join(root, d)):\n",
    "                if not(file.name.endswith('results.xlsx')) or (file.name.startswith('~')):\n",
    "                    continue\n",
    "\n",
    "                # print(f'Current task is {mname}')\n",
    "                    \n",
    "                if 'ADV_PT' in mname or '_adv_' in mname:\n",
    "                    if 'gender' in mname:\n",
    "                        model = 'debiased_gender'\n",
    "                    elif 'insurance' in mname:\n",
    "                        model = 'debiased_insurance'\n",
    "                    elif 'language' in mname:\n",
    "                        model = 'debiased_language'\n",
    "                    elif 'ethnicity' in mname:\n",
    "                        model = 'debiased_ethnicity'\n",
    "                else:\n",
    "                    model = 'baseline'\n",
    "                if model not in allowed_models[sheet]:\n",
    "                    break\n",
    "\n",
    "                if '312mortality' in mname:\n",
    "                    target = '312mortality'\n",
    "                    continue\n",
    "                elif 'inhosp_mort' in mname:\n",
    "                    target = 'inhosp_mort'\n",
    "                elif 'phenotype' in mname:\n",
    "                    name = re.findall(r'.*512_(?:lambda1_)*(.*)', mname)[0]\n",
    "                    if name.endswith('_gs'):\n",
    "                        name = name[:-3]\n",
    "                    name = name.replace('_', ' ')\n",
    "                    if 'phenotype_all' in mname:\n",
    "                        target = 'phenotype_all_%s' % name\n",
    "                    else:\n",
    "                        target = 'phenotype_first_%s' % name\n",
    "                else:\n",
    "                    continue\n",
    "\n",
    "                if sheet == 'overall':\n",
    "                    print(os.path.join(root, file))\n",
    "                    df = pd.read_excel(os.path.join(root, file), index_col=0, sheet_name = 'all')\n",
    "                    columns = ['all_auroc', 'all_auprc', 'all_recall', 'all_class_true_count']\n",
    "                    for i in columns:\n",
    "                        res.loc[target, model + '_' +i] = df.loc[i, 'avg']\n",
    "                        res.loc[target, model + '_' +i+'lowerCI'] = df.loc[i, '2.5%']\n",
    "                        res.loc[target, model + '_' +i+'upperCI'] = df.loc[i, '97.5%']\n",
    "\n",
    "                elif sheet == 'gender':\n",
    "                    df = pd.read_excel(os.path.join(root, file), index_col=0, sheet_name = 'gender')\n",
    "                    columns = {\n",
    "                            'gender==\"M\"_dgap_max':'Parity Gap (M-F)',\n",
    "                               'gender==\"M\"_egap_positive_max':'Recall Gap',\n",
    "                               'gender==\"M\"_egap_negative_max':'Specificity Gap'\n",
    "                              }\n",
    "                    for i in columns:\n",
    "                        res.loc[target, model + '_' +columns[i]] = df.loc[i, 'avg']\n",
    "                        res.loc[target, model + '_' +columns[i] + '_p'] = df.loc[i, 'p']\n",
    "                        res.loc[target, model + '_' +columns[i] + '_favor'] = df.loc[i, 'favor']\n",
    "                        \n",
    "                        res.loc[target, model + '_' +columns[i]+'lowerCI'] = df.loc[i, '2.5%']\n",
    "                        res.loc[target, model + '_' +columns[i]+'upperCI'] = df.loc[i, '97.5%']\n",
    "                        res.loc[target, model + '_' +columns[i]+'naive_sig'] = gap_significant(df.loc[i, '2.5%'], df.loc[i, '97.5%'])\n",
    "                \n",
    "                elif sheet == 'language':\n",
    "                    df = pd.read_excel(os.path.join(root, file), index_col=0, sheet_name = 'language_to_use')\n",
    "                    columns = {'language_to_use==\"English\"_dgap_max' : 'Parity Gap (E-O)', \n",
    "                               'language_to_use==\"English\"_egap_positive_max' : 'Recall Gap', \n",
    "                               'language_to_use==\"English\"_egap_negative_max' : 'Specificity Gap' }\n",
    "                    for i in columns:\n",
    "                        res.loc[target, model + '_' +columns[i]] = df.loc[i, 'avg']\n",
    "                        res.loc[target, model + '_' +columns[i] + '_p'] = df.loc[i, 'p']\n",
    "                        res.loc[target, model + '_' +columns[i] + '_favor'] = df.loc[i, 'favor']\n",
    "                        \n",
    "                        res.loc[target, model + '_' +columns[i]+'lowerCI'] = df.loc[i, '2.5%']\n",
    "                        res.loc[target, model + '_' +columns[i]+'upperCI'] = df.loc[i, '97.5%']\n",
    "                        res.loc[target, model + '_' +columns[i]+'naive_sig'] = gap_significant(df.loc[i, '2.5%'], df.loc[i, '97.5%'])\n",
    "                                              \n",
    "                elif sheet == 'insurance':                            \n",
    "                    df = pd.read_excel(os.path.join(root, file), index_col=0, sheet_name = 'insurance')\n",
    "                    columns = []\n",
    "                    for i in ['Medicare', 'Private', 'Medicaid']:\n",
    "                        for j in ['dgap_max', 'egap_positive_max', 'egap_negative_max']:\n",
    "                            columns.append(\n",
    "                                'insurance==\"%s\"_%s'%(i,j)\n",
    "                            )\n",
    "                    for i in columns:\n",
    "                        n = model+ '_' + i.replace('insurance==', '')\n",
    "                        res.loc[target, n] = df.loc[i, 'avg']\n",
    "                        res.loc[target, n + '_p'] = df.loc[i, 'p']\n",
    "                        res.loc[target, n + '_favor'] = df.loc[i, 'favor']\n",
    "                        \n",
    "                        res.loc[target, n+'lowerCI'] = df.loc[i, '2.5%']\n",
    "                        res.loc[target, n+'upperCI'] = df.loc[i, '97.5%']\n",
    "                        if 'dgap_' in n or 'egap_' in n:\n",
    "                            res.loc[target, n+'naive_sig'] = gap_significant(df.loc[i, '2.5%'], df.loc[i, '97.5%'])\n",
    "\n",
    "\n",
    "                elif sheet == 'ethnicity':\n",
    "                    df = pd.read_excel(os.path.join(root, file), index_col=0, sheet_name = 'ethnicity_to_use')\n",
    "                    columns = []\n",
    "                    for i in ['WHITE', 'BLACK', 'ASIAN', 'HISPANIC/LATINO', 'OTHER']:\n",
    "                        for j in ['dgap_max', 'egap_positive_max', 'egap_negative_max']:\n",
    "                            columns.append(\n",
    "                                'ethnicity_to_use==\"%s\"_%s'%(i,j)\n",
    "                            )\n",
    "                    for i in columns:\n",
    "                        n = model+ '_' + i.replace('ethnicity_to_use==', '')\n",
    "                        res.loc[target, n] = df.loc[i, 'avg']\n",
    "                        res.loc[target, n + '_p'] = df.loc[i, 'p']\n",
    "                        res.loc[target, n + '_favor'] = df.loc[i, 'favor']\n",
    "                \n",
    "                        res.loc[target, n+'lowerCI'] = df.loc[i, '2.5%']\n",
    "                        res.loc[target, n+'upperCI'] = df.loc[i, '97.5%']\n",
    "                        if 'dgap_' in n or 'egap_' in n:\n",
    "                            res.loc[target, n+'naive_sig'] = gap_significant(df.loc[i, '2.5%'], df.loc[i, '97.5%'])\n",
    "    \n",
    "    \n",
    "    if sheet == 'gender':\n",
    "        for m in allowed_models[sheet]:\n",
    "            for i in ('Parity Gap (M-F)','Recall Gap','Specificity Gap'):\n",
    "                add_gap(m, i, sheet, res)\n",
    "                \n",
    "    if sheet == 'language':\n",
    "        for m in allowed_models[sheet]:\n",
    "            for i in ('Parity Gap (E-O)','Recall Gap','Specificity Gap'):\n",
    "                add_gap(m, i, sheet, res)\n",
    "    \n",
    "    if sheet == 'insurance':\n",
    "        for m in allowed_models[sheet]:\n",
    "            for g in ['Medicare', 'Private', 'Medicaid']:\n",
    "                for i in ('\"%s\"_'%g + t for t in ['dgap_max','egap_positive_max','egap_negative_max']):\n",
    "                    add_gap(m, i, sheet, res)\n",
    "                    \n",
    "    if sheet == 'ethnicity':\n",
    "        for m in allowed_models[sheet]:\n",
    "            for g in ['WHITE', 'BLACK', 'ASIAN', 'HISPANIC/LATINO', 'OTHER']:\n",
    "                for i in ('\"%s\"_'%g + t for t in ['dgap_max','egap_positive_max','egap_negative_max']):\n",
    "                    add_gap(m, i, sheet, res)\n",
    "    \n",
    "    dfs[sheet] = res.sort_index()"
   ]
  },
  {
   "cell_type": "code",
   "execution_count": 22,
   "metadata": {},
   "outputs": [],
   "source": [
    "dict_of_df = {k: pd.DataFrame(v) for k,v in gap_infos_naive.items()}\n",
    "naive_df = pd.concat(dict_of_df, axis=1, sort = False)"
   ]
  },
  {
   "cell_type": "code",
   "execution_count": 23,
   "metadata": {},
   "outputs": [],
   "source": [
    "dict_of_df = {k: pd.DataFrame(v) for k,v in gap_infos_hyp.items()}\n",
    "hyp_df = pd.concat(dict_of_df, axis=1, sort = False)"
   ]
  },
  {
   "cell_type": "markdown",
   "metadata": {},
   "source": [
    "### Naive"
   ]
  },
  {
   "cell_type": "code",
   "execution_count": 24,
   "metadata": {},
   "outputs": [],
   "source": [
    "def display_tables(df):\n",
    "    for i in ['gender', 'language', 'ethnicity', 'insurance']:\n",
    "        temp = df.T.xs(i, level = 1).dropna(axis = 1)\n",
    "        temp = temp.apply(lambda x: x.apply(lambda y: str(y[0]) + ' (' + \"{:.0%}\".format(y[1]/y[0]) + ')'), axis = 0)\n",
    "        if i in ['ethnicity', 'insurance']:\n",
    "            temp = temp.T    \n",
    "            temp['Gap' ] = list(map(lambda x: list(reversed(re.split(r'\"_', x)))[0][:-4], temp.index))\n",
    "            temp['Group' ] = list(map(lambda x: list(reversed(re.split(r'\"_', x)))[1][1:].lower(), temp.index))\n",
    "            temp = temp.set_index(['Gap','Group']).sort_index()        \n",
    "        display(temp)\n",
    "        if i in ['ethnicity', 'insurance']:\n",
    "            temp = temp[['baseline']].reset_index()\n",
    "            temp = temp.pivot_table(values = 'baseline', index = 'Group', columns = 'Gap', aggfunc = lambda x: x)\n",
    "            temp = temp[['egap_positive', 'dgap', 'egap_negative']]\n",
    "            if i =='ethnicity':\n",
    "                temp = temp.loc[['white','black','hispanic/latino','asian', 'other']]\n",
    "            elif i =='insurance':\n",
    "                temp = temp.loc[['medicare', 'private', 'medicaid']]\n",
    "            display(temp)"
   ]
  },
  {
   "cell_type": "code",
   "execution_count": 25,
   "metadata": {},
   "outputs": [
    {
     "output_type": "display_data",
     "data": {
      "text/plain": "         Parity Gap (M-F) Recall Gap Specificity Gap\nbaseline         27 (41%)    8 (38%)        21 (76%)",
      "text/html": "<div>\n<style scoped>\n    .dataframe tbody tr th:only-of-type {\n        vertical-align: middle;\n    }\n\n    .dataframe tbody tr th {\n        vertical-align: top;\n    }\n\n    .dataframe thead th {\n        text-align: right;\n    }\n</style>\n<table border=\"1\" class=\"dataframe\">\n  <thead>\n    <tr style=\"text-align: right;\">\n      <th></th>\n      <th>Parity Gap (M-F)</th>\n      <th>Recall Gap</th>\n      <th>Specificity Gap</th>\n    </tr>\n  </thead>\n  <tbody>\n    <tr>\n      <th>baseline</th>\n      <td>27 (41%)</td>\n      <td>8 (38%)</td>\n      <td>21 (76%)</td>\n    </tr>\n  </tbody>\n</table>\n</div>"
     },
     "metadata": {}
    },
    {
     "output_type": "display_data",
     "data": {
      "text/plain": "         Recall Gap Specificity Gap Parity Gap (E-O)\nbaseline     5 (0%)        13 (85%)         18 (17%)",
      "text/html": "<div>\n<style scoped>\n    .dataframe tbody tr th:only-of-type {\n        vertical-align: middle;\n    }\n\n    .dataframe tbody tr th {\n        vertical-align: top;\n    }\n\n    .dataframe thead th {\n        text-align: right;\n    }\n</style>\n<table border=\"1\" class=\"dataframe\">\n  <thead>\n    <tr style=\"text-align: right;\">\n      <th></th>\n      <th>Recall Gap</th>\n      <th>Specificity Gap</th>\n      <th>Parity Gap (E-O)</th>\n    </tr>\n  </thead>\n  <tbody>\n    <tr>\n      <th>baseline</th>\n      <td>5 (0%)</td>\n      <td>13 (85%)</td>\n      <td>18 (17%)</td>\n    </tr>\n  </tbody>\n</table>\n</div>"
     },
     "metadata": {}
    },
    {
     "output_type": "display_data",
     "data": {
      "text/plain": "                                baseline\nGap           Group                     \ndgap          asian              7 (86%)\n              black             19 (74%)\n              hispanic/latino    18 (6%)\n              other               7 (0%)\n              white             21 (86%)\negap_negative asian              8 (38%)\n              black             11 (27%)\n              hispanic/latino  22 (100%)\n              other             11 (91%)\n              white              14 (7%)\negap_positive asian              8 (50%)\n              black              8 (38%)\n              hispanic/latino     6 (0%)\n              other             10 (10%)\n              white             5 (100%)",
      "text/html": "<div>\n<style scoped>\n    .dataframe tbody tr th:only-of-type {\n        vertical-align: middle;\n    }\n\n    .dataframe tbody tr th {\n        vertical-align: top;\n    }\n\n    .dataframe thead th {\n        text-align: right;\n    }\n</style>\n<table border=\"1\" class=\"dataframe\">\n  <thead>\n    <tr style=\"text-align: right;\">\n      <th></th>\n      <th></th>\n      <th>baseline</th>\n    </tr>\n    <tr>\n      <th>Gap</th>\n      <th>Group</th>\n      <th></th>\n    </tr>\n  </thead>\n  <tbody>\n    <tr>\n      <th rowspan=\"5\" valign=\"top\">dgap</th>\n      <th>asian</th>\n      <td>7 (86%)</td>\n    </tr>\n    <tr>\n      <th>black</th>\n      <td>19 (74%)</td>\n    </tr>\n    <tr>\n      <th>hispanic/latino</th>\n      <td>18 (6%)</td>\n    </tr>\n    <tr>\n      <th>other</th>\n      <td>7 (0%)</td>\n    </tr>\n    <tr>\n      <th>white</th>\n      <td>21 (86%)</td>\n    </tr>\n    <tr>\n      <th rowspan=\"5\" valign=\"top\">egap_negative</th>\n      <th>asian</th>\n      <td>8 (38%)</td>\n    </tr>\n    <tr>\n      <th>black</th>\n      <td>11 (27%)</td>\n    </tr>\n    <tr>\n      <th>hispanic/latino</th>\n      <td>22 (100%)</td>\n    </tr>\n    <tr>\n      <th>other</th>\n      <td>11 (91%)</td>\n    </tr>\n    <tr>\n      <th>white</th>\n      <td>14 (7%)</td>\n    </tr>\n    <tr>\n      <th rowspan=\"5\" valign=\"top\">egap_positive</th>\n      <th>asian</th>\n      <td>8 (50%)</td>\n    </tr>\n    <tr>\n      <th>black</th>\n      <td>8 (38%)</td>\n    </tr>\n    <tr>\n      <th>hispanic/latino</th>\n      <td>6 (0%)</td>\n    </tr>\n    <tr>\n      <th>other</th>\n      <td>10 (10%)</td>\n    </tr>\n    <tr>\n      <th>white</th>\n      <td>5 (100%)</td>\n    </tr>\n  </tbody>\n</table>\n</div>"
     },
     "metadata": {}
    },
    {
     "output_type": "display_data",
     "data": {
      "text/plain": "Gap             egap_positive      dgap egap_negative\nGroup                                                \nwhite                5 (100%)  21 (86%)       14 (7%)\nblack                 8 (38%)  19 (74%)      11 (27%)\nhispanic/latino        6 (0%)   18 (6%)     22 (100%)\nasian                 8 (50%)   7 (86%)       8 (38%)\nother                10 (10%)    7 (0%)      11 (91%)",
      "text/html": "<div>\n<style scoped>\n    .dataframe tbody tr th:only-of-type {\n        vertical-align: middle;\n    }\n\n    .dataframe tbody tr th {\n        vertical-align: top;\n    }\n\n    .dataframe thead th {\n        text-align: right;\n    }\n</style>\n<table border=\"1\" class=\"dataframe\">\n  <thead>\n    <tr style=\"text-align: right;\">\n      <th>Gap</th>\n      <th>egap_positive</th>\n      <th>dgap</th>\n      <th>egap_negative</th>\n    </tr>\n    <tr>\n      <th>Group</th>\n      <th></th>\n      <th></th>\n      <th></th>\n    </tr>\n  </thead>\n  <tbody>\n    <tr>\n      <th>white</th>\n      <td>5 (100%)</td>\n      <td>21 (86%)</td>\n      <td>14 (7%)</td>\n    </tr>\n    <tr>\n      <th>black</th>\n      <td>8 (38%)</td>\n      <td>19 (74%)</td>\n      <td>11 (27%)</td>\n    </tr>\n    <tr>\n      <th>hispanic/latino</th>\n      <td>6 (0%)</td>\n      <td>18 (6%)</td>\n      <td>22 (100%)</td>\n    </tr>\n    <tr>\n      <th>asian</th>\n      <td>8 (50%)</td>\n      <td>7 (86%)</td>\n      <td>8 (38%)</td>\n    </tr>\n    <tr>\n      <th>other</th>\n      <td>10 (10%)</td>\n      <td>7 (0%)</td>\n      <td>11 (91%)</td>\n    </tr>\n  </tbody>\n</table>\n</div>"
     },
     "metadata": {}
    },
    {
     "output_type": "display_data",
     "data": {
      "text/plain": "                        baseline\nGap           Group             \ndgap          medicaid   32 (9%)\n              medicare  51 (94%)\n              private    42 (5%)\negap_negative medicaid  27 (93%)\n              medicare   51 (6%)\n              private   40 (98%)\negap_positive medicaid  18 (11%)\n              medicare  31 (90%)\n              private   14 (14%)",
      "text/html": "<div>\n<style scoped>\n    .dataframe tbody tr th:only-of-type {\n        vertical-align: middle;\n    }\n\n    .dataframe tbody tr th {\n        vertical-align: top;\n    }\n\n    .dataframe thead th {\n        text-align: right;\n    }\n</style>\n<table border=\"1\" class=\"dataframe\">\n  <thead>\n    <tr style=\"text-align: right;\">\n      <th></th>\n      <th></th>\n      <th>baseline</th>\n    </tr>\n    <tr>\n      <th>Gap</th>\n      <th>Group</th>\n      <th></th>\n    </tr>\n  </thead>\n  <tbody>\n    <tr>\n      <th rowspan=\"3\" valign=\"top\">dgap</th>\n      <th>medicaid</th>\n      <td>32 (9%)</td>\n    </tr>\n    <tr>\n      <th>medicare</th>\n      <td>51 (94%)</td>\n    </tr>\n    <tr>\n      <th>private</th>\n      <td>42 (5%)</td>\n    </tr>\n    <tr>\n      <th rowspan=\"3\" valign=\"top\">egap_negative</th>\n      <th>medicaid</th>\n      <td>27 (93%)</td>\n    </tr>\n    <tr>\n      <th>medicare</th>\n      <td>51 (6%)</td>\n    </tr>\n    <tr>\n      <th>private</th>\n      <td>40 (98%)</td>\n    </tr>\n    <tr>\n      <th rowspan=\"3\" valign=\"top\">egap_positive</th>\n      <th>medicaid</th>\n      <td>18 (11%)</td>\n    </tr>\n    <tr>\n      <th>medicare</th>\n      <td>31 (90%)</td>\n    </tr>\n    <tr>\n      <th>private</th>\n      <td>14 (14%)</td>\n    </tr>\n  </tbody>\n</table>\n</div>"
     },
     "metadata": {}
    },
    {
     "output_type": "display_data",
     "data": {
      "text/plain": "Gap      egap_positive      dgap egap_negative\nGroup                                         \nmedicare      31 (90%)  51 (94%)       51 (6%)\nprivate       14 (14%)   42 (5%)      40 (98%)\nmedicaid      18 (11%)   32 (9%)      27 (93%)",
      "text/html": "<div>\n<style scoped>\n    .dataframe tbody tr th:only-of-type {\n        vertical-align: middle;\n    }\n\n    .dataframe tbody tr th {\n        vertical-align: top;\n    }\n\n    .dataframe thead th {\n        text-align: right;\n    }\n</style>\n<table border=\"1\" class=\"dataframe\">\n  <thead>\n    <tr style=\"text-align: right;\">\n      <th>Gap</th>\n      <th>egap_positive</th>\n      <th>dgap</th>\n      <th>egap_negative</th>\n    </tr>\n    <tr>\n      <th>Group</th>\n      <th></th>\n      <th></th>\n      <th></th>\n    </tr>\n  </thead>\n  <tbody>\n    <tr>\n      <th>medicare</th>\n      <td>31 (90%)</td>\n      <td>51 (94%)</td>\n      <td>51 (6%)</td>\n    </tr>\n    <tr>\n      <th>private</th>\n      <td>14 (14%)</td>\n      <td>42 (5%)</td>\n      <td>40 (98%)</td>\n    </tr>\n    <tr>\n      <th>medicaid</th>\n      <td>18 (11%)</td>\n      <td>32 (9%)</td>\n      <td>27 (93%)</td>\n    </tr>\n  </tbody>\n</table>\n</div>"
     },
     "metadata": {}
    }
   ],
   "source": [
    "display_tables(naive_df)"
   ]
  },
  {
   "cell_type": "markdown",
   "metadata": {},
   "source": [
    "### Multiple Hypothesis"
   ]
  },
  {
   "cell_type": "code",
   "execution_count": 26,
   "metadata": {},
   "outputs": [
    {
     "output_type": "display_data",
     "data": {
      "text/plain": "         Parity Gap (M-F) Recall Gap Specificity Gap\nbaseline         26 (38%)   1 (100%)        21 (76%)",
      "text/html": "<div>\n<style scoped>\n    .dataframe tbody tr th:only-of-type {\n        vertical-align: middle;\n    }\n\n    .dataframe tbody tr th {\n        vertical-align: top;\n    }\n\n    .dataframe thead th {\n        text-align: right;\n    }\n</style>\n<table border=\"1\" class=\"dataframe\">\n  <thead>\n    <tr style=\"text-align: right;\">\n      <th></th>\n      <th>Parity Gap (M-F)</th>\n      <th>Recall Gap</th>\n      <th>Specificity Gap</th>\n    </tr>\n  </thead>\n  <tbody>\n    <tr>\n      <th>baseline</th>\n      <td>26 (38%)</td>\n      <td>1 (100%)</td>\n      <td>21 (76%)</td>\n    </tr>\n  </tbody>\n</table>\n</div>"
     },
     "metadata": {}
    },
    {
     "output_type": "display_data",
     "data": {
      "text/plain": "         Recall Gap Specificity Gap Parity Gap (E-O)\nbaseline     2 (0%)         8 (75%)          13 (8%)",
      "text/html": "<div>\n<style scoped>\n    .dataframe tbody tr th:only-of-type {\n        vertical-align: middle;\n    }\n\n    .dataframe tbody tr th {\n        vertical-align: top;\n    }\n\n    .dataframe thead th {\n        text-align: right;\n    }\n</style>\n<table border=\"1\" class=\"dataframe\">\n  <thead>\n    <tr style=\"text-align: right;\">\n      <th></th>\n      <th>Recall Gap</th>\n      <th>Specificity Gap</th>\n      <th>Parity Gap (E-O)</th>\n    </tr>\n  </thead>\n  <tbody>\n    <tr>\n      <th>baseline</th>\n      <td>2 (0%)</td>\n      <td>8 (75%)</td>\n      <td>13 (8%)</td>\n    </tr>\n  </tbody>\n</table>\n</div>"
     },
     "metadata": {}
    },
    {
     "output_type": "display_data",
     "data": {
      "text/plain": "                                baseline\nGap           Group                     \ndgap          asian              3 (67%)\n              black             12 (67%)\n              hispanic/latino    14 (0%)\n              other               2 (0%)\n              white             18 (83%)\negap_negative asian              6 (50%)\n              black              5 (40%)\n              hispanic/latino  21 (100%)\n              other             9 (100%)\n              white              11 (9%)\negap_positive asian              6 (33%)\n              black               1 (0%)\n              hispanic/latino     6 (0%)\n              other               9 (0%)\n              white             2 (100%)",
      "text/html": "<div>\n<style scoped>\n    .dataframe tbody tr th:only-of-type {\n        vertical-align: middle;\n    }\n\n    .dataframe tbody tr th {\n        vertical-align: top;\n    }\n\n    .dataframe thead th {\n        text-align: right;\n    }\n</style>\n<table border=\"1\" class=\"dataframe\">\n  <thead>\n    <tr style=\"text-align: right;\">\n      <th></th>\n      <th></th>\n      <th>baseline</th>\n    </tr>\n    <tr>\n      <th>Gap</th>\n      <th>Group</th>\n      <th></th>\n    </tr>\n  </thead>\n  <tbody>\n    <tr>\n      <th rowspan=\"5\" valign=\"top\">dgap</th>\n      <th>asian</th>\n      <td>3 (67%)</td>\n    </tr>\n    <tr>\n      <th>black</th>\n      <td>12 (67%)</td>\n    </tr>\n    <tr>\n      <th>hispanic/latino</th>\n      <td>14 (0%)</td>\n    </tr>\n    <tr>\n      <th>other</th>\n      <td>2 (0%)</td>\n    </tr>\n    <tr>\n      <th>white</th>\n      <td>18 (83%)</td>\n    </tr>\n    <tr>\n      <th rowspan=\"5\" valign=\"top\">egap_negative</th>\n      <th>asian</th>\n      <td>6 (50%)</td>\n    </tr>\n    <tr>\n      <th>black</th>\n      <td>5 (40%)</td>\n    </tr>\n    <tr>\n      <th>hispanic/latino</th>\n      <td>21 (100%)</td>\n    </tr>\n    <tr>\n      <th>other</th>\n      <td>9 (100%)</td>\n    </tr>\n    <tr>\n      <th>white</th>\n      <td>11 (9%)</td>\n    </tr>\n    <tr>\n      <th rowspan=\"5\" valign=\"top\">egap_positive</th>\n      <th>asian</th>\n      <td>6 (33%)</td>\n    </tr>\n    <tr>\n      <th>black</th>\n      <td>1 (0%)</td>\n    </tr>\n    <tr>\n      <th>hispanic/latino</th>\n      <td>6 (0%)</td>\n    </tr>\n    <tr>\n      <th>other</th>\n      <td>9 (0%)</td>\n    </tr>\n    <tr>\n      <th>white</th>\n      <td>2 (100%)</td>\n    </tr>\n  </tbody>\n</table>\n</div>"
     },
     "metadata": {}
    },
    {
     "output_type": "display_data",
     "data": {
      "text/plain": "Gap             egap_positive      dgap egap_negative\nGroup                                                \nwhite                2 (100%)  18 (83%)       11 (9%)\nblack                  1 (0%)  12 (67%)       5 (40%)\nhispanic/latino        6 (0%)   14 (0%)     21 (100%)\nasian                 6 (33%)   3 (67%)       6 (50%)\nother                  9 (0%)    2 (0%)      9 (100%)",
      "text/html": "<div>\n<style scoped>\n    .dataframe tbody tr th:only-of-type {\n        vertical-align: middle;\n    }\n\n    .dataframe tbody tr th {\n        vertical-align: top;\n    }\n\n    .dataframe thead th {\n        text-align: right;\n    }\n</style>\n<table border=\"1\" class=\"dataframe\">\n  <thead>\n    <tr style=\"text-align: right;\">\n      <th>Gap</th>\n      <th>egap_positive</th>\n      <th>dgap</th>\n      <th>egap_negative</th>\n    </tr>\n    <tr>\n      <th>Group</th>\n      <th></th>\n      <th></th>\n      <th></th>\n    </tr>\n  </thead>\n  <tbody>\n    <tr>\n      <th>white</th>\n      <td>2 (100%)</td>\n      <td>18 (83%)</td>\n      <td>11 (9%)</td>\n    </tr>\n    <tr>\n      <th>black</th>\n      <td>1 (0%)</td>\n      <td>12 (67%)</td>\n      <td>5 (40%)</td>\n    </tr>\n    <tr>\n      <th>hispanic/latino</th>\n      <td>6 (0%)</td>\n      <td>14 (0%)</td>\n      <td>21 (100%)</td>\n    </tr>\n    <tr>\n      <th>asian</th>\n      <td>6 (33%)</td>\n      <td>3 (67%)</td>\n      <td>6 (50%)</td>\n    </tr>\n    <tr>\n      <th>other</th>\n      <td>9 (0%)</td>\n      <td>2 (0%)</td>\n      <td>9 (100%)</td>\n    </tr>\n  </tbody>\n</table>\n</div>"
     },
     "metadata": {}
    },
    {
     "output_type": "display_data",
     "data": {
      "text/plain": "                        baseline\nGap           Group             \ndgap          medicaid   32 (9%)\n              medicare  52 (92%)\n              private    43 (5%)\negap_negative medicaid  27 (93%)\n              medicare   51 (6%)\n              private   40 (98%)\negap_positive medicaid  18 (11%)\n              medicare  31 (90%)\n              private    13 (8%)",
      "text/html": "<div>\n<style scoped>\n    .dataframe tbody tr th:only-of-type {\n        vertical-align: middle;\n    }\n\n    .dataframe tbody tr th {\n        vertical-align: top;\n    }\n\n    .dataframe thead th {\n        text-align: right;\n    }\n</style>\n<table border=\"1\" class=\"dataframe\">\n  <thead>\n    <tr style=\"text-align: right;\">\n      <th></th>\n      <th></th>\n      <th>baseline</th>\n    </tr>\n    <tr>\n      <th>Gap</th>\n      <th>Group</th>\n      <th></th>\n    </tr>\n  </thead>\n  <tbody>\n    <tr>\n      <th rowspan=\"3\" valign=\"top\">dgap</th>\n      <th>medicaid</th>\n      <td>32 (9%)</td>\n    </tr>\n    <tr>\n      <th>medicare</th>\n      <td>52 (92%)</td>\n    </tr>\n    <tr>\n      <th>private</th>\n      <td>43 (5%)</td>\n    </tr>\n    <tr>\n      <th rowspan=\"3\" valign=\"top\">egap_negative</th>\n      <th>medicaid</th>\n      <td>27 (93%)</td>\n    </tr>\n    <tr>\n      <th>medicare</th>\n      <td>51 (6%)</td>\n    </tr>\n    <tr>\n      <th>private</th>\n      <td>40 (98%)</td>\n    </tr>\n    <tr>\n      <th rowspan=\"3\" valign=\"top\">egap_positive</th>\n      <th>medicaid</th>\n      <td>18 (11%)</td>\n    </tr>\n    <tr>\n      <th>medicare</th>\n      <td>31 (90%)</td>\n    </tr>\n    <tr>\n      <th>private</th>\n      <td>13 (8%)</td>\n    </tr>\n  </tbody>\n</table>\n</div>"
     },
     "metadata": {}
    },
    {
     "output_type": "display_data",
     "data": {
      "text/plain": "Gap      egap_positive      dgap egap_negative\nGroup                                         \nmedicare      31 (90%)  52 (92%)       51 (6%)\nprivate        13 (8%)   43 (5%)      40 (98%)\nmedicaid      18 (11%)   32 (9%)      27 (93%)",
      "text/html": "<div>\n<style scoped>\n    .dataframe tbody tr th:only-of-type {\n        vertical-align: middle;\n    }\n\n    .dataframe tbody tr th {\n        vertical-align: top;\n    }\n\n    .dataframe thead th {\n        text-align: right;\n    }\n</style>\n<table border=\"1\" class=\"dataframe\">\n  <thead>\n    <tr style=\"text-align: right;\">\n      <th>Gap</th>\n      <th>egap_positive</th>\n      <th>dgap</th>\n      <th>egap_negative</th>\n    </tr>\n    <tr>\n      <th>Group</th>\n      <th></th>\n      <th></th>\n      <th></th>\n    </tr>\n  </thead>\n  <tbody>\n    <tr>\n      <th>medicare</th>\n      <td>31 (90%)</td>\n      <td>52 (92%)</td>\n      <td>51 (6%)</td>\n    </tr>\n    <tr>\n      <th>private</th>\n      <td>13 (8%)</td>\n      <td>43 (5%)</td>\n      <td>40 (98%)</td>\n    </tr>\n    <tr>\n      <th>medicaid</th>\n      <td>18 (11%)</td>\n      <td>32 (9%)</td>\n      <td>27 (93%)</td>\n    </tr>\n  </tbody>\n</table>\n</div>"
     },
     "metadata": {}
    }
   ],
   "source": [
    "display_tables(hyp_df)"
   ]
  },
  {
   "cell_type": "markdown",
   "metadata": {},
   "source": [
    "## Write to file"
   ]
  },
  {
   "cell_type": "code",
   "execution_count": 16,
   "metadata": {},
   "outputs": [],
   "source": [
    "with pd.ExcelWriter('results.xlsx') as writer:\n",
    "    for sheet, df in dfs.items():\n",
    "        df.to_excel(writer, sheet_name = sheet)"
   ]
  },
  {
   "cell_type": "code",
   "execution_count": 236,
   "metadata": {},
   "outputs": [
    {
     "name": "stderr",
     "output_type": "stream",
     "text": [
      "/home/haoran/anaconda3/lib/python3.6/site-packages/ipykernel_launcher.py:11: SettingWithCopyWarning: \n",
      "A value is trying to be set on a copy of a slice from a DataFrame.\n",
      "Try using .loc[row_indexer,col_indexer] = value instead\n",
      "\n",
      "See the caveats in the documentation: http://pandas.pydata.org/pandas-docs/stable/indexing.html#indexing-view-versus-copy\n",
      "  # This is added back by InteractiveShellApp.init_path()\n"
     ]
    }
   ],
   "source": [
    "# gender\n",
    "cols = {'Recall Gap': 'Positive Equality Gap', \n",
    "        'Specificity Gap': 'Negative Equality Gap', \n",
    "        'Parity Gap (M-F)': 'Parity Gap'}\n",
    "sig = dfs['gender'][dfs['gender']['baseline_Recall Gapnaive_sig']]\n",
    "sig = sig.loc[sig['baseline_Recall Gap'].sort_values(ascending = False).index]\n",
    "final = None\n",
    "for i,b in cols.items():    \n",
    "    temp = sig[['baseline_%s'%i, 'baseline_%slowerCI'%i, 'baseline_%supperCI'%i]]\n",
    "    temp.columns = ['Gap', 'Lower', 'Upper']\n",
    "    temp['Type'] =b \n",
    "    if final is None:\n",
    "        final = temp\n",
    "    else:\n",
    "        final = final.append(temp)\n",
    "with pd.ExcelWriter('gender_toplot.xlsx') as writer:\n",
    "    final.to_excel(writer)    "
   ]
  },
  {
   "cell_type": "code",
   "execution_count": 237,
   "metadata": {},
   "outputs": [
    {
     "name": "stderr",
     "output_type": "stream",
     "text": [
      "/home/haoran/anaconda3/lib/python3.6/site-packages/ipykernel_launcher.py:11: SettingWithCopyWarning: \n",
      "A value is trying to be set on a copy of a slice from a DataFrame.\n",
      "Try using .loc[row_indexer,col_indexer] = value instead\n",
      "\n",
      "See the caveats in the documentation: http://pandas.pydata.org/pandas-docs/stable/indexing.html#indexing-view-versus-copy\n",
      "  # This is added back by InteractiveShellApp.init_path()\n"
     ]
    }
   ],
   "source": [
    "# language\n",
    "cols = {'Recall Gap': 'Positive Equality Gap', \n",
    "        'Specificity Gap': 'Negative Equality Gap', \n",
    "        'Parity Gap (E-O)': 'Parity Gap'}\n",
    "sig = dfs['language'][dfs['language']['baseline_Recall Gapnaive_sig']]\n",
    "sig = sig.loc[sig['baseline_Recall Gap'].sort_values(ascending = False).index]\n",
    "final = None\n",
    "for i,b in cols.items():    \n",
    "    temp = sig[['baseline_%s'%i, 'baseline_%slowerCI'%i, 'baseline_%supperCI'%i]]\n",
    "    temp.columns = ['Gap', 'Lower', 'Upper']\n",
    "    temp['Type'] =b \n",
    "    if final is None:\n",
    "        final = temp\n",
    "    else:\n",
    "        final = final.append(temp)\n",
    "with pd.ExcelWriter('language_toplot.xlsx') as writer:\n",
    "    final.to_excel(writer)    "
   ]
  },
  {
   "cell_type": "markdown",
   "metadata": {
    "collapsed": true
   },
   "source": [
    "## AUROC Table"
   ]
  },
  {
   "cell_type": "code",
   "execution_count": 78,
   "metadata": {},
   "outputs": [],
   "source": [
    "mapping = pd.read_csv('./bias graphs//Shortform_mapping.csv').set_index('name').to_dict()['short']\n",
    "for a,b in mapping.copy().items():\n",
    "    if a.startswith('phenotype_all'):\n",
    "        mapping['phenotype_all_'+ a[len('phenotype_all '):].replace('_', ' ')] = b\n",
    "    elif a.startswith('phenotype_first'):\n",
    "        mapping['phenotype_first_'+ a[len('phenotype_first '):].replace('_', ' ')] = b"
   ]
  },
  {
   "cell_type": "code",
   "execution_count": 79,
   "metadata": {},
   "outputs": [],
   "source": [
    "aurocs = dfs['overall'][['baseline_all_auroc','baseline_all_auprc','debiased_gender_all_auroc','debiased_gender_all_auprc']]"
   ]
  },
  {
   "cell_type": "code",
   "execution_count": 80,
   "metadata": {},
   "outputs": [],
   "source": [
    "aurocs.columns = ['Baseline AUROC','Baseline AUPRC','Debiased AUROC','Debiased AUPRC']"
   ]
  },
  {
   "cell_type": "code",
   "execution_count": 81,
   "metadata": {},
   "outputs": [],
   "source": [
    "aurocs = aurocs.reset_index().rename(columns = {'index':'Task'})"
   ]
  },
  {
   "cell_type": "code",
   "execution_count": 82,
   "metadata": {},
   "outputs": [],
   "source": [
    "# aurocs['Task'] = pd.Series(aurocs['Task']).map(mapping)   "
   ]
  },
  {
   "cell_type": "code",
   "execution_count": 88,
   "metadata": {},
   "outputs": [],
   "source": [
    "def sep_ind(x):\n",
    "    if x.startswith('phenotype_all'):\n",
    "        return ['Phenotype All', x[len('phenotype_all_'):]]\n",
    "    elif x.startswith('phenotype_first'):\n",
    "        return ['Phenotype First', x[len('phenotype_first_'):]]\n",
    "    else:\n",
    "        return ['', 'In-hospital Mortality']\n",
    "temp = aurocs['Task'].apply(lambda x: sep_ind(x))\n",
    "aurocs['Type'], aurocs['Task'] = [i[0] for i in temp], [i[1] for i in temp]"
   ]
  },
  {
   "cell_type": "code",
   "execution_count": 92,
   "metadata": {},
   "outputs": [],
   "source": [
    "aurocs = aurocs.set_index(['Type', 'Task'])"
   ]
  },
  {
   "cell_type": "code",
   "execution_count": 96,
   "metadata": {},
   "outputs": [
    {
     "name": "stdout",
     "output_type": "stream",
     "text": [
      "\\begin{tabular}{llrrrr}\n",
      "\\toprule\n",
      "                &             & Baseline AUROC & Baseline AUPRC & Debiased AUROC & Debiased AUPRC \\\\\n",
      "Type & Task &                &                &                &                \\\\\n",
      "\\midrule\n",
      "                & In-hospital Mortality &         86.74\\% &         50.17\\% &         85.96\\% &         48.55\\% \\\\\n",
      "Phenotype All & Acute and unspecified renal failure &         83.64\\% &         57.89\\% &         83.37\\% &         57.87\\% \\\\\n",
      "                & Acute cerebrovascular disease &         93.51\\% &         61.97\\% &         92.60\\% &         61.87\\% \\\\\n",
      "                & Acute myocardial infarction &         88.16\\% &         63.29\\% &         88.27\\% &         63.42\\% \\\\\n",
      "                & Cardiac dysrhythmias &         77.87\\% &         64.05\\% &         77.02\\% &         63.28\\% \\\\\n",
      "                & Chronic kidney disease &         86.06\\% &         53.83\\% &         86.08\\% &         54.17\\% \\\\\n",
      "                & Chronic obstructive pulmonary disease and bronchiectasis &         75.36\\% &         34.60\\% &         76.39\\% &         37.77\\% \\\\\n",
      "                & Complications of surgical procedures or medical care &         73.80\\% &         41.87\\% &         74.37\\% &         41.59\\% \\\\\n",
      "                & Conduction disorders &         82.77\\% &         38.81\\% &         80.27\\% &         26.86\\% \\\\\n",
      "                & Congestive heart failure; nonhypertensive &         83.08\\% &         67.04\\% &         83.16\\% &         66.52\\% \\\\\n",
      "                & Coronary atherosclerosis and other heart disease &         86.67\\% &         80.70\\% &         86.45\\% &         79.73\\% \\\\\n",
      "                & Diabetes mellitus with complications &         80.55\\% &         45.30\\% &         81.72\\% &         47.76\\% \\\\\n",
      "                & Diabetes mellitus without complication &         66.65\\% &         29.34\\% &         67.04\\% &         31.66\\% \\\\\n",
      "                & Disorders of lipid metabolism &         76.63\\% &         51.48\\% &         76.35\\% &         51.06\\% \\\\\n",
      "                & Essential hypertension &         71.11\\% &         59.47\\% &         70.99\\% &         59.87\\% \\\\\n",
      "                & Fluid and electrolyte disorders &         74.51\\% &         46.22\\% &         74.30\\% &         46.56\\% \\\\\n",
      "                & Gastrointestinal hemorrhage &         87.28\\% &         50.36\\% &         88.14\\% &         49.95\\% \\\\\n",
      "                & Hypertension with complications and secondary hypertension &         84.53\\% &         51.67\\% &         84.34\\% &         50.18\\% \\\\\n",
      "                & Other liver diseases &         86.93\\% &         53.41\\% &         87.18\\% &         53.07\\% \\\\\n",
      "                & Other lower respiratory disease &         65.45\\% &          8.65\\% &         64.26\\% &          9.07\\% \\\\\n",
      "                & Other upper respiratory disease &         84.75\\% &         42.13\\% &         84.21\\% &         43.74\\% \\\\\n",
      "                & Pleurisy; pneumothorax; pulmonary collapse &         69.63\\% &         21.85\\% &         71.02\\% &         22.26\\% \\\\\n",
      "                & Pneumonia (except that caused by tuberculosis or sexually transmitted disease) &         81.66\\% &         43.43\\% &         82.13\\% &         42.74\\% \\\\\n",
      "                & Respiratory failure; insufficiency; arrest (adult) &         89.98\\% &         67.99\\% &         90.01\\% &         68.72\\% \\\\\n",
      "                & Septicemia (except in labor) &         87.85\\% &         57.41\\% &         87.14\\% &         56.68\\% \\\\\n",
      "                & Shock &         87.66\\% &         44.26\\% &         88.44\\% &         44.23\\% \\\\\n",
      "                & any acute &         82.29\\% &         94.26\\% &         82.14\\% &         94.13\\% \\\\\n",
      "                & any chronic &         87.55\\% &         95.87\\% &         87.42\\% &         95.80\\% \\\\\n",
      "                & any disease &         91.63\\% &         99.25\\% &         91.59\\% &         99.24\\% \\\\\n",
      "Phenotype First & Acute and unspecified renal failure &         77.85\\% &         38.65\\% &         78.78\\% &         40.24\\% \\\\\n",
      "                & Acute cerebrovascular disease &         83.81\\% &         32.46\\% &         86.41\\% &         34.72\\% \\\\\n",
      "                & Acute myocardial infarction &         84.43\\% &         52.38\\% &         84.08\\% &         50.53\\% \\\\\n",
      "                & Cardiac dysrhythmias &         70.43\\% &         46.68\\% &         69.86\\% &         45.17\\% \\\\\n",
      "                & Chronic kidney disease &         82.31\\% &         46.55\\% &         81.54\\% &         41.65\\% \\\\\n",
      "                & Chronic obstructive pulmonary disease and bronchiectasis &         69.46\\% &         21.55\\% &         70.57\\% &         21.70\\% \\\\\n",
      "                & Complications of surgical procedures or medical care &         66.16\\% &         27.21\\% &         64.23\\% &         24.46\\% \\\\\n",
      "                & Conduction disorders &         73.28\\% &         18.75\\% &         74.56\\% &         20.22\\% \\\\\n",
      "                & Congestive heart failure; nonhypertensive &         77.10\\% &         50.74\\% &         76.20\\% &         48.25\\% \\\\\n",
      "                & Coronary atherosclerosis and other heart disease &         82.75\\% &         71.90\\% &         81.77\\% &         71.30\\% \\\\\n",
      "                & Diabetes mellitus with complications &         70.25\\% &         26.85\\% &         72.37\\% &         29.77\\% \\\\\n",
      "                & Diabetes mellitus without complication &         63.61\\% &         24.71\\% &         64.47\\% &         26.24\\% \\\\\n",
      "                & Disorders of lipid metabolism &         73.90\\% &         51.31\\% &         72.64\\% &         49.90\\% \\\\\n",
      "                & Essential hypertension &         67.49\\% &         56.83\\% &         66.93\\% &         56.38\\% \\\\\n",
      "                & Fluid and electrolyte disorders &         71.47\\% &         38.50\\% &         72.53\\% &         38.62\\% \\\\\n",
      "                & Gastrointestinal hemorrhage &         77.66\\% &         35.62\\% &         76.89\\% &         32.87\\% \\\\\n",
      "                & Hypertension with complications and secondary hypertension &         77.81\\% &         40.72\\% &         77.56\\% &         38.14\\% \\\\\n",
      "                & Other liver diseases &         78.18\\% &         33.04\\% &         77.29\\% &         33.59\\% \\\\\n",
      "                & Other lower respiratory disease &         55.68\\% &          5.04\\% &         57.83\\% &          4.89\\% \\\\\n",
      "                & Other upper respiratory disease &         66.83\\% &         11.75\\% &         59.74\\% &          8.46\\% \\\\\n",
      "                & Pleurisy; pneumothorax; pulmonary collapse &         55.86\\% &         10.29\\% &         55.57\\% &          9.62\\% \\\\\n",
      "                & Pneumonia (except that caused by tuberculosis or sexually transmitted disease) &         70.65\\% &         20.74\\% &         71.66\\% &         20.30\\% \\\\\n",
      "                & Respiratory failure; insufficiency; arrest (adult) &         81.83\\% &         32.51\\% &         81.53\\% &         34.00\\% \\\\\n",
      "                & Septicemia (except in labor) &         82.62\\% &         36.97\\% &         83.66\\% &         40.41\\% \\\\\n",
      "                & Shock &         84.05\\% &         30.14\\% &         84.14\\% &         30.97\\% \\\\\n",
      "                & any acute &         74.75\\% &         87.28\\% &         73.67\\% &         86.47\\% \\\\\n",
      "                & any chronic &         84.38\\% &         94.30\\% &         84.46\\% &         93.90\\% \\\\\n",
      "                & any disease &         87.54\\% &         98.24\\% &         87.29\\% &         98.23\\% \\\\\n",
      "\\bottomrule\n",
      "\\end{tabular}\n",
      "\n"
     ]
    }
   ],
   "source": [
    "print(aurocs.to_latex(formatters={i: lambda x: '{:.2%}'.format(x) for i in aurocs.columns}))"
   ]
  },
  {
   "cell_type": "code",
   "execution_count": null,
   "metadata": {},
   "outputs": [],
   "source": []
  }
 ],
 "metadata": {
  "kernelspec": {
   "name": "python3",
   "display_name": "Python 3.7.9 64-bit ('hurtfulwords': conda)",
   "metadata": {
    "interpreter": {
     "hash": "5e3a5529e051cdb568e4a62199e8a47588a2b04fb732f167c994aa20891e93ce"
    }
   }
  },
  "language_info": {
   "codemirror_mode": {
    "name": "ipython",
    "version": 3
   },
   "file_extension": ".py",
   "mimetype": "text/x-python",
   "name": "python",
   "nbconvert_exporter": "python",
   "pygments_lexer": "ipython3",
   "version": "3.7.9-final"
  }
 },
 "nbformat": 4,
 "nbformat_minor": 2
}